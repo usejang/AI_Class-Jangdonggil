{
 "cells": [
  {
   "cell_type": "code",
   "execution_count": null,
   "id": "475d0cb0",
   "metadata": {},
   "outputs": [],
   "source": [
    "#python 의 데이터 타입 : 문자, 숫자, 불리언\n",
    "#자료를 모아놓고 사용하는 데이터 : list\n",
    "a = [1, 'abcd',[1,2,3], 'test']\n",
    "list를 접근하는 방법\n",
    "-> index 첨자로 접근하는 방법 => a[1:3] : 시작은 포함 끝은 포함하지 않음, a[0] = 10. a[ : ], a[1: ], a[:3], a[-1]\n",
    "-> list에 관련된 메서드 =>a.append(요소), ainsert(위치, 요소), a.extend(리스트), del a[3]\n",
    "\n",
    "키와 값을 저장하는 데이터 : dixtionary {키:값...}\n",
    "b ={'a':10, 'b':20}\n",
    "딕셔너리를 접근하는 방법 => b[key] ,b['c']='abcd'\n",
    "딕셔너리 데이터 제거 => del b[key], b.clear() 모든자료 삭제\n",
    "\n",
    "\n",
    "file(HD에 저장된)로 접근하는 방법\n",
    "=> fp = open(파일명, 모드) => 파일명은 경로포함, 모드 w, r, a, w+, r+, a+, wb...\n",
    "=>text ='abcd' -> text의 내용을 파일 저장 fp.write(text)\n",
    "=>fp.close()\n",
    "\n",
    "for 식별자 in 반복되는값\n",
    "while 표현식:\n",
    "[ 값 for 식별자 in 반복되는값 if 표현식]\n"
   ]
  },
  {
   "cell_type": "code",
   "execution_count": null,
   "id": "4e4c879d",
   "metadata": {},
   "outputs": [],
   "source": []
  },
  {
   "cell_type": "code",
   "execution_count": 2,
   "id": "218df967",
   "metadata": {},
   "outputs": [],
   "source": [
    "b = {'a':10, 'b':20}\n",
    "a = [1, 'abcd', [1,2,3], 'test']"
   ]
  },
  {
   "cell_type": "code",
   "execution_count": 3,
   "id": "2d2e43a8",
   "metadata": {},
   "outputs": [
    {
     "name": "stdout",
     "output_type": "stream",
     "text": [
      "1\n",
      "abcd\n",
      "[1, 2, 3]\n",
      "test\n",
      "[1, 'abcd', [1, 2, 3], 'test']\n"
     ]
    }
   ],
   "source": [
    "a = [1, 'abcd', [1,2,3], 'test']\n",
    "for i in a: # i << 1, i << 'abcd', i <<[1,2,3], i <<'test'\n",
    "    print(i)\n",
    "print([ i for i in a])\n"
   ]
  },
  {
   "cell_type": "code",
   "execution_count": 9,
   "id": "c0101327",
   "metadata": {},
   "outputs": [
    {
     "name": "stdout",
     "output_type": "stream",
     "text": [
      "end 5050\n",
      "b :  495550\n"
     ]
    },
    {
     "data": {
      "text/plain": [
       "500600"
      ]
     },
     "execution_count": 9,
     "metadata": {},
     "output_type": "execute_result"
    }
   ],
   "source": [
    "#함수 : 정의 부분과 실행하는 부분\n",
    "#정의 : 함수 작성하면서 기능을 구현\n",
    "#def 함수명() :\n",
    "#    실행문 .....\n",
    "#실행 : 함수명() >> 실행\n",
    "\n",
    "def num_total(start_no, end_no):\n",
    "    total = 0\n",
    "    for num in range(start_no, end_no + 1): #(10, 20) 10부터 20까지의 모든 수의 합\n",
    "        total +=num\n",
    "    return total\n",
    "\n",
    "\n",
    "##함수를 호출 하는 부분 실행\n",
    "a = num_total(1, 100)\n",
    "print(\"end\", a)\n",
    "\n",
    "b = num_total(100,1000)\n",
    "print(\"b : \", b)\n",
    "\n",
    "a+b"
   ]
  },
  {
   "cell_type": "code",
   "execution_count": 26,
   "id": "7af6f429",
   "metadata": {},
   "outputs": [],
   "source": [
    "# 딕셔너리의 내용을 파일에 저장\n",
    "def file_write(name_score_w):\n",
    "    fp = open(\"file.txt\", \"a+\")\n",
    "    \n",
    "    for key, value in name_score_w.items():\n",
    "        text = key + ',' + str(value) + '\\n'   # 이름과 성적을 ',' 분리해서 저장 \n",
    "        fp.write(text)\n",
    "    fp.close()\n",
    "\n",
    "# 파일의 데이터를 딕셔너리에 저장\n",
    "def file_read(file_name, mode):\n",
    "    dname_score_r = {}\n",
    "    fp = open(file_name, mode)   # file open 'r' 모드로\n",
    "    for line in fp:    # 한 라인씩 가져 옴\n",
    "        line_list = line.split(',') # 하나의 문자열을 ','로 분리\n",
    "        dname_score_r[line_list[0]]= int(line_list[1])  # 점수를 int로 변환\n",
    "        \n",
    "    fp.close()\n",
    "    return dname_score_r"
   ]
  },
  {
   "cell_type": "code",
   "execution_count": 27,
   "id": "4d31ec2b",
   "metadata": {},
   "outputs": [],
   "source": [
    "# 각각의 함수 정의 \n",
    "def input_name_func():   # 리스트에 이름 입력 \n",
    "    name_list = []\n",
    "    while True:\n",
    "        name = input(\"이름 입력 : \")\n",
    "        if name == 'q':\n",
    "            break\n",
    "        name_list.append(name)          \n",
    "    return name_list  # list_name_f의 값을 반환\n",
    "\n",
    "def input_score_func(cnt):   # 리스트에 점수 입력 , 입력된 자료의 수만큼, cnt는 입력된 이름의 갯수 \n",
    "    score_list = []\n",
    "    for i in range(cnt):\n",
    "        score = int(input(\"점수 입력 : \"))\n",
    "        score_list.append(score)            \n",
    "    return score_list\n",
    "\n",
    "def make_dict_func(list_name, list_score):   # 리스트의 이름을 키로, 성적을 값으로\n",
    "    name_score = {}\n",
    "    for idx, name in enumerate(list_name):\n",
    "        name_score[name] = list_score[idx]\n",
    "    return name_score"
   ]
  },
  {
   "cell_type": "code",
   "execution_count": 28,
   "id": "1681eae6",
   "metadata": {},
   "outputs": [
    {
     "ename": "KeyboardInterrupt",
     "evalue": "Interrupted by user",
     "output_type": "error",
     "traceback": [
      "\u001b[1;31m---------------------------------------------------------------------------\u001b[0m",
      "\u001b[1;31mKeyboardInterrupt\u001b[0m                         Traceback (most recent call last)",
      "\u001b[1;32m<ipython-input-28-dacf16d51976>\u001b[0m in \u001b[0;36m<module>\u001b[1;34m\u001b[0m\n\u001b[0;32m      6\u001b[0m \u001b[1;31m# 저장된 파일을 'r' 모드로 open해서 파일의 내용을 dict로 저장하고 dict 출력  => file_read() 함수로\u001b[0m\u001b[1;33m\u001b[0m\u001b[1;33m\u001b[0m\u001b[1;33m\u001b[0m\u001b[0m\n\u001b[0;32m      7\u001b[0m \u001b[1;33m\u001b[0m\u001b[0m\n\u001b[1;32m----> 8\u001b[1;33m \u001b[0mlist_name\u001b[0m \u001b[1;33m=\u001b[0m \u001b[0minput_name_func\u001b[0m\u001b[1;33m(\u001b[0m\u001b[1;33m)\u001b[0m   \u001b[1;31m# 리스트에 이름 입력\u001b[0m\u001b[1;33m\u001b[0m\u001b[1;33m\u001b[0m\u001b[0m\n\u001b[0m\u001b[0;32m      9\u001b[0m \u001b[0mlist_score\u001b[0m \u001b[1;33m=\u001b[0m \u001b[0minput_score_func\u001b[0m\u001b[1;33m(\u001b[0m\u001b[0mlen\u001b[0m\u001b[1;33m(\u001b[0m\u001b[0mlist_name\u001b[0m\u001b[1;33m)\u001b[0m\u001b[1;33m)\u001b[0m  \u001b[1;31m# 리스트에 점수 입력 , 입력된 자료의 수만큼\u001b[0m\u001b[1;33m\u001b[0m\u001b[1;33m\u001b[0m\u001b[0m\n\u001b[0;32m     10\u001b[0m \u001b[0mdict_name_score\u001b[0m \u001b[1;33m=\u001b[0m \u001b[0mmake_dict_func\u001b[0m\u001b[1;33m(\u001b[0m\u001b[0mlist_name\u001b[0m\u001b[1;33m,\u001b[0m \u001b[0mlist_score\u001b[0m\u001b[1;33m)\u001b[0m  \u001b[1;31m# 리스트의 이름을 키로, 성적을 값으로\u001b[0m\u001b[1;33m\u001b[0m\u001b[1;33m\u001b[0m\u001b[0m\n",
      "\u001b[1;32m<ipython-input-27-1a9c5b219d1c>\u001b[0m in \u001b[0;36minput_name_func\u001b[1;34m()\u001b[0m\n\u001b[0;32m      3\u001b[0m     \u001b[0mname_list\u001b[0m \u001b[1;33m=\u001b[0m \u001b[1;33m[\u001b[0m\u001b[1;33m]\u001b[0m\u001b[1;33m\u001b[0m\u001b[1;33m\u001b[0m\u001b[0m\n\u001b[0;32m      4\u001b[0m     \u001b[1;32mwhile\u001b[0m \u001b[1;32mTrue\u001b[0m\u001b[1;33m:\u001b[0m\u001b[1;33m\u001b[0m\u001b[1;33m\u001b[0m\u001b[0m\n\u001b[1;32m----> 5\u001b[1;33m         \u001b[0mname\u001b[0m \u001b[1;33m=\u001b[0m \u001b[0minput\u001b[0m\u001b[1;33m(\u001b[0m\u001b[1;34m\"이름 입력 : \"\u001b[0m\u001b[1;33m)\u001b[0m\u001b[1;33m\u001b[0m\u001b[1;33m\u001b[0m\u001b[0m\n\u001b[0m\u001b[0;32m      6\u001b[0m         \u001b[1;32mif\u001b[0m \u001b[0mname\u001b[0m \u001b[1;33m==\u001b[0m \u001b[1;34m'q'\u001b[0m\u001b[1;33m:\u001b[0m\u001b[1;33m\u001b[0m\u001b[1;33m\u001b[0m\u001b[0m\n\u001b[0;32m      7\u001b[0m             \u001b[1;32mbreak\u001b[0m\u001b[1;33m\u001b[0m\u001b[1;33m\u001b[0m\u001b[0m\n",
      "\u001b[1;32m~\\anaconda3\\lib\\site-packages\\ipykernel\\kernelbase.py\u001b[0m in \u001b[0;36mraw_input\u001b[1;34m(self, prompt)\u001b[0m\n\u001b[0;32m    858\u001b[0m                 \u001b[1;34m\"raw_input was called, but this frontend does not support input requests.\"\u001b[0m\u001b[1;33m\u001b[0m\u001b[1;33m\u001b[0m\u001b[0m\n\u001b[0;32m    859\u001b[0m             )\n\u001b[1;32m--> 860\u001b[1;33m         return self._input_request(str(prompt),\n\u001b[0m\u001b[0;32m    861\u001b[0m             \u001b[0mself\u001b[0m\u001b[1;33m.\u001b[0m\u001b[0m_parent_ident\u001b[0m\u001b[1;33m,\u001b[0m\u001b[1;33m\u001b[0m\u001b[1;33m\u001b[0m\u001b[0m\n\u001b[0;32m    862\u001b[0m             \u001b[0mself\u001b[0m\u001b[1;33m.\u001b[0m\u001b[0m_parent_header\u001b[0m\u001b[1;33m,\u001b[0m\u001b[1;33m\u001b[0m\u001b[1;33m\u001b[0m\u001b[0m\n",
      "\u001b[1;32m~\\anaconda3\\lib\\site-packages\\ipykernel\\kernelbase.py\u001b[0m in \u001b[0;36m_input_request\u001b[1;34m(self, prompt, ident, parent, password)\u001b[0m\n\u001b[0;32m    902\u001b[0m             \u001b[1;32mexcept\u001b[0m \u001b[0mKeyboardInterrupt\u001b[0m\u001b[1;33m:\u001b[0m\u001b[1;33m\u001b[0m\u001b[1;33m\u001b[0m\u001b[0m\n\u001b[0;32m    903\u001b[0m                 \u001b[1;31m# re-raise KeyboardInterrupt, to truncate traceback\u001b[0m\u001b[1;33m\u001b[0m\u001b[1;33m\u001b[0m\u001b[1;33m\u001b[0m\u001b[0m\n\u001b[1;32m--> 904\u001b[1;33m                 \u001b[1;32mraise\u001b[0m \u001b[0mKeyboardInterrupt\u001b[0m\u001b[1;33m(\u001b[0m\u001b[1;34m\"Interrupted by user\"\u001b[0m\u001b[1;33m)\u001b[0m \u001b[1;32mfrom\u001b[0m \u001b[1;32mNone\u001b[0m\u001b[1;33m\u001b[0m\u001b[1;33m\u001b[0m\u001b[0m\n\u001b[0m\u001b[0;32m    905\u001b[0m             \u001b[1;32mexcept\u001b[0m \u001b[0mException\u001b[0m \u001b[1;32mas\u001b[0m \u001b[0me\u001b[0m\u001b[1;33m:\u001b[0m\u001b[1;33m\u001b[0m\u001b[1;33m\u001b[0m\u001b[0m\n\u001b[0;32m    906\u001b[0m                 \u001b[0mself\u001b[0m\u001b[1;33m.\u001b[0m\u001b[0mlog\u001b[0m\u001b[1;33m.\u001b[0m\u001b[0mwarning\u001b[0m\u001b[1;33m(\u001b[0m\u001b[1;34m\"Invalid Message:\"\u001b[0m\u001b[1;33m,\u001b[0m \u001b[0mexc_info\u001b[0m\u001b[1;33m=\u001b[0m\u001b[1;32mTrue\u001b[0m\u001b[1;33m)\u001b[0m\u001b[1;33m\u001b[0m\u001b[1;33m\u001b[0m\u001b[0m\n",
      "\u001b[1;31mKeyboardInterrupt\u001b[0m: Interrupted by user"
     ]
    }
   ],
   "source": [
    "##### 이름을 입력받아 list_name 에 저장 : 입력의 끝은 'q'  -> input_name_func()으로 구현\n",
    "# 입력된 이름의 갯수만큼 성적을 입력받아 list_score 에 저장  -> input_score_func() 으로 구현\n",
    "# 입력된 이름을 키로 성적을 값으로 저장하는 함수 작성  dict_name_score 식별자, make_dict_func() 으로 구현\n",
    "# 저장된 dict_name_score의 자료를 파일로 저장 -> 구분자는 ','로   =>  \"홍길동,90\\n 김철수,80\"\n",
    "# 파일명은 file.txt 로 저장 \"w\"모드로 open  => 저장이 모두 끝나면 file close  => file_wrtei() 함수로\n",
    "# 저장된 파일을 'r' 모드로 open해서 파일의 내용을 dict로 저장하고 dict 출력  => file_read() 함수로\n",
    "\n",
    "list_name = input_name_func()   # 리스트에 이름 입력 \n",
    "list_score = input_score_func(len(list_name))  # 리스트에 점수 입력 , 입력된 자료의 수만큼\n",
    "dict_name_score = make_dict_func(list_name, list_score)  # 리스트의 이름을 키로, 성적을 값으로\n",
    "\n",
    "file_write(dict_name_score)  # dict 의 내용을 파일로 저장\n",
    "\n",
    "dict_name_score = file_read('file.txt','r')   # 파일의 내용을 dict 로 \n",
    "print(dict_name_score)\n"
   ]
  },
  {
   "cell_type": "code",
   "execution_count": 37,
   "id": "fb65c2fb",
   "metadata": {},
   "outputs": [
    {
     "name": "stdout",
     "output_type": "stream",
     "text": [
      "35 34 -0.5440211108893698\n"
     ]
    }
   ],
   "source": [
    "# 모듈 : 소스와 분리되어 저장된 코딩\n",
    "# import 모듈명\n",
    "# 모듈명,함수명() 또는 모듈명, 변수명\n",
    "import math\n",
    "\n",
    "print(math.ceil(34.5), math.floor(34.5), math.sin(10))"
   ]
  },
  {
   "cell_type": "code",
   "execution_count": 40,
   "id": "e08b2b9d",
   "metadata": {},
   "outputs": [
    {
     "data": {
      "text/plain": [
       "21"
      ]
     },
     "execution_count": 40,
     "metadata": {},
     "output_type": "execute_result"
    }
   ],
   "source": [
    "#from 모듈이름 import 변수 또는 함수\n",
    "from math import sin, cos, ceil, floor\n",
    "\n",
    "sin(10)\n",
    "ceil(20.4)"
   ]
  },
  {
   "cell_type": "code",
   "execution_count": 39,
   "id": "c9388d72",
   "metadata": {},
   "outputs": [
    {
     "data": {
      "text/plain": [
       "-0.5440211108893698"
      ]
     },
     "execution_count": 39,
     "metadata": {},
     "output_type": "execute_result"
    }
   ],
   "source": [
    "#import 모듈명 as 사용하고자 하는 식별자\n",
    "import math as mt\n",
    "mt.sin(20)\n",
    "\n",
    "from math import sin as S\n",
    "S(10)\n"
   ]
  },
  {
   "cell_type": "code",
   "execution_count": 61,
   "id": "5feb4bf6",
   "metadata": {},
   "outputs": [
    {
     "data": {
      "text/plain": [
       "0.8848"
      ]
     },
     "execution_count": 61,
     "metadata": {},
     "output_type": "execute_result"
    }
   ],
   "source": [
    "import random\n",
    "\n",
    "n = random.random() # random() 0.0 <=<random <1.0\n",
    "round(n,4)"
   ]
  },
  {
   "cell_type": "code",
   "execution_count": 66,
   "id": "717d94d9",
   "metadata": {},
   "outputs": [
    {
     "name": "stdout",
     "output_type": "stream",
     "text": [
      "# random 모듈\n",
      "\n",
      "- random(): 0.8160367279673632\n",
      "- uniform(10, 20): 14.65863254047261\n",
      "- randrange(10): 5\n",
      "- choice([1, 2, 3, 4, 5]): 5\n",
      "- shuffle([1, 2, 3, 4, 5]): [1, 2, 3, 4, 5]\n",
      "- sample([1, 2, 3, 4, 5]. k=2): [1, 3]\n"
     ]
    }
   ],
   "source": [
    "import random\n",
    "print(\"# random 모듈\")\n",
    "print()\n",
    "\n",
    "#random(): 0.0 <= x < 1.0 사이의 float를 리턴합니다\n",
    "print(\"- random():\", random.random())\n",
    "\n",
    "#uniform(min, max): 지정한 범위 사이의 float를 리턴합니다.\n",
    "print(\"- uniform(10, 20):\", random.uniform(10, 20))\n",
    "\n",
    "#randrange() : 지정한 범위의 int를 리턴합니다\n",
    "#- randrange(max): 0부터 max 사이의 값을 리턴합니다.\n",
    "#- randrange(min, max): min부터 max사이의 값을 리턴합니다.\n",
    "print(\"- randrange(10):\", random.randrange(10))\n",
    "\n",
    "#choice(list): 리스트 내부에 있는 요소를 랜덤하게 선택합니다.\n",
    "print(\"- choice([1, 2, 3, 4, 5]):\", random.choice([1, 2, 3, 4, 5]))\n",
    "\n",
    "#shuffle(list): 리스트의 요소들을 랜덤하게 섞습니다.\n",
    "a_list = [1, 2, 3, 4, 5]\n",
    "print(\"- shuffle([1, 2, 3, 4, 5]):\",a_list)\n",
    "\n",
    "#sample(list, k=<숫자>): 리스트의 요소 중에 k개를 뽑습니다.\n",
    "print(\"- sample([1, 2, 3, 4, 5]. k=2):\", random.sample([1, 2, 3, 4, 5], k=2))"
   ]
  },
  {
   "cell_type": "code",
   "execution_count": 67,
   "id": "f804eb19",
   "metadata": {},
   "outputs": [
    {
     "name": "stdout",
     "output_type": "stream",
     "text": [
      "현재 운영체제 :  nt\n",
      "현재 작업폴더 :  C:\\Users\\user\n",
      "현재 작업폴더의 디렉토리 :  ['-1.14-windows.xml', '.android', '.conda', '.condarc', '.continuum', '.DMMGamePlayer', '.DMMGAMEPLAYERSDK', '.gitconfig', '.idlerc', '.ipynb_checkpoints', '.ipython', '.jupyter', '.lesshst', '.matplotlib', '.PeakVM', '.python_history', '.spyder-py3', '3D Objects', 'AI_Class-Jangdonggil', 'anaconda3', 'ansel', 'AppData', 'Application Data', 'Contacts', 'Cookies', 'DAY - 3.ipynb', 'Desktop', 'Documents', 'Downloads', 'Favorites', 'file.txt', 'func_lab Last Checkpoint.ipynb', 'Games', 'IntelGraphicsProfiles', 'JDG', 'KCase.log', 'Links', 'Local Settings', 'MicrosoftEdgeBackups', 'mrserver.log', 'Music', 'My Documents', 'NetHood', 'NTUSER.DAT', 'ntuser.dat.LOG1', 'ntuser.dat.LOG2', 'NTUSER.DAT{f49c3904-e9ae-11ea-bd4e-a22b933cf96a}.TM.blf', 'NTUSER.DAT{f49c3904-e9ae-11ea-bd4e-a22b933cf96a}.TMContainer00000000000000000001.regtrans-ms', 'NTUSER.DAT{f49c3904-e9ae-11ea-bd4e-a22b933cf96a}.TMContainer00000000000000000002.regtrans-ms', 'ntuser.ini', 'OneDrive', 'Pday-3.ipynb', 'Pday-5.ipynb', 'Pictures', 'PrintHood', 'Recent', 'Saved Games', 'Searches', 'SendTo', 'Templates', 'Umamusume', 'version1.txt', 'Videos', '시작 메뉴']\n",
      "현재 작업폴더의 디렉토리 :  ['-1.14-windows.xml', '.android', '.conda', '.condarc', '.continuum', '.DMMGamePlayer', '.DMMGAMEPLAYERSDK', '.gitconfig', '.idlerc', '.ipynb_checkpoints', '.ipython', '.jupyter', '.lesshst', '.matplotlib', '.PeakVM', '.python_history', '.spyder-py3', '3D Objects', 'AI_Class-Jangdonggil', 'anaconda3', 'ansel', 'AppData', 'Application Data', 'Contacts', 'Cookies', 'DAY - 3.ipynb', 'Desktop', 'Documents', 'Downloads', 'Favorites', 'file.txt', 'func_lab Last Checkpoint.ipynb', 'Games', 'IntelGraphicsProfiles', 'JDG', 'KCase.log', 'Links', 'Local Settings', 'MicrosoftEdgeBackups', 'mrserver.log', 'Music', 'My Documents', 'NetHood', 'NTUSER.DAT', 'ntuser.dat.LOG1', 'ntuser.dat.LOG2', 'NTUSER.DAT{f49c3904-e9ae-11ea-bd4e-a22b933cf96a}.TM.blf', 'NTUSER.DAT{f49c3904-e9ae-11ea-bd4e-a22b933cf96a}.TMContainer00000000000000000001.regtrans-ms', 'NTUSER.DAT{f49c3904-e9ae-11ea-bd4e-a22b933cf96a}.TMContainer00000000000000000002.regtrans-ms', 'ntuser.ini', 'OneDrive', 'Pday-3.ipynb', 'Pday-5.ipynb', 'Pictures', 'PrintHood', 'Recent', 'Saved Games', 'Searches', 'SendTo', 'Templates', 'test_dir', 'Umamusume', 'version1.txt', 'Videos', '시작 메뉴']\n"
     ]
    },
    {
     "ename": "NameError",
     "evalue": "name '파일명' is not defined",
     "output_type": "error",
     "traceback": [
      "\u001b[1;31m---------------------------------------------------------------------------\u001b[0m",
      "\u001b[1;31mNameError\u001b[0m                                 Traceback (most recent call last)",
      "\u001b[1;32m<ipython-input-67-76b3a1b0a384>\u001b[0m in \u001b[0;36m<module>\u001b[1;34m\u001b[0m\n\u001b[0;32m      8\u001b[0m \u001b[0mprint\u001b[0m\u001b[1;33m(\u001b[0m\u001b[1;34m\"현재 작업폴더의 디렉토리 : \"\u001b[0m\u001b[1;33m,\u001b[0m \u001b[0mos\u001b[0m\u001b[1;33m.\u001b[0m\u001b[0mlistdir\u001b[0m\u001b[1;33m(\u001b[0m\u001b[1;33m)\u001b[0m\u001b[1;33m)\u001b[0m\u001b[1;33m\u001b[0m\u001b[1;33m\u001b[0m\u001b[0m\n\u001b[0;32m      9\u001b[0m \u001b[1;31m#file 삭제\u001b[0m\u001b[1;33m\u001b[0m\u001b[1;33m\u001b[0m\u001b[1;33m\u001b[0m\u001b[0m\n\u001b[1;32m---> 10\u001b[1;33m \u001b[0mos\u001b[0m\u001b[1;33m.\u001b[0m\u001b[0mremove\u001b[0m\u001b[1;33m(\u001b[0m\u001b[0m파일명\u001b[0m\u001b[1;33m)\u001b[0m\u001b[1;33m\u001b[0m\u001b[1;33m\u001b[0m\u001b[0m\n\u001b[0m\u001b[0;32m     11\u001b[0m \u001b[0mos\u001b[0m\u001b[1;33m.\u001b[0m\u001b[0msystem\u001b[0m\u001b[1;33m(\u001b[0m\u001b[0m명령어\u001b[0m\u001b[1;33m)\u001b[0m \u001b[1;31m#os.system('dir')\u001b[0m\u001b[1;33m\u001b[0m\u001b[1;33m\u001b[0m\u001b[0m\n\u001b[0;32m     12\u001b[0m \u001b[1;33m\u001b[0m\u001b[0m\n",
      "\u001b[1;31mNameError\u001b[0m: name '파일명' is not defined"
     ]
    }
   ],
   "source": [
    "#import os 운영체제와 관련된 기능을 가진 모듈\n",
    "import os\n",
    "print(\"현재 운영체제 : \", os.name)\n",
    "print(\"현재 작업폴더 : \", os.getcwd())\n",
    "print(\"현재 작업폴더의 디렉토리 : \", os.listdir())\n",
    "\n",
    "os.mkdir(\"test_dir\")\n",
    "print(\"현재 작업폴더의 디렉토리 : \", os.listdir())\n",
    "#file 삭제\n",
    "os.remove(파일명)\n",
    "os.system(명령어) #os.system('dir')\n",
    "\n",
    "import time\n",
    "time.sleep(5)"
   ]
  },
  {
   "cell_type": "code",
   "execution_count": 68,
   "id": "c35bdb50",
   "metadata": {},
   "outputs": [
    {
     "name": "stdout",
     "output_type": "stream",
     "text": [
      "b'<!doctype html><html itemscope=\"\" itemtype=\"http://schema.org/WebPage\" lang=\"ko\"><head><meta content=\"text/html; charset=UTF-8\" http-equiv=\"Content-Type\"><meta content=\"/images/branding/googleg/1x/googleg_standard_color_128dp.png\" itemprop=\"image\"><title>Google</title><script nonce=\"LLVWA1XdsMvlFH6pO9cpoQ==\">(function(){window.google={kEI:\\'HTaCYfatJ8PZ9APQvIAI\\',kEXPI:\\'0,1302536,56873,6059,206,2415,2389,2316,383,246,5,1354,5250,1122516,1197754,647,10,328856,51224,16114,28684,17572,4859,1361,283,9007,3030,17579,4020,978,13228,3847,4192,6430,21822,919,5081,1593,1279,2212,530,149,1103,840,2197,4100,3514,606,2023,1777,520,1704,12966,3227,2845,9,12352,5096,11625,4142,553,908,2,941,2614,13142,3,346,230,4386,2073,149,13975,4,1528,2304,1236,5803,4683,2015,13611,4764,2658,6701,656,30,5615,8013,1593,712,638,1494,16786,5815,2542,4097,3135,6,908,3,3541,1,14710,1814,283,913,5991,16728,1715,2,8496,5526,1931,3909,2423,2351,3502,10463,1160,6699,2380,2720,5190,4089,742,4148,717,3410,2,6,120,2,7596,4568,243,2335,10,3122,278,271,2996,3,1015,2,1,3,2612,91,3775,2,2370,2067,3691,3801,989,463,5359,2,6,796,1625,4,504,1891,651,13,230,1201,2,1404,273,428,69,1700,1223,1244,511,2,1025,273,47,1108,286,965,300,862,407,2,1,1172,41,146,3,2,20,3,2,121,19,45,280,409,1524,267,222,142,90,245,1152,122,160,318,3,336,755,61,74,113,442,402,230,7,511,2,2,1,917,2,26,135,327,193,19,579,16,5,504,161,414,216,1045,570,561,690,515,237,2,43,381,45,7,3139,348,394,271,54,152,378,1678,178,2,630,171,5540118,3893,446,313,1802577,4193979,2800696,882,444,1,2,80,1,1796,1,9,2553,1,748,141,795,563,1,4265,1,1,2,1331,4142,2609,155,17,13,72,139,4,2,20,2,169,13,19,46,5,39,96,548,29,2,2,1,2,1,2,2,7,4,1,2,2,2,2,2,2,353,513,186,1,1,158,3,2,2,2,2,2,4,2,3,3,269,1033,24,160,2,11,17,6,2,2,10,10,7,1,1,11,35,27,2,15,2,6,9,23953329,4038575,3,2774,338,3,2414,1491,9,1435,1517,287,92,29,2814,341,3787\\',kBL:\\'qGjo\\'};google.sn=\\'webhp\\';google.kHL=\\'ko\\';})();(function(){\\nvar f=this||self;var h,k=[];function l(a){for(var b;a&&(!a.getAttribute||!(b=a.getAttribute(\"eid\")));)a=a.parentNode;return b||h}function m(a){for(var b=null;a&&(!a.getAttribute||!(b=a.getAttribute(\"leid\")));)a=a.parentNode;return b}\\nfunction n(a,b,c,d,g){var e=\"\";c||-1!==b.search(\"&ei=\")||(e=\"&ei=\"+l(d),-1===b.search(\"&lei=\")&&(d=m(d))&&(e+=\"&lei=\"+d));d=\"\";!c&&f._cshid&&-1===b.search(\"&cshid=\")&&\"slh\"!==a&&(d=\"&cshid=\"+f._cshid);c=c||\"/\"+(g||\"gen_204\")+\"?atyp=i&ct=\"+a+\"&cad=\"+b+e+\"&zx=\"+Date.now()+d;/^http:/i.test(c)&&\"https:\"===window.location.protocol&&(google.ml&&google.ml(Error(\"a\"),!1,{src:c,glmm:1}),c=\"\");return c};h=google.kEI;google.getEI=l;google.getLEI=m;google.ml=function(){return null};google.log=function(a,b,c,d,g){if(c=n(a,b,c,d,g)){a=new Image;var e=k.length;k[e]=a;a.onerror=a.onload=a.onabort=function(){delete k[e]};a.src=c}};google.logUrl=n;}).call(this);(function(){\\ngoogle.y={};google.sy=[];google.x=function(a,b){if(a)var c=a.id;else{do c=Math.random();while(google.y[c])}google.y[c]=[a,b];return!1};google.sx=function(a){google.sy.push(a)};google.lm=[];google.plm=function(a){google.lm.push.apply(google.lm,a)};google.lq=[];google.load=function(a,b,c){google.lq.push([[a],b,c])};google.loadAll=function(a,b){google.lq.push([a,b])};google.bx=!1;google.lx=function(){};}).call(this);google.f={};(function(){\\ndocument.documentElement.addEventListener(\"submit\",function(b){var a;if(a=b.target){var c=a.getAttribute(\"data-submitfalse\");a=\"1\"===c||\"q\"===c&&!a.elements.q.value?!0:!1}else a=!1;a&&(b.preventDefault(),b.stopPropagation())},!0);document.documentElement.addEventListener(\"click\",function(b){var a;a:{for(a=b.target;a&&a!==document.documentElement;a=a.parentElement)if(\"A\"===a.tagName){a=\"1\"===a.getAttribute(\"data-nohref\");break a}a=!1}a&&b.preventDefault()},!0);}).call(this);</script><style>#gbar,#guser{font-size:13px;padding-top:1px !important;}#gbar{height:22px}#guser{padding-bottom:7px !important;text-align:right}.gbh,.gbd{border-top:1px solid #c9d7f1;font-size:1px}.gbh{height:0;position:absolute;top:24px;width:100%}@media all{.gb1{height:22px;margin-right:.5em;vertical-align:top}#gbar{float:left}}a.gb1,a.gb4{text-decoration:underline !important}a.gb1,a.gb4{color:#00c !important}.gbi .gb4{color:#dd8e27 !important}.gbf .gb4{color:#900 !important}\\n</style><style>body,td,a,p,.h{font-family:&#44404;&#47548;,&#46027;&#50880;,arial,sans-serif}.ko{font-size:9pt}body{margin:0;overflow-y:scroll}#gog{padding:3px 8px 0}td{line-height:.8em}.gac_m td{line-height:17px}form{margin-bottom:20px}.h{color:#1558d6}em{font-weight:bold;font-style:normal}.lst{height:25px;width:496px}.gsfi,.lst{font:18px arial,sans-serif}.gsfs{font:17px arial,sans-serif}.ds{display:inline-box;display:inline-block;margin:3px 0 4px;margin-left:4px}input{font-family:inherit}body{background:#fff;color:#000}a{color:#4b11a8;text-decoration:none}a:hover,a:active{text-decoration:underline}.fl a{color:#1558d6}a:visited{color:#4b11a8}.sblc{padding-top:5px}.sblc a{display:block;margin:2px 0;margin-left:13px;font-size:11px}.lsbb{background:#f8f9fa;border:solid 1px;border-color:#dadce0 #70757a #70757a #dadce0;height:30px}.lsbb{display:block}#WqQANb a{display:inline-block;margin:0 12px}.lsb{background:url(/images/nav_logo229.png) 0 -261px repeat-x;border:none;color:#000;cursor:pointer;height:30px;margin:0;outline:0;font:15px arial,sans-serif;vertical-align:top}.lsb:active{background:#dadce0}.lst:focus{outline:none}.tiah{width:458px}</style><script nonce=\"LLVWA1XdsMvlFH6pO9cpoQ==\">(function(){window.google.erd={sp:\\'hp\\',jsr:0,bv:1470,de:true};\\nvar f=this||self;var g,h,k=null!==(g=f.mei)&&void 0!==g?g:1,l=null!==(h=f.sdo)&&void 0!==h?h:!0,n=0,p,q=google.erd,t=q.jsr;google.ml=function(a,b,e,m,d){d=void 0===d?2:d;b&&(p=a&&a.message);if(google.dl)return google.dl(a,d,e),null;if(0>t){window.console&&console.error(a,e);if(-2===t)throw a;b=!1}else b=!a||!a.message||\"Error loading script\"===a.message||n>=k&&!m?!1:!0;if(!b)return null;n++;e=e||{};b=encodeURIComponent;var c=\"/gen_204?atyp=i&ei=\"+b(google.kEI);google.kEXPI&&(c+=\"&jexpid=\"+b(google.kEXPI));c+=\"&srcpg=\"+b(google.sn)+\"&jsr=\"+b(q.jsr)+\"&bver=\"+b(q.bv)+(\"&jsel=\"+d);for(var r in e)c+=\"&\",c+=b(r),c+=\"=\",c+=\\nb(e[r]);c=c+\"&emsg=\"+b(a.name+\": \"+a.message);c=c+\"&jsst=\"+b(a.stack||\"N/A\");12288<=c.length&&(c=c.substr(0,12288));a=c;m||google.log(0,\"\",a);return a};window.onerror=function(a,b,e,m,d){p!==a&&google.ml(d instanceof Error?d:Error(a),!1,void 0,!1,!d||d instanceof SyntaxError?2:0);p=null;l&&n>=k&&(window.onerror=null)};})();</script></head><body bgcolor=\"#fff\"><script nonce=\"LLVWA1XdsMvlFH6pO9cpoQ==\">(function(){var src=\\'/images/nav_logo229.png\\';var iesg=false;document.body.onload = function(){window.n && window.n();if (document.images){new Image().src=src;}\\nif (!iesg){document.f&&document.f.q.focus();document.gbqf&&document.gbqf.q.focus();}\\n}\\n})();</script><div id=\"mngb\"><div id=gbar><nobr><b class=gb1>&#44160;&#49353;</b> <a class=gb1 href=\"https://www.google.co.kr/imghp?hl=ko&tab=wi\">&#51060;&#48120;&#51648;</a> <a class=gb1 href=\"https://maps.google.co.kr/maps?hl=ko&tab=wl\">&#51648;&#46020;</a> <a class=gb1 href=\"https://play.google.com/?hl=ko&tab=w8\">Play</a> <a class=gb1 href=\"https://www.youtube.com/?gl=KR&tab=w1\">YouTube</a> <a class=gb1 href=\"https://news.google.com/?tab=wn\">&#45684;&#49828;</a> <a class=gb1 href=\"https://mail.google.com/mail/?tab=wm\">Gmail</a> <a class=gb1 href=\"https://drive.google.com/?tab=wo\">&#46300;&#46972;&#51060;&#48652;</a> <a class=gb1 style=\"text-decoration:none\" href=\"https://www.google.co.kr/intl/ko/about/products?tab=wh\"><u>&#45908;&#48372;&#44592;</u> &raquo;</a></nobr></div><div id=guser width=100%><nobr><span id=gbn class=gbi></span><span id=gbf class=gbf></span><span id=gbe></span><a href=\"http://www.google.co.kr/history/optout?hl=ko\" class=gb4>&#50937; &#44592;&#47197;</a> | <a  href=\"/preferences?hl=ko\" class=gb4>&#49444;&#51221;</a> | <a target=_top id=gb_70 href=\"https://accounts.google.com/ServiceLogin?hl=ko&passive=true&continue=https://www.google.com/&ec=GAZAAQ\" class=gb4>&#47196;&#44536;&#51064;</a></nobr></div><div class=gbh style=left:0></div><div class=gbh style=right:0></div></div><center><br clear=\"all\" id=\"lgpd\"><div id=\"lga\"><img alt=\"Google\" height=\"92\" src=\"/images/branding/googlelogo/1x/googlelogo_white_background_color_272x92dp.png\" style=\"padding:28px 0 14px\" width=\"272\" id=\"hplogo\"><br><br></div><form action=\"/search\" name=\"f\"><table cellpadding=\"0\" cellspacing=\"0\"><tr valign=\"top\"><td width=\"25%\">&nbsp;</td><td align=\"center\" nowrap=\"\"><input name=\"ie\" value=\"ISO-8859-1\" type=\"hidden\"><input value=\"ko\" name=\"hl\" type=\"hidden\"><input name=\"source\" type=\"hidden\" value=\"hp\"><input name=\"biw\" type=\"hidden\"><input name=\"bih\" type=\"hidden\"><div class=\"ds\" style=\"height:32px;margin:4px 0\"><div style=\"position:relative;zoom:1\"><input class=\"lst tiah\" style=\"margin:0;padding:5px 8px 0 6px;vertical-align:top;color:#000;padding-right:38px\" autocomplete=\"off\" value=\"\" title=\"Google &#44160;&#49353;\" maxlength=\"2048\" name=\"q\" size=\"57\"><img src=\"/textinputassistant/tia.png\" style=\"position:absolute;cursor:pointer;right:5px;top:4px;z-index:300\" data-script-url=\"/textinputassistant/11/ko_tia.js\" id=\"tsuid1\" alt=\"\" height=\"23\" width=\"27\"><script nonce=\"LLVWA1XdsMvlFH6pO9cpoQ==\">(function(){var id=\\'tsuid1\\';document.getElementById(id).onclick = function(){var s = document.createElement(\\'script\\');s.src = this.getAttribute(\\'data-script-url\\');(document.getElementById(\\'xjsc\\')||document.body).appendChild(s);};})();</script></div></div><br style=\"line-height:0\"><span class=\"ds\"><span class=\"lsbb\"><input class=\"lsb\" value=\"Google &#44160;&#49353;\" name=\"btnG\" type=\"submit\"></span></span><span class=\"ds\"><span class=\"lsbb\"><input class=\"lsb\" id=\"tsuid2\" value=\"I&#8217;m Feeling Lucky\" name=\"btnI\" type=\"submit\"><script nonce=\"LLVWA1XdsMvlFH6pO9cpoQ==\">(function(){var id=\\'tsuid2\\';document.getElementById(id).onclick = function(){if (this.form.q.value){this.checked = 1;if (this.form.iflsig)this.form.iflsig.disabled = false;}\\nelse top.location=\\'/doodles/\\';};})();</script><input value=\"ALs-wAMAAAAAYYJELcKWuT_OP_9RkW86TCjxybGkyqq4\" name=\"iflsig\" type=\"hidden\"></span></span></td><td class=\"fl sblc\" align=\"left\" nowrap=\"\" width=\"25%\"><a href=\"/advanced_search?hl=ko&amp;authuser=0\">&#44256;&#44553;&#44160;&#49353;</a></td></tr></table><input id=\"gbv\" name=\"gbv\" type=\"hidden\" value=\"1\"><script nonce=\"LLVWA1XdsMvlFH6pO9cpoQ==\">(function(){\\nvar a,b=\"1\";if(document&&document.getElementById)if(\"undefined\"!=typeof XMLHttpRequest)b=\"2\";else if(\"undefined\"!=typeof ActiveXObject){var c,d,e=[\"MSXML2.XMLHTTP.6.0\",\"MSXML2.XMLHTTP.3.0\",\"MSXML2.XMLHTTP\",\"Microsoft.XMLHTTP\"];for(c=0;d=e[c++];)try{new ActiveXObject(d),b=\"2\"}catch(h){}}a=b;if(\"2\"==a&&-1==location.search.indexOf(\"&gbv=2\")){var f=google.gbvu,g=document.getElementById(\"gbv\");g&&(g.value=a);f&&window.setTimeout(function(){location.href=f},0)};}).call(this);</script></form><div id=\"gac_scont\"></div><div style=\"font-size:83%;min-height:3.5em\"><br></div><span id=\"footer\"><div style=\"font-size:10pt\"><div style=\"margin:19px auto;text-align:center\" id=\"WqQANb\"><a href=\"/intl/ko/ads/\">&#44305;&#44256; &#54532;&#47196;&#44536;&#47016;</a><a href=\"http://www.google.co.kr/intl/ko/services/\">&#48708;&#51592;&#45768;&#49828; &#49556;&#47336;&#49496;</a><a href=\"/intl/ko/about.html\">Google &#51221;&#48372;</a><a href=\"https://www.google.com/setprefdomain?prefdom=KR&amp;prev=https://www.google.co.kr/&amp;sig=K_-lNJdIeIgcHobc1FxGZKQrEDhZc%3D\">Google.co.kr</a></div></div><p style=\"font-size:8pt;color:#70757a\">&copy; 2021 - <a href=\"/intl/ko/policies/privacy/\">&#44060;&#51064;&#51221;&#48372;&#52376;&#47532;&#48169;&#52840;</a> - <a href=\"/intl/ko/policies/terms/\">&#50557;&#44288;</a></p></span></center><script nonce=\"LLVWA1XdsMvlFH6pO9cpoQ==\">(function(){window.google.cdo={height:757,width:1440};(function(){\\nvar a=window.innerWidth,b=window.innerHeight;if(!a||!b){var c=window.document,d=\"CSS1Compat\"==c.compatMode?c.documentElement:c.body;a=d.clientWidth;b=d.clientHeight}a&&b&&(a!=google.cdo.width||b!=google.cdo.height)&&google.log(\"\",\"\",\"/client_204?&atyp=i&biw=\"+a+\"&bih=\"+b+\"&ei=\"+google.kEI);}).call(this);})();</script> <script nonce=\"LLVWA1XdsMvlFH6pO9cpoQ==\">(function(){google.xjs={ck:\\'\\',cs:\\'\\',excm:[]};})();</script>  <script nonce=\"LLVWA1XdsMvlFH6pO9cpoQ==\">(function(){var u=\\'/xjs/_/js/k\\\\x3dxjs.hp.en.gPVg_uQoQKk.O/am\\\\x3dAJ8AWAE/d\\\\x3d1/ed\\\\x3d1/rs\\\\x3dACT90oGNaOxf0e4Gkvgcmvwj1OU5PRykNA/m\\\\x3dsb_he,d\\';\\nvar e=this||self,f=function(a){return a};var g;var l=function(a,b){this.g=b===h?a:\"\"};l.prototype.toString=function(){return this.g+\"\"};var h={};\\nfunction m(){var a=u;google.lx=function(){n(a);google.lx=function(){}};google.bx||google.lx()}\\nfunction n(a){google.timers&&google.timers.load&&google.tick&&google.tick(\"load\",\"xjsls\");var b=document;var c=\"SCRIPT\";\"application/xhtml+xml\"===b.contentType&&(c=c.toLowerCase());c=b.createElement(c);if(void 0===g){b=null;var k=e.trustedTypes;if(k&&k.createPolicy){try{b=k.createPolicy(\"goog#html\",{createHTML:f,createScript:f,createScriptURL:f})}catch(p){e.console&&e.console.error(p.message)}g=b}else g=b}a=(b=g)?b.createScriptURL(a):a;a=new l(a,h);c.src=a instanceof l&&a.constructor===l?a.g:\"type_error:TrustedResourceUrl\";var d;a=(c.ownerDocument&&c.ownerDocument.defaultView||window).document;(d=(b=null===(d=a.querySelector)||void 0===d?void 0:d.call(a,\"script[nonce]\"))?b.nonce||b.getAttribute(\"nonce\")||\"\":\"\")&&c.setAttribute(\"nonce\",d);document.body.appendChild(c);google.psa=!0};setTimeout(function(){m()},0);})();(function(){window.google.xjsu=\\'/xjs/_/js/k\\\\x3dxjs.hp.en.gPVg_uQoQKk.O/am\\\\x3dAJ8AWAE/d\\\\x3d1/ed\\\\x3d1/rs\\\\x3dACT90oGNaOxf0e4Gkvgcmvwj1OU5PRykNA/m\\\\x3dsb_he,d\\';})();function _DumpException(e){throw e;}\\nfunction _F_installCss(c){}\\n(function(){google.jl={attn:false,blt:\\'none\\',chnk:0,dw:false,dwu:true,emtn:0,end:0,ine:false,lls:\\'default\\',pdt:0,rep:0,snet:true,strt:0,ubm:false,uwp:true};})();(function(){var pmc=\\'{\\\\x22d\\\\x22:{},\\\\x22sb_he\\\\x22:{\\\\x22agen\\\\x22:true,\\\\x22cgen\\\\x22:true,\\\\x22client\\\\x22:\\\\x22heirloom-hp\\\\x22,\\\\x22dh\\\\x22:true,\\\\x22dhqt\\\\x22:true,\\\\x22ds\\\\x22:\\\\x22\\\\x22,\\\\x22ffql\\\\x22:\\\\x22ko\\\\x22,\\\\x22fl\\\\x22:true,\\\\x22host\\\\x22:\\\\x22google.com\\\\x22,\\\\x22isbh\\\\x22:28,\\\\x22jsonp\\\\x22:true,\\\\x22msgs\\\\x22:{\\\\x22cibl\\\\x22:\\\\x22&#44160;&#49353;&#50612; &#51648;&#50864;&#44592;\\\\x22,\\\\x22dym\\\\x22:\\\\x22&#51060;&#44163;&#51012; &#52286;&#51004;&#49512;&#45208;&#50836;?\\\\x22,\\\\x22lcky\\\\x22:\\\\x22I&#8217;m Feeling Lucky\\\\x22,\\\\x22lml\\\\x22:\\\\x22&#51088;&#49464;&#55176; &#50508;&#50500;&#48372;&#44592;\\\\x22,\\\\x22oskt\\\\x22:\\\\x22&#51077;&#47141; &#46020;&#44396;\\\\x22,\\\\x22psrc\\\\x22:\\\\x22&#44160;&#49353;&#50612;&#44032; \\\\\\\\u003Ca href\\\\x3d\\\\\\\\\\\\x22/history\\\\\\\\\\\\x22\\\\\\\\u003E&#50937; &#44592;&#47197;\\\\\\\\u003C/a\\\\\\\\u003E&#50640;&#49436; &#49325;&#51228;&#46104;&#50632;&#49845;&#45768;&#45796;.\\\\x22,\\\\x22psrl\\\\x22:\\\\x22&#49325;&#51228;\\\\x22,\\\\x22sbit\\\\x22:\\\\x22&#51060;&#48120;&#51648;&#47196; &#44160;&#49353;\\\\x22,\\\\x22srch\\\\x22:\\\\x22Google &#44160;&#49353;\\\\x22},\\\\x22ovr\\\\x22:{},\\\\x22pq\\\\x22:\\\\x22\\\\x22,\\\\x22refpd\\\\x22:true,\\\\x22refspre\\\\x22:true,\\\\x22rfs\\\\x22:[],\\\\x22sbas\\\\x22:\\\\x220 3px 8px 0 rgba(0,0,0,0.2),0 0 0 1px rgba(0,0,0,0.08)\\\\x22,\\\\x22sbpl\\\\x22:16,\\\\x22sbpr\\\\x22:16,\\\\x22scd\\\\x22:10,\\\\x22stok\\\\x22:\\\\x22vXGwO3Il-CnF1idzjdL9nEWZG1I\\\\x22,\\\\x22uhde\\\\x22:false}}\\';google.pmc=JSON.parse(pmc);})();</script>        </body></html>'\n"
     ]
    }
   ],
   "source": [
    "#urllib 모듈 URL을 다루는 라이브러리\n",
    "from urllib import request\n",
    "\n",
    "web_page = request.urlopen(\"https://www.google.com/\")\n",
    "output = web_page.read()\n",
    "\n",
    "print(output)"
   ]
  },
  {
   "cell_type": "code",
   "execution_count": 78,
   "id": "c7cd4c00",
   "metadata": {},
   "outputs": [
    {
     "name": "stdout",
     "output_type": "stream",
     "text": [
      "<title>영우글로벌러닝 멀티벤더 교육센터 - YGL</title>\n"
     ]
    }
   ],
   "source": [
    "#!pip install beautifulsoup4\n",
    "from urllib import request\n",
    "from bs4 import BeautifulSoup\n",
    "\n",
    "target = request.urlopen(\"http://www.ycampus.co.kr/\")\n",
    "\n",
    "soup = BeautifulSoup(target)\n",
    "\n",
    "for script in soup.select(\"title\"):\n",
    "    print(script)"
   ]
  },
  {
   "cell_type": "code",
   "execution_count": 74,
   "id": "57849150",
   "metadata": {},
   "outputs": [
    {
     "name": "stdout",
     "output_type": "stream",
     "text": [
      "Requirement already satisfied: beautifulsoup4 in c:\\users\\user\\anaconda3\\lib\\site-packages (4.9.3)\n",
      "Requirement already satisfied: soupsieve>1.2 in c:\\users\\user\\anaconda3\\lib\\site-packages (from beautifulsoup4) (2.2.1)\n"
     ]
    }
   ],
   "source": [
    "!pip install beautifulsoup4"
   ]
  },
  {
   "cell_type": "code",
   "execution_count": 79,
   "id": "658bb312",
   "metadata": {},
   "outputs": [
    {
     "name": "stdout",
     "output_type": "stream",
     "text": [
      "도시: 서울\n",
      "날씨: 구름많음\n",
      "최저기온: 11\n",
      "최고기온: 19\n",
      "\n",
      "도시: 인천\n",
      "날씨: 구름많음\n",
      "최저기온: 12\n",
      "최고기온: 18\n",
      "\n",
      "도시: 수원\n",
      "날씨: 구름많음\n",
      "최저기온: 11\n",
      "최고기온: 19\n",
      "\n",
      "도시: 파주\n",
      "날씨: 구름많음\n",
      "최저기온: 6\n",
      "최고기온: 19\n",
      "\n",
      "도시: 이천\n",
      "날씨: 구름많음\n",
      "최저기온: 6\n",
      "최고기온: 19\n",
      "\n",
      "도시: 평택\n",
      "날씨: 구름많음\n",
      "최저기온: 10\n",
      "최고기온: 19\n",
      "\n",
      "도시: 춘천\n",
      "날씨: 구름많음\n",
      "최저기온: 7\n",
      "최고기온: 18\n",
      "\n",
      "도시: 원주\n",
      "날씨: 구름많음\n",
      "최저기온: 7\n",
      "최고기온: 18\n",
      "\n",
      "도시: 강릉\n",
      "날씨: 구름많음\n",
      "최저기온: 11\n",
      "최고기온: 19\n",
      "\n",
      "도시: 대전\n",
      "날씨: 구름많음\n",
      "최저기온: 10\n",
      "최고기온: 18\n",
      "\n",
      "도시: 세종\n",
      "날씨: 구름많음\n",
      "최저기온: 8\n",
      "최고기온: 18\n",
      "\n",
      "도시: 홍성\n",
      "날씨: 구름많음\n",
      "최저기온: 8\n",
      "최고기온: 18\n",
      "\n",
      "도시: 청주\n",
      "날씨: 구름많음\n",
      "최저기온: 10\n",
      "최고기온: 18\n",
      "\n",
      "도시: 충주\n",
      "날씨: 구름많음\n",
      "최저기온: 6\n",
      "최고기온: 18\n",
      "\n",
      "도시: 영동\n",
      "날씨: 구름많음\n",
      "최저기온: 7\n",
      "최고기온: 18\n",
      "\n",
      "도시: 광주\n",
      "날씨: 흐리고 비\n",
      "최저기온: 12\n",
      "최고기온: 18\n",
      "\n",
      "도시: 목포\n",
      "날씨: 흐리고 비\n",
      "최저기온: 13\n",
      "최고기온: 18\n",
      "\n",
      "도시: 여수\n",
      "날씨: 흐리고 비\n",
      "최저기온: 14\n",
      "최고기온: 17\n",
      "\n",
      "도시: 순천\n",
      "날씨: 흐리고 비\n",
      "최저기온: 13\n",
      "최고기온: 20\n",
      "\n",
      "도시: 광양\n",
      "날씨: 흐리고 비\n",
      "최저기온: 13\n",
      "최고기온: 17\n",
      "\n",
      "도시: 나주\n",
      "날씨: 흐리고 비\n",
      "최저기온: 10\n",
      "최고기온: 18\n",
      "\n",
      "도시: 전주\n",
      "날씨: 구름많음\n",
      "최저기온: 11\n",
      "최고기온: 18\n",
      "\n",
      "도시: 군산\n",
      "날씨: 구름많음\n",
      "최저기온: 10\n",
      "최고기온: 18\n",
      "\n",
      "도시: 정읍\n",
      "날씨: 구름많음\n",
      "최저기온: 10\n",
      "최고기온: 17\n",
      "\n",
      "도시: 남원\n",
      "날씨: 구름많음\n",
      "최저기온: 8\n",
      "최고기온: 18\n",
      "\n",
      "도시: 고창\n",
      "날씨: 구름많음\n",
      "최저기온: 10\n",
      "최고기온: 18\n",
      "\n",
      "도시: 무주\n",
      "날씨: 구름많음\n",
      "최저기온: 7\n",
      "최고기온: 17\n",
      "\n",
      "도시: 부산\n",
      "날씨: 흐리고 비\n",
      "최저기온: 15\n",
      "최고기온: 19\n",
      "\n",
      "도시: 울산\n",
      "날씨: 흐리고 비\n",
      "최저기온: 11\n",
      "최고기온: 19\n",
      "\n",
      "도시: 창원\n",
      "날씨: 흐리고 비\n",
      "최저기온: 12\n",
      "최고기온: 18\n",
      "\n",
      "도시: 진주\n",
      "날씨: 흐리고 비\n",
      "최저기온: 10\n",
      "최고기온: 18\n",
      "\n",
      "도시: 거창\n",
      "날씨: 흐리고 비\n",
      "최저기온: 7\n",
      "최고기온: 17\n",
      "\n",
      "도시: 통영\n",
      "날씨: 흐리고 비\n",
      "최저기온: 14\n",
      "최고기온: 19\n",
      "\n",
      "도시: 대구\n",
      "날씨: 구름많음\n",
      "최저기온: 9\n",
      "최고기온: 19\n",
      "\n",
      "도시: 안동\n",
      "날씨: 구름많음\n",
      "최저기온: 7\n",
      "최고기온: 18\n",
      "\n",
      "도시: 포항\n",
      "날씨: 구름많음\n",
      "최저기온: 12\n",
      "최고기온: 19\n",
      "\n",
      "도시: 경주\n",
      "날씨: 구름많음\n",
      "최저기온: 8\n",
      "최고기온: 19\n",
      "\n",
      "도시: 울진\n",
      "날씨: 구름많음\n",
      "최저기온: 10\n",
      "최고기온: 18\n",
      "\n",
      "도시: 울릉도\n",
      "날씨: 구름많음\n",
      "최저기온: 12\n",
      "최고기온: 16\n",
      "\n",
      "도시: 제주\n",
      "날씨: 흐리고 비\n",
      "최저기온: 16\n",
      "최고기온: 20\n",
      "\n",
      "도시: 서귀포\n",
      "날씨: 흐리고 비\n",
      "최저기온: 16\n",
      "최고기온: 20\n",
      "\n"
     ]
    }
   ],
   "source": [
    "from urllib import request\n",
    "from bs4 import BeautifulSoup\n",
    "\n",
    "# urlopen() 함수로 기상청의 전국 날씨를 읽습니다.\n",
    "target = request.urlopen(\"http://www.kma.go.kr/weather/forecast/mid-term-rss3.jsp?stnId=108\")\n",
    "\n",
    "# BeautifulSoup을 사용해 웹 페이지를 분석합니다.\n",
    "soup = BeautifulSoup(target, \"html.parser\")\n",
    "\n",
    "# location 태그를 찾습니다.\n",
    "for location in soup.select(\"location\"):\n",
    "    # 내부의 city, wf, tmn, tmx 태그를 찾아 출력합니다.\n",
    "    print(\"도시:\", location.select_one(\"city\").string)\n",
    "    print(\"날씨:\", location.select_one(\"wf\").string)\n",
    "    print(\"최저기온:\", location.select_one(\"tmn\").string)\n",
    "    print(\"최고기온:\", location.select_one(\"tmx\").string)\n",
    "    print()"
   ]
  },
  {
   "cell_type": "code",
   "execution_count": 80,
   "id": "c7d05e36",
   "metadata": {},
   "outputs": [
    {
     "name": "stdout",
     "output_type": "stream",
     "text": [
      "Requirement already satisfied: flask in c:\\users\\user\\anaconda3\\lib\\site-packages (1.1.2)\n",
      "Requirement already satisfied: Jinja2>=2.10.1 in c:\\users\\user\\anaconda3\\lib\\site-packages (from flask) (2.11.3)\n",
      "Requirement already satisfied: click>=5.1 in c:\\users\\user\\anaconda3\\lib\\site-packages (from flask) (7.1.2)\n",
      "Requirement already satisfied: Werkzeug>=0.15 in c:\\users\\user\\anaconda3\\lib\\site-packages (from flask) (1.0.1)\n",
      "Requirement already satisfied: itsdangerous>=0.24 in c:\\users\\user\\anaconda3\\lib\\site-packages (from flask) (1.1.0)\n",
      "Requirement already satisfied: MarkupSafe>=0.23 in c:\\users\\user\\anaconda3\\lib\\site-packages (from Jinja2>=2.10.1->flask) (1.1.1)\n"
     ]
    }
   ],
   "source": [
    "!pip install flask"
   ]
  },
  {
   "cell_type": "code",
   "execution_count": null,
   "id": "28433abb",
   "metadata": {},
   "outputs": [
    {
     "name": "stdout",
     "output_type": "stream",
     "text": [
      " * Serving Flask app \"__main__\" (lazy loading)\n",
      " * Environment: production\n",
      "   WARNING: This is a development server. Do not use it in a production deployment.\n",
      "   Use a production WSGI server instead.\n",
      " * Debug mode: off\n"
     ]
    },
    {
     "name": "stderr",
     "output_type": "stream",
     "text": [
      " * Running on http://127.0.0.1:5000/ (Press CTRL+C to quit)\n"
     ]
    }
   ],
   "source": [
    "from flask import Flask\n",
    "\n",
    "app = Flask(__name__)\n",
    "\n",
    "@app.route(\"/\")\n",
    "def hello_world():\n",
    "    return \"Hello World!!\"\n",
    "if __name__ == '__main__':\n",
    "    app.run()"
   ]
  },
  {
   "cell_type": "code",
   "execution_count": null,
   "id": "4f768f36",
   "metadata": {},
   "outputs": [],
   "source": []
  }
 ],
 "metadata": {
  "kernelspec": {
   "display_name": "Python 3",
   "language": "python",
   "name": "python3"
  },
  "language_info": {
   "codemirror_mode": {
    "name": "ipython",
    "version": 3
   },
   "file_extension": ".py",
   "mimetype": "text/x-python",
   "name": "python",
   "nbconvert_exporter": "python",
   "pygments_lexer": "ipython3",
   "version": "3.8.8"
  }
 },
 "nbformat": 4,
 "nbformat_minor": 5
}
