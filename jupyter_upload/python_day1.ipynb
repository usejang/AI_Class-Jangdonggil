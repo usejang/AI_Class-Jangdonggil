{
 "cells": [
  {
   "cell_type": "code",
   "execution_count": 14,
   "id": "49be5e1f",
   "metadata": {
    "scrolled": true
   },
   "outputs": [
    {
     "name": "stdout",
     "output_type": "stream",
     "text": [
      "hello python\n",
      "a = ...10...b = ...20... a + b = ...30k"
     ]
    }
   ],
   "source": [
    "print(\"hello python\")\n",
    "a = 10\n",
    "b = 20\n",
    "a\n",
    "a + b\n",
    "print ('a = ', a, 'b = ', b, ' a + b = ', a+b, sep='...', end='k')"
   ]
  },
  {
   "cell_type": "markdown",
   "id": "4bdde0fe",
   "metadata": {},
   "source": [
    " - 노트북 파일 확장자 ~.ipynb => jupyter notebook\n",
    " - 일반파이썬 파일 확장자 ~.py => python 파일명"
   ]
  },
  {
   "cell_type": "code",
   "execution_count": 10,
   "id": "719dd045",
   "metadata": {},
   "outputs": [
    {
     "name": "stdout",
     "output_type": "stream",
     "text": [
      "['False', 'None', 'True', 'and', 'as', 'assert', 'async', 'await', 'break', 'class', 'continue', 'def', 'del', 'elif', 'else', 'except', 'finally', 'for', 'from', 'global', 'if', 'import', 'in', 'is', 'lambda', 'nonlocal', 'not', 'or', 'pass', 'raise', 'return', 'try', 'while', 'with', 'yield']\n"
     ]
    }
   ],
   "source": [
    "# 키워드 출력\n",
    "import keyword\n",
    "\n",
    "print(keyword.kwlist, 'test')"
   ]
  },
  {
   "cell_type": "markdown",
   "id": "c653ef9f",
   "metadata": {},
   "source": [
    "shift + tap = 함수 사용법 확인"
   ]
  },
  {
   "cell_type": "code",
   "execution_count": 18,
   "id": "d34e89d1",
   "metadata": {},
   "outputs": [
    {
     "data": {
      "text/plain": [
       "30"
      ]
     },
     "execution_count": 18,
     "metadata": {},
     "output_type": "execute_result"
    }
   ],
   "source": [
    "#주석처리\n",
    "'''주석\n",
    "주석\n",
    "주석'''\n",
    "10 + 20 #test 10 + 30"
   ]
  },
  {
   "cell_type": "code",
   "execution_count": 20,
   "id": "418275d1",
   "metadata": {},
   "outputs": [
    {
     "name": "stdout",
     "output_type": "stream",
     "text": [
      "#하나만 출렵합니다.\n",
      "Hello Python Programming...!\n",
      "\n",
      "#여러 개를 출력합니다.\n",
      "10 20 30 40 50\n",
      "안녕하세요 저의 이름은 장동길입니다.\n",
      "\n",
      "#아무것도 출력하지 않습니다.\n",
      "---확인 전용선---\n",
      "\n",
      "\n",
      "---확인 전용선---\n"
     ]
    }
   ],
   "source": [
    "#하나만 출력합니다.\n",
    "print(\"#하나만 출렵합니다.\")\n",
    "print(\"Hello Python Programming...!\")\n",
    "print()\n",
    "\n",
    "#여러 개를 출력합니다.\n",
    "print(\"#여러 개를 출력합니다.\")\n",
    "print(10, 20, 30, 40, 50)\n",
    "print(\"안녕하세요\", \"저의\", \"이름은\", \"장동길입니다.\")\n",
    "print()\n",
    "\n",
    "#아무것도 입력하지 않으면 단순하게 줄바꿈합니다.\n",
    "print(\"#아무것도 출력하지 않습니다.\")\n",
    "print(\"---확인 전용선---\")\n",
    "print()\n",
    "print()\n",
    "print(\"---확인 전용선---\")"
   ]
  },
  {
   "cell_type": "code",
   "execution_count": 24,
   "id": "1d427f18",
   "metadata": {},
   "outputs": [
    {
     "name": "stdout",
     "output_type": "stream",
     "text": [
      "\"안녕하세요\"라고했다\n"
     ]
    }
   ],
   "source": [
    "print(\"\\\"안녕하세요\\\"라고했다\")"
   ]
  },
  {
   "cell_type": "code",
   "execution_count": 25,
   "id": "ee250521",
   "metadata": {},
   "outputs": [
    {
     "name": "stdout",
     "output_type": "stream",
     "text": [
      "이름\t나이\t지역\n",
      "윤인성\t25\t강서구\n",
      "윤아린\t24\t강서구\n",
      "구름\t3\t강서구\n"
     ]
    }
   ],
   "source": [
    "print(\"이름\\t나이\\t지역\")\n",
    "print(\"윤인성\\t25\\t강서구\")\n",
    "print(\"윤아린\\t24\\t강서구\")\n",
    "print(\"구름\\t3\\t강서구\")"
   ]
  },
  {
   "cell_type": "code",
   "execution_count": 40,
   "id": "5a1d6903",
   "metadata": {},
   "outputs": [
    {
     "name": "stdout",
     "output_type": "stream",
     "text": [
      "동해물과 백두산이\n",
      "마르고 닳도록\n",
      "하느님이\n",
      "\"동해물과 백두산이\n",
      "마르고 닳도록\n",
      "하느님이\n"
     ]
    }
   ],
   "source": [
    "#여러 라인의 문자열 만들기\n",
    "print(\"동해물과 백두산이\\n마르고 닳도록\\n하느님이\")\n",
    "a_str = \"\"\"\"동해물과 백두산이\n",
    "마르고 닳도록\n",
    "하느님이\"\"\"\n",
    "print(a_str)"
   ]
  },
  {
   "cell_type": "code",
   "execution_count": 43,
   "id": "35432477",
   "metadata": {},
   "outputs": [
    {
     "name": "stdout",
     "output_type": "stream",
     "text": [
      "hello world\n",
      "hellohellohello\n",
      "helloworldworld\n"
     ]
    }
   ],
   "source": [
    "#문자열 연산자 : +, *\n",
    "#문자열 + 문자열 >> 문자열 이어 붙이기\n",
    "#문자열 * 숫자 >> 숫자만큼 문자열을 반복 실행\n",
    "\n",
    "print(\"hello \" + \"world\")\n",
    "print(\"hello\" * 3)\n",
    "print(\"hello\" + \"world\" * 2)"
   ]
  },
  {
   "cell_type": "code",
   "execution_count": 64,
   "id": "408f9694",
   "metadata": {},
   "outputs": [
    {
     "name": "stdout",
     "output_type": "stream",
     "text": [
      "안녕하세요\n",
      "안 하\n",
      "안녕하세\n",
      "5\n"
     ]
    }
   ],
   "source": [
    "# 문자열 index 및 slice >> str [0] : 0번지 값, [1:4] >> start:end start는 포함 ,end는 포함하지 않음\n",
    "str = \"안녕하세요\"\n",
    "print(str)\n",
    "print(str[0], str[2])\n",
    "print(str[0:4])\n",
    "#*데이터를 잘라낼때 필요함*\n",
    "#str = \"@@@@@\"\n",
    "#print(str[@], str[@]) or print(str[@:@])시 제일 앞글자가 가장 작은 번지에 저장되므로 주의할것\n",
    "print(len(str)) #len(문자열) << 길이를 구하는 함수"
   ]
  },
  {
   "cell_type": "code",
   "execution_count": 58,
   "id": "291b23a5",
   "metadata": {},
   "outputs": [
    {
     "name": "stdout",
     "output_type": "stream",
     "text": [
      "과  :  과\n",
      "8\n",
      "자\n",
      "안\n"
     ]
    }
   ],
   "source": [
    "# str =\"임의로 문자를 넣을것\"\n",
    "# str의 길이를 구해서 처음 문자를 -index로 구해서 출력\n",
    "str = \"과제테스트용문자\"\n",
    "print(str[0],\" : \", str[-len(str)])\n",
    "print(len(str))\n",
    "print(str[7])\n",
    "print(\"안녕하세요\"[-5])"
   ]
  },
  {
   "cell_type": "code",
   "execution_count": 67,
   "id": "802a1a02",
   "metadata": {},
   "outputs": [
    {
     "name": "stdout",
     "output_type": "stream",
     "text": [
      "안녕하\n",
      "안녕하세요\n"
     ]
    }
   ],
   "source": [
    "print(\"안녕하세요\"[:3])\n",
    "print(\"안녕하세요\"[0:])"
   ]
  },
  {
   "cell_type": "code",
   "execution_count": 145,
   "id": "8589159c",
   "metadata": {},
   "outputs": [
    {
     "name": "stdout",
     "output_type": "stream",
     "text": [
      "녕\n",
      "하\n",
      "세\n",
      "요\n",
      "요\n"
     ]
    }
   ],
   "source": [
    "print(\"안녕하세요\"[1])\n",
    "print(\"안녕하세요\"[2])\n",
    "print(\"안녕하세요\"[3])\n",
    "print(\"안녕하세요\"[4])\n",
    "print(\"안녕하세요\"[4])\n"
   ]
  },
  {
   "cell_type": "code",
   "execution_count": 87,
   "id": "3ad01d77",
   "metadata": {},
   "outputs": [
    {
     "name": "stdout",
     "output_type": "stream",
     "text": [
      "2\n",
      "8\n",
      "2 ** 4 = 16\n"
     ]
    },
    {
     "data": {
      "text/plain": [
       "36"
      ]
     },
     "execution_count": 87,
     "metadata": {},
     "output_type": "execute_result"
    }
   ],
   "source": [
    "# 숫자 : 정수, 실수\n",
    "# 연산자 : +더하기,-빼기,*곱하기,/나누기,//몫,%나머지,**제곱, 각 사칙연산 우선순위를 따르니 ()<<괄호로 우선순위를 결정해주는게 좋다\n",
    "print(60 // 30)\n",
    "print(2 ** 3)\n",
    "print(\"2 ** 4 =\", 2**4)\n",
    "(2+4) * 6"
   ]
  },
  {
   "cell_type": "code",
   "execution_count": 2,
   "id": "b40f16a4",
   "metadata": {},
   "outputs": [
    {
     "name": "stdout",
     "output_type": "stream",
     "text": [
      "5.140000000000001\n",
      "1.1400000000000001\n",
      "string5\n"
     ]
    },
    {
     "data": {
      "text/plain": [
       "'5abcd'"
      ]
     },
     "execution_count": 2,
     "metadata": {},
     "output_type": "execute_result"
    }
   ],
   "source": [
    "#변수 : 값을 저장하는 공간, 메모리에 방을 만듬\n",
    "pi = 3.14\n",
    "print(pi + 2)\n",
    "print(pi - 2)\n",
    "print(\"string\" + \"5\")\n",
    "str(5) + \"abcd\""
   ]
  },
  {
   "cell_type": "code",
   "execution_count": 154,
   "id": "b40ee2d6",
   "metadata": {},
   "outputs": [
    {
     "name": "stdout",
     "output_type": "stream",
     "text": [
      " num =  130\n",
      "str :  abcdtestabcdtest\n"
     ]
    }
   ],
   "source": [
    "#복합 대입 연산자\n",
    "num = 100\n",
    "num += 10 ; num += 20\n",
    "print(\" num = \", num) #num = 130\n",
    "\n",
    "str = \"abcd\"\n",
    "str += \"test\"\n",
    "str *= 2\n",
    "print(\"str : \", str) #abcdtestabcdtest"
   ]
  },
  {
   "cell_type": "code",
   "execution_count": 12,
   "id": "9b84c27e",
   "metadata": {},
   "outputs": [
    {
     "name": "stdout",
     "output_type": "stream",
     "text": [
      "문자열 입력 > g;lsdfkg\n",
      "g;lsdfkg\n",
      "g\n",
      "l\n",
      "str length :  8 g g g\n"
     ]
    }
   ],
   "source": [
    "#키보드로부터 입력을 받는 함수 inut()\n",
    "str = input(\"문자열 입력 > \")\n",
    "print(str)\n",
    "\n",
    "#문자열을 입력받아 문자열의 길이를 출력 처음 글자와 마지막 글자 출력하시오\n",
    " #\"답 : a,t\"\n",
    "print(str[0])\n",
    "print(str[2]);\n",
    "#마지막글자는 문자열의 길이를 구한 값으로 출력\n",
    "str_len = len(str)\n",
    "print(\"str length : \", str_len, str[0],str[str_len- 1], str[-1] )"
   ]
  },
  {
   "cell_type": "code",
   "execution_count": 6,
   "id": "22917335",
   "metadata": {},
   "outputs": [
    {
     "name": "stdout",
     "output_type": "stream",
     "text": [
      "첫번째 숫자를 입력 : 5\n",
      "두번째 숫자를 입력 : 5\n",
      "세번째 숫자를 입력 : 5\n",
      "<class 'int'> <class 'str'>\n",
      "<class 'int'> <class 'int'> <class 'int'>\n",
      "15\n",
      "5\n",
      "문자열 입력 : 5\n",
      "55555\n"
     ]
    }
   ],
   "source": [
    "#숫자 두개를 입력받아 정수형으로 바꾸고\n",
    "#두 수의 사칙연산을 출력하시오\n",
    "#문자열을 입력받아 처음 입력받은 숫자만큼 반복해서 출력\n",
    "num_1 = int(input(\"첫번째 숫자를 입력 : \"))\n",
    "num_2 = input(\"두번째 숫자를 입력 : \")\n",
    "num_3 = input(\"세번째 숫자를 입력 : \")\n",
    "print(type(num_1), type(num_2)), type(num_3) #str >> int 형으로 변경 int()\n",
    "# 두 수의 사칙연산 출력 num_1 + num_2, - * / % ...@@\n",
    "num_2 = int(num_2)\n",
    "num_3 = int(num_3)\n",
    "print(type(num_1), type(num_2), type(num_3))\n",
    "print(num_1 + num_2 + num_3); print(num_1 - num_2 + num_3)\n",
    "input_str = input(\"문자열 입력 : \")\n",
    "print(input_str * num_1)"
   ]
  },
  {
   "cell_type": "code",
   "execution_count": 13,
   "id": "f9bd88f2",
   "metadata": {},
   "outputs": [
    {
     "name": "stdout",
     "output_type": "stream",
     "text": [
      "<class 'int'> 52\n",
      "<class 'float'> 52.273\n",
      "첫 번째 숫자> 5\n",
      "두 번째 숫자> 2\n",
      "덧셈: 7.0\n",
      "뺄셈: 3.0\n",
      "곱셈: 10.0\n",
      "나눗셈: 2.5\n"
     ]
    }
   ],
   "source": [
    "output_a = int(\"52\")\n",
    "output_b = float(\"52.273\")\n",
    "\n",
    "print(type(output_a), output_a)\n",
    "print(type(output_b), output_b)\n",
    "\n",
    "input_a =float(input(\"첫 번째 숫자> \"))\n",
    "input_b =float(input(\"두 번째 숫자> \"))\n",
    "print(\"덧셈:\", input_a + input_b)\n",
    "print(\"뺄셈:\", input_a - input_b)\n",
    "print(\"곱셈:\", input_a * input_b)\n",
    "print(\"나눗셈:\", input_a / input_b)"
   ]
  },
  {
   "cell_type": "code",
   "execution_count": null,
   "id": "1d0a86c0",
   "metadata": {},
   "outputs": [],
   "source": [
    "##########################21.10.28"
   ]
  }
 ],
 "metadata": {
  "kernelspec": {
   "display_name": "Python 3",
   "language": "python",
   "name": "python3"
  },
  "language_info": {
   "codemirror_mode": {
    "name": "ipython",
    "version": 3
   },
   "file_extension": ".py",
   "mimetype": "text/x-python",
   "name": "python",
   "nbconvert_exporter": "python",
   "pygments_lexer": "ipython3",
   "version": "3.8.8"
  }
 },
 "nbformat": 4,
 "nbformat_minor": 5
}
