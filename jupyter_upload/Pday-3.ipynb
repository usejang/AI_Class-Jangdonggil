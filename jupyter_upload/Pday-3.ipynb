{
 "cells": [
  {
   "cell_type": "code",
   "execution_count": 18,
   "id": "830b3587",
   "metadata": {},
   "outputs": [
    {
     "name": "stdout",
     "output_type": "stream",
     "text": [
      "list append :  [1, 2, 3, 'abcd']\n",
      "list append :  [1, 10, 2, 3, 'abcd']\n",
      "list extend :  [1, 10, 2, 3, 'abcd', 4, 5, 6]\n",
      "list 변경 :  [1, 10, 2, '변경', 'abcd', 4, 5, 6]\n",
      "b_list del : [4, 6]\n",
      "a_list pop : [1, 10, '변경', 'abcd', 4, 5, 6]\n",
      "a_list remove : [1, 10, '변경', 4, 5, 6]\n",
      "True\n",
      "False\n"
     ]
    }
   ],
   "source": [
    "# list 요소 추가, 제거 변경\n",
    "a_list = [1,2,3]\n",
    "b_list = [4,5,6]\n",
    "\n",
    "# list 요소 추가\n",
    "a_list.append('abcd')\n",
    "print(\"list append : \", a_list)\n",
    "a_list.insert(1,10)\n",
    "print(\"list append : \", a_list)\n",
    "\n",
    "#list에 list 추가\n",
    "a_list.extend(b_list)\n",
    "print(\"list extend : \", a_list)\n",
    "\n",
    "#list 요소 변경\n",
    "a_list[3] = '변경'\n",
    "print(\"list 변경 : \", a_list)\n",
    "\n",
    "#list 요소 삭제\n",
    "del b_list[1]\n",
    "print(\"b_list del :\",b_list) # [ 4, 6 ]\n",
    "a_list.pop(2)\n",
    "print(\"a_list pop :\", a_list)\n",
    "a_list.remove('abcd')\n",
    "print(\"a_list remove :\", a_list)\n",
    "a_list.clear()\n",
    "a_list\n",
    "\n",
    "#list 내부에 요소가 있는지 확인\n",
    "print(6 in b_list)\n",
    "print(6 not in b_list)"
   ]
  },
  {
   "cell_type": "code",
   "execution_count": 8,
   "id": "cb2a3409",
   "metadata": {},
   "outputs": [
    {
     "name": "stdout",
     "output_type": "stream",
     "text": [
      "i:  0\n",
      "i:  1\n",
      "i:  2\n",
      "i:  3\n",
      "i:  4\n",
      "b_list : 1\n",
      "b_list : 2\n",
      "b_list : 3\n",
      "b_list : 4\n",
      "b_list : 5\n"
     ]
    }
   ],
   "source": [
    "#for 반복문 : for 변수 in 반복자료: 들여쓰기 처리문\n",
    "for i in range(5):\n",
    "    print(\"i: \",i)\n",
    "a_list = [1,2,3,4,5]\n",
    "for element in a_list:\n",
    "    print(\"b_list : {}\".format(element))\n",
    "    \n",
    "for char in \"hello python\"\n",
    "print(\"-\", char)\n"
   ]
  },
  {
   "cell_type": "code",
   "execution_count": 2,
   "id": "dcf52cd9",
   "metadata": {},
   "outputs": [
    {
     "name": "stdout",
     "output_type": "stream",
     "text": [
      "1\n",
      "2\n",
      "3\n",
      "4\n",
      "5\n",
      "6\n",
      "7\n",
      "8\n",
      "9\n"
     ]
    }
   ],
   "source": [
    "list_of_list = [[1,2,3],[4,5,6,7],[8,9]] # 1 2 3 4 5 6 7 8 9\n",
    "for c_list in list_of_list:\n",
    "    for element in c_list:\n",
    "        print(element)"
   ]
  },
  {
   "cell_type": "code",
   "execution_count": null,
   "id": "39ddfb37",
   "metadata": {
    "scrolled": true
   },
   "outputs": [],
   "source": [
    "#dictionary : { 키: 값~~}\n",
    "#dict_a[키]\n",
    "dict_a = {\n",
    "    \"name\": \"7D 건조 망고\",\n",
    "    \"type\": \"당절임\",\n",
    "    \"ingredient\": [\"망고\", \"설탕\", \"메타중아황산나트륨\", \"치자황색소\"],\n",
    "    \"origin\": \"필리핀\"\n",
    "}\n",
    "\n",
    "#사용자로부터 입력을 받습니다.\n",
    "key = input(\"> 접근하고자 하는 키: \")\n",
    "#출력\n",
    "if key in dict_a:\n",
    "    print(dict_a[key])\n",
    "else:\n",
    "    print(\"존재하지 않는 키에 접근하고 있습니다.\")\n",
    "\n",
    "value = dict_a.get(key)\n",
    "print(\"키 값 : \", value)\n",
    "if value == None :\n",
    "    print(\"존재하지 않는 키에 접근하고 있습니다.\")\n",
    "    \n"
   ]
  },
  {
   "cell_type": "code",
   "execution_count": 12,
   "id": "1337e949",
   "metadata": {},
   "outputs": [
    {
     "name": "stdout",
     "output_type": "stream",
     "text": [
      "7D 건조 망고\n",
      "당절임\n",
      "['망고', '설탕', '메타중아황산나트륨', '치자황색소']\n",
      "필리핀\n",
      "<class 'dict'> <class 'str'> <class 'list'>\n",
      "7D 건조 망고\n",
      "당절임\n",
      "['망고', '설탕', '메타중아황산나트륨', '치자황색소']\n",
      "필리핀\n"
     ]
    }
   ],
   "source": [
    "#문제 for 문장을 사용하여 디셔너리 값을 출력\n",
    "dict_a = {\n",
    "    \"name\": \"7D 건조 망고\",\n",
    "    \"type\": \"당절임\",\n",
    "    \"ingredient\": [\"망고\", \"설탕\", \"메타중아황산나트륨\", \"치자황색소\"],\n",
    "    \"origin\": \"필리핀\"\n",
    "}\n",
    "\n",
    "for key in dict_a:\n",
    "    print(dict_a[key])\n",
    "print(type(dict_a), type(dict_a[\"name\"]), type(dict_a[\"ingredient\"]))\n",
    "\n",
    "# 각 값들만 출력 하세요\n",
    "for key in dict_a:\n",
    "    if type(dict_a[key]) == 'dic':\n",
    "        for sub_key in dict_a[key]:\n",
    "            print(dict_a[key][sub_key])\n",
    "    elif type(dict_a[key]) =='list':\n",
    "        for item in dict_a[key]:\n",
    "            print(item)\n",
    "    else:\n",
    "        print(dict_a[key])\n",
    "        \n",
    "\n",
    "                    "
   ]
  },
  {
   "cell_type": "code",
   "execution_count": 28,
   "id": "cced90e2",
   "metadata": {},
   "outputs": [
    {
     "name": "stdout",
     "output_type": "stream",
     "text": [
      "0번째 데이터 : 273\n",
      "1번째 데이터 : 45\n",
      "2번째 데이터 : 103\n",
      "3번째 데이터 : 54\n",
      "4번째 데이터 : 101\n",
      "4번째 데이터 : 101\n",
      "3번째 데이터 : 54\n",
      "2번째 데이터 : 103\n",
      "1번째 데이터 : 45\n",
      "0번째 데이터 : 273\n",
      "4번째 데이터 : 101\n",
      "3번째 데이터 : 54\n",
      "2번째 데이터 : 103\n",
      "1번째 데이터 : 45\n",
      "0번째 데이터 : 273\n",
      "\n",
      "reversed\n",
      "101\n",
      "54\n",
      "103\n",
      "45\n",
      "273\n"
     ]
    }
   ],
   "source": [
    "#range(start_num, end_num, step_num)  :start_num 부터 end_num-1 까지 step_num 수 만큼 띄워서 숫자를 반복\n",
    "#rang(10) >> start_num : 0, step_num :1\n",
    "array = [273, 45, 103, 54, 101]\n",
    "for i in range(len(array)):\n",
    "    print(\"{}번째 데이터 : {}\".format(i, array[i]))\n",
    "    \n",
    "# 뒤에서부터 출력\n",
    "for i in range(len(array)-1, 0-1 , -1):\n",
    "    print(\"{}번째 데이터 : {}\".format(i, array[i]))\n",
    "\n",
    "#reversed() 거꾸로 가져오는 함수\n",
    "for i in reversed(range(len(array))):\n",
    "    print(\"{}번째 데이터 : {}\".format(i, array[i]))\n",
    "print()\n",
    "print(\"reversed\")\n",
    "for item in reversed(array):\n",
    "    print(item)"
   ]
  },
  {
   "cell_type": "code",
   "execution_count": 29,
   "id": "985757f2",
   "metadata": {},
   "outputs": [
    {
     "name": "stdout",
     "output_type": "stream",
     "text": [
      "0 번째 데이터 : 273 \n",
      "1 번째 데이터 : 45 \n",
      "2 번째 데이터 : 103 \n",
      "3 번째 데이터 : 54 \n",
      "4 번째 데이터 : 101 \n"
     ]
    }
   ],
   "source": [
    "#while 표현식 : 표현식이 true이면 실행\n",
    "#for i in range(len(array)):\n",
    "#    print(\"{}번째 데이터 : {}\".fomat(i, array[i]))\n",
    "\n",
    "i = 0\n",
    "while i < len(array):\n",
    "    print(\"{} 번째 데이터 : {} \".format(i, array[i]))\n",
    "    i += 1"
   ]
  },
  {
   "cell_type": "code",
   "execution_count": 12,
   "id": "8e3702ac",
   "metadata": {},
   "outputs": [
    {
     "name": "stdout",
     "output_type": "stream",
     "text": [
      "문자 입력 (quit 종료)>>ll\n",
      "문자 입력 (quit면 종료)>>kk\n",
      "문자 입력 (quit면 종료)>>jj\n",
      "문자 입력 (quit면 종료)>>\n",
      "문자 입력 (quit면 종료)>>\n",
      "문자 입력 (quit면 종료)>>quit\n",
      "ll\n",
      "kk\n",
      "jj\n",
      "\n",
      "\n"
     ]
    }
   ],
   "source": [
    "#빈 리스트 하나 생성 한 후 키보드에서 자료를 입력받아 리스트에 추가\n",
    "#입력값이 'quit'이면 입력 종료후 입력된 list의 각각의 값을 출력\n",
    "#1. input_data : 생성\n",
    "#2. 키보드로부터 입력받음\n",
    "#3. 입력받은 문자열이 'quit'이면 입력종료\n",
    "#4. 아니면 리스트에 입력받은 문자열 추가\n",
    "#5. 입력된 리스트 각각의 값을 출력\n",
    "\n",
    "input_data = []\n",
    "input_str = input(\"문자 입력 (quit 종료)>>\")\n",
    "while input_str != 'quit':\n",
    "    input_data.append(input_str)\n",
    "    input_str = input(\"문자 입력 (quit면 종료)>>\")\n",
    "#출력\n",
    "for char in input_data:\n",
    "    print(char)"
   ]
  },
  {
   "cell_type": "code",
   "execution_count": 26,
   "id": "2f5c16f3",
   "metadata": {},
   "outputs": [
    {
     "name": "stdout",
     "output_type": "stream",
     "text": [
      "문자 입력 (quit시 종료)>>664\n",
      "문자 입력 (quit시 종료)>>222\n",
      "문자 입력 (quit시 종료)>>test\n",
      "문자 입력 (quit시 종료)>>`111\n",
      "문자 입력 (quit시 종료)>>test\n",
      "문자 입력 (quit시 종료)>>quit\n",
      "test\n",
      "`111\n",
      "test\n",
      "input_data : ['test', '`111', 'test']\n"
     ]
    }
   ],
   "source": [
    "input_data = []\n",
    "while True:\n",
    "    input_str = input(\"문자 입력 (quit시 종료)>>\")\n",
    "    if input_str.isdecimal():\n",
    "        continue\n",
    "    if input_str == 'quit':\n",
    "        break # while 문장 종료\n",
    "    \n",
    "    input_data.append(input_str)\n",
    "    \n",
    "#출력\n",
    "for char in input_data:\n",
    "    print(char)\n",
    "print(\"input_data :\", input_data)\n",
    "\n",
    "\n",
    "#-189p 오전"
   ]
  },
  {
   "cell_type": "code",
   "execution_count": 55,
   "id": "08e5dfc0",
   "metadata": {},
   "outputs": [
    {
     "name": "stdout",
     "output_type": "stream",
     "text": [
      "부호 입력 ('+, -, *, /' 종료는 q) > +\n",
      "두 수를 입력 (10,20): 30,20\n",
      "30 + 20 = 50\n",
      "부호 입력 ('+, -, *, /' 종료는 q) > q\n"
     ]
    }
   ],
   "source": [
    "while True:\n",
    "    buho = input(\"부호 입력 (\\'+, -, *, /\\' 종료는 q) > \")\n",
    "    if buho == 'q':\n",
    "        break\n",
    "    if buho not in '+-*/':\n",
    "        continue\n",
    "    input_data = input(\"두 수를 입력 (10,20): \").split(',')\n",
    "    if buho == '+':\n",
    "        result = int(input_data[0]) + int(input_data[1])\n",
    "    elif buho == '-':\n",
    "        result = int(input_data[0]) - int(input_data[1])\n",
    "    elif buho == '*':\n",
    "        result = int(input_data[0]) * int(input_data[1])\n",
    "        \n",
    "    else:\n",
    "        result = int(input_data[0]) / int(input_data[1])\n",
    "    print(\"{} {} {} = {}\".format(input_data[0],buho,input_data[1],result))\n",
    "    "
   ]
  },
  {
   "cell_type": "code",
   "execution_count": 56,
   "id": "528fb46b",
   "metadata": {},
   "outputs": [
    {
     "name": "stdout",
     "output_type": "stream",
     "text": [
      "min : 34, max :320,  sum :629\n",
      "20\n"
     ]
    }
   ],
   "source": [
    "# min(매개변수), max(), sum()  : 매개변수 -> list\n",
    "a_list = [34,54, 78, 100,320, 43]\n",
    "print(\"min : {}, max :{},  sum :{}\".format(min(a_list), max(a_list),sum(a_list)))\n",
    "\n",
    "print(min(30,50,20))"
   ]
  },
  {
   "cell_type": "code",
   "execution_count": 43,
   "id": "1369d4ed",
   "metadata": {},
   "outputs": [
    {
     "name": "stdout",
     "output_type": "stream",
     "text": [
      "a_list : [34, 54, 78, 100, 320, 43], a_list_reversed :[43, 320, 100, 78, 54, 34]\n"
     ]
    }
   ],
   "source": [
    "#reversed() : 리스트 뒤집기\n",
    "print(\"a_list : {}, a_list_reversed :{}\".format(a_list, list(reversed(a_list))))\n"
   ]
  },
  {
   "cell_type": "code",
   "execution_count": null,
   "id": "8459edcc",
   "metadata": {},
   "outputs": [],
   "source": [
    "# enumerate)() : 인덱스와 값을 반환\n",
    "for i, value in enumerate(a_list):\n",
    "    print(\"{}번째 요소 {}\".format(i,value))\n",
    "    \n",
    "#array = [273, 45, 103, 54, 101]\n",
    "#for i in range(len(array)):\n",
    "#    print(\"{}번째 데이터 : {}\".format(i, array[i]))"
   ]
  },
  {
   "cell_type": "code",
   "execution_count": null,
   "id": "0badec84",
   "metadata": {},
   "outputs": [],
   "source": [
    "## min(매개변수), max(), sum()   : 매개변수 >>list\n",
    "a_list= [34,54, 78, 100,320, 43]\n",
    "print(\"min: {}, max : {}, sum : {}\".format(min(a_list), max(a_list), sum(a_list)))\n",
    "\n",
    "print(min(30,50,20))"
   ]
  },
  {
   "cell_type": "code",
   "execution_count": 38,
   "id": "b5eb384d",
   "metadata": {
    "scrolled": true
   },
   "outputs": [
    {
     "name": "stdout",
     "output_type": "stream",
     "text": [
      "7D 건조 망고\n",
      "당절임\n",
      "망고\n",
      "설탕\n",
      "메타중아황산나트륨\n",
      "치자황색소\n",
      "필리핀\n",
      "내용 입력(종료q) : 망고\n",
      "내용 입력(종료q) : 설탕\n",
      "내용 입력(종료q) : 필리핀\n",
      "내용 입력(종료q) : q\n",
      "검색명 입력 >> 필리핀\n",
      "3번째 데이터는 필리핀 입니다.\n"
     ]
    }
   ],
   "source": [
    "dict_a = {\n",
    "    \"name\": \"7D 건조 망고\",\n",
    "    \"type\": \"당절임\",\n",
    "    \"ingredient\": [\"망고\", \"설탕\", \"메타중아황산나트륨\", \"치자황색소\"],\n",
    "    \"origin\": \"필리핀\"\n",
    "}\n",
    "# for key in dict_a:\n",
    "#     print(dict_a[key])\n",
    "for key, value in dict_a.items():\n",
    "    #print(\"key :{}, value:{}\".format(key,value))\n",
    "    if type(value) == dict:\n",
    "        for key1. value1 in value.items():\n",
    "            print(value1)\n",
    "    elif type(value) == list:\n",
    "        for item in value:\n",
    "            print(item)\n",
    "    else:\n",
    "        print(value)\n",
    "\n",
    "#키보드에서 이름을 입력받아 리스트에 저장 후 (Q타이핑시 즉시 종료)\n",
    "#검색하고자 하는 이름을 입력받아 몇번째 입력된 이름인지 출력\n",
    "#enumerate 함수를 사용\n",
    "input_name = []\n",
    "while True:\n",
    "    input_str = input(\"내용 입력(종료q) : \" )\n",
    "    if input_str == 'q':\n",
    "        break\n",
    "    input_name.append(input_str)\n",
    "    \n",
    "search_name = input(\"검색명 입력 >> \")\n",
    "for idx, name in enumerate(input_name):\n",
    "    if name == search_name:\n",
    "        print(\"{}번째 데이터는 {} 입니다.\".format(idx+1, name))\n",
    "        break\n",
    "        \n",
    "\n",
    "    "
   ]
  },
  {
   "cell_type": "code",
   "execution_count": 35,
   "id": "3d362530",
   "metadata": {},
   "outputs": [
    {
     "name": "stdout",
     "output_type": "stream",
     "text": [
      "내용 입력(종료q) : a\n",
      "내용 입력(종료q) : b\n",
      "내용 입력(종료q) : c\n",
      "내용 입력(종료q) : q\n",
      "이름 입력 >> 철수아\n",
      "점수 입력 :10\n",
      "점수 입력 :20\n",
      "점수 입력 :30\n",
      "c : 30\n",
      "c : 30\n",
      "c : 30\n",
      "dict_score\n",
      "a : 10\n",
      "b : 20\n",
      "c : 30\n"
     ]
    }
   ],
   "source": [
    "input_name = []\n",
    "while True:\n",
    "    input_str = input(\"내용 입력(종료q) : \" )\n",
    "    if input_str == 'q':\n",
    "        break\n",
    "    input_name.append(input_str)\n",
    "    \n",
    "search_name = input(\"이름 입력 >> \")\n",
    "for idx, name in enumerate(input_name):\n",
    "    if name == search_name:\n",
    "        print(\"{}번째 데이터는 {} 입니다.\".format(idx+1, name))\n",
    "        break\n",
    "\n",
    "        \n",
    "#문제~~\n",
    "\n",
    "\n",
    "\n",
    "#입력된 이름의 갯수만큼 점수를 입력하여 score[] 리스트에 저장하세요\n",
    "#저장된 이름과 점수를 출력 : 홍길동 90 김철수 100\n",
    "#딕셔너리로 변환해서 출력\n",
    "score = []\n",
    "i = 0\n",
    "while i < len(input_name):\n",
    "    score.append(int(input(\"점수 입력 :\")))\n",
    "    i+=1\n",
    "for i in range(len(input_name)):\n",
    "    print(\"{} : {}\".format(input_name[idx], score[idx]))\n",
    "    \n",
    "dict_score = {}\n",
    "i = 0\n",
    "while i < len(input_name):      #list를 dict로 변형 키 리스트와 값 리스트를 활용하여 ~\n",
    "    dict_score[input_name[i]] = score[i]\n",
    "    i += 1\n",
    "    \n",
    "print(\"dict_score\")\n",
    "for key, value in dict_score. items():  # ~딕셔너리 출력\n",
    "    print(\"{} : {}\".format(key, value))"
   ]
  },
  {
   "cell_type": "code",
   "execution_count": 47,
   "id": "d3a80ced",
   "metadata": {},
   "outputs": [
    {
     "name": "stdout",
     "output_type": "stream",
     "text": [
      "[0, 4, 16, 36, 64, 100, 144, 196, 256, 324]\n",
      "[0, 5, 10, 15, 20, 25, 30, 35, 40, 45, 50, 55, 60, 65, 70, 75, 80, 85, 90, 95]\n",
      "input data > alkdfjlsadflsdf5\n",
      "['a', 'l', 'k', 'd', 'f', 'j', 'l', 's', 'a', 'd', 'f', 'l', 's', 'd', 'f']\n"
     ]
    }
   ],
   "source": [
    "#list 내포 [ 표현식 for 반복자 in 반복 자료 (if 조건문)]\n",
    "#array =[]\n",
    "#for i in range(0, 20, 2):\n",
    "#    array.append(i * i)\n",
    "#print(array)\n",
    "array = [ i * i for i in range(0, 20, 2) ]\n",
    "print(array)\n",
    "\n",
    "array_ = [ i for i in  range(100) if i%5 ==0] #조건에 맞는 자료만 리스트로 출력\n",
    "print(array_1)\n",
    "\n",
    "#키보드에서 자료를 입력받아 한글자씩 리스트에 저장 후\n",
    "#문자만 리스트로 출력\n",
    "\n",
    "input_str = list(input(\"input data > \"))\n",
    "str_list = [ char for char in input_str if char.isalpha() ]\n",
    "print(str_list)\n",
    "######### 중요!"
   ]
  },
  {
   "cell_type": "code",
   "execution_count": 62,
   "id": "393d2f87",
   "metadata": {},
   "outputs": [
    {
     "name": "stdout",
     "output_type": "stream",
     "text": [
      "1:2:3\n",
      "5\n",
      "first\n",
      "4\n",
      "3\n",
      "2\n",
      "1\n",
      "second\n"
     ]
    }
   ],
   "source": [
    "#문자열.join(문자열로 구성된 리스트)\n",
    "join_char = \":\".join([\"1\",\"2\",\"3\"]) #리스트를 하나의 문자열로 병합\n",
    "print(join_char)\n",
    "\n",
    "#이터레이터\n",
    "numbers = [1,2,3,4,5]\n",
    "r_num = reversed(numbers)\n",
    "print(next(r_num))\n",
    "\n",
    "print(\"first\")\n",
    "for i in r_num:\n",
    "    print(i)\n",
    "print(\"second\")\n",
    "for i in r_num:\n",
    "    print(i)"
   ]
  },
  {
   "cell_type": "code",
   "execution_count": 119,
   "id": "03b8fada",
   "metadata": {},
   "outputs": [
    {
     "name": "stdout",
     "output_type": "stream",
     "text": [
      "250000\n",
      "500500\n",
      "func test\n",
      "True\n",
      "test\n",
      "test\n",
      "test\n",
      "test123\n",
      "test123\n",
      "test123\n",
      "abcd\n",
      "test\n",
      "123\n",
      "abcd\n",
      "test\n",
      "123\n",
      "abcd\n",
      "test\n",
      "123\n",
      "abcd\n",
      "test\n",
      "123\n",
      "abcd\n",
      "test\n",
      "123\n"
     ]
    }
   ],
   "source": [
    "#def 함수명 () : 매개변수 return\n",
    "\n",
    "def print_func():\n",
    "    print(\"func test\")\n",
    "    return True\n",
    "    \n",
    "def print_n_times(value, n):\n",
    "    for i in range(n):\n",
    "        print(value)\n",
    "\n",
    "def print_times(value, n=3): #기본 매개변수\n",
    "    for i in range(n):\n",
    "        print(value)\n",
    "        \n",
    "def print_var_times(n, *values): #가변 매개변수\n",
    "    for i in range(n):\n",
    "        for value in values:\n",
    "            print(value)\n",
    "        \n",
    "def print_var_basic_times(*values, n=3): #가변 매개변수 , 기본매개변수\n",
    "    for i in range(n):\n",
    "        for value in values:\n",
    "            print(value)\n",
    "            \n",
    "def sum_func(start=0, stop=100, step=1):\n",
    "    tot = 0\n",
    "    for i in range(start, stop +1, step):\n",
    "        tot += i\n",
    "    return tot\n",
    "\n",
    "print(sum_func(1, 1000,2))\n",
    "print(sum_func(stop=1000))\n",
    "print(print_func())\n",
    "print_n_times(\"test\", 3)\n",
    "print_times(\"test123\") #n은 3으로\n",
    "print_var_times(2, \"abcd\",\"test\",123)\n",
    "print_var_basic_times(\"abcd\",\"test\",123)"
   ]
  },
  {
   "cell_type": "code",
   "execution_count": 7,
   "id": "a9d4e053",
   "metadata": {},
   "outputs": [],
   "source": [
    "#키보드에서 입력받는 함수 : 숫자와 부호를 입력받아 list로 반환하는 함수, 입력의 끝은 'q'이면 종료\n",
    "#부호가 '+'이면 합을 구하는 함수로\n",
    "#부호가 '-'이면 차를 구하는 함수로\n",
    "\n",
    "def input_data():\n",
    "    input_list = input(\"10 + 20 의 형식으로 입력\").split() #input_list 이 함수에서만 사용됨\n",
    "    return input_list # [ '10', '+', '20']\n",
    "\n",
    "def plus_func(num1, num2):\n",
    "    if type(num1) != int:\n",
    "        num1 = int(num1)\n",
    "    if type(num2) != int:\n",
    "        num2 = int (num2)\n",
    "    return num1 + num2\n",
    "\n",
    "def minus_func(num1, num2):\n",
    "    return num1 - num2\n",
    "#이쪽먼저 실행하지 않으면 아랫단이 에러를 일으킴"
   ]
  },
  {
   "cell_type": "code",
   "execution_count": null,
   "id": "cc7c0c41",
   "metadata": {},
   "outputs": [
    {
     "name": "stdout",
     "output_type": "stream",
     "text": [
      "10 + 20 의 형식으로 입력10 + 20\n",
      "10 + 20 = 30\n"
     ]
    }
   ],
   "source": [
    "while True:\n",
    "    input_list = input_data()  #서로 다른 방에 존재\n",
    "    if 'q' in input_list:\n",
    "        break\n",
    "    if input_list[1] == '+':\n",
    "        result = plus_func(input_list[0], input_list[2])\n",
    "    elif input_list[1] == '-':\n",
    "        result = minus_func(int(input_list[0]), int(input_list[2]))\n",
    "            \n",
    "    print(\"{} {} {} = {}\". format(input_list[0],input_list[1],input_list[2],result))\n",
    "                           "
   ]
  },
  {
   "cell_type": "code",
   "execution_count": null,
   "id": "254d04ba",
   "metadata": {},
   "outputs": [],
   "source": []
  },
  {
   "cell_type": "code",
   "execution_count": null,
   "id": "26a13997",
   "metadata": {},
   "outputs": [],
   "source": []
  }
 ],
 "metadata": {
  "kernelspec": {
   "display_name": "Python 3",
   "language": "python",
   "name": "python3"
  },
  "language_info": {
   "codemirror_mode": {
    "name": "ipython",
    "version": 3
   },
   "file_extension": ".py",
   "mimetype": "text/x-python",
   "name": "python",
   "nbconvert_exporter": "python",
   "pygments_lexer": "ipython3",
   "version": "3.8.8"
  }
 },
 "nbformat": 4,
 "nbformat_minor": 5
}
