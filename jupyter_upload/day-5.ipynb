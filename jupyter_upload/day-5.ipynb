{
 "cells": [
  {
   "cell_type": "markdown",
   "id": "941cb40d",
   "metadata": {},
   "source": [
    "python 의 데이터 타입 : 문자, 숫자, 불리언\n",
    "자료를 모아놓아 사용하는 데이터 : list  []\n",
    "a = [1,'abcd',[1,2,3], 'test']\n",
    "list를 접근하는 방법\n",
    "-> index 첨자로 접근하는 방법 => a[1:3] : 시작은 포함 끝은 포함하지 않음, a[0] = 10. a[ : ], a[1: ], a[:3], a[-1]\n",
    "-> list에 관련된 메서드 => a.append(요소), a.insert(위치, 요소), a.extend(리스트), del a[3],  a.remove()\n",
    "\n",
    "키와 값을 저장하는 데이터 : dixtionary {키:값,...}\n",
    "b = {'a':10, 'b':20}\n",
    "딕셔너리를 접근하는 방법 => b[key] , b['c']='abcd'\n",
    "딕셔너리 데이터 제거 => del b[key], b.clear() 모든 자료 삭제\n",
    "\n",
    "file(HD에 저장된)로 접근하는 방법 \n",
    "=> fp = open(파일명, 모드)  => 파일명은 경로포함, 모드 w, r, a, w+. r+. a+. wb...\n",
    "=> text = \"abcd\"  -> text의 내용을 파일 저장 fp.write(text)\n",
    "=> fp.close()\n",
    "\n",
    "for 식별자 in 반복되는값\n",
    "while 표현식:\n",
    "    \n",
    "[ 값 for 식별자 in 반복되는값 if 표현식 ]"
   ]
  },
  {
   "cell_type": "code",
   "execution_count": null,
   "id": "1c97a58e",
   "metadata": {},
   "outputs": [],
   "source": [
    "a = [1,'abcd',[1,2,3], 'test']\n",
    "for i in a:  # i <- 1, i<- 'abcd', i <- [1,2,3],  i <- 'test'\n",
    "    print(i)\n",
    "print([ i for i in a ])"
   ]
  },
  {
   "cell_type": "code",
   "execution_count": null,
   "id": "a14313f8",
   "metadata": {},
   "outputs": [],
   "source": [
    "# 함수 : 정의 부분과 실행하는 부분\n",
    "# 정의 : 함수 작성하면서 기능을 구현\n",
    "# def 함수명() :\n",
    "#     실행문 ....\n",
    "# 실행 : 함수명()  -> 실행\n",
    "\n",
    "#start_no 부터 end_no 까지의 모든 수의 합을 구하는 함수 정의\n",
    "def num_total(start_no, end_no):\n",
    "    total = 0\n",
    "    #return \n",
    "    for num in range(start_no, end_no + 1):  # (10, 20)  10부터 20까지의 모든 수의 합\n",
    "        total += num\n",
    "    return total\n",
    "\n",
    "# 함수를 호출하는 부분  실행\n",
    "a = num_total(1, 100)  \n",
    "print(\"end\", a)\n",
    "\n",
    "b = num_total(100,1000)\n",
    "print(\"b : \", b)\n",
    "\n",
    "a+b"
   ]
  },
  {
   "cell_type": "code",
   "execution_count": 40,
   "id": "98eb48e8",
   "metadata": {},
   "outputs": [],
   "source": [
    "# 각각의 함수 정의 \n",
    "def input_name_func():   # 리스트에 이름 입력 \n",
    "    name_list = []\n",
    "    while True:\n",
    "        name = input(\"이름 입력 : \")\n",
    "        if name == 'q':\n",
    "            break\n",
    "        name_list.append(name)          \n",
    "    return name_list  # list_name_f의 값을 반환\n",
    "\n",
    "def input_score_func(cnt):   # 리스트에 점수 입력 , 입력된 자료의 수만큼, cnt는 입력된 이름의 갯수 \n",
    "    score_list = []\n",
    "    for i in range(cnt):\n",
    "        score = int(input(\"점수 입력 : \"))\n",
    "        score_list.append(score)            \n",
    "    return score_list\n",
    "\n",
    "def make_dict_func(list_name, list_score):   # 리스트의 이름을 키로, 성적을 값으로\n",
    "    name_score = {}\n",
    "    for idx, name in enumerate(list_name):\n",
    "        name_score[name] = list_score[idx]\n",
    "    return name_score"
   ]
  },
  {
   "cell_type": "code",
   "execution_count": 41,
   "id": "a1cbd875",
   "metadata": {},
   "outputs": [],
   "source": [
    "# 딕셔너리의 내용을 파일에 저장\n",
    "def file_write(name_score_w):\n",
    "    fp = open(\"file.txt\", \"a+\")\n",
    "    \n",
    "    for key, value in name_score_w.items():\n",
    "        text = key + ',' + str(value) + '\\n'   # 이름과 성적을 ',' 분리해서 저장 \n",
    "        fp.write(text)\n",
    "    fp.close()\n",
    "\n",
    "# 파일의 데이터를 딕셔너리에 저장\n",
    "def file_read(file_name, mode):\n",
    "    dname_score_r = {}\n",
    "    fp_1 = open(file_name, mode)   # file open 'r' 모드로\n",
    "    for line in fp_1:    # 한 라인씩 가져 옴\n",
    "        line_list = line.split(',') # 하나의 문자열을 ','로 분리\n",
    "        dname_score_r[line_list[0]]= int(line_list[1])  # 점수를 int로 변환\n",
    "    \n",
    "#     fp.read()  #  자료 없음, fp는 파일의 끝까지 이동한 상태\n",
    "#     fp.seek(0) # 파일 자료의 처음으로 이동\n",
    "    fp_1.close()\n",
    "    return dname_score_r"
   ]
  },
  {
   "cell_type": "code",
   "execution_count": 54,
   "id": "5516ccdf",
   "metadata": {},
   "outputs": [
    {
     "name": "stdout",
     "output_type": "stream",
     "text": [
      "a\n",
      "b\n",
      "c\n",
      "d\n",
      "b\n",
      "t\n",
      "1  -  1\n",
      "2  -  2\n",
      "3  -  3\n",
      "4  -  4\n",
      "key1 - 100\n",
      "key2 - 200\n",
      "cnt : 1, a,90\n",
      "\n",
      "cnt : 2, b,80\n",
      "\n",
      "cnt : 3, 홍길동,88\n",
      "\n",
      "cnt : 4, 김철수,99\n",
      "\n",
      "cnt : 5, 88,88\n",
      "\n",
      "cnt : 6, 99,99\n",
      "\n",
      "cnt : 7, test,80\n",
      "\n",
      "cnt : 8, a,99\n",
      "\n",
      "cnt : 9, a,90\n",
      "\n"
     ]
    }
   ],
   "source": [
    "a_str = 'abcdbt'\n",
    "a_list = [1,2,3,4]\n",
    "b_dict = {'key1': 100, 'key2': 200}\n",
    "a_file = open('file.txt', 'r')\n",
    "\n",
    "# for text in 반복:\n",
    "#     text 가공 : 리스트 하나의값을 출력\n",
    "#                 dict 키값을 하나씩 가져옴\n",
    "#                 file은 '\\n'을 기준으로 데이터 가져옴\n",
    "#a_str을 한글자씩 출력\n",
    "for char in a_str:\n",
    "    print(char)\n",
    "    \n",
    "for idx, value in enumerate(a_list):\n",
    "    print(a_list[idx], ' - ', value)\n",
    "    \n",
    "for key, value in b_dict.items():\n",
    "    print(key,'-', value)\n",
    "    \n",
    "cnt = 0\n",
    "for text in a_file:\n",
    "    cnt += 1\n",
    "    print(\"cnt : {}, {}\".format(cnt,text))\n",
    "a_file.close()"
   ]
  },
  {
   "cell_type": "code",
   "execution_count": 64,
   "id": "b81eb052",
   "metadata": {},
   "outputs": [
    {
     "name": "stdout",
     "output_type": "stream",
     "text": [
      "test1 :  \n",
      "test2 :  a,90\n",
      "b,80\n",
      "홍길동,88\n",
      "김철수,99\n",
      "88,88\n",
      "99,99\n",
      "test,80\n",
      "a,99\n",
      "a,90\n",
      "\n"
     ]
    }
   ],
   "source": [
    "dname_score_r = {}\n",
    "fp = open('file.txt','r')   # file open 'r' 모드로\n",
    "for line in fp:    # 한 라인씩 가져 옴\n",
    "    line_list = line.split(',') # 하나의 문자열을 ','로 분리\n",
    "    dname_score_r[line_list[0]]= int(line_list[1])  # 점수를 int로 변환\n",
    "    \n",
    "#fp : 파일의 끝으로  EOF로 인식 \n",
    "print(\"test1 : \", fp.read())  #  자료 없음, fp는 파일의 끝까지 이동한 상태\n",
    "fp.seek(0) # 파일 자료의 처음으로 이동\n",
    "print(\"test2 : \", fp.read())"
   ]
  },
  {
   "cell_type": "code",
   "execution_count": 63,
   "id": "efdd4b20",
   "metadata": {},
   "outputs": [
    {
     "name": "stdout",
     "output_type": "stream",
     "text": [
      "0 : 1\n",
      "1 : 2\n",
      "2 : 3\n",
      "3 : 4\n",
      "aaaa 3 : 4\n"
     ]
    }
   ],
   "source": [
    "a_list = [1,2,3,4]\n",
    "for idx, value in enumerate(a_list):\n",
    "    print(\"{} : {}\".format(idx, a_list[idx]))\n",
    "    \n",
    "print(\"aaaa {} : {}\".format(idx, a_list[idx]))"
   ]
  },
  {
   "cell_type": "code",
   "execution_count": null,
   "id": "07599c64",
   "metadata": {},
   "outputs": [],
   "source": [
    "##### 이름을 입력받아 list_name 에 저장 : 입력의 끝은 'q'  -> input_name_func()으로 구현\n",
    "# 입력된 이름의 갯수만큼 성적을 입력받아 list_score 에 저장  -> input_score_func() 으로 구현\n",
    "# 입력된 이름을 키로 성적을 값으로 저장하는 함수 작성  dict_name_score 식별자, make_dict_func() 으로 구현\n",
    "# 저장된 dict_name_score의 자료를 파일로 저장 -> 구분자는 ','로   =>  \"홍길동,90\\n 김철수,80\"\n",
    "# 파일명은 file.txt 로 저장 \"w\"모드로 open  => 저장이 모두 끝나면 file close  => file_wrtei() 함수로\n",
    "# 저장된 파일을 'r' 모드로 open해서 파일의 내용을 dict로 저장하고 dict 출력  => file_read() 함수로\n",
    "\n",
    "list_name = input_name_func()   # 리스트에 이름 입력 \n",
    "list_score = input_score_func(len(list_name))  # 리스트에 점수 입력 , 입력된 자료의 수만큼\n",
    "dict_name_score = make_dict_func(list_name, list_score)  # 리스트의 이름을 키로, 성적을 값으로\n",
    "\n",
    "file_write(dict_name_score)  # dict 의 내용을 파일로 저장\n",
    "\n",
    "dict_name_score = file_read('file.txt','r')   # 파일의 내용을 dict 로 \n",
    "print(dict_name_score)"
   ]
  },
  {
   "cell_type": "code",
   "execution_count": null,
   "id": "fafaa1ab",
   "metadata": {},
   "outputs": [],
   "source": [
    "##### 이름을 입력받아 list_name 에 저장 : 입력의 끝은 'q'  -> input_name_func()으로 구현\n",
    "# 입력된 이름의 갯수만큼 성적을 입력받아 list_score 에 저장  -> input_score_func() 으로 구현\n",
    "# 입력된 이름을 키로 성적을 값으로 저장하는 함수 작성  dict_name_score 식별자, make_dict_func() 으로 구현\n",
    "# 저장된 dict_name_score의 자료를 파일로 저장 -> 구분자는 ','로   =>  \"홍길동,90\\n 김철수,80\"\n",
    "# 파일명은 file.txt 로 저장 \"w\"모드로 open  => 저장이 모두 끝나면 file close  => file_wrtei() 함수로\n",
    "# 저장된 파일을 'r' 모드로 open해서 파일의 내용을 dict로 저장하고 dict 출력  => file_read() 함수로\n",
    "\n",
    "list_name = input_name_func()   # 리스트에 이름 입력 \n",
    "list_score = input_score_func(len(list_name))  # 리스트에 점수 입력 , 입력된 자료의 수만큼\n",
    "dict_name_score = make_dict_func(list_name, list_score)  # 리스트의 이름을 키로, 성적을 값으로\n",
    "\n",
    "file_write(dict_name_score)  # dict 의 내용을 파일로 저장\n",
    "\n",
    "dict_name_score = file_read('file.txt','r')   # 파일의 내용을 dict 로 \n",
    "print(dict_name_score)"
   ]
  },
  {
   "cell_type": "code",
   "execution_count": 76,
   "id": "c965ba5f",
   "metadata": {},
   "outputs": [
    {
     "name": "stdout",
     "output_type": "stream",
     "text": [
      "검색하고자 하는 이름 입력 : c\n",
      "존재하지않는 이름입니다\n"
     ]
    }
   ],
   "source": [
    "# 검색하고자 하는 이름을 입력 \n",
    "# 파일의 내용에서 같은 이름을 검색해서 점수를 출력\n",
    "# 이름이 중복된 경우 처음 점수만 출력\n",
    "s_name = input(\"검색하고자 하는 이름 입력 : \")\n",
    "dict_name_score = file_read('file.txt','r') \n",
    "s_score = -1\n",
    "for name in dict_name_score:\n",
    "    if name == s_name:\n",
    "        s_score = dict_name_score[name]\n",
    "        print(\"{}의 점수는 {}\".format(name, s_score))\n",
    "        break\n",
    "        \n",
    "if s_score == -1 :\n",
    "    print(\"존재하지않는 이름입니다\")"
   ]
  }
 ],
 "metadata": {
  "kernelspec": {
   "display_name": "Python 3",
   "language": "python",
   "name": "python3"
  },
  "language_info": {
   "codemirror_mode": {
    "name": "ipython",
    "version": 3
   },
   "file_extension": ".py",
   "mimetype": "text/x-python",
   "name": "python",
   "nbconvert_exporter": "python",
   "pygments_lexer": "ipython3",
   "version": "3.8.8"
  }
 },
 "nbformat": 4,
 "nbformat_minor": 5
}
