{
 "cells": [
  {
   "cell_type": "code",
   "execution_count": 9,
   "id": "2e87f18f",
   "metadata": {},
   "outputs": [
    {
     "name": "stdout",
     "output_type": "stream",
     "text": [
      "class 생성\n",
      "class 소멸\n",
      "class 내부 함수 실행\n",
      "10 20 30\n",
      "class 생성\n",
      "class 소멸\n",
      "class 내부 함수 실행\n",
      "30 40 70\n"
     ]
    },
    {
     "ename": "NameError",
     "evalue": "name 'get_sum' is not defined",
     "output_type": "error",
     "traceback": [
      "\u001b[1;31m---------------------------------------------------------------------------\u001b[0m",
      "\u001b[1;31mNameError\u001b[0m                                 Traceback (most recent call last)",
      "\u001b[1;32m<ipython-input-9-310a12221781>\u001b[0m in \u001b[0;36m<module>\u001b[1;34m\u001b[0m\n\u001b[0;32m     22\u001b[0m \u001b[1;33m\u001b[0m\u001b[0m\n\u001b[0;32m     23\u001b[0m \u001b[0ma_list\u001b[0m \u001b[1;33m=\u001b[0m \u001b[1;33m[\u001b[0m\u001b[0ma\u001b[0m\u001b[1;33m,\u001b[0m\u001b[0mb\u001b[0m\u001b[1;33m]\u001b[0m\u001b[1;33m\u001b[0m\u001b[1;33m\u001b[0m\u001b[0m\n\u001b[1;32m---> 24\u001b[1;33m \u001b[0ma_list\u001b[0m\u001b[1;33m[\u001b[0m\u001b[1;36m0\u001b[0m\u001b[1;33m]\u001b[0m\u001b[1;33m,\u001b[0m\u001b[0mget_sum\u001b[0m\u001b[1;33m(\u001b[0m\u001b[1;33m)\u001b[0m\u001b[1;33m\u001b[0m\u001b[1;33m\u001b[0m\u001b[0m\n\u001b[0m",
      "\u001b[1;31mNameError\u001b[0m: name 'get_sum' is not defined"
     ]
    }
   ],
   "source": [
    "#class정의, class생성\n",
    "#class 클래스명:\n",
    "#클래스명() >> 생성자 >> instance (객체)\n",
    "\n",
    "class Aclass:\n",
    "    def __init__(self,num1, num2):   # 생성자 실행시 자동으로 실행\n",
    "        self.num1 = num1\n",
    "        self.num2 = num2\n",
    "        print(\"class 생성\")\n",
    "        \n",
    "    def __del__(self): #프로그램 종료시 자동으로 실행\n",
    "        print(\"class 소멸\")\n",
    "        \n",
    "    def get_sum(self):\n",
    "        print(\"class 내부 함수 실행\")\n",
    "        return (self.num1 + self.num2)\n",
    "    \n",
    "a = Aclass(10,20) # 생성자 >> class 내부의 __init__ 함수가 실행\n",
    "print(a.num1, a.num2, a.get_sum())\n",
    "b = Aclass(30,40)\n",
    "print(b.num1, b.num2, b.get_sum())\n",
    "\n",
    "a_list = [a,b]\n",
    "a_list[0],get_sum()"
   ]
  },
  {
   "cell_type": "code",
   "execution_count": 20,
   "id": "7685d635",
   "metadata": {},
   "outputs": [],
   "source": [
    "class Student:\n",
    "    def __init__(self, name, kor, eng):\n",
    "        self.name = name\n",
    "        self.kor = kor\n",
    "        self.eng = eng\n",
    "    \n",
    "    def file_write(self):\n",
    "        fp.write(self.name + ','+ str(self.kor) +',' + str(self.eng)+'\\n')"
   ]
  },
  {
   "cell_type": "code",
   "execution_count": 39,
   "id": "58d6c969",
   "metadata": {},
   "outputs": [
    {
     "name": "stdout",
     "output_type": "stream",
     "text": [
      "error name 'input_data' is not defined\n"
     ]
    }
   ],
   "source": [
    "fp = open(\"class_file.txt\",\"a+\")\n",
    "try:\n",
    "    while input_data() != 'q':  # 'q' 리턴되면 종료\n",
    "        continue\n",
    "    data = search_data()     \n",
    "    if data:\n",
    "        print(\"{} : {}, {}\".format(data[0],data[1],data[2]))\n",
    "    else:\n",
    "        print(\"검색할 자료 없음\")\n",
    "              \n",
    "except Exception as e:\n",
    "    print(\"error\", e)\n",
    "finally:\n",
    "    fp.close()"
   ]
  },
  {
   "cell_type": "code",
   "execution_count": 40,
   "id": "3dec1617",
   "metadata": {},
   "outputs": [
    {
     "name": "stdout",
     "output_type": "stream",
     "text": [
      ",40,50\n",
      "\n",
      "철수,60,70\n",
      "\n",
      "영수,70,70\n",
      "\n",
      "영희 70 70,50,60\n",
      "\n"
     ]
    }
   ],
   "source": [
    "fp = open(\"class_file.txt\",\"r+\")\n",
    "for line in  fp:\n",
    "    print(line)\n",
    "fp.close()"
   ]
  },
  {
   "cell_type": "code",
   "execution_count": 41,
   "id": "1f8fd1fa",
   "metadata": {},
   "outputs": [],
   "source": [
    "def input_data():\n",
    "    name = input(\"이름 : \")\n",
    "    if name == 'q':\n",
    "        return 'q'\n",
    "    while True:\n",
    "        score = input(\"국어, 영어 점수 입력 : ( 50 40)\").split() \n",
    "        if len(score) == 2:\n",
    "            break\n",
    "\n",
    "    student = Student(name, int(score[0]), int(score[1]))\n",
    "    student.file_write()\n",
    "    return\n",
    "    \n",
    "def search_data():\n",
    "    fp.seek(0)\n",
    "    s_name = input(\"검색할 이름 입력 \")\n",
    "    for line in fp:\n",
    "        line_data = line.split(',')\n",
    "        if s_name == line_data[0]:\n",
    "            return line_data\n",
    "    return "
   ]
  },
  {
   "cell_type": "code",
   "execution_count": 42,
   "id": "b397421d",
   "metadata": {},
   "outputs": [
    {
     "ename": "SyntaxError",
     "evalue": "invalid syntax (<ipython-input-42-2ac797beec2b>, line 3)",
     "output_type": "error",
     "traceback": [
      "\u001b[1;36m  File \u001b[1;32m\"<ipython-input-42-2ac797beec2b>\"\u001b[1;36m, line \u001b[1;32m3\u001b[0m\n\u001b[1;33m    if name == 'q';\u001b[0m\n\u001b[1;37m                  ^\u001b[0m\n\u001b[1;31mSyntaxError\u001b[0m\u001b[1;31m:\u001b[0m invalid syntax\n"
     ]
    }
   ],
   "source": [
    "def input_data():\n",
    "    name = input(\"이름 :\")\n",
    "    if name == 'q';\n",
    "    \n",
    "    return 'q'"
   ]
  },
  {
   "cell_type": "code",
   "execution_count": 43,
   "id": "92441a67",
   "metadata": {},
   "outputs": [
    {
     "ename": "SyntaxError",
     "evalue": "invalid syntax (<ipython-input-43-97842e975ac2>, line 3)",
     "output_type": "error",
     "traceback": [
      "\u001b[1;36m  File \u001b[1;32m\"<ipython-input-43-97842e975ac2>\"\u001b[1;36m, line \u001b[1;32m3\u001b[0m\n\u001b[1;33m    def __init__(self.name,korean,math,english,science ):\u001b[0m\n\u001b[1;37m                     ^\u001b[0m\n\u001b[1;31mSyntaxError\u001b[0m\u001b[1;31m:\u001b[0m invalid syntax\n"
     ]
    }
   ],
   "source": [
    "class student: # 학생 인스턴스에 대한 속성과 메서드를 정의\n",
    "    # 초기화 class 생성시 생성\n",
    "    def __init__(self.name,korean,math,english,science ):\n",
    "        self.name = name\n",
    "        self.korean = korean\n",
    "        self.math = math\n",
    "        self.math = math\n",
    "        self.english = english\n",
    "        self.science = \n",
    "    #총점 구함\n",
    "    def get_sum(self):\n",
    "        return self.korean + self.english + self.math + self.science\n",
    "    #평균 구함\n",
    "    def get_avg(self):\n",
    "        return self.get_sum()/4\n",
    "    #프린트\n",
    "    def to_string(self):\n",
    "        return \"{}\\t{}\\t{}\\t{}\\t{}\\t{}\\t{}\".format(self.name,\n",
    "                                                self.get_sum(),\n",
    "                                                self.get_avg(),\n",
    "                                                self.korean,self.english\n",
    "                                                self.math.self.science"
   ]
  },
  {
   "cell_type": "code",
   "execution_count": 44,
   "id": "6b980920",
   "metadata": {},
   "outputs": [
    {
     "ename": "SyntaxError",
     "evalue": "invalid syntax (<ipython-input-44-f7cdc25e3063>, line 1)",
     "output_type": "error",
     "traceback": [
      "\u001b[1;36m  File \u001b[1;32m\"<ipython-input-44-f7cdc25e3063>\"\u001b[1;36m, line \u001b[1;32m1\u001b[0m\n\u001b[1;33m    fp = open(\"class_file.txt\".\"a+\")\u001b[0m\n\u001b[1;37m                               ^\u001b[0m\n\u001b[1;31mSyntaxError\u001b[0m\u001b[1;31m:\u001b[0m invalid syntax\n"
     ]
    }
   ],
   "source": [
    "fp = open(\"class_file.txt\".\"a+\")\n",
    "try:\n",
    "    while True: #무한반복\n",
    "        name = input(\"이름: \")\n",
    "        if name =='q':\n",
    "            break\n",
    "        score = int(input(\"점수 입력: \"))\n",
    "        student = student(name, score)\n",
    "        student.file_write()\n",
    "        \n",
    "    data = search_dat()\n",
    "    if data:\n",
    "        print(\"{} : {}, {}\".format(data[0],data[1],data[2]))\n",
    "        "
   ]
  },
  {
   "cell_type": "code",
   "execution_count": null,
   "id": "a7e3d4de",
   "metadata": {},
   "outputs": [],
   "source": []
  },
  {
   "cell_type": "code",
   "execution_count": null,
   "id": "a8fb34cf",
   "metadata": {},
   "outputs": [],
   "source": []
  },
  {
   "cell_type": "code",
   "execution_count": 45,
   "id": "428729a0",
   "metadata": {},
   "outputs": [
    {
     "name": "stdout",
     "output_type": "stream",
     "text": [
      "공부를 합니다.\n",
      "공부를 합니다.\n",
      "학생을 가르칩니다.\n",
      "공부를 합니다.\n",
      "공부를 합니다.\n"
     ]
    }
   ],
   "source": [
    "# 학생 클래스를 선언합니다.\n",
    "class Student:\n",
    "    def study(self):\n",
    "        print(\"공부를 합니다.\")\n",
    "\n",
    "# 선생님 클래스를 선언합니다.\n",
    "class Teacher:\n",
    "    def teach(self):\n",
    "        print(\"학생을 가르칩니다.\")\n",
    "\n",
    "# 교실 내부의 객체 리스트를 생성합니다.\n",
    "classroom = [Student(), Student(), Teacher(), Student(), Student()]\n",
    "\n",
    "# 반복을 적용해서 적절한 함수를 호출하게 합니다.\n",
    "for person in classroom:\n",
    "    if isinstance(person, Student):\n",
    "        person.study()\n",
    "    elif isinstance(person, Teacher):\n",
    "        person.teach()\n",
    " "
   ]
  },
  {
   "cell_type": "code",
   "execution_count": 46,
   "id": "2ca1e971",
   "metadata": {},
   "outputs": [
    {
     "ename": "SyntaxError",
     "evalue": "invalid character in identifier (<ipython-input-46-376a0a2f682a>, line 21)",
     "output_type": "error",
     "traceback": [
      "\u001b[1;36m  File \u001b[1;32m\"<ipython-input-46-376a0a2f682a>\"\u001b[1;36m, line \u001b[1;32m21\u001b[0m\n\u001b[1;33m    YGL — 오늘 오전 11:57\u001b[0m\n\u001b[1;37m        ^\u001b[0m\n\u001b[1;31mSyntaxError\u001b[0m\u001b[1;31m:\u001b[0m invalid character in identifier\n"
     ]
    }
   ],
   "source": [
    "# 학생 클래스를 선언합니다.\n",
    "class Student:\n",
    "    def study(self):\n",
    "        print(\"공부를 합니다.\")\n",
    "\n",
    "# 선생님 클래스를 선언합니다.\n",
    "class Teacher:\n",
    "    def teach(self):\n",
    "        print(\"학생을 가르칩니다.\")\n",
    "\n",
    "# 교실 내부의 객체 리스트를 생성합니다.\n",
    "classroom = [Student(), Student(), Teacher(), Student(), Student()]\n",
    "\n",
    "# 반복을 적용해서 적절한 함수를 호출하게 합니다.\n",
    "for person in classroom:\n",
    "    if isinstance(person, Student):\n",
    "        person.study()\n",
    "    elif isinstance(person, Teacher):\n",
    "        person.teach()\n",
    " \n",
    "YGL — 오늘 오전 11:57\n",
    "# 모듈을 가져옵니다.\n",
    "import math\n",
    "\n",
    "# 클래스를 선언합니다.\n",
    "class Circle:\n",
    "    def __init__(self, radius):\n",
    "        self.radius = radius\n",
    "    def get_circumference(self):\n",
    "        return 2 * math.pi * self.radius\n",
    "    def get_area(self):\n",
    "        return math.pi * (self.radius ** 2)\n",
    "\n",
    "# 원의 둘레와 넓이를 구합니다.\n",
    "circle = Circle(10)\n",
    "print(\"원의 둘레:\", circle.get_circumference())\n",
    "print(\"원의 넓이:\", circle.get_area())"
   ]
  },
  {
   "cell_type": "code",
   "execution_count": 47,
   "id": "489606e1",
   "metadata": {},
   "outputs": [
    {
     "name": "stdout",
     "output_type": "stream",
     "text": [
      "Parent 클래스의 __init()__ 메서드가 호출되었습니다.\n",
      "Child 클래스의 __init()__ 메서드가 호출되었습니다.\n",
      "Parent 클래스의 test() 메서드입니다.\n",
      "테스트\n"
     ]
    }
   ],
   "source": [
    "class Parent:\n",
    "    def __init__(self):\n",
    "        self.value = \"테스트\"\n",
    "        print(\"Parent 클래스의 __init()__ 메서드가 호출되었습니다.\")\n",
    "    def test(self):\n",
    "        print(\"Parent 클래스의 test() 메서드입니다.\")\n",
    "\n",
    "# 자식 클래스를 선언합니다.\n",
    "class Child(Parent):\n",
    "    def __init__(self):\n",
    "        Parent.__init__(self) \n",
    "        print(\"Child 클래스의 __init()__ 메서드가 호출되었습니다.\")\n",
    "\n",
    "# 자식 클래스의 인스턴스를 생성하고 부모의 메서드를 호출합니다.\n",
    "child = Child()\n",
    "child.test()\n",
    "print(child.value)"
   ]
  },
  {
   "cell_type": "code",
   "execution_count": 48,
   "id": "c8d8476d",
   "metadata": {},
   "outputs": [
    {
     "name": "stdout",
     "output_type": "stream",
     "text": [
      "[[ 0  1  2  3  4]\n",
      " [ 5  6  7  8  9]\n",
      " [10 11 12 13 14]] <class 'numpy.ndarray'>\n",
      "2 (3, 5) 15 int32 4\n"
     ]
    }
   ],
   "source": [
    "#numpy : 배열의 연산등을 쉽게 처리 가능하도록 하는 패키지\n",
    "import numpy as np\n",
    "a= np.arange(15).reshape(3,5)\n",
    "print(a, type(a))\n",
    "print(a.ndim, a.shape, a.size, a.dtype.name, a.dtype.itemsize)"
   ]
  },
  {
   "cell_type": "code",
   "execution_count": 49,
   "id": "8805a345",
   "metadata": {},
   "outputs": [
    {
     "data": {
      "text/plain": [
       "array([[-10. ,  -9.5,  -9. ,  -8.5,  -8. ,  -7.5],\n",
       "       [ -7. ,  -6.5,  -6. ,  -5.5,  -5. ,  -4.5],\n",
       "       [ -4. ,  -3.5,  -3. ,  -2.5,  -2. ,  -1.5],\n",
       "       [ -1. ,  -0.5,   0. ,   0.5,   1. ,   1.5],\n",
       "       [  2. ,   2.5,   3. ,   3.5,   4. ,   4.5]])"
      ]
     },
     "execution_count": 49,
     "metadata": {},
     "output_type": "execute_result"
    }
   ],
   "source": [
    "np.arange(-10, 5, 0.5).reshape(5,6)"
   ]
  },
  {
   "cell_type": "code",
   "execution_count": 50,
   "id": "6844b68b",
   "metadata": {},
   "outputs": [
    {
     "name": "stdout",
     "output_type": "stream",
     "text": [
      "[1. 2. 3.] <class 'numpy.ndarray'>\n",
      "[[1. 2.]\n",
      " [3. 4.]] <class 'numpy.ndarray'>\n",
      "1 (3,) 3 float64\n",
      "2 (2, 2) 4 float64\n"
     ]
    }
   ],
   "source": [
    "# ndarray creation\n",
    "# create an array from a regular python list \n",
    "\n",
    "a1 = np.array([1.0, 2.0, 3.0])\n",
    "a2 = np.array([[1.0, 2.0],[ 3.0, 4.0]])\n",
    "print(a1, type(a1))\n",
    "print(a2, type(a2))\n",
    "print(a1.ndim, a1.shape, a1.size, a1.dtype)\n",
    "print(a2.ndim, a2.shape, a2.size, a2.dtype)\n"
   ]
  },
  {
   "cell_type": "code",
   "execution_count": 51,
   "id": "44937bf4",
   "metadata": {},
   "outputs": [
    {
     "ename": "SyntaxError",
     "evalue": "invalid syntax (<ipython-input-51-c1af4384fef3>, line 5)",
     "output_type": "error",
     "traceback": [
      "\u001b[1;36m  File \u001b[1;32m\"<ipython-input-51-c1af4384fef3>\"\u001b[1;36m, line \u001b[1;32m5\u001b[0m\n\u001b[1;33m    a_array.shape\u001b[0m\n\u001b[1;37m    ^\u001b[0m\n\u001b[1;31mSyntaxError\u001b[0m\u001b[1;31m:\u001b[0m invalid syntax\n"
     ]
    }
   ],
   "source": [
    "#list에서 array를 생성하는 방법\n",
    "a_list = [1,2,3,4,5,6]\n",
    "\n",
    "print(type(a_list),type(a_array, a_list, a_array)\n",
    "      a_array.shape"
   ]
  },
  {
   "cell_type": "code",
   "execution_count": 52,
   "id": "508ea9fc",
   "metadata": {},
   "outputs": [
    {
     "ename": "AttributeError",
     "evalue": "'int' object has no attribute 'b'",
     "output_type": "error",
     "traceback": [
      "\u001b[1;31m---------------------------------------------------------------------------\u001b[0m",
      "\u001b[1;31mAttributeError\u001b[0m                            Traceback (most recent call last)",
      "\u001b[1;32m<ipython-input-52-0068a3ad8c37>\u001b[0m in \u001b[0;36m<module>\u001b[1;34m\u001b[0m\n\u001b[0;32m      2\u001b[0m \u001b[0ma\u001b[0m \u001b[1;33m=\u001b[0m \u001b[0mnp\u001b[0m\u001b[1;33m.\u001b[0m\u001b[0mzeros\u001b[0m\u001b[1;33m(\u001b[0m\u001b[1;36m5\u001b[0m\u001b[1;33m)\u001b[0m\u001b[1;33m\u001b[0m\u001b[1;33m\u001b[0m\u001b[0m\n\u001b[0;32m      3\u001b[0m \u001b[0mb\u001b[0m \u001b[1;33m=\u001b[0m \u001b[0mnp\u001b[0m\u001b[1;33m.\u001b[0m\u001b[0mones\u001b[0m\u001b[1;33m(\u001b[0m\u001b[1;33m(\u001b[0m\u001b[1;36m2\u001b[0m\u001b[1;33m,\u001b[0m\u001b[1;36m3\u001b[0m\u001b[1;33m,\u001b[0m\u001b[1;36m4\u001b[0m\u001b[1;33m)\u001b[0m\u001b[1;33m,\u001b[0m \u001b[0mdtype\u001b[0m\u001b[1;33m=\u001b[0m\u001b[1;34m'U4'\u001b[0m\u001b[1;33m)\u001b[0m\u001b[1;33m\u001b[0m\u001b[1;33m\u001b[0m\u001b[0m\n\u001b[1;32m----> 4\u001b[1;33m \u001b[0mprint\u001b[0m\u001b[1;33m(\u001b[0m\u001b[0ma\u001b[0m\u001b[1;33m,\u001b[0m \u001b[0ma\u001b[0m\u001b[1;33m.\u001b[0m\u001b[0mdtype\u001b[0m\u001b[1;33m.\u001b[0m\u001b[0mitemsize\u001b[0m\u001b[1;33m.\u001b[0m\u001b[0mb\u001b[0m\u001b[1;33m,\u001b[0m \u001b[0mb\u001b[0m\u001b[1;33m.\u001b[0m\u001b[0mdtype\u001b[0m\u001b[1;33m.\u001b[0m\u001b[0mitemsize\u001b[0m \u001b[1;33m)\u001b[0m\u001b[1;33m\u001b[0m\u001b[1;33m\u001b[0m\u001b[0m\n\u001b[0m",
      "\u001b[1;31mAttributeError\u001b[0m: 'int' object has no attribute 'b'"
     ]
    }
   ],
   "source": [
    "#Inf, Nan, 초기값 설정한 배열 생성\n",
    "a = np.zeros(5)\n",
    "b = np.ones((2,3,4), dtype='U4')\n",
    "print(a, a.dtype.itemsize.b, b.dtype.itemsize )"
   ]
  },
  {
   "cell_type": "code",
   "execution_count": 53,
   "id": "19e1278e",
   "metadata": {},
   "outputs": [
    {
     "data": {
      "text/plain": [
       "array([[1.00455005e-311, 2.47032823e-322, 0.00000000e+000],\n",
       "       [0.00000000e+000, 1.33511018e-306, 2.42336543e-057],\n",
       "       [5.33384510e-091, 2.70237041e-056, 2.34084701e-057],\n",
       "       [6.86564600e+169, 3.99910963e+252, 1.86248692e+160]])"
      ]
     },
     "execution_count": 53,
     "metadata": {},
     "output_type": "execute_result"
    }
   ],
   "source": [
    "a = np.empty((4,3)) #초기화 하지 않아 쓰레기 값이 들어가 있음\n",
    "a"
   ]
  },
  {
   "cell_type": "code",
   "execution_count": 54,
   "id": "352b4f56",
   "metadata": {},
   "outputs": [
    {
     "name": "stdout",
     "output_type": "stream",
     "text": [
      "[ 6. 12. 18.]\n",
      "[ -4.  -8. -12.]\n",
      "[ 5. 20. 45.]\n",
      "[0.2 0.2 0.2]\n",
      "[[ 6. 12.]\n",
      " [18. 24.]]\n",
      "[[ 5. 20.]\n",
      " [45. 80.]]\n"
     ]
    }
   ],
   "source": [
    "x1 = np.array([1.0, 2.0, 3.0])\n",
    "y1 = np.array([5.0, 10.0, 15.0])\n",
    "x2 = np.array([[1.0, 2.0],[ 3.0, 4.0]]) \n",
    "y2 = np.array([[5.0,10.0],[15.0,20.0]]) \n",
    "z1 = np.array([-1.0, -2.0])\n",
    "z2 = np.array([[5.0],[10.0],[15.0]])\n",
    "\n",
    "# ndarray basic operation  \n",
    "print(x1 + y1) \n",
    "print(x1 - y1) \n",
    "print(x1 * y1) \n",
    "print(x1 / y1) \n",
    "print(x2 + y2) \n",
    "print(x2 * y2)\n"
   ]
  },
  {
   "cell_type": "code",
   "execution_count": 55,
   "id": "d26beda9",
   "metadata": {},
   "outputs": [
    {
     "name": "stdout",
     "output_type": "stream",
     "text": [
      "[5 7 9]\n",
      "[[0 0]\n",
      " [2 2]]\n",
      "[1 2 3 4]\n"
     ]
    },
    {
     "name": "stderr",
     "output_type": "stream",
     "text": [
      "<ipython-input-55-706782d766c5>:6: VisibleDeprecationWarning: Creating an ndarray from ragged nested sequences (which is a list-or-tuple of lists-or-tuples-or ndarrays with different lengths or shapes) is deprecated. If you meant to do this, you must specify 'dtype=object' when creating the ndarray.\n",
      "  z2 = np.array([[1,2,3,4],[4,5,6,7,8]])\n"
     ]
    },
    {
     "ename": "ValueError",
     "evalue": "cannot reshape array of size 3 into shape (2,2)",
     "output_type": "error",
     "traceback": [
      "\u001b[1;31m---------------------------------------------------------------------------\u001b[0m",
      "\u001b[1;31mValueError\u001b[0m                                Traceback (most recent call last)",
      "\u001b[1;32m<ipython-input-55-706782d766c5>\u001b[0m in \u001b[0;36m<module>\u001b[1;34m\u001b[0m\n\u001b[0;32m      9\u001b[0m \u001b[0mprint\u001b[0m\u001b[1;33m(\u001b[0m\u001b[0mx2\u001b[0m \u001b[1;33m+\u001b[0m \u001b[0mz1\u001b[0m\u001b[1;33m)\u001b[0m \u001b[1;31m#broad cast : 반복 사용\u001b[0m\u001b[1;33m\u001b[0m\u001b[1;33m\u001b[0m\u001b[0m\n\u001b[0;32m     10\u001b[0m \u001b[0mprint\u001b[0m\u001b[1;33m(\u001b[0m\u001b[0mx2\u001b[0m\u001b[1;33m.\u001b[0m\u001b[0mflatten\u001b[0m\u001b[1;33m(\u001b[0m\u001b[1;33m)\u001b[0m\u001b[1;33m)\u001b[0m \u001b[1;31m#평탄화 1차원으로 변경\u001b[0m\u001b[1;33m\u001b[0m\u001b[1;33m\u001b[0m\u001b[0m\n\u001b[1;32m---> 11\u001b[1;33m \u001b[0mprint\u001b[0m\u001b[1;33m(\u001b[0m\u001b[0mx1\u001b[0m\u001b[1;33m.\u001b[0m\u001b[0mreshape\u001b[0m\u001b[1;33m(\u001b[0m\u001b[1;36m2\u001b[0m\u001b[1;33m,\u001b[0m\u001b[1;36m2\u001b[0m\u001b[1;33m)\u001b[0m\u001b[1;33m)\u001b[0m \u001b[1;31m#1차원을 2차원으로\u001b[0m\u001b[1;33m\u001b[0m\u001b[1;33m\u001b[0m\u001b[0m\n\u001b[0m\u001b[0;32m     12\u001b[0m \u001b[0mprint\u001b[0m\u001b[1;33m(\u001b[0m\u001b[0mz2\u001b[0m\u001b[1;33m.\u001b[0m\u001b[0mreshape\u001b[0m\u001b[1;33m(\u001b[0m\u001b[1;36m2\u001b[0m\u001b[1;33m,\u001b[0m\u001b[1;36m2\u001b[0m\u001b[1;33m,\u001b[0m\u001b[1;36m2\u001b[0m\u001b[1;33m)\u001b[0m\u001b[1;33m)\u001b[0m \u001b[1;31m#reshap은 배열을 다시 재배치\u001b[0m\u001b[1;33m\u001b[0m\u001b[1;33m\u001b[0m\u001b[0m\n",
      "\u001b[1;31mValueError\u001b[0m: cannot reshape array of size 3 into shape (2,2)"
     ]
    }
   ],
   "source": [
    "#array 연산\n",
    "x1= np.array([1,2,3])\n",
    "y1= np.array([4,5,6])\n",
    "x2 = np.array([[1,2],[3,4]])\n",
    "z1 = np.array([-1,-2])\n",
    "z2 = np.array([[1,2,3,4],[4,5,6,7,8]])\n",
    "\n",
    "print(x1+y1)\n",
    "print(x2 + z1) #broad cast : 반복 사용\n",
    "print(x2.flatten()) #평탄화 1차원으로 변경\n",
    "print(x1.reshape(2,2)) #1차원을 2차원으로\n",
    "print(z2.reshape(2,2,2)) #reshap은 배열을 다시 재배치"
   ]
  },
  {
   "cell_type": "code",
   "execution_count": 56,
   "id": "1691f8e5",
   "metadata": {},
   "outputs": [
    {
     "name": "stdout",
     "output_type": "stream",
     "text": [
      "[ 0  1  4  9 16 25 36 49 64 81]\n",
      "4\n",
      "[ 9 16]\n",
      "[  0  -4 -16]\n",
      "[81 64 49 36 25 16  9  4  1  0]\n",
      "[[ 0  1  4  9 16]\n",
      " [25 36 49 64 81]]\n",
      "[ 1 36]\n",
      "81\n"
     ]
    }
   ],
   "source": [
    "#indexing, slicing, iterating\n",
    "a = np.arange(10) ** 2\n",
    "print(a)\n",
    "print(a[2])\n",
    "print(a[3:5])\n",
    "print(-a[0 : 6: 2])\n",
    "print(a[ : : -1])\n",
    "\n",
    "b =a.reshape(2,5)\n",
    "print(b)\n",
    "print(b[ : , 1])\n",
    "print(b[-1, -1])"
   ]
  },
  {
   "cell_type": "code",
   "execution_count": 57,
   "id": "cd2baf5f",
   "metadata": {},
   "outputs": [
    {
     "name": "stdout",
     "output_type": "stream",
     "text": [
      "[2 1 0]\n"
     ]
    }
   ],
   "source": [
    "a = np.array([[2,3,4],[5,6,2],[9,6,7]])\n",
    "print(np.argmax(a, axis=1))"
   ]
  },
  {
   "cell_type": "code",
   "execution_count": 58,
   "id": "eb99cc5d",
   "metadata": {},
   "outputs": [
    {
     "name": "stdout",
     "output_type": "stream",
     "text": [
      "4.888888888888889 4.987654320987654 5.0 3 9\n"
     ]
    }
   ],
   "source": [
    "print(np.mean(a), np.var(a), np.median(a), len(a), a.size)"
   ]
  },
  {
   "cell_type": "code",
   "execution_count": 59,
   "id": "67f054ec",
   "metadata": {},
   "outputs": [
    {
     "name": "stdout",
     "output_type": "stream",
     "text": [
      "[0.54340494 0.27836939 0.42451759 0.84477613 0.00471886]\n"
     ]
    }
   ],
   "source": [
    "np.random.seed(100)\n",
    "a = np.random.rand(5)\n",
    "print(a)"
   ]
  },
  {
   "cell_type": "code",
   "execution_count": 60,
   "id": "2d1c7b98",
   "metadata": {},
   "outputs": [
    {
     "data": {
      "text/plain": [
       "array([25, 51, 21, 26, 68])"
      ]
     },
     "execution_count": 60,
     "metadata": {},
     "output_type": "execute_result"
    }
   ],
   "source": [
    "np.random.choice(100,5, replace=False)"
   ]
  },
  {
   "cell_type": "code",
   "execution_count": 61,
   "id": "7f1ee882",
   "metadata": {},
   "outputs": [
    {
     "data": {
      "text/plain": [
       "array([[3, 7, 9, 0, 0],\n",
       "       [5, 9, 6, 6, 5]])"
      ]
     },
     "execution_count": 61,
     "metadata": {},
     "output_type": "execute_result"
    }
   ],
   "source": [
    "#np.random.seed(100)\n",
    "np.random.randint(10, size=(2,5))"
   ]
  },
  {
   "cell_type": "code",
   "execution_count": 62,
   "id": "2a1be088",
   "metadata": {},
   "outputs": [
    {
     "name": "stdout",
     "output_type": "stream",
     "text": [
      "[9]\n",
      "[False False False False False False False False  True False False False\n",
      " False False False False False False False False]\n"
     ]
    }
   ],
   "source": [
    "x = np.array([1,2,3,4,5,6,7,8,9,10,11,12,13,14,15,16,17,18,19,20])\n",
    "print(x[ (x%3 ==0) & ( x%4 ==1)])\n",
    "print((x%3==0) & ( x%4 ==1))"
   ]
  },
  {
   "cell_type": "code",
   "execution_count": 63,
   "id": "bfcc0d42",
   "metadata": {},
   "outputs": [
    {
     "data": {
      "text/plain": [
       "array([ 1,  5,  9, 13, 17])"
      ]
     },
     "execution_count": 63,
     "metadata": {},
     "output_type": "execute_result"
    }
   ],
   "source": [
    "x[ x%4 ==1 ]"
   ]
  },
  {
   "cell_type": "code",
   "execution_count": 64,
   "id": "003f3d29",
   "metadata": {},
   "outputs": [
    {
     "data": {
      "text/plain": [
       "[array([ True, False, False, False,  True, False, False, False,  True,\n",
       "        False, False, False,  True, False, False, False,  True, False,\n",
       "        False, False])]"
      ]
     },
     "execution_count": 64,
     "metadata": {},
     "output_type": "execute_result"
    }
   ],
   "source": [
    "[ x%3 ==0] and [x%4==1]"
   ]
  },
  {
   "cell_type": "code",
   "execution_count": 69,
   "id": "657240a5",
   "metadata": {},
   "outputs": [
    {
     "name": "stdout",
     "output_type": "stream",
     "text": [
      "arr :  [ 3  6  9 12 15 18 21 24 27 30 33 36 39 42 45 48 51 54 57 60 63 66 69 72\n",
      " 75 78 81 84 87 90 93 96 99]\n",
      "임의의 수 5개 출력 :  [ 3 24 48  6 21]\n",
      "5의 배수만 출력 :  [15 30 45 60 75 90]\n"
     ]
    }
   ],
   "source": [
    "#1부터 100가지의 수중에서 3의 배수만 배열로 생성\n",
    "arr = np.arange(1,101)\n",
    "arr = arr[ arr% 3 ==0]\n",
    "print(\"arr : \", arr)\n",
    "#위에서 생성된 배열의 값 중에서 임의로 5개의 값을 출력\n",
    "print(\"임의의 수 5개 출력 : \", np.random.choice(arr, 5, replace=False))\n",
    "#위의 배열의 사이즈를 확인한 후 행이 3인 2차원 배열을 생성\n",
    "arr_1 = arr.reshape(3, int(arr.size / 3 ))\n",
    "#배열의 원소 중에서 5의 배수만 출력\n",
    "print(\"5의 배수만 출력 : \", arr_1[ arr_1 % 5 ==0 ])"
   ]
  },
  {
   "cell_type": "code",
   "execution_count": null,
   "id": "ed7c7f73",
   "metadata": {},
   "outputs": [],
   "source": []
  }
 ],
 "metadata": {
  "kernelspec": {
   "display_name": "Python 3",
   "language": "python",
   "name": "python3"
  },
  "language_info": {
   "codemirror_mode": {
    "name": "ipython",
    "version": 3
   },
   "file_extension": ".py",
   "mimetype": "text/x-python",
   "name": "python",
   "nbconvert_exporter": "python",
   "pygments_lexer": "ipython3",
   "version": "3.8.8"
  }
 },
 "nbformat": 4,
 "nbformat_minor": 5
}
