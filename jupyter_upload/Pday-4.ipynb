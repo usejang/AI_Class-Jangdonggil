{
 "cells": [
  {
   "cell_type": "code",
   "execution_count": 36,
   "id": "5896f05f",
   "metadata": {},
   "outputs": [
    {
     "ename": "SyntaxError",
     "evalue": "invalid syntax (<ipython-input-36-ff20ac777521>, line 1)",
     "output_type": "error",
     "traceback": [
      "\u001b[1;36m  File \u001b[1;32m\"<ipython-input-36-ff20ac777521>\"\u001b[1;36m, line \u001b[1;32m1\u001b[0m\n\u001b[1;33m    def prin n_values(value, n): value = 'test', n = 3\u001b[0m\n\u001b[1;37m             ^\u001b[0m\n\u001b[1;31mSyntaxError\u001b[0m\u001b[1;31m:\u001b[0m invalid syntax\n"
     ]
    }
   ],
   "source": [
    "def prin n_values(value, n): value = 'test', n = 3 \n",
    "#함수가 종료되면 n과 value는 존재하지 않음\n"
   ]
  },
  {
   "cell_type": "code",
   "execution_count": 60,
   "id": "49ec5979",
   "metadata": {},
   "outputs": [],
   "source": [
    "#피보나치 수열 함수 정의\n",
    "def fibo(n):\n",
    "    global count\n",
    "    count += 1\n",
    "    if n==1:\n",
    "        return 1\n",
    "    if n==2:\n",
    "        return 1\n",
    "    else:\n",
    "        return fibo(n-1) + fibo(n-2)"
   ]
  },
  {
   "cell_type": "code",
   "execution_count": 61,
   "id": "3c8e7469",
   "metadata": {},
   "outputs": [
    {
     "name": "stdout",
     "output_type": "stream",
     "text": [
      "fibo(35)에 계산된 덧셈 횟수는 18454929 \n"
     ]
    }
   ],
   "source": [
    "count= 0\n",
    "fibo(35)\n",
    "print(\"fibo({})에 계산된 덧셈 횟수는 {} \".format(35,count))"
   ]
  },
  {
   "cell_type": "code",
   "execution_count": 58,
   "id": "abeb41f4",
   "metadata": {},
   "outputs": [],
   "source": [
    "dict_fibo = { 1:1 , 2:1 }\n",
    "# 재귀함수의 메모화\n",
    "def fibo_m(n):\n",
    "    global count_fibo\n",
    "    count_fibo += 1\n",
    "    if n in dict_fibo:\n",
    "        return dict_fibo[n]\n",
    "    else:\n",
    "        output = fibo_m(n-1)+ fibo_m(n-2)\n",
    "        dict_fibo[n] = output\n",
    "        return output\n"
   ]
  },
  {
   "cell_type": "code",
   "execution_count": 59,
   "id": "65ea5d67",
   "metadata": {},
   "outputs": [
    {
     "name": "stdout",
     "output_type": "stream",
     "text": [
      "fibo(100)에 계산에 활용된 덧셈 횟수는 197\n"
     ]
    }
   ],
   "source": [
    "count_fibo = 0\n",
    "fibo_m(100)\n",
    "print(\"fibo({})에 계산에 활용된 덧셈 횟수는 {}\".format(100,count_fibo))"
   ]
  },
  {
   "cell_type": "code",
   "execution_count": 65,
   "id": "fb001f0a",
   "metadata": {},
   "outputs": [
    {
     "name": "stdout",
     "output_type": "stream",
     "text": [
      "tuple[0]:  1\n",
      "a = 10, b = 20\n",
      "a = 20, b = 10\n"
     ]
    }
   ],
   "source": [
    "#tuple : 값 변경 안됨 ( )\n",
    "tuple_var = (1,2,3)\n",
    "print(\"tuple[0]: \", tuple_var[0])\n",
    "a, b= 10, 20\n",
    "print(\"a = {}, b = {}\".format(a,b))\n",
    "a,b = b, a\n",
    "print(\"a = {}, b = {}\".format(a,b))\n",
    "\n"
   ]
  },
  {
   "cell_type": "code",
   "execution_count": 35,
   "id": "bc123e9d",
   "metadata": {},
   "outputs": [
    {
     "name": "stdout",
     "output_type": "stream",
     "text": [
      "0 : 1\n",
      "1 : 2\n",
      "2 : 3\n",
      "3 : 4\n"
     ]
    }
   ],
   "source": [
    "for idx, value in enumerate([1,2,3,4]):\n",
    "    print(\"{} : {}\".format(idx,value))"
   ]
  },
  {
   "cell_type": "code",
   "execution_count": 66,
   "id": "8eba6073",
   "metadata": {},
   "outputs": [
    {
     "name": "stdout",
     "output_type": "stream",
     "text": [
      "map() : [1, 4, 9, 16, 25]\n",
      "filter() :  [1, 2]\n"
     ]
    }
   ],
   "source": [
    "#lambda 는 함수를 간단하게 정의 하는 것\n",
    "def power(x):\n",
    "    return x*x\n",
    "def under3(x):\n",
    "    return x<3\n",
    "\n",
    "print(\"map() :\", list(map(power, [1,2,3,4,5])))\n",
    "print(\"filter() : \", list(filter(under3, [1,2,3,4,5])))"
   ]
  },
  {
   "cell_type": "code",
   "execution_count": 69,
   "id": "f996ef20",
   "metadata": {},
   "outputs": [
    {
     "name": "stdout",
     "output_type": "stream",
     "text": [
      "map() :  [1, 4, 9, 16, 25]\n",
      "filter() :  [1, 2]\n"
     ]
    }
   ],
   "source": [
    "a_power = lambda x: x*x\n",
    "a_under = lambda x: x<3\n",
    "print(\"map() : \", list(map(a_power, [1,2,3,4,5])))\n",
    "print(\"filter() : \", list(filter(a_under, [1,2,3,4,5])))"
   ]
  },
  {
   "cell_type": "code",
   "execution_count": 70,
   "id": "8e92af17",
   "metadata": {},
   "outputs": [
    {
     "name": "stdout",
     "output_type": "stream",
     "text": [
      "map() :  [True, True, False, False, False]\n",
      "filter() :  [1, 2]\n"
     ]
    }
   ],
   "source": [
    "print(\"map() : \", list(map(lambda x: x<3, [1,2,3,4,5])))\n",
    "print(\"filter() : \", list(filter(lambda x: x<3, [1,2,3,4,5])))"
   ]
  },
  {
   "cell_type": "code",
   "execution_count": 71,
   "id": "b7ed2afe",
   "metadata": {},
   "outputs": [
    {
     "data": {
      "text/plain": [
       "<function __main__.<lambda>(x, y)>"
      ]
     },
     "execution_count": 71,
     "metadata": {},
     "output_type": "execute_result"
    }
   ],
   "source": [
    "x, y = 20, 3\n",
    "lambda x,y : x*y\n"
   ]
  },
  {
   "cell_type": "code",
   "execution_count": 66,
   "id": "f4b94128",
   "metadata": {},
   "outputs": [],
   "source": [
    "#file open, write, close\n",
    "#file = open('경로명/파일명', mode: 'w,r,a')\n",
    "file = open('./basic.txt', 'w') #w : 기존에 존재하면 기존 내용 없앰 새로 생성\n",
    "                    #./basic : 현재 작업중인 디렉토리 위치\n",
    "                    #../ : 상위 디렉토리 ./ 디렉토리명 : 하위 디렉토리\n",
    "file.write(\"Hello python Programming\")\n",
    "file.close()"
   ]
  },
  {
   "cell_type": "code",
   "execution_count": 59,
   "id": "5e4052b4",
   "metadata": {},
   "outputs": [
    {
     "name": "stdout",
     "output_type": "stream",
     "text": [
      "Hello python Programming\n"
     ]
    }
   ],
   "source": [
    "# file read\n",
    "file = open('./basic.txt', 'r') #입력모드로, 존재하지 않으면 error발생\n",
    "a = file.read()\n",
    "print(a)\n",
    "file.close()"
   ]
  },
  {
   "cell_type": "code",
   "execution_count": 68,
   "id": "853add10",
   "metadata": {},
   "outputs": [
    {
     "name": "stdout",
     "output_type": "stream",
     "text": [
      "\n"
     ]
    }
   ],
   "source": [
    "with open('./basic.txt','r') as file: #with 문장을 종료하면 file.close() 자동으로 실행\n",
    "    contents = file.read()\n",
    "print(contents)\n",
    "#file.read() : error"
   ]
  },
  {
   "cell_type": "code",
   "execution_count": 57,
   "id": "ca5209a7",
   "metadata": {},
   "outputs": [],
   "source": [
    "def write_file(score_file):\n",
    "    input_str = input(\"name score > \").split()\n",
    "    if 'q' in input_str:\n",
    "        return False\n",
    "    #dict_score[input_str[0]] = int(input_str[1]) #dict에 저장\n",
    "        score_file.write(\"{},{}\\n\".format(input_str[0],int(input_str[1]))) #파일에 저장\n",
    "        return True"
   ]
  },
  {
   "cell_type": "code",
   "execution_count": 61,
   "id": "7dc99b0c",
   "metadata": {},
   "outputs": [
    {
     "name": "stdout",
     "output_type": "stream",
     "text": [
      "name score > a,10\n",
      "이름,성적\n",
      "\n",
      "---------------\n",
      "이름,성적\n",
      "\n"
     ]
    }
   ],
   "source": [
    "with open(\"./score.txt\", 'w+') as score_file:\n",
    "    score_file.write(\"{},{}\\n\".format('이름','성적'))\n",
    "    while True:\n",
    "        if not write_file(score_file):\n",
    "            break\n",
    "    score_file.seek(0)\n",
    "    for line in score_file:\n",
    "        print(line)\n",
    "    print(\"---------------\")\n",
    "    score_file.seek(0)\n",
    "    print(score_file.read())"
   ]
  },
  {
   "cell_type": "code",
   "execution_count": 62,
   "id": "4523329f",
   "metadata": {},
   "outputs": [
    {
     "ename": "NameError",
     "evalue": "name 'dict_score' is not defined",
     "output_type": "error",
     "traceback": [
      "\u001b[1;31m---------------------------------------------------------------------------\u001b[0m",
      "\u001b[1;31mNameError\u001b[0m                                 Traceback (most recent call last)",
      "\u001b[1;32m<ipython-input-62-56f2e93bd778>\u001b[0m in \u001b[0;36m<module>\u001b[1;34m\u001b[0m\n\u001b[0;32m      8\u001b[0m     \u001b[0mdict_score\u001b[0m\u001b[1;33m[\u001b[0m\u001b[0mline_list\u001b[0m\u001b[1;33m[\u001b[0m\u001b[1;36m0\u001b[0m\u001b[1;33m]\u001b[0m\u001b[1;33m]\u001b[0m \u001b[1;33m=\u001b[0m \u001b[0mint\u001b[0m\u001b[1;33m(\u001b[0m\u001b[0mline_list\u001b[0m\u001b[1;33m[\u001b[0m\u001b[1;36m1\u001b[0m\u001b[1;33m]\u001b[0m\u001b[1;33m)\u001b[0m\u001b[1;33m\u001b[0m\u001b[1;33m\u001b[0m\u001b[0m\n\u001b[0;32m      9\u001b[0m \u001b[0mfile\u001b[0m\u001b[1;33m.\u001b[0m\u001b[0mclose\u001b[0m\u001b[1;33m(\u001b[0m\u001b[1;33m)\u001b[0m\u001b[1;33m\u001b[0m\u001b[1;33m\u001b[0m\u001b[0m\n\u001b[1;32m---> 10\u001b[1;33m \u001b[0mprint\u001b[0m\u001b[1;33m(\u001b[0m\u001b[0mdict_score\u001b[0m\u001b[1;33m)\u001b[0m\u001b[1;33m\u001b[0m\u001b[1;33m\u001b[0m\u001b[0m\n\u001b[0m",
      "\u001b[1;31mNameError\u001b[0m: name 'dict_score' is not defined"
     ]
    }
   ],
   "source": [
    "#파일에 저장된 자료를 읽어서 딕셔너리에 저장한 후 딕셔너리의 키와 값을 출력\n",
    "file = open(\"./score.txt\",\"r\")\n",
    "dirt_score = {}\n",
    "for line in file:\n",
    "    line_list = line.split(',')\n",
    "    if line_list [0] == '이름':\n",
    "        continue\n",
    "    dict_score[line_list[0]] = int(line_list[1])\n",
    "file.close()\n",
    "print(dict_score)"
   ]
  },
  {
   "cell_type": "code",
   "execution_count": 46,
   "id": "2eebe18c",
   "metadata": {},
   "outputs": [
    {
     "name": "stdout",
     "output_type": "stream",
     "text": [
      "name score > a,10\n",
      "이름,성적\n",
      "\n",
      "----------------\n",
      "이름,성적\n",
      "\n"
     ]
    }
   ],
   "source": [
    "#파일명은 score.txt로\n",
    "#이름, 성정을 입력받아 파일에 저장, 'q'가 입력되면 종료, 홍길동,90 '.', '\\n'으로)\n",
    "#file.write() =>print()함수와 사용법이 유사. file.write(\"{}.{}\\n\".format(name, score))\n",
    "#file 내용 읽어서 화면에 출력하세요\n",
    "with open(\"./score.txt\", 'w+') as score_file:        #w+ : read, write 둘 다 작용 가능하며 기존 파일 내용을 지움\n",
    "    score_file.write(\"{},{}\\n\".format('이름','성적'))\n",
    "    while True:\n",
    "        if not write_file(score_file):\n",
    "            break\n",
    "    score_file.seek(0)   #파일 포인터를 처음으로 이동 시킴\n",
    "    for line in score_file:   #파일에서 한 라인씩 가져옴\n",
    "        print(line)\n",
    "    print(\"----------------\")\n",
    "    score_file.seek(0)       #파일 포인터를 처음으로 이동 시킴\n",
    "    print(score_file.read())"
   ]
  },
  {
   "cell_type": "code",
   "execution_count": 51,
   "id": "1a41aba6",
   "metadata": {},
   "outputs": [
    {
     "name": "stdout",
     "output_type": "stream",
     "text": [
      "main \n",
      "test1 \n",
      "y test1\n",
      "test2\n",
      "main 1 ---- y test2\n",
      "test3\n",
      "y test3\n"
     ]
    }
   ],
   "source": [
    "#yield 키워드를 사용하여 제너레이터 함수 정의\n",
    "def g_func():\n",
    "    print('test1 ')\n",
    "    yield \"y test1\"\n",
    "    \n",
    "    print('test2')\n",
    "    yield \"y test2\"\n",
    "    \n",
    "    print('test3')\n",
    "    yield \"y test3\"\n",
    "func = g_func()\n",
    "\n",
    "print(\"main \")\n",
    "g_func()            #제너레이터 함수는 실행되지 않는다\n",
    "\n",
    "print(next(func))\n",
    "print(\"main 1 ----\", next(func))\n",
    "print(next(func))"
   ]
  },
  {
   "cell_type": "code",
   "execution_count": 52,
   "id": "34529e9a",
   "metadata": {},
   "outputs": [
    {
     "name": "stdout",
     "output_type": "stream",
     "text": [
      "5\n",
      "4\n",
      "3\n",
      "2\n",
      "1\n"
     ]
    }
   ],
   "source": [
    "a_list = [1,2,3,4,5]\n",
    "r_list = reversed(a_list)\n",
    "for i in range(len(a_list)):\n",
    "    print(next(r_list))"
   ]
  },
  {
   "cell_type": "code",
   "execution_count": 83,
   "id": "e330eac0",
   "metadata": {},
   "outputs": [
    {
     "name": "stdout",
     "output_type": "stream",
     "text": [
      "rr\n",
      "dd\n",
      "cc\n",
      "tt\n",
      "bcd\n",
      "a\n"
     ]
    }
   ],
   "source": [
    "def r_func(v_list):\n",
    "    for i in range(len(v_list)-1, -1, -1):    #range(4, -1, -1)\n",
    "        yield v_list[i]\n",
    "        \n",
    "a_list = ['a', 'bcd', 'tt', 'cc', 'dd', 'rr']\n",
    "a = r_func(a_list)\n",
    "for i in range(len(a_list)):\n",
    "    print(next(a))"
   ]
  },
  {
   "cell_type": "code",
   "execution_count": 84,
   "id": "f88d8aeb",
   "metadata": {},
   "outputs": [
    {
     "name": "stdout",
     "output_type": "stream",
     "text": [
      "1::2::3::4::5::6\n"
     ]
    }
   ],
   "source": [
    "#문자열 합성 문자열.join. 함수와 리스트를 사용 map(함수, 리스트)\n",
    "numbers = [1,2,3,4,5,6]\n",
    "print(\"::\".join(map(str,numbers)))"
   ]
  },
  {
   "cell_type": "code",
   "execution_count": 82,
   "id": "17e206e7",
   "metadata": {},
   "outputs": [
    {
     "name": "stdout",
     "output_type": "stream",
     "text": [
      "[1, 2, 3, 4, 5, 6, 7, 8, 9, 10]\n",
      "# 홀수만 추출하기\n",
      "[1, 3, 5, 7, 9]\n",
      "3이상 7미만 출력\n",
      "[3, 4, 5, 6]\n",
      "# 제곱해서 50미만 출력\n",
      "[1, 2, 3, 4, 5, 6, 7]\n"
     ]
    }
   ],
   "source": [
    "numbers = list(range(1, 10 + 1))\n",
    "print(numbers)\n",
    "\n",
    "print(\"# 홀수만 추출하기\")\n",
    "print(list(filter(lambda x: x%2 ==1, numbers)))\n",
    "\n",
    "print(\"3이상 7미만 출력\")\n",
    "print(list(filter(lambda x: 3 <=x<7, numbers)))\n",
    "\n",
    "print(\"# 제곱해서 50미만 출력\")\n",
    "print(list(filter(lambda x: x*x < 50, numbers)))"
   ]
  },
  {
   "cell_type": "code",
   "execution_count": 1,
   "id": "754a141d",
   "metadata": {},
   "outputs": [
    {
     "name": "stdout",
     "output_type": "stream",
     "text": [
      "정수가 입력되지 않음\n",
      "try - except - else - finally\n",
      "정수 입력 >try\n",
      "invalid literal for int() with base 10: 'try'\n",
      "try - except - else - finally\n"
     ]
    }
   ],
   "source": [
    "#예외처리 try ~ execpt ~ else ~ finally\n",
    "try:\n",
    "    number_input= int(input(\"정수 입력 >\"))\n",
    "    print(\"원의 반지름 : \".number_input)\n",
    "    print(\"원의 둘레 : \".number_inout*2*PI)\n",
    "    print(\"원의 넓이 : \".number_inout*number_input*PI)\n",
    "except :\n",
    "    print(\"정수가 입력되지 않음\")\n",
    "else : \n",
    "    print(\"정상입력\")\n",
    "finally :\n",
    "    print(\"try - except - else - finally\")\n",
    "    \n",
    "try :\n",
    "    number_input = int(input(\"정수 입력 >\"))\n",
    "except Exception as e: #error 메세지 출력\n",
    "    print(e)\n",
    "else :\n",
    "    print(\"원의 반지름 : \".number_input)\n",
    "    print(\"원의 둘레 : \".number_inout*2*PI)\n",
    "    print(\"원의 넓이 : \".number_inout*number_input*PI)\n",
    "    \n",
    "finally :\n",
    "    print(\"try - except - else - finally\")\n",
    "#파일을 \"try.txt\"를 \"t\"모드로 오픈 뒤 에러가 발생 했다면 'w'모드로 오픈\n",
    "#마지막에 close를 명령하고 종료\n"
   ]
  },
  {
   "cell_type": "code",
   "execution_count": 4,
   "id": "056380a9",
   "metadata": {},
   "outputs": [
    {
     "name": "stdout",
     "output_type": "stream",
     "text": [
      "[Errno 2] No such file or directory: './try txt'\n",
      "file close\n"
     ]
    }
   ],
   "source": [
    "import\n",
    "try:\n",
    "    file = open('./try txt', 'r')\n",
    "except Exception as e:\n",
    "    print(e)\n",
    "    file = open('./try.txt', 'w')\n",
    "finally:\n",
    "    print(\"file close\")\n",
    "    file.close()"
   ]
  },
  {
   "cell_type": "code",
   "execution_count": 5,
   "id": "6bcc9046",
   "metadata": {},
   "outputs": [],
   "source": [
    "import os\n",
    "os. remove('./try.txt')\n"
   ]
  },
  {
   "cell_type": "code",
   "execution_count": 6,
   "id": "edaa0ae0",
   "metadata": {},
   "outputs": [
    {
     "name": "stdout",
     "output_type": "stream",
     "text": [
      "<module 'ntpath' from 'C:\\\\Users\\\\youngwoo\\\\anaconda3\\\\lib\\\\ntpath.py'>\n"
     ]
    }
   ],
   "source": [
    "print(os.path)                 #상대 경로는 내가 작업하고 있는 디렉토리로 부터 탐색\n",
    "                               #절대 경로는 항상 C:부터 디렉토리부터 탐색"
   ]
  },
  {
   "cell_type": "code",
   "execution_count": 9,
   "id": "64aa6934",
   "metadata": {},
   "outputs": [
    {
     "data": {
      "text/plain": [
       "3"
      ]
     },
     "execution_count": 9,
     "metadata": {},
     "output_type": "execute_result"
    }
   ],
   "source": [
    "a_list = [10, 'a', 20, 'b']\n",
    "a_list.index('b') #해당하는 값이 위치한 indexreturn\n"
   ]
  },
  {
   "cell_type": "code",
   "execution_count": 28,
   "id": "24c5f24e",
   "metadata": {},
   "outputs": [
    {
     "name": "stdout",
     "output_type": "stream",
     "text": [
      "-리스트 내부에 없습니다\n",
      "함수가 종료되었습니다.\n",
      "-리스트 내부에 없습니다\n",
      "함수가 종료되었습니다.\n"
     ]
    }
   ],
   "source": [
    "def search_num(s_num, numbers):\n",
    "    try:\n",
    "        print(\"-{}는 {}위치에 있습니다.\".format(s_num, numbers, index(s_num)))\n",
    "    except:\n",
    "        print(\"-리스트 내부에 없습니다\")\n",
    "    finally:\n",
    "        print(\"함수가 종료되었습니다.\")\n",
    "        \n",
    "numbers = [53,373,32,103,90,10,276]\n",
    "search_num(373, numbers)\n",
    "search_num(2, numbers)"
   ]
  },
  {
   "cell_type": "code",
   "execution_count": 63,
   "id": "9ad61af7",
   "metadata": {},
   "outputs": [
    {
     "name": "stdout",
     "output_type": "stream",
     "text": [
      "# (1) 요소 내부에 있는 값 찾기\n",
      "- 52 는 0 위치에 있습니다.\n",
      "\n",
      "# (2) 요소에 내부에 없는 값 찾기\n"
     ]
    },
    {
     "ename": "AttributeError",
     "evalue": "'int' object has no attribute 'index'",
     "output_type": "error",
     "traceback": [
      "\u001b[1;31m---------------------------------------------------------------------------\u001b[0m",
      "\u001b[1;31mAttributeError\u001b[0m                            Traceback (most recent call last)",
      "\u001b[1;32m<ipython-input-63-15170e9002d9>\u001b[0m in \u001b[0;36m<module>\u001b[1;34m\u001b[0m\n\u001b[0;32m      6\u001b[0m \u001b[0mnumbers\u001b[0m \u001b[1;33m=\u001b[0m \u001b[1;36m10000\u001b[0m\u001b[1;33m\u001b[0m\u001b[1;33m\u001b[0m\u001b[0m\n\u001b[0;32m      7\u001b[0m \u001b[1;31m####\u001b[0m\u001b[1;33m\u001b[0m\u001b[1;33m\u001b[0m\u001b[1;33m\u001b[0m\u001b[0m\n\u001b[1;32m----> 8\u001b[1;33m \u001b[0mprint\u001b[0m\u001b[1;33m(\u001b[0m\u001b[1;34m\"- {}는 {} 위치에 있습니다.\"\u001b[0m\u001b[1;33m.\u001b[0m\u001b[0mformat\u001b[0m\u001b[1;33m(\u001b[0m\u001b[0mnumber\u001b[0m\u001b[1;33m,\u001b[0m \u001b[0mnumber\u001b[0m\u001b[1;33m,\u001b[0m \u001b[0mnumbers\u001b[0m\u001b[1;33m.\u001b[0m\u001b[0mindex\u001b[0m\u001b[1;33m(\u001b[0m\u001b[0mnumber\u001b[0m\u001b[1;33m)\u001b[0m\u001b[1;33m)\u001b[0m\u001b[1;33m)\u001b[0m\u001b[1;33m\u001b[0m\u001b[1;33m\u001b[0m\u001b[0m\n\u001b[0m\u001b[0;32m      9\u001b[0m \u001b[1;31m###\u001b[0m\u001b[1;33m\u001b[0m\u001b[1;33m\u001b[0m\u001b[1;33m\u001b[0m\u001b[0m\n\u001b[0;32m     10\u001b[0m \u001b[0mprint\u001b[0m\u001b[1;33m(\u001b[0m\u001b[1;34m\"- 리스트 내부에 없는 값입니다.\"\u001b[0m\u001b[1;33m)\u001b[0m\u001b[1;33m\u001b[0m\u001b[1;33m\u001b[0m\u001b[0m\n",
      "\u001b[1;31mAttributeError\u001b[0m: 'int' object has no attribute 'index'"
     ]
    }
   ],
   "source": [
    "numbers =[ 52, 273, 32, 103, 90, 10, 275]\n",
    "print(\"# (1) 요소 내부에 있는 값 찾기\")\n",
    "print(\"- {} 는 {} 위치에 있습니다.\".format(52, numbers.index(52)))\n",
    "print()\n",
    "print(\"# (2) 요소에 내부에 없는 값 찾기\")\n",
    "numbers = 10000\n",
    "####\n",
    "print(\"- {}는 {} 위치에 있습니다.\".format(number, number, numbers.index(number)))\n",
    "###\n",
    "print(\"- 리스트 내부에 없는 값입니다.\")\n",
    "print()\n",
    "\n",
    "print(\"--- 정상적으로 종료되었습니다. ---\")"
   ]
  },
  {
   "cell_type": "code",
   "execution_count": 49,
   "id": "1e4079d8",
   "metadata": {},
   "outputs": [
    {
     "name": "stdout",
     "output_type": "stream",
     "text": [
      "점수 입력 >>0\n",
      "-0는 52위치에 있습니다\n"
     ]
    }
   ],
   "source": [
    "#try -except - linally 실습\n",
    "numbers =[52, 273, 32, 103, 90, 10, 275]\n",
    "\n",
    "try:\n",
    "    input_num = int(input(\"점수 입력 >>\")) #찾고자 하는 인덱스 입력\n",
    "    print(\"-{}는 {}위치에 있습니다\".format(input_num,numbers[input_num]))\n",
    "except ValueError as err_contents:\n",
    "    print (\"점수를 입력하세요 :  \". err_contents)\n",
    "except indexError as err_contents:\n",
    "    print(\"범위를 벗어났습니다 : \", err_contents)\n",
    "except Exception as err_contents:\n",
    "    print(\"예측하지 못한 에러 발생 : \", err_contents)"
   ]
  },
  {
   "cell_type": "code",
   "execution_count": 65,
   "id": "df3899b6",
   "metadata": {},
   "outputs": [
    {
     "name": "stdout",
     "output_type": "stream",
     "text": [
      "정수 입력ㄱ\n"
     ]
    },
    {
     "ename": "ValueError",
     "evalue": "invalid literal for int() with base 10: 'ㄱ'",
     "output_type": "error",
     "traceback": [
      "\u001b[1;31m---------------------------------------------------------------------------\u001b[0m",
      "\u001b[1;31mValueError\u001b[0m                                Traceback (most recent call last)",
      "\u001b[1;32m<ipython-input-65-d15ee3dcc4e5>\u001b[0m in \u001b[0;36m<module>\u001b[1;34m\u001b[0m\n\u001b[1;32m----> 1\u001b[1;33m \u001b[0mnumber\u001b[0m \u001b[1;33m=\u001b[0m \u001b[0mint\u001b[0m\u001b[1;33m(\u001b[0m\u001b[0minput\u001b[0m\u001b[1;33m(\u001b[0m\u001b[1;34m\"정수 입력\"\u001b[0m\u001b[1;33m)\u001b[0m\u001b[1;33m)\u001b[0m\u001b[1;33m\u001b[0m\u001b[1;33m\u001b[0m\u001b[0m\n\u001b[0m\u001b[0;32m      2\u001b[0m \u001b[1;32mif\u001b[0m \u001b[0mnumber\u001b[0m \u001b[1;33m>\u001b[0m\u001b[1;36m0\u001b[0m\u001b[1;33m:\u001b[0m\u001b[1;33m\u001b[0m\u001b[1;33m\u001b[0m\u001b[0m\n\u001b[0;32m      3\u001b[0m     \u001b[1;32mraise\u001b[0m \u001b[0mnotimplementedError\u001b[0m    \u001b[1;31m#오류를 일으키게 하는 코드\u001b[0m\u001b[1;33m\u001b[0m\u001b[1;33m\u001b[0m\u001b[0m\n\u001b[0;32m      4\u001b[0m \u001b[1;32melse\u001b[0m\u001b[1;33m:\u001b[0m\u001b[1;33m\u001b[0m\u001b[1;33m\u001b[0m\u001b[0m\n\u001b[0;32m      5\u001b[0m     \u001b[1;32mraise\u001b[0m \u001b[0mnotimplementedError\u001b[0m \u001b[1;33m(\u001b[0m\u001b[1;34m'미구현'\u001b[0m\u001b[1;33m)\u001b[0m          \u001b[1;31m###0보다 큰 수를 입력했을때 오류를 강제로 일으키게 하는법\u001b[0m\u001b[1;33m\u001b[0m\u001b[1;33m\u001b[0m\u001b[0m\n",
      "\u001b[1;31mValueError\u001b[0m: invalid literal for int() with base 10: 'ㄱ'"
     ]
    }
   ],
   "source": [
    "number = int(input(\"정수 입력\"))\n",
    "if number >0:\n",
    "    raise notimplementedError    #오류를 일으키게 하는 코드\n",
    "else:\n",
    "    raise notimplementedError ('미구현')          ###0보다 큰 수를 입력했을때 오류를 강제로 일으키게 하는법"
   ]
  },
  {
   "cell_type": "code",
   "execution_count": 54,
   "id": "4acf85ea",
   "metadata": {},
   "outputs": [],
   "source": [
    "#해당의미를 잘 모르겠다? 모든 값 print로 값 확인할것\n",
    "# 211102 -309p."
   ]
  },
  {
   "cell_type": "code",
   "execution_count": null,
   "id": "49d622fb",
   "metadata": {},
   "outputs": [],
   "source": []
  }
 ],
 "metadata": {
  "kernelspec": {
   "display_name": "Python 3",
   "language": "python",
   "name": "python3"
  },
  "language_info": {
   "codemirror_mode": {
    "name": "ipython",
    "version": 3
   },
   "file_extension": ".py",
   "mimetype": "text/x-python",
   "name": "python",
   "nbconvert_exporter": "python",
   "pygments_lexer": "ipython3",
   "version": "3.8.8"
  }
 },
 "nbformat": 4,
 "nbformat_minor": 5
}
