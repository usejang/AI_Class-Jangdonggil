{
 "cells": [
  {
   "cell_type": "code",
   "execution_count": 1,
   "id": "4027cdf5",
   "metadata": {},
   "outputs": [],
   "source": [
    "#숙줴"
   ]
  },
  {
   "cell_type": "code",
   "execution_count": 4,
   "id": "62eccdf6",
   "metadata": {},
   "outputs": [
    {
     "name": "stdout",
     "output_type": "stream",
     "text": [
      "name score >> 40\n"
     ]
    },
    {
     "ename": "IndexError",
     "evalue": "list index out of range",
     "output_type": "error",
     "traceback": [
      "\u001b[1;31m---------------------------------------------------------------------------\u001b[0m",
      "\u001b[1;31mIndexError\u001b[0m                                Traceback (most recent call last)",
      "\u001b[1;32m<ipython-input-4-5b2a23465d69>\u001b[0m in \u001b[0;36m<module>\u001b[1;34m\u001b[0m\n\u001b[0;32m     11\u001b[0m \u001b[0mdict_score\u001b[0m \u001b[1;33m=\u001b[0m \u001b[1;33m{\u001b[0m\u001b[1;33m}\u001b[0m\u001b[1;33m\u001b[0m\u001b[1;33m\u001b[0m\u001b[0m\n\u001b[0;32m     12\u001b[0m \u001b[1;32mwhile\u001b[0m \u001b[1;32mTrue\u001b[0m\u001b[1;33m:\u001b[0m\u001b[1;33m\u001b[0m\u001b[1;33m\u001b[0m\u001b[0m\n\u001b[1;32m---> 13\u001b[1;33m     \u001b[1;32mif\u001b[0m \u001b[1;32mnot\u001b[0m \u001b[0minput_data\u001b[0m\u001b[1;33m(\u001b[0m\u001b[1;33m)\u001b[0m\u001b[1;33m:\u001b[0m\u001b[1;33m\u001b[0m\u001b[1;33m\u001b[0m\u001b[0m\n\u001b[0m\u001b[0;32m     14\u001b[0m         \u001b[1;32mbreak\u001b[0m\u001b[1;33m\u001b[0m\u001b[1;33m\u001b[0m\u001b[0m\n\u001b[0;32m     15\u001b[0m \u001b[1;33m\u001b[0m\u001b[0m\n",
      "\u001b[1;32m<ipython-input-4-5b2a23465d69>\u001b[0m in \u001b[0;36minput_data\u001b[1;34m()\u001b[0m\n\u001b[0;32m      5\u001b[0m     \u001b[1;32mif\u001b[0m \u001b[1;34m'q'\u001b[0m \u001b[1;32min\u001b[0m \u001b[0minput_str\u001b[0m\u001b[1;33m:\u001b[0m\u001b[1;33m\u001b[0m\u001b[1;33m\u001b[0m\u001b[0m\n\u001b[0;32m      6\u001b[0m         \u001b[1;32mreturn\u001b[0m \u001b[1;32mFalse\u001b[0m\u001b[1;33m\u001b[0m\u001b[1;33m\u001b[0m\u001b[0m\n\u001b[1;32m----> 7\u001b[1;33m     \u001b[0mdict_score\u001b[0m\u001b[1;33m[\u001b[0m\u001b[0minput_str\u001b[0m\u001b[1;33m[\u001b[0m\u001b[1;36m0\u001b[0m\u001b[1;33m]\u001b[0m\u001b[1;33m]\u001b[0m \u001b[1;33m=\u001b[0m \u001b[0mdict_score\u001b[0m\u001b[1;33m[\u001b[0m\u001b[0mint\u001b[0m\u001b[1;33m(\u001b[0m\u001b[0minput_str\u001b[0m\u001b[1;33m[\u001b[0m\u001b[1;36m1\u001b[0m\u001b[1;33m]\u001b[0m\u001b[1;33m)\u001b[0m\u001b[1;33m]\u001b[0m\u001b[1;33m\u001b[0m\u001b[1;33m\u001b[0m\u001b[0m\n\u001b[0m\u001b[0;32m      8\u001b[0m     \u001b[1;32mreturn\u001b[0m \u001b[1;32mTrue\u001b[0m\u001b[1;33m\u001b[0m\u001b[1;33m\u001b[0m\u001b[0m\n\u001b[0;32m      9\u001b[0m \u001b[1;33m\u001b[0m\u001b[0m\n",
      "\u001b[1;31mIndexError\u001b[0m: list index out of range"
     ]
    }
   ],
   "source": [
    "#이름과 성적을 입력받아 딕셔너리에 저장한 후 이름을 키(key)로 성적을 값으로 (input_data())\n",
    "#입력 칸에 Q 입력시 입력 종료\n",
    "def input_data():\n",
    "    input_str = input(\"name score >> \").split()\n",
    "    if 'q' in input_str:\n",
    "        return False\n",
    "    dict_score[input_str[0]] = dict_score[int(input_str[1])]\n",
    "    return True\n",
    "#검색할 이름의 성적 구하는 함수 \n",
    "def search_name(s_name, dict_score):\n",
    "    for name in dict_score:\n",
    "        if name == s_name:\n",
    "            return dict_score[name]\n",
    "    return None\n",
    "#총점 구하는 함수\n",
    "def sum_func(dict_score):\n",
    "    total = 0\n",
    "    for key, value in dict_score.items():\n",
    "        total =+= value\n",
    "    return total\n",
    "#평균 구하는 함수\n",
    "def avg_func(dict_score):\n",
    "    return sum_func dict_score) / len(dict_score)\n",
    "\n",
    "\n",
    "dict_score = {}\n",
    "while True:\n",
    "    if not input_data():\n",
    "        break"
   ]
  },
  {
   "cell_type": "code",
   "execution_count": 6,
   "id": "a01a8b27",
   "metadata": {},
   "outputs": [
    {
     "ename": "SyntaxError",
     "evalue": "invalid syntax (<ipython-input-6-0ac256632c07>, line 6)",
     "output_type": "error",
     "traceback": [
      "\u001b[1;36m  File \u001b[1;32m\"<ipython-input-6-0ac256632c07>\"\u001b[1;36m, line \u001b[1;32m6\u001b[0m\n\u001b[1;33m    else:\u001b[0m\n\u001b[1;37m    ^\u001b[0m\n\u001b[1;31mSyntaxError\u001b[0m\u001b[1;31m:\u001b[0m invalid syntax\n"
     ]
    }
   ],
   "source": [
    "# 1. 검색할 이름 입력 : 해당 이름의 성적 출력, 없으면 자료 없음 출력 ( search_func())\n",
    "s_name = input(\"검색할 이름 >> \")\n",
    "s_score = search_name(s_name, dict_score)\n",
    "if s_score:\n",
    "    print(\"{}의 점수 {}\".format(s_name, s_score))\n",
    "    else:\n",
    "        print(\"자료 없음\")\n",
    "        \n",
    "# 2. 전체 학생의 인원수, 총점과 평균을 출력 (sum_func(), avg_func())\n",
    "print(\"인원수 :{}, 총점 : {}, 평균 : {:3.2f}\"\n",
    "      .format(len(dict_score).sum_func(dict_score).avg_func(dict_score)))"
   ]
  },
  {
   "cell_type": "code",
   "execution_count": null,
   "id": "d920828f",
   "metadata": {},
   "outputs": [],
   "source": [
    "#자료 입력\n",
    "\n",
    "dict_score = {}\n",
    "while True:\n",
    "    if not input_data(dict_score):\n",
    "        break\n",
    "\n",
    "#Nom mo Arup dda.."
   ]
  }
 ],
 "metadata": {
  "kernelspec": {
   "display_name": "Python 3",
   "language": "python",
   "name": "python3"
  },
  "language_info": {
   "codemirror_mode": {
    "name": "ipython",
    "version": 3
   },
   "file_extension": ".py",
   "mimetype": "text/x-python",
   "name": "python",
   "nbconvert_exporter": "python",
   "pygments_lexer": "ipython3",
   "version": "3.8.8"
  }
 },
 "nbformat": 4,
 "nbformat_minor": 5
}
