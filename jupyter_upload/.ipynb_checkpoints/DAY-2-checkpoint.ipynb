{
 "cells": [
  {
   "cell_type": "code",
   "execution_count": 1,
   "id": "978b0f20",
   "metadata": {},
   "outputs": [
    {
     "name": "stdout",
     "output_type": "stream",
     "text": [
      "문자 입력6\n",
      "입력받은 문자 :  6\n",
      "입력받은 문자열의 길이는 :  1\n"
     ]
    }
   ],
   "source": [
    "#키보드로부터 입력을 받아 해당 문자열을 출력하고 길이를 구하시오\n",
    "\n",
    "input_str = input(\"문자 입력\")\n",
    "\n",
    "\n",
    "print(\"입력받은 문자 : \", input_str)\n",
    "print(\"입력받은 문자열의 길이는 : \", len(input_str))\n"
   ]
  },
  {
   "cell_type": "code",
   "execution_count": 3,
   "id": "32494969",
   "metadata": {},
   "outputs": [
    {
     "data": {
      "text/plain": [
       "'문자 입력'"
      ]
     },
     "execution_count": 3,
     "metadata": {},
     "output_type": "execute_result"
    }
   ],
   "source": [
    "\"문자 입력\" .format()"
   ]
  },
  {
   "cell_type": "code",
   "execution_count": 8,
   "id": "20cf4c7d",
   "metadata": {},
   "outputs": [
    {
     "name": "stdout",
     "output_type": "stream",
     "text": [
      "문자 입력6\n",
      "입력받은 문자 :  6\n",
      "입력받은 문자열의 길이는 :  1\n",
      "10\n",
      "10 test 20\n",
      "입력받은 문자:6, 문자열의 길이는:1\n"
     ]
    }
   ],
   "source": [
    "#fomat : {}에 값을 대입함\n",
    "input_str = input(\"문자 입력\")\n",
    "\n",
    "\n",
    "print(\"입력받은 문자 : \", input_str)\n",
    "print(\"입력받은 문자열의 길이는 : \", len(input_str))\n",
    "\n",
    "print(\"{}\".format(10)) #10\n",
    "print(\"{} {} {}\".format(10,'test',20))\n",
    "\n",
    "print(\"입력받은 문자:{}, 문자열의 길이는:{}\".format(input_str,len(input_str)))"
   ]
  },
  {
   "cell_type": "code",
   "execution_count": 14,
   "id": "464bc6e6",
   "metadata": {},
   "outputs": [
    {
     "name": "stdout",
     "output_type": "stream",
     "text": [
      "51\n",
      "   51\n",
      "  -51\n",
      "00051\n",
      "-0051\n"
     ]
    }
   ],
   "source": [
    "#정수 자릿수 지정하기\n",
    "num_1 = 51\n",
    "\n",
    "print(\"{:d}\".format(num_1))\n",
    "print(\"{:5d}\".format(num_1))\n",
    "print(\"{:5d}\".format(num_1*-1))\n",
    "print(\"{:05d}\".format(num_1))\n",
    "print(\"{:05d}\".format(num_1*-1))\n"
   ]
  },
  {
   "cell_type": "code",
   "execution_count": 15,
   "id": "6ac7e548",
   "metadata": {},
   "outputs": [
    {
     "name": "stdout",
     "output_type": "stream",
     "text": [
      "+51\n",
      "-51\n",
      " 51\n",
      "-51\n"
     ]
    }
   ],
   "source": [
    "#부호 붙이기\n",
    "\n",
    "print(\"{:+d}\".format(num_1))  # +52\n",
    "print(\"{:+d}\".format(num_1 * -1))  # -52\n",
    "print(\"{: d}\".format(num_1))   # 52 양수는 부호를 붙이지 않는다\n",
    "print(\"{: d}\".format(num_1 * -1))  # -52 음수는 부호를 붙인다\n"
   ]
  },
  {
   "cell_type": "code",
   "execution_count": 16,
   "id": "87accf98",
   "metadata": {
    "scrolled": true
   },
   "outputs": [
    {
     "name": "stdout",
     "output_type": "stream",
     "text": [
      "  +51\n",
      "  -51\n",
      "+  51\n",
      "-  51\n",
      "+0051\n",
      "-0051\n"
     ]
    }
   ],
   "source": [
    "#조합하기\n",
    "print(\"{:+5d}\".format(num_1))\n",
    "print(\"{:+5d}\".format(num_1 * -1))\n",
    "print(\"{:=+5d}\".format(num_1))\n",
    "print(\"{:=+5d}\".format(num_1 * -1))\n",
    "print(\"{:+05d}\".format(num_1))\n",
    "print(\"{:+05d}\".format(num_1 * -1))"
   ]
  },
  {
   "cell_type": "code",
   "execution_count": 19,
   "id": "a6b86b9c",
   "metadata": {
    "scrolled": true
   },
   "outputs": [
    {
     "name": "stdout",
     "output_type": "stream",
     "text": [
      "52.273000\n",
      "      52.273000\n",
      "     +52.273000\n",
      "+0000052.273000\n",
      "         52.273\n",
      "10\n"
     ]
    }
   ],
   "source": [
    "#부동 소수점 출력 {:f}\n",
    "num_f = 52.273\n",
    "print(\"{:F}\".format(num_f)) #52.273000\n",
    "print(\"{:15f}\".format(num_f)) #52. 273000.. 전체 표현하는 자리수가 15자리\n",
    "print(\"{:+15f}\".format(num_f))\n",
    "print(\"{:+015f}\".format(num_f))\n",
    "\n",
    "#소숫점 미만 표현 자리수 지정\n",
    "print(\"{:15.3f}\".format(num_f)) #전체 표현 자리수는 15, 소숫점 미만 3자리\n",
    "#의미없는 소수점 제거하기\n",
    "print(\"{:g}\".format(10.0)) #10 출력"
   ]
  },
  {
   "cell_type": "code",
   "execution_count": 28,
   "id": "f062cf90",
   "metadata": {},
   "outputs": [
    {
     "name": "stdout",
     "output_type": "stream",
     "text": [
      "   HELLO WORLD!   \n",
      "   hello world!   \n",
      "/ Hello World! /\n",
      "Hello World!   \n",
      "   Hello World!\n"
     ]
    },
    {
     "data": {
      "text/plain": [
       "'HELLO WORLD!'"
      ]
     },
     "execution_count": 28,
     "metadata": {},
     "output_type": "execute_result"
    }
   ],
   "source": [
    "#upper(), lower() ,strip() >>>문자열. 함수\n",
    "str_a = '   Hello World!   '\n",
    "print(str_a.upper()) #대문자로 표현\n",
    "print(str_a.lower()) #소문자로 표현\n",
    "print('/',str_a.strip(),'/') #양쪽 공백 제거\n",
    "print(str_a.lstrip()) #왼쪽만 공백제거\n",
    "print(str_a.rstrip()) #오른쪽만 공백 제거\n",
    "\n",
    "#소문자로 바꿔서 공백 제거\n",
    "str_a.lower().strip()\n",
    "#대문자\n",
    "str_a.upper().strip()"
   ]
  },
  {
   "cell_type": "code",
   "execution_count": 37,
   "id": "0bb2e997",
   "metadata": {},
   "outputs": [
    {
     "name": "stdout",
     "output_type": "stream",
     "text": [
      "True\n",
      "True\n",
      "False\n"
     ]
    }
   ],
   "source": [
    "#문자열 구성 파악하기 is함수명()\n",
    "print(\"translate\".isalnum())       #True (문자인가?)\n",
    "print(\"10\".isdigit())              #true (숫자인가?)\n",
    "\n",
    "print(\"im A port\".isupper())       #대문자만 있는가?"
   ]
  },
  {
   "cell_type": "code",
   "execution_count": 44,
   "id": "a4b7d420",
   "metadata": {},
   "outputs": [
    {
     "name": "stdout",
     "output_type": "stream",
     "text": [
      "시작 위치: 5, 마지막 위치:10, hello\n",
      "hello python\n"
     ]
    }
   ],
   "source": [
    "#find(), rfind():찾고자하는 문자열의 위치 반환\n",
    "\n",
    "input_str = \"asdf hellohello python\" #처음 나오는 hello를 추출해서 출력\n",
    "start_p = input_str.find(\"hello\")\n",
    "end_p = input_str.rfind(\"hello\")\n",
    "\n",
    "print(\"시작 위치: {}, 마지막 위치:{}, {}\".format(start_p, end_p,\n",
    "                                                  input_str[start_p : end_p]))\n",
    "\n",
    "#마지막 위치의 hello부터 뒤의 문자도 출력\n",
    "print(input_str[end_p:])\n"
   ]
  },
  {
   "cell_type": "code",
   "execution_count": 66,
   "id": "4a16d527",
   "metadata": {},
   "outputs": [
    {
     "name": "stdout",
     "output_type": "stream",
     "text": [
      "abcd \n",
      "abcd \n",
      "abcd test\n",
      "\n",
      "abcd\n"
     ]
    }
   ],
   "source": [
    "\n",
    "#키보드에서 공백 포함해서 문자열을 입력 받아\n",
    "# 처음 공백 나오는 위치까지의 문자만 출력 abcd만 출력\n",
    "### 학생해답\n",
    "input_str = \"abcd test\"\n",
    "start_p = input_str.find(\"abcd\")\n",
    "end_p = input_str. rfind(\"abcd\")\n",
    "print(input_str[start_p:][:5])\n",
    "print(input_str[end_p:][:5])\n",
    "\n",
    "###문제 해답\n",
    "print(input_str); print()\n",
    "print(input_str[ : input_str.find(' ')])\n",
    "\n",
    "# 함수명() : len, print, type\n",
    "#오브젝트, 함수명() : 클래스 (멤버변수, 매서드 (함수)) str. upper(), ...\n",
    "#str. format()"
   ]
  },
  {
   "cell_type": "code",
   "execution_count": null,
   "id": "f805dec1",
   "metadata": {},
   "outputs": [],
   "source": []
  },
  {
   "cell_type": "code",
   "execution_count": 34,
   "id": "4c11b2af",
   "metadata": {},
   "outputs": [
    {
     "name": "stdout",
     "output_type": "stream",
     "text": [
      "['10', '20', '30', '40', 'test', 'abcd']\n",
      "['10', '20', '30', '40', 'test', 'abcd']\n",
      " input data >> asdff ggg\n",
      "asdff ggg \t 2번째 입력 자료 :  ggg\n"
     ]
    }
   ],
   "source": [
    "#문자열 자르기 함수 : 문자열.split()  <<사용법\n",
    "\n",
    "a_str = \" 10 20 30 40 test abcd\"\n",
    "a = a_str.split()\n",
    "print(a_str.split())\n",
    "b_str = \"10,20,30,40,test,abcd\"\n",
    "print(b_str.split(','))\n",
    "\n",
    "( ',' in \"10,20,30,40,test,abcd\") #True or False\n",
    "\n",
    "\n",
    "#키보드로부터 데이터를 입력받아 공백으로 데이터를 분리하고\n",
    "#2번째 입력된 자료를 출력하세요\n",
    "#abcd test c 10 30 >> test를 출력할것\n",
    "input_str = input(\" input data >> \")\n",
    "input_split = input_str.split()\n",
    "print(input_str, \"\\t 2번째 입력 자료 : \", input_split [1])"
   ]
  },
  {
   "cell_type": "code",
   "execution_count": 17,
   "id": "fd7673d2",
   "metadata": {},
   "outputs": [
    {
     "name": "stdout",
     "output_type": "stream",
     "text": [
      " input your data >>asdasd dwqerr fggg\n",
      "asdasd dwqerr fggg 2번째 입력 자료 :  dwqerr\n"
     ]
    }
   ],
   "source": [
    "input_str = input(\" input your data >>\")\n",
    "input_split = input_str. split()\n",
    "print(input_str, \"2번째 입력 자료 : \", input_split [1])"
   ]
  },
  {
   "cell_type": "code",
   "execution_count": 36,
   "id": "f0952579",
   "metadata": {
    "scrolled": true
   },
   "outputs": [
    {
     "name": "stdout",
     "output_type": "stream",
     "text": [
      "False\n",
      "True\n",
      "True\n",
      "False\n",
      "True\n",
      "False\n",
      "\n",
      "True\n",
      "False\n",
      "False\n",
      "True\n",
      "\n",
      "True\n",
      "True\n",
      "False\n",
      "True\n"
     ]
    }
   ],
   "source": [
    "# = 는 대입의 의미\n",
    "\n",
    "A = 10\n",
    "B = 20\n",
    "C = 30\n",
    "A+B+C\n",
    "\n",
    "#and, or, not , == , !=, >, <, <=, >=\n",
    "a = 10; b = 20\n",
    "print(a==b) #False\n",
    "print(a!=b) #True\n",
    "print(a < b) #true\n",
    "print(a > b) #false\n",
    "print(a <=b) #true\n",
    "print(a >=b) #False\n",
    "print()\n",
    "print(a ==10 and b==20) #true\n",
    "print(a ==10 and b!=20) #false\n",
    "print(a != 10 and b!=20) #false\n",
    "print(not (a != 10 or b!=20)) #true\n",
    "print()\n",
    "print(a ==10 or b==20) #true\n",
    "print(a ==10 or b!=20) #true\n",
    "print(a != 10 or b!=20) #false\n",
    "print(not(a != 10 or b!=20)) #true"
   ]
  },
  {
   "cell_type": "code",
   "execution_count": 37,
   "id": "2a24bd8a",
   "metadata": {},
   "outputs": [],
   "source": [
    "##문자열 관련 함수\n",
    "##format(), upper(), lower(), split(), lstrip(), rstrip(), find(), rfind(),is@@()\n",
    "\n",
    "#문자열 연산자 : in>>'문자'in'문자열'"
   ]
  },
  {
   "cell_type": "code",
   "execution_count": 39,
   "id": "b3b9053f",
   "metadata": {
    "collapsed": true
   },
   "outputs": [
    {
     "name": "stdout",
     "output_type": "stream",
     "text": [
      "if 문장 실행\n",
      "input date40\n"
     ]
    },
    {
     "ename": "NameError",
     "evalue": "name 'input_num' is not defined",
     "output_type": "error",
     "traceback": [
      "\u001b[1;31m---------------------------------------------------------------------------\u001b[0m",
      "\u001b[1;31mNameError\u001b[0m                                 Traceback (most recent call last)",
      "\u001b[1;32m<ipython-input-39-104dfa5aa78e>\u001b[0m in \u001b[0;36m<module>\u001b[1;34m\u001b[0m\n\u001b[0;32m     13\u001b[0m \u001b[1;33m\u001b[0m\u001b[0m\n\u001b[0;32m     14\u001b[0m \u001b[0minput_str\u001b[0m \u001b[1;33m=\u001b[0m \u001b[0minput\u001b[0m\u001b[1;33m(\u001b[0m\u001b[1;34m\"input date\"\u001b[0m\u001b[1;33m)\u001b[0m\u001b[1;33m\u001b[0m\u001b[1;33m\u001b[0m\u001b[0m\n\u001b[1;32m---> 15\u001b[1;33m \u001b[1;32mif\u001b[0m \u001b[0minput_num\u001b[0m\u001b[1;33m.\u001b[0m\u001b[0misndecimal\u001b[0m\u001b[1;33m(\u001b[0m\u001b[1;33m)\u001b[0m\u001b[1;33m:\u001b[0m\u001b[1;33m\u001b[0m\u001b[1;33m\u001b[0m\u001b[0m\n\u001b[0m\u001b[0;32m     16\u001b[0m     \u001b[0minput_num\u001b[0m \u001b[1;33m=\u001b[0m \u001b[0mint\u001b[0m\u001b[1;33m(\u001b[0m\u001b[1;33m)\u001b[0m\u001b[1;33m\u001b[0m\u001b[1;33m\u001b[0m\u001b[0m\n\u001b[0;32m     17\u001b[0m     \u001b[1;32mif\u001b[0m \u001b[0minput_num\u001b[0m \u001b[1;33m<\u001b[0m \u001b[1;36m10\u001b[0m\u001b[1;33m:\u001b[0m\u001b[1;33m\u001b[0m\u001b[1;33m\u001b[0m\u001b[0m\n",
      "\u001b[1;31mNameError\u001b[0m: name 'input_num' is not defined"
     ]
    }
   ],
   "source": [
    "#if 조건식 :\n",
    "if True:\n",
    "    print(\"if 문장 실행\") #실행 함\n",
    "    \n",
    "if False:\n",
    "    print(\"if False 실행\") #실행되지 않음"
   ]
  },
  {
   "cell_type": "code",
   "execution_count": 6,
   "id": "218bff12",
   "metadata": {},
   "outputs": [
    {
     "name": "stdout",
     "output_type": "stream",
     "text": [
      "input date : 9\n",
      "end\n"
     ]
    }
   ],
   "source": [
    "#정수를 입력받아 10보다 작으면 입력된 값 출력\n",
    "#1. 정수 입력 받음\n",
    "#2. 숫자인지 확인 isnimeric()\n",
    "#3. 숫자이면 문자를 숫자로 변경\n",
    "#4. 10보다 작으면 출력\n",
    "\n",
    "input_num = input(\"input date : \")\n",
    "if not input_num.isdecimal():\n",
    "    print('숫자가 아닙니다')\n",
    "    input_num = int(input_num)\n",
    "    if input_num < 10:\n",
    "        print(\"input_num : {:+5d}\".format(input_num))\n",
    "if not input_num.isdecimal():\n",
    "    input_num = int(input_num)\n",
    "    if input_num < 10:\n",
    "        print(\"input_num : {:+5}]\".format(input_num))\n",
    "print(\"end\")\n"
   ]
  },
  {
   "cell_type": "code",
   "execution_count": 63,
   "id": "050e7a14",
   "metadata": {},
   "outputs": [
    {
     "name": "stdout",
     "output_type": "stream",
     "text": [
      "입력값 : 44\n",
      "양수\n",
      "입력값 : 55\n",
      "양수\n",
      "a는 fales\n"
     ]
    }
   ],
   "source": [
    "#숫자를 입력받아 실수로 변환한 후\n",
    "#0보다 크면 '양수', 0보다 작으면 '음수', 0이면 'zero'를 출력\n",
    "##학생답안\n",
    "input_num = float(input(\"입력값 : \"))\n",
    "if input_num > 0:\n",
    "    print (\"양수\")\n",
    "if input_num < 0:\n",
    "    print (\"음수\")\n",
    "if input_num == 0:\n",
    "    print (\"Zero\")\n",
    "    "
   ]
  },
  {
   "cell_type": "code",
   "execution_count": 69,
   "id": "ad2eafed",
   "metadata": {},
   "outputs": [
    {
     "name": "stdout",
     "output_type": "stream",
     "text": [
      "입력값 : 4\n",
      "양수\n",
      "a는 fales\n"
     ]
    }
   ],
   "source": [
    "#수업답안\n",
    "input_num = float(input(\"입력값 : \"))\n",
    "if input_num > 0:\n",
    "    print (\"양수\")\n",
    "if input_num < 0:\n",
    "    print (\"음수\")\n",
    "if not input_num :\n",
    "    print(\"Zero\")\n",
    "a = ''\n",
    "if not a:\n",
    "    print(\"a는 fales\")\n"
   ]
  },
  {
   "cell_type": "code",
   "execution_count": 1,
   "id": "1a79d4c5",
   "metadata": {},
   "outputs": [],
   "source": [
    "#날짜 시간 관련 함수를 사용하기 위해서 datetime 모듈 가져오기\n"
   ]
  },
  {
   "cell_type": "code",
   "execution_count": 16,
   "id": "0941cede",
   "metadata": {},
   "outputs": [
    {
     "name": "stdout",
     "output_type": "stream",
     "text": [
      "2021년 10월 29일 14시 26분 38초\n"
     ]
    }
   ],
   "source": [
    "import datetime\n",
    "now = datetime.datetime.now()\n",
    "\n",
    "print(\"{}년 {}월 {}일 {}시 {}분 {}초\".format(now.year, now.month, now.day, now.hour, now.minute, now.second))\n",
    "    "
   ]
  },
  {
   "cell_type": "code",
   "execution_count": 4,
   "id": "6086d921",
   "metadata": {},
   "outputs": [
    {
     "name": "stdout",
     "output_type": "stream",
     "text": [
      "정수입력 > 9\n",
      "홀수입니다\n",
      "홀수입니다\n",
      "홀수입니다\n"
     ]
    }
   ],
   "source": [
    "# 정수 입력 받아 짝수인지 확인 마지막 입력된 숫자가 0, 2, 4, 6, 8,\n",
    "input_num = input(\"정수입력 > \")\n",
    "last_char = input_num[-1]    #마지막 글자 가져옴\n",
    "last_num = int(last_char)    #정수형으로 데이터 타임 변경\n",
    "if last_num ==0 or last_num ==2 or last_num ==4 or last_num ==6 or last_num ==8:\n",
    "    print(\"짝수입니다\")\n",
    "\n",
    "if last_num ==1 or last_num ==3 or last_num ==5 or last_num ==7 or last_num ==9:\n",
    "    print(\"홀수입니다\")\n",
    "\n",
    "#int로 형변화 후 2로 나눈 나머지값이 0일 경우 짝수 1일 경우 홀수\n",
    "input_num1 = int(input_num)\n",
    "if input_num1 % 2 ==0:\n",
    "    print(\"짝수입니다\")\n",
    "if input_num1 % 2:\n",
    "    print(\"홀수입니다\")\n",
    "    \n",
    "#in 연산자 활용\n",
    "if last_char in \"02468\":\n",
    "    print(\"짝수입니다\")\n",
    "if last_char in \"13579\":\n",
    "    print(\"홀수입니다\")"
   ]
  },
  {
   "cell_type": "code",
   "execution_count": 57,
   "id": "c145731d",
   "metadata": {},
   "outputs": [
    {
     "name": "stdout",
     "output_type": "stream",
     "text": [
      "입력 할 숫자 : 3\n",
      "입력 된 숫자는 3과 3 입니다\n",
      "3의 배수\n"
     ]
    }
   ],
   "source": [
    "# 1. 두 개의 숫자를 입력받아 작은 수 부터 출력\n",
    "# 2. 작은 수와 큰 수를 각각에 대하여\n",
    "# 3. 작은 수와 큰 수가 3의 배수이면, '3의 배수', 아니면 '3의 배수가 아닙니다.'\n",
    "# 34, 57 >>'입력 된 숫자는 34와 57 입니다'로 출력\n",
    "# 34는 3의 배수가 아닙니다. 57은 3의 배수입니다.\n",
    "\n",
    "#학생 해답\n",
    "input_num = input(\"입력 할 숫자 : \")\n",
    "print(\"입력 된 숫자는 {}과 {} 입니다\".format(input_num,(input_num)))\n",
    "last_char = input_num[-1]\n",
    "input_num1 = int(input_num)\n",
    "if input_num1 % 3 ==0:\n",
    "    print(\"3의 배수\")\n",
    "if input_num1 % 3:\n",
    "    print(\"3의 배수가 아닙니다\")\n"
   ]
  },
  {
   "cell_type": "code",
   "execution_count": 46,
   "id": "4d555f9e",
   "metadata": {},
   "outputs": [
    {
     "name": "stdout",
     "output_type": "stream",
     "text": [
      "두 개의 값 입력 :59 33\n",
      "입력된 숫자는 33과 59 입니다\n",
      "33는 3의 배수이고, 59는 3의 배수가 아닙니다\n"
     ]
    }
   ],
   "source": [
    "##수업 해답\n",
    "input_number = input(\"두 개의 값 입력 :\")\n",
    "\n",
    "number_1 = int(input_number.split()[0])\n",
    "number_2 = int(input_number.split()[1])\n",
    "\n",
    "if number_1 < number_2:\n",
    "    a = number_1\n",
    "    b = number_2\n",
    "if number_1 >= number_2:\n",
    "    a = number_2\n",
    "    b = number_1\n",
    "print(\"입력된 숫자는 {}과 {} 입니다\".format(a,b))\n",
    "\n",
    "if a % 3:\n",
    "    if b% 3:\n",
    "        print(\"{}와 {}는 3의 배수가 아닙니다.\".format(a,b))\n",
    "    if b% 3 == 0:\n",
    "        print(\"{}는 3의 배수가 아니고 {}는 3의 배수입니다\".format(a,b))\n",
    "if a % 3==0:\n",
    "    if b % 3:\n",
    "        print(\"{}는 3의 배수이고, {}는 3의 배수가 아닙니다\".format(a,b))\n",
    "    if b % 3 == 0:\n",
    "        print(\"{}와 {}는 3의 배수입니다\".format(a,b))\n",
    "        \n"
   ]
  },
  {
   "cell_type": "code",
   "execution_count": 44,
   "id": "bc9a9405",
   "metadata": {},
   "outputs": [
    {
     "name": "stdout",
     "output_type": "stream",
     "text": [
      "두개의 정수 입력 >>66 33\n",
      "입력된 숫자는 33와 66입니다.\n",
      "66는 3의 배수입니다\n",
      "33는 3의 배수입니다\n"
     ]
    }
   ],
   "source": [
    "##수업 해답 plan B\n",
    "input_number = input (\"두개의 정수 입력 >>\")\n",
    "number_1 = int(input_number.split()[0])\n",
    "number_2 = int(input_number.split()[1])\n",
    "\n",
    "if number_1 < number_2:\n",
    "    print(\"입력된 숫자는 {}와 {}입니다.\".format(number_1,number_2))\n",
    "if number_1 >= number_2:\n",
    "    print(\"입력된 숫자는 {}와 {}입니다.\".format(number_2,number_1))\n",
    "if number_1 % 3:\n",
    "    print(\"{}는 3의 배수가 아닙니다\".format(number_1))\n",
    "if number_1 % 3 ==0:\n",
    "    print(\"{}는 3의 배수입니다\".format(number_1))\n",
    "\n",
    "if number_2 % 3:\n",
    "    print(\"{}는 3의 배수가 아닙니다\".format(number_2))\n",
    "if number_2 % 3 == 0:\n",
    "    print(\"{}는 3의 배수입니다\".format(number_2))"
   ]
  },
  {
   "cell_type": "code",
   "execution_count": 50,
   "id": "a18d480e",
   "metadata": {},
   "outputs": [
    {
     "name": "stdout",
     "output_type": "stream",
     "text": [
      "점수입력 >>10000\n",
      "A\n"
     ]
    }
   ],
   "source": [
    "#정수를 입력받아 90 이상이라면 'A', 80이상이라면 'B', 70이상이면 'C', 그외 'D'\n",
    "input_number = int(input(\"점수입력 >>\"))\n",
    "if input_number >= 90:\n",
    "    print('A')\n",
    "elif input_number >= 80:\n",
    "    print('B')\n",
    "elif input_number >= 70:\n",
    "    print('C')\n",
    "else:\n",
    "    print('D')"
   ]
  },
  {
   "cell_type": "code",
   "execution_count": 78,
   "id": "406911db",
   "metadata": {},
   "outputs": [
    {
     "name": "stdout",
     "output_type": "stream",
     "text": [
      "겨울\n"
     ]
    },
    {
     "data": {
      "text/plain": [
       "datetime.date(2021, 10, 29)"
      ]
     },
     "execution_count": 78,
     "metadata": {},
     "output_type": "execute_result"
    }
   ],
   "source": [
    "#날짜 함수에서 월을 추출하여 현재 월이 봄인지 가을인지 출력\n",
    "#1-3월은 봄 4-6월은 여름 7-9월은 가을 10-12월은 겨울이라 출력\n",
    "#if,elif,else@함수를 사용할것\n",
    "\n",
    "import datetime\n",
    "\n",
    "now = datetime.date.today()\n",
    "if 1 <= now.month <=3:\n",
    "    print('봄')\n",
    "elif 4 <= now.month <=6:\n",
    "    print('여름')\n",
    "elif 7 <= now.month <=9:\n",
    "    print('가을')\n",
    "else:\n",
    "    print('겨울')\n",
    "\n",
    "now"
   ]
  },
  {
   "cell_type": "code",
   "execution_count": 12,
   "id": "0c5a3a17",
   "metadata": {},
   "outputs": [
    {
     "name": "stdout",
     "output_type": "stream",
     "text": [
      "계산 할 식 입력 >> 9 + 0\n",
      "9 + 0 = 9\n"
     ]
    }
   ],
   "source": [
    "#숫자 부호 숫자를 입력받아 계산하는 프로그램 작성\n",
    "# 10 + 20, 10 - 20,부호는 사칙연산 중 하나 입력\n",
    "input_str = input(\"계산 할 식 입력 >> \")\n",
    "number_1 = int(input_str.split()[0])\n",
    "buho = input_str.split()[1]\n",
    "number_2 = int(input_str.split()[2])\n",
    "\n",
    "if buho == '+':\n",
    "    result = number_1 + number_2\n",
    "elif buho == '-':\n",
    "    result = number_1 - number_2\n",
    "elif buho == '*':\n",
    "    result = number_1 * number_2\n",
    "elif buho == '/':\n",
    "    if number_2:\n",
    "        result = number_1 / number_2\n",
    "    else:\n",
    "        print(\"0 이외의 수를 입력하세요\")\n",
    "\n",
    "else:\n",
    "    print(\"부호는 + - * / 만 가능합니다\")\n",
    "\n",
    "if not ( buho == '/' and number_2 ==0 ) and buho in '+-*/':\n",
    "    print(\"{} {} {} = {}\".format(number_1, buho, number_2, result))"
   ]
  },
  {
   "cell_type": "markdown",
   "id": "6c6933c3",
   "metadata": {},
   "source": [
    "### "
   ]
  },
  {
   "cell_type": "code",
   "execution_count": 28,
   "id": "fc6ba954",
   "metadata": {},
   "outputs": [
    {
     "name": "stdout",
     "output_type": "stream",
     "text": [
      "a_list + b_list :  [1, 2, 3, 'a', 'b', 'c']\n",
      "a_list *3 : [1, 2, 3, 1, 2, 3, 1, 2, 3]\n",
      "a_list갯수 : 3, b_list갯수:3, c_list갯수:6\n",
      "\n",
      "[1, 2, 3, ['a', 'b', 'c']]\n",
      "a\n",
      "\n"
     ]
    },
    {
     "data": {
      "text/plain": [
       "[1, [1, 2, 3, 'a', 'b', 'c'], 2, 3, ['a', 'b', 'c']]"
      ]
     },
     "execution_count": 28,
     "metadata": {},
     "output_type": "execute_result"
    }
   ],
   "source": [
    "#list 여러개의 데이터 집합 변수명 = [ , , , .... , ]\n",
    "# + , *, len() 리스트의 갯수\n",
    "# list. append(요소), list,insert(위치, 요소)\n",
    "a_list = [1,2,3]\n",
    "b_list = ['a','b','c']\n",
    "print(\"a_list + b_list : \", a_list + b_list)\n",
    "print(\"a_list *3 :\", a_list * 3 ) #a_list를 3번 반복\n",
    "c_list = a_list + b_list\n",
    "print(\"a_list갯수 : {}, b_list갯수:{}, c_list갯수:{}\".format(len(a_list), len(b_list), len(c_list)))\n",
    "\n",
    "print()\n",
    "\n",
    "a_list.append(b_list) # 마지막 위치에 b_list 추가\n",
    "print(a_list)\n",
    "#a_list의 'a'를 출력\n",
    "print(a_list[3][0])\n",
    "\n",
    "print()\n",
    "\n",
    "a_list.insert(1,c_list) #a_list의 1 인덱스 위치에 c_list 추가\n",
    "a_list"
   ]
  },
  {
   "cell_type": "code",
   "execution_count": 41,
   "id": "77d648c3",
   "metadata": {},
   "outputs": [
    {
     "name": "stdout",
     "output_type": "stream",
     "text": [
      "\n",
      "a_list + b_list =  [1, 2, 3, 'test', 'abcd']\n",
      "\n",
      "[1, 2, 3] \t ['test', 'abcd']\n",
      "\n",
      "[1, 2, 3, ['test', 'abcd']] \t ['test', 'abcd']\n",
      "\n",
      "abcd\n",
      "\n",
      "['name', 'test', 'abcd']\n",
      "\n",
      "[1, 'change', 3, ['name', 'test', 'abcd']] \t ['name', 'test', 'abcd']\n",
      "\n"
     ]
    }
   ],
   "source": [
    "#a_list = [1,2,3], b_list = [\"test\", \"abcd\"]\n",
    "a_list = [1,2,3]\n",
    "b_list = [\"test\", \"abcd\"]\n",
    "print()\n",
    "#a_list에 b_list를 추가\n",
    "print(\"a_list + b_list = \", a_list + b_list)\n",
    "print()\n",
    "#a_list + b_list를 서로 다른 공간에 추가\n",
    "print(a_list, \"\\t\",b_list)\n",
    "print()\n",
    "#a_list에 b_list를 append로 추가\n",
    "a_list.append(b_list)\n",
    "print(a_list, \"\\t\",b_list)\n",
    "print()\n",
    "# 추가된 a_list에서 abcd를 출력할것 >> index를 이용하여\n",
    "print(a_list[-1][-1])\n",
    "print()\n",
    "#b_list에서 \"test\" 앞에 \"name\"을 추가할것\n",
    "b_list.insert(0, 'name')\n",
    "print(b_list)\n",
    "print()\n",
    "#a_list의 두번째 요소를 'change'로 변환\n",
    "a_list[1] = 'change'\n",
    "print(a_list, \"\\t\", b_list)\n",
    "print()"
   ]
  },
  {
   "cell_type": "code",
   "execution_count": 49,
   "id": "f22b4c42",
   "metadata": {},
   "outputs": [
    {
     "ename": "SyntaxError",
     "evalue": "invalid syntax (<ipython-input-49-b76c9ccbb3cb>, line 8)",
     "output_type": "error",
     "traceback": [
      "\u001b[1;36m  File \u001b[1;32m\"<ipython-input-49-b76c9ccbb3cb>\"\u001b[1;36m, line \u001b[1;32m8\u001b[0m\n\u001b[1;33m    a = '10 test' => a[0]:1, a[1]:0, a[-1]:t, a[3:5] :te (3위치는 포함, 5는 포함하지 않음)\u001b[0m\n\u001b[1;37m                   ^\u001b[0m\n\u001b[1;31mSyntaxError\u001b[0m\u001b[1;31m:\u001b[0m invalid syntax\n"
     ]
    }
   ],
   "source": [
    "##############################################예시이므로 값 도출시 오류발생하니 추후 공부시 제대로 된 코딩을 통해 값을 도출할것\n",
    "#대입연산자\n",
    "a = 10 #좌측 변수에 우측값의 값을 입력\n",
    "\n",
    "#비교연산자\n",
    "a == b #a와 b의 값을 비교 true or false\n",
    "\n",
    "#문자 또는 문자열\n",
    "a = '10 test' => a[0]:1, a[1]:0, a[-1]:t, a[3:5] :te (3위치는 포함, 5는 포함하지 않음)\n",
    "\n",
    "num = 10 숫자\n",
    "\n",
    "#리스트 [ ]\n",
    "a_list = 1,2,'test',[1,'a','b']\n",
    "a_list[0] : 1, a_list[-1]: [1, 'a', 'b']. a_list[-1][1]:'a'\n",
    "a_list[2:4] : ['test', [1,'a','b']]\n",
    "\n",
    "a_list.append(요소). a_list.insert(위치, 요소)\n",
    "a_list[1] = 'abcd' :1 의 값이 'abcd'로 변경됨\n",
    "a_list.extend(리스트)"
   ]
  },
  {
   "cell_type": "code",
   "execution_count": null,
   "id": "b71abb5e",
   "metadata": {},
   "outputs": [],
   "source": [
    "#####################211029 수업"
   ]
  }
 ],
 "metadata": {
  "kernelspec": {
   "display_name": "Python 3",
   "language": "python",
   "name": "python3"
  },
  "language_info": {
   "codemirror_mode": {
    "name": "ipython",
    "version": 3
   },
   "file_extension": ".py",
   "mimetype": "text/x-python",
   "name": "python",
   "nbconvert_exporter": "python",
   "pygments_lexer": "ipython3",
   "version": "3.8.8"
  }
 },
 "nbformat": 4,
 "nbformat_minor": 5
}
