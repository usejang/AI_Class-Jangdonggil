{
 "cells": [
  {
   "cell_type": "code",
   "execution_count": 1,
   "id": "4027cdf5",
   "metadata": {},
   "outputs": [],
   "source": [
    "#숙줴"
   ]
  },
  {
   "cell_type": "code",
   "execution_count": 8,
   "id": "62eccdf6",
   "metadata": {},
   "outputs": [
    {
     "ename": "SyntaxError",
     "evalue": "invalid syntax (<ipython-input-8-a9051c5c0626>, line 19)",
     "output_type": "error",
     "traceback": [
      "\u001b[1;36m  File \u001b[1;32m\"<ipython-input-8-a9051c5c0626>\"\u001b[1;36m, line \u001b[1;32m19\u001b[0m\n\u001b[1;33m    total =+= value\u001b[0m\n\u001b[1;37m           ^\u001b[0m\n\u001b[1;31mSyntaxError\u001b[0m\u001b[1;31m:\u001b[0m invalid syntax\n"
     ]
    }
   ],
   "source": [
    "# 이름과 성적을 입력받아 딕셔너리에 저장한 후 이름을 키로 성적을 값으로 ( input_data() )\n",
    "# 이름에 'q'가 입력되면 입력 종료\n",
    "def input_data(dict_score):\n",
    "    input_str = input(\"name score > \").split()\n",
    "    if 'q' in input_str:\n",
    "        return False    \n",
    "    dict_score[input_str[0]] = int(input_str[1])\n",
    "    return True\n",
    "# 검색할 이름의 성적을 구하는 함수\n",
    "def search_name(s_name, dict_score):\n",
    "    for name in dict_score:\n",
    "        if name == s_name:\n",
    "            return dict_score[name]\n",
    "    return None\n",
    "# 총점 구하는 함수\n",
    "def sum_func(dict_score):\n",
    "    total = 0\n",
    "    for key, value in dict_score.items():  # key와 값을 반환\n",
    "        total += value\n",
    "    return total\n",
    "# 평균 구하는 함수\n",
    "def avg_func(dict_score):\n",
    "    return sum_func(dict_score) / len(dict_score)"
   ]
  },
  {
   "cell_type": "code",
   "execution_count": 9,
   "id": "a01a8b27",
   "metadata": {},
   "outputs": [
    {
     "ename": "SyntaxError",
     "evalue": "invalid syntax (<ipython-input-9-0ac256632c07>, line 6)",
     "output_type": "error",
     "traceback": [
      "\u001b[1;36m  File \u001b[1;32m\"<ipython-input-9-0ac256632c07>\"\u001b[1;36m, line \u001b[1;32m6\u001b[0m\n\u001b[1;33m    else:\u001b[0m\n\u001b[1;37m    ^\u001b[0m\n\u001b[1;31mSyntaxError\u001b[0m\u001b[1;31m:\u001b[0m invalid syntax\n"
     ]
    }
   ],
   "source": [
    "def input_data():\n",
    "    global dict_score \n",
    "    input_str = input(\"name score > \").split()\n",
    "    if 'q' in input_str:\n",
    "        return False    \n",
    "    dict_score[input_str[0]] = int(input_str[1])\n",
    "    return True"
   ]
  },
  {
   "cell_type": "code",
   "execution_count": 7,
   "id": "49fe9b54",
   "metadata": {},
   "outputs": [
    {
     "name": "stdout",
     "output_type": "stream",
     "text": [
      "검색할 이름 > 자료 없음\n"
     ]
    },
    {
     "ename": "NameError",
     "evalue": "name 'search_name' is not defined",
     "output_type": "error",
     "traceback": [
      "\u001b[1;31m---------------------------------------------------------------------------\u001b[0m",
      "\u001b[1;31mNameError\u001b[0m                                 Traceback (most recent call last)",
      "\u001b[1;32m<ipython-input-7-33f8900d32b4>\u001b[0m in \u001b[0;36m<module>\u001b[1;34m\u001b[0m\n\u001b[0;32m      1\u001b[0m \u001b[0ms_name\u001b[0m \u001b[1;33m=\u001b[0m \u001b[0minput\u001b[0m\u001b[1;33m(\u001b[0m\u001b[1;34m\"검색할 이름 > \"\u001b[0m\u001b[1;33m)\u001b[0m\u001b[1;33m\u001b[0m\u001b[1;33m\u001b[0m\u001b[0m\n\u001b[1;32m----> 2\u001b[1;33m \u001b[0ms_score\u001b[0m \u001b[1;33m=\u001b[0m \u001b[0msearch_name\u001b[0m\u001b[1;33m(\u001b[0m\u001b[0ms_name\u001b[0m\u001b[1;33m,\u001b[0m \u001b[0mdict_score\u001b[0m\u001b[1;33m)\u001b[0m\u001b[1;33m\u001b[0m\u001b[1;33m\u001b[0m\u001b[0m\n\u001b[0m\u001b[0;32m      3\u001b[0m \u001b[1;32mif\u001b[0m \u001b[0ms_score\u001b[0m\u001b[1;33m:\u001b[0m\u001b[1;33m\u001b[0m\u001b[1;33m\u001b[0m\u001b[0m\n\u001b[0;32m      4\u001b[0m     \u001b[0mprint\u001b[0m\u001b[1;33m(\u001b[0m\u001b[1;34m\"{}의 점수 {}\"\u001b[0m\u001b[1;33m.\u001b[0m\u001b[0mformat\u001b[0m\u001b[1;33m(\u001b[0m\u001b[0ms_name\u001b[0m\u001b[1;33m,\u001b[0m \u001b[0ms_score\u001b[0m\u001b[1;33m)\u001b[0m\u001b[1;33m)\u001b[0m\u001b[1;33m\u001b[0m\u001b[1;33m\u001b[0m\u001b[0m\n\u001b[0;32m      5\u001b[0m \u001b[1;32melse\u001b[0m\u001b[1;33m:\u001b[0m\u001b[1;33m\u001b[0m\u001b[1;33m\u001b[0m\u001b[0m\n",
      "\u001b[1;31mNameError\u001b[0m: name 'search_name' is not defined"
     ]
    }
   ],
   "source": [
    "# 자료 입력 :\n",
    "dict_score = {}   # global 변수\n",
    "while True:\n",
    "    if not input_data():\n",
    "        break\n",
    "print(\"dict_score : \", dict_score)"
   ]
  },
  {
   "cell_type": "code",
   "execution_count": 2,
   "id": "eb720962",
   "metadata": {},
   "outputs": [],
   "source": [
    "# 자료 입력 :\n",
    "dict_score = {}\n",
    "while True:\n",
    "    if not input_data(dict_score):\n",
    "        break\n",
    "    print(\"dict_score : \", dict_score)"
   ]
  },
  {
   "cell_type": "code",
   "execution_count": 3,
   "id": "d920828f",
   "metadata": {},
   "outputs": [
    {
     "ename": "TypeError",
     "evalue": "input_data() takes 0 positional arguments but 1 was given",
     "output_type": "error",
     "traceback": [
      "\u001b[1;31m---------------------------------------------------------------------------\u001b[0m",
      "\u001b[1;31mTypeError\u001b[0m                                 Traceback (most recent call last)",
      "\u001b[1;32m<ipython-input-3-7ff069e673dc>\u001b[0m in \u001b[0;36m<module>\u001b[1;34m\u001b[0m\n\u001b[0;32m      3\u001b[0m \u001b[0mdict_score\u001b[0m \u001b[1;33m=\u001b[0m \u001b[1;33m{\u001b[0m\u001b[1;33m}\u001b[0m\u001b[1;33m\u001b[0m\u001b[1;33m\u001b[0m\u001b[0m\n\u001b[0;32m      4\u001b[0m \u001b[1;32mwhile\u001b[0m \u001b[1;32mTrue\u001b[0m\u001b[1;33m:\u001b[0m\u001b[1;33m\u001b[0m\u001b[1;33m\u001b[0m\u001b[0m\n\u001b[1;32m----> 5\u001b[1;33m     \u001b[1;32mif\u001b[0m \u001b[1;32mnot\u001b[0m \u001b[0minput_data\u001b[0m\u001b[1;33m(\u001b[0m\u001b[0mdict_score\u001b[0m\u001b[1;33m)\u001b[0m\u001b[1;33m:\u001b[0m\u001b[1;33m\u001b[0m\u001b[1;33m\u001b[0m\u001b[0m\n\u001b[0m\u001b[0;32m      6\u001b[0m         \u001b[1;32mbreak\u001b[0m\u001b[1;33m\u001b[0m\u001b[1;33m\u001b[0m\u001b[0m\n\u001b[0;32m      7\u001b[0m \u001b[1;33m\u001b[0m\u001b[0m\n",
      "\u001b[1;31mTypeError\u001b[0m: input_data() takes 0 positional arguments but 1 was given"
     ]
    }
   ],
   "source": [
    "# 2. 전체 학생의 인원수, 총점과 평균을 출력 ( sum_func(), avg_func() )\n",
    "print(\"인원수 :{}, 총점 : {}. 평균 : {:3.2f}\".format(len(dict_score),\n",
    "                                             sum_func(dict_score),\n",
    "                                             avg_func(dict_score)))"
   ]
  },
  {
   "cell_type": "code",
   "execution_count": 10,
   "id": "12331cfc",
   "metadata": {},
   "outputs": [
    {
     "name": "stdout",
     "output_type": "stream",
     "text": [
      "test\n",
      "test\n",
      "test\n",
      "test\n",
      "test\n"
     ]
    }
   ],
   "source": [
    "def print_n_values(value, n=2):   \n",
    "    for i in range(n):\n",
    "        print(value)\n",
    "\n",
    "print_n_values(\"test\",3) # value = 'test', n = 3  함수가 종료되면 n과 value는 존재하지 않음\n",
    "print_n_values(\"test\")"
   ]
  },
  {
   "cell_type": "code",
   "execution_count": null,
   "id": "0a79bcb4",
   "metadata": {},
   "outputs": [],
   "source": []
  }
 ],
 "metadata": {
  "kernelspec": {
   "display_name": "Python 3",
   "language": "python",
   "name": "python3"
  },
  "language_info": {
   "codemirror_mode": {
    "name": "ipython",
    "version": 3
   },
   "file_extension": ".py",
   "mimetype": "text/x-python",
   "name": "python",
   "nbconvert_exporter": "python",
   "pygments_lexer": "ipython3",
   "version": "3.8.8"
  }
 },
 "nbformat": 4,
 "nbformat_minor": 5
}
