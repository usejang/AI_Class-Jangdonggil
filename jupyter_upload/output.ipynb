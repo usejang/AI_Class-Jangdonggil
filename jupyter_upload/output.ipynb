{
 "cells": [
  {
   "cell_type": "code",
   "execution_count": null,
   "id": "a579737e",
   "metadata": {},
   "outputs": [],
   "source": [
    "#하나만 출력합니다.\n",
    "print(\"#하나만 출렵합니다.\")\n",
    "print(\"Hello Python Programming...!\")\n",
    "print()\n",
    "\n",
    "#여러 개를 출력합니다.\n",
    "print(\"#여러 개를 출력합니다.\")\n",
    "print(10, 20, 30, 40, 50)\n",
    "print(\"안녕하세요\", \"저의\", \"이름은\", \"장동길입니다.\")\n",
    "print()\n",
    "\n",
    "#아무것도 입력하지 않으면 단순하게 줄바꿈합니다.\n",
    "print(\"#아무것도 출력하지 않습니다.\")\n",
    "print(\"---확인 전용선---\")"
   ]
  }
 ],
 "metadata": {
  "kernelspec": {
   "display_name": "Python 3",
   "language": "python",
   "name": "python3"
  },
  "language_info": {
   "codemirror_mode": {
    "name": "ipython",
    "version": 3
   },
   "file_extension": ".py",
   "mimetype": "text/x-python",
   "name": "python",
   "nbconvert_exporter": "python",
   "pygments_lexer": "ipython3",
   "version": "3.8.8"
  }
 },
 "nbformat": 4,
 "nbformat_minor": 5
}
