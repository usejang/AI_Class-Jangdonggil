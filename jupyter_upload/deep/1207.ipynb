{
 "cells": [
  {
   "cell_type": "code",
   "execution_count": 2,
   "id": "d66db65e",
   "metadata": {},
   "outputs": [],
   "source": [
    "from tensorflow import keras\n",
    "import numpy as np\n",
    "import matplotlib.pyplot as plt"
   ]
  },
  {
   "cell_type": "code",
   "execution_count": 3,
   "id": "1b8aa808",
   "metadata": {},
   "outputs": [],
   "source": [
    "# 학습셋, 테스트셋 가져오기\n",
    "(X_train, Y_train), (X_test, Y_test) =\\\n",
    "    keras.datasets.imdb.load_data(num_words=5000)"
   ]
  },
  {
   "cell_type": "code",
   "execution_count": 4,
   "id": "b9dfc1d2",
   "metadata": {},
   "outputs": [
    {
     "name": "stdout",
     "output_type": "stream",
     "text": [
      "(25000,) (25000,)\n",
      "\n",
      " [1, 14, 22, 16, 43, 530, 973, 1622, 1385, 65, 458, 4468, 66, 3941, 4, 173, 36, 256, 5, 25, 100, 43, 838, 112, 50, 670, 2, 9, 35, 480, 284, 5, 150, 4, 172, 112, 167, 2, 336, 385, 39, 4, 172, 4536, 1111, 17, 546, 38, 13, 447, 4, 192, 50, 16, 6, 147, 2025, 19, 14, 22, 4, 1920, 4613, 469, 4, 22, 71, 87, 12, 16, 43, 530, 38, 76, 15, 13, 1247, 4, 22, 17, 515, 17, 12, 16, 626, 18, 2, 5, 62, 386, 12, 8, 316, 8, 106, 5, 4, 2223, 2, 16, 480, 66, 3785, 33, 4, 130, 12, 16, 38, 619, 5, 25, 124, 51, 36, 135, 48, 25, 1415, 33, 6, 22, 12, 215, 28, 77, 52, 5, 14, 407, 16, 82, 2, 8, 4, 107, 117, 2, 15, 256, 4, 2, 7, 3766, 5, 723, 36, 71, 43, 530, 476, 26, 400, 317, 46, 7, 4, 2, 1029, 13, 104, 88, 4, 381, 15, 297, 98, 32, 2071, 56, 26, 141, 6, 194, 2, 18, 4, 226, 22, 21, 134, 476, 26, 480, 5, 144, 30, 2, 18, 51, 36, 28, 224, 92, 25, 104, 4, 226, 65, 16, 38, 1334, 88, 12, 16, 283, 5, 16, 4472, 113, 103, 32, 15, 16, 2, 19, 178, 32] 218 189\n",
      "\n",
      " (25000,) 1\n"
     ]
    }
   ],
   "source": [
    "# 데이터 관찰하기\n",
    "print(X_train.shape, Y_train.shape)\n",
    "print(\"\\n\",X_train[0], len(X_train[0]), len(X_train[1]))\n",
    "print(\"\\n\",Y_train.shape, Y_train[0])"
   ]
  },
  {
   "cell_type": "code",
   "execution_count": 5,
   "id": "b528e372",
   "metadata": {},
   "outputs": [],
   "source": [
    "#x_test 데이터를 50%는 valid_data로 50%는 test_data로\n",
    "from sklearn.model_selection import train_test_split"
   ]
  },
  {
   "cell_type": "code",
   "execution_count": 6,
   "id": "97586622",
   "metadata": {},
   "outputs": [],
   "source": [
    "# x_test 데이터를 50%는 valid_data로 50% 는 test_data 로\n",
    "x_val, x_test, y_val, y_test = train_test_split(X_test, Y_test, \n",
    "                                                    test_size=0.5)"
   ]
  },
  {
   "cell_type": "code",
   "execution_count": 7,
   "id": "21c23062",
   "metadata": {},
   "outputs": [],
   "source": [
    "# 데이터 전처리 : 각 문장의 단어수를 100개로 패딩\n",
    "x_train = keras.preprocessing.sequence.pad_sequences(X_train, maxlen=100)\n",
    "x_test = keras.preprocessing.sequence.pad_sequences(x_test, maxlen=100)\n",
    "x_val = keras.preprocessing.sequence.pad_sequences(x_val, maxlen=100)"
   ]
  },
  {
   "cell_type": "code",
   "execution_count": 8,
   "id": "becbf6bd",
   "metadata": {},
   "outputs": [],
   "source": [
    "# 모델 설정 : 임베딩, 드롭아웃(50%), 컨볼루션(64, 커널 :3, strides=1)\n",
    "#   맥스풀링( size 2 ), LSTM(60), sigmoid\n",
    "model= keras.models.Sequential()\n",
    "model.add(keras.layers.Embedding(5000, 100))\n",
    "model.add(keras.layers.Dropout(0.5))\n",
    "model.add(keras.layers.Conv1D(64, 3, padding='valid', activation='relu'))\n",
    "model.add(keras.layers.MaxPooling1D(2))\n",
    "model.add(keras.layers.LSTM(60))   # GRU(60)\n",
    "model.add(keras.layers.Dropout(0.5))\n",
    "model.add(keras.layers.Dense(1, activation='sigmoid'))\n",
    "\n",
    "# 모델 컴파일\n",
    "model.compile(loss='binary_crossentropy', optimizer='adam', \n",
    "              metrics='accuracy')\n",
    "# model.summary()"
   ]
  },
  {
   "cell_type": "code",
   "execution_count": 9,
   "id": "6dfe15a8",
   "metadata": {},
   "outputs": [
    {
     "name": "stdout",
     "output_type": "stream",
     "text": [
      "Epoch 1/100\n",
      "391/391 [==============================] - 16s 36ms/step - loss: 0.4780 - accuracy: 0.7512 - val_loss: 0.3567 - val_accuracy: 0.8445\n",
      "Epoch 2/100\n",
      "391/391 [==============================] - 14s 35ms/step - loss: 0.3031 - accuracy: 0.8779 - val_loss: 0.3286 - val_accuracy: 0.8567\n",
      "Epoch 3/100\n",
      "391/391 [==============================] - 14s 35ms/step - loss: 0.2561 - accuracy: 0.8995 - val_loss: 0.3253 - val_accuracy: 0.8596\n",
      "Epoch 4/100\n",
      "391/391 [==============================] - 14s 35ms/step - loss: 0.2241 - accuracy: 0.9128 - val_loss: 0.3369 - val_accuracy: 0.8560\n",
      "Epoch 5/100\n",
      "391/391 [==============================] - 14s 35ms/step - loss: 0.1963 - accuracy: 0.9260 - val_loss: 0.3864 - val_accuracy: 0.8507\n",
      "Epoch 6/100\n",
      "391/391 [==============================] - 14s 35ms/step - loss: 0.1638 - accuracy: 0.9416 - val_loss: 0.4015 - val_accuracy: 0.8525\n"
     ]
    }
   ],
   "source": [
    "# 콜백 설정\n",
    "checkpoint = keras.callbacks.ModelCheckpoint('best-lstm-model.h5')\n",
    "early_stopping = keras.callbacks.EarlyStopping(patience=3,\n",
    "                                            restore_best_weights=True)\n",
    "\n",
    "# 모델 실행\n",
    "history = model.fit(x_train, Y_train, epochs=100, batch_size=64,\n",
    "                    validation_data=(x_val, y_val),\n",
    "                    callbacks=[checkpoint, early_stopping])"
   ]
  },
  {
   "cell_type": "code",
   "execution_count": 10,
   "id": "248149b1",
   "metadata": {},
   "outputs": [
    {
     "data": {
      "image/png": "[encoded data removed]",
      "text/plain": [
       "<Figure size 432x288 with 1 Axes>"
      ]
     },
     "metadata": {
      "needs_background": "light"
     },
     "output_type": "display_data"
    },
    {
     "name": "stdout",
     "output_type": "stream",
     "text": [
      "391/391 [==============================] - 2s 6ms/step - loss: 0.3280 - accuracy: 0.8557\n",
      "\n",
      " 테스트 결과 : 0.3280 \n"
     ]
    }
   ],
   "source": [
    "# 모델 학습과 검증의 손실율 그래프로 표현\n",
    "plt.plot(history.history['loss'])\n",
    "plt.plot(history.history['val_loss'])\n",
    "plt.xlabel('epoch')\n",
    "plt.ylabel('loss')\n",
    "plt.legend(['train', 'val'])\n",
    "plt.show()\n",
    "\n",
    "# 테스트 데이터를 모델에 적용한 결과 출력\n",
    "print(\"\\n 테스트 결과 : %.4f \" % (model.evaluate(x_test, y_test)[0]))"
   ]
  },
  {
   "cell_type": "code",
   "execution_count": 11,
   "id": "8df09f5c",
   "metadata": {
    "scrolled": true
   },
   "outputs": [
    {
     "data": {
      "text/plain": [
       "(12500, 100)"
      ]
     },
     "execution_count": 11,
     "metadata": {},
     "output_type": "execute_result"
    }
   ],
   "source": [
    "x_val.shape "
   ]
  },
  {
   "cell_type": "code",
   "execution_count": 13,
   "id": "deb3fb20",
   "metadata": {},
   "outputs": [],
   "source": [
    "# LSTM 2개층 연결\n",
    "model2 = keras.Sequential()\n",
    "\n",
    "model2.add(keras.layers.Embedding(5000, 16, input_length=100))\n",
    "model2.add(keras.layers.LSTM(8, dropout=0.3, return_sequences=True))\n",
    "model2.add(keras.layers.LSTM(8, dropout=0.3))\n",
    "model2.add(keras.layers.Dense(1, activation='sigmoid'))"
   ]
  },
  {
   "cell_type": "code",
   "execution_count": 14,
   "id": "4f01333f",
   "metadata": {},
   "outputs": [
    {
     "name": "stdout",
     "output_type": "stream",
     "text": [
      "Epoch 1/100\n",
      "391/391 [==============================] - 21s 44ms/step - loss: 0.5047 - accuracy: 0.7423 - val_loss: 0.3809 - val_accuracy: 0.8350\n",
      "Epoch 2/100\n",
      "391/391 [==============================] - 17s 43ms/step - loss: 0.3382 - accuracy: 0.8590 - val_loss: 0.3590 - val_accuracy: 0.8439\n",
      "Epoch 3/100\n",
      "391/391 [==============================] - 17s 42ms/step - loss: 0.2974 - accuracy: 0.8794 - val_loss: 0.3525 - val_accuracy: 0.8473\n",
      "Epoch 4/100\n",
      "391/391 [==============================] - 17s 44ms/step - loss: 0.2721 - accuracy: 0.8922 - val_loss: 0.3757 - val_accuracy: 0.8440\n",
      "Epoch 5/100\n",
      "391/391 [==============================] - 17s 43ms/step - loss: 0.2584 - accuracy: 0.8984 - val_loss: 0.3687 - val_accuracy: 0.8461\n",
      "Epoch 6/100\n",
      "391/391 [==============================] - 17s 43ms/step - loss: 0.2404 - accuracy: 0.9079 - val_loss: 0.4159 - val_accuracy: 0.8323\n"
     ]
    }
   ],
   "source": [
    "# 모델 컴파일\n",
    "model2.compile(loss='binary_crossentropy', optimizer='adam', \n",
    "              metrics='accuracy')\n",
    "\n",
    "# 콜백 설정\n",
    "checkpoint = keras.callbacks.ModelCheckpoint('best-2lstm-model.h5')\n",
    "early_stopping = keras.callbacks.EarlyStopping(patience=3,\n",
    "                                            restore_best_weights=True)\n",
    "\n",
    "# 모델 실행\n",
    "history = model2.fit(x_train, Y_train, epochs=100, batch_size=64,\n",
    "                    validation_data=(x_val, y_val),\n",
    "                    callbacks=[checkpoint, early_stopping])"
   ]
  },
  {
   "cell_type": "code",
   "execution_count": 15,
   "id": "3eca88bf",
   "metadata": {},
   "outputs": [
    {
     "data": {
      "image/png": "[encoded data removed]",
      "text/plain": [
       "<Figure size 432x288 with 1 Axes>"
      ]
     },
     "metadata": {
      "needs_background": "light"
     },
     "output_type": "display_data"
    }
   ],
   "source": [
    "# 모델 학습과 검증의 손실율 그래프로 표현\n",
    "plt.plot(history.history['loss'])\n",
    "plt.plot(history.history['val_loss'])\n",
    "plt.xlabel('epoch')\n",
    "plt.ylabel('loss')\n",
    "plt.legend(['train', 'val'])\n",
    "plt.show()"
   ]
  },
  {
   "cell_type": "code",
   "execution_count": 16,
   "id": "00ed6dbc",
   "metadata": {},
   "outputs": [],
   "source": [
    "#  GRU : LSTM 간소화 버전\n",
    "model3 = keras.Sequential()\n",
    "\n",
    "model3.add(keras.layers.Embedding(5000, 16, input_length=100))\n",
    "model3.add(keras.layers.GRU(8))\n",
    "model3.add(keras.layers.Dense(1, activation='sigmoid'))"
   ]
  },
  {
   "cell_type": "code",
   "execution_count": null,
   "id": "84c135ef",
   "metadata": {},
   "outputs": [],
   "source": [
    "# 모델 컴파일\n",
    "model3.compile(loss='binary_crossentropy', optimizer='adam', \n",
    "              metrics='accuracy')\n",
    "\n",
    "# 콜백 설정\n",
    "checkpoint = keras.callbacks.ModelCheckpoint('best-3lstm-model.h5')\n",
    "early_stopping = keras.callbacks.EarlyStopping(patience=3,\n",
    "                                            restore_best_weights=True)\n",
    "\n",
    "# 모델 실행\n",
    "history = model3.fit(x_train, Y_train, epochs=100, batch_size=64,\n",
    "                    validation_data=(x_val, y_val),\n",
    "                    callbacks=[checkpoint, early_stopping])"
   ]
  },
  {
   "cell_type": "code",
   "execution_count": null,
   "id": "2b8ba804",
   "metadata": {},
   "outputs": [],
   "source": [
    "# 모델 학습과 검증의 손실율 그래프로 표현\n",
    "plt.plot(history.history['loss'])\n",
    "plt.plot(history.history['val_loss'])\n",
    "plt.xlabel('epoch')\n",
    "plt.ylabel('loss')\n",
    "plt.legend(['train', 'val'])\n",
    "plt.show()"
   ]
  },
  {
   "cell_type": "code",
   "execution_count": 17,
   "id": "19cbee78",
   "metadata": {},
   "outputs": [],
   "source": [
    "#모델 설정 : 임베딩, 드롭아웃(50%), 컨볼루션(64, 커널 :3, strides=1)\n",
    "#맥스풀링(size2), LSTM(60), sigmoid\n",
    "model = keras.models.Sequential()\n",
    "model.add(keras.layers.Embedding(5000, 100))\n",
    "model.add(keras.layers.Dropout(0.5))\n",
    "model.add(keras.layers.Conv1D(64,3, padding='valid', activation='relu'))\n",
    "model.add(keras.layers.MaxPooling1D(2))\n",
    "model.add(keras.layers.LSTM(60))\n",
    "model.add(keras.layers.Dropout(0.5))\n",
    "model.add(keras.layers.Dense(1, activation='sigmoid'))\n",
    "#모델 컴파일"
   ]
  },
  {
   "cell_type": "code",
   "execution_count": 9,
   "id": "435d688a",
   "metadata": {},
   "outputs": [
    {
     "ename": "NameError",
     "evalue": "name 'x_train' is not defined",
     "output_type": "error",
     "traceback": [
      "\u001b[1;31m---------------------------------------------------------------------------\u001b[0m",
      "\u001b[1;31mNameError\u001b[0m                                 Traceback (most recent call last)",
      "\u001b[1;32m~\\AppData\\Local\\Temp/ipykernel_17916/1032734220.py\u001b[0m in \u001b[0;36m<module>\u001b[1;34m\u001b[0m\n\u001b[0;32m      5\u001b[0m \u001b[1;33m\u001b[0m\u001b[0m\n\u001b[0;32m      6\u001b[0m \u001b[1;31m# 모델 실행\u001b[0m\u001b[1;33m\u001b[0m\u001b[1;33m\u001b[0m\u001b[1;33m\u001b[0m\u001b[0m\n\u001b[1;32m----> 7\u001b[1;33m history = model.fit(x_train, Y_train, epochs=100, batch_size=64,\n\u001b[0m\u001b[0;32m      8\u001b[0m                     \u001b[0mvalidation_data\u001b[0m\u001b[1;33m=\u001b[0m\u001b[1;33m(\u001b[0m\u001b[0mx_val\u001b[0m\u001b[1;33m,\u001b[0m \u001b[0my_val\u001b[0m\u001b[1;33m)\u001b[0m\u001b[1;33m,\u001b[0m\u001b[1;33m\u001b[0m\u001b[1;33m\u001b[0m\u001b[0m\n\u001b[0;32m      9\u001b[0m                     callbacks=[checkpoint, early_stopping])\n",
      "\u001b[1;31mNameError\u001b[0m: name 'x_train' is not defined"
     ]
    }
   ],
   "source": [
    "# 콜백 설정\n",
    "checkpoint = keras.callbacks.ModelCheckpoint('best-lstm-model.h5')\n",
    "early_stopping = keras.callbacks.EarlyStopping(patience=3,\n",
    "                                            restore_best_weights=True)\n",
    "\n",
    "# 모델 실행\n",
    "history = model.fit(x_train, Y_train, epochs=100, batch_size=64,\n",
    "                    validation_data=(x_val, y_val),\n",
    "                    callbacks=[checkpoint, early_stopping])"
   ]
  },
  {
   "cell_type": "code",
   "execution_count": 46,
   "id": "87e46735",
   "metadata": {},
   "outputs": [
    {
     "ename": "NameError",
     "evalue": "name 'history' is not defined",
     "output_type": "error",
     "traceback": [
      "\u001b[1;31m---------------------------------------------------------------------------\u001b[0m",
      "\u001b[1;31mNameError\u001b[0m                                 Traceback (most recent call last)",
      "\u001b[1;32m~\\AppData\\Local\\Temp/ipykernel_3024/362245254.py\u001b[0m in \u001b[0;36m<module>\u001b[1;34m\u001b[0m\n\u001b[0;32m      1\u001b[0m \u001b[1;31m#모델 학습과 검증의 손실율을 그래프로 표현\u001b[0m\u001b[1;33m\u001b[0m\u001b[1;33m\u001b[0m\u001b[1;33m\u001b[0m\u001b[0m\n\u001b[1;32m----> 2\u001b[1;33m \u001b[0mplt\u001b[0m\u001b[1;33m.\u001b[0m\u001b[0mplot\u001b[0m\u001b[1;33m(\u001b[0m\u001b[0mhistory\u001b[0m\u001b[1;33m.\u001b[0m\u001b[0mhistory\u001b[0m\u001b[1;33m[\u001b[0m\u001b[1;34m'loss'\u001b[0m\u001b[1;33m]\u001b[0m\u001b[1;33m)\u001b[0m\u001b[1;33m\u001b[0m\u001b[1;33m\u001b[0m\u001b[0m\n\u001b[0m\u001b[0;32m      3\u001b[0m \u001b[0mplt\u001b[0m\u001b[1;33m.\u001b[0m\u001b[0mplot\u001b[0m\u001b[1;33m(\u001b[0m\u001b[0mhistory\u001b[0m\u001b[1;33m.\u001b[0m\u001b[0mhistory\u001b[0m\u001b[1;33m[\u001b[0m\u001b[1;34m'val_loss'\u001b[0m\u001b[1;33m]\u001b[0m\u001b[1;33m)\u001b[0m\u001b[1;33m\u001b[0m\u001b[1;33m\u001b[0m\u001b[0m\n\u001b[0;32m      4\u001b[0m \u001b[0mplt\u001b[0m\u001b[1;33m.\u001b[0m\u001b[0mxlabel\u001b[0m\u001b[1;33m(\u001b[0m\u001b[1;34m'epoch'\u001b[0m\u001b[1;33m)\u001b[0m\u001b[1;33m\u001b[0m\u001b[1;33m\u001b[0m\u001b[0m\n\u001b[0;32m      5\u001b[0m \u001b[0mplt\u001b[0m\u001b[1;33m.\u001b[0m\u001b[0mylabel\u001b[0m\u001b[1;33m(\u001b[0m\u001b[1;34m'loss'\u001b[0m\u001b[1;33m)\u001b[0m\u001b[1;33m\u001b[0m\u001b[1;33m\u001b[0m\u001b[0m\n",
      "\u001b[1;31mNameError\u001b[0m: name 'history' is not defined"
     ]
    }
   ],
   "source": [
    "#모델 학습과 검증의 손실율을 그래프로 표현\n",
    "plt.plot(history.history['loss'])\n",
    "plt.plot(history.history['val_loss'])\n",
    "plt.xlabel('epoch')\n",
    "plt.ylabel('loss')\n",
    "plt.legend(['train', 'val'])\n",
    "plt.show()\n",
    "#테스트 데이터를 모델에 적용한 결과를 출력\n"
   ]
  },
  {
   "cell_type": "code",
   "execution_count": null,
   "id": "adf565e8",
   "metadata": {},
   "outputs": [],
   "source": [
    "####딥러닝 모델 학습법\n",
    "#-데이터를 학습, 검증, 테스트 데이터로 분리\n",
    "#-카테고리 데이터인 경우 원-핫 인코딩을 이용하여 리스트로 데이터를 변환시킴\n",
    "#-데이터의 특징을 극대화\n",
    "#합성곱을 이용하여 특성에 가중치를 곱해서 극대화 시킴\n",
    "# 이미지 :Conv2D << 커널의 사이즈를 2차원 배열\n",
    "#        기존의 사이즈  변경을 하지 않기 위해서는 padding='same'이 필요\n",
    "#        Maxpooling2D(커널 사이즈) << 특정 특징 추출 후 사이즈 축소 됨\n",
    "#    텍스트 : Conv1D << 커널의 사이즈 1차원 배열\n",
    "#         Maxpooling1D(커널 사이즈)\n",
    "#         LSTM() :  타임 스텝에 가중치를 부여 기억, GRU()\n",
    "# -과적합 방지를 위하여\n",
    "#  드롭아웃 : DropOut(Drop 할 자료의 양 : 비율로)\n",
    "# -텍스트의 경우 문장마다 사이즈가 다르므로 문장의 사이즈 통일\n",
    "#     (패딩 : pda_sequence, 모자라면 0로 채움,)\n",
    "#     (임베딩 : 정해진 단어를 주어지는 배열로 압축, 공간 낭비를 없앰)\n",
    "# -콜백을 이용하여 손실함수 변동 없을 시 조기 중단 가능\n",
    "# -여러개의 층을 쌓을 경우 Dense()는 1차원 배열을 입력으로 받으므로\n",
    "#  Flatten()을 사용하여 1차원 배열로 변환한 후 Dense layer 처리\n",
    "# -마지막 출력 층은 sigmoid 또는 softmax 활성함수를\n",
    "\n"
   ]
  }
 ],
 "metadata": {
  "kernelspec": {
   "display_name": "myvenv",
   "language": "python",
   "name": "myvenv"
  },
  "language_info": {
   "codemirror_mode": {
    "name": "ipython",
    "version": 3
   },
   "file_extension": ".py",
   "mimetype": "text/x-python",
   "name": "python",
   "nbconvert_exporter": "python",
   "pygments_lexer": "ipython3",
   "version": "3.8.12"
  }
 },
 "nbformat": 4,
 "nbformat_minor": 5
}
