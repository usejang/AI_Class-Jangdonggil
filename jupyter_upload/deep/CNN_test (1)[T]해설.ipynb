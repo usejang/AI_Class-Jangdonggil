{
 "cells": [
  {
   "cell_type": "code",
   "execution_count": 1,
   "id": "41dc2228",
   "metadata": {},
   "outputs": [],
   "source": [
    "from keras.models import Sequential\n",
    "from keras.layers import Dense\n",
    "from keras.callbacks import ModelCheckpoint, EarlyStopping\n",
    "from keras.utils import np_utils\n",
    "from keras.datasets import mnist\n",
    "\n",
    "import pandas as pd\n",
    "import numpy as np\n",
    "import matplotlib.pyplot as plt\n",
    "import tensorflow as tf\n",
    "\n",
    "import os"
   ]
  },
  {
   "cell_type": "code",
   "execution_count": 2,
   "id": "3536d39a",
   "metadata": {},
   "outputs": [],
   "source": [
    "# mnist data load\n",
    "(X_train, Y_train), (X_test, Y_test) = mnist.load_data()\n",
    "\n",
    "seed = 0\n",
    "np.random.seed(seed)\n",
    "tf.random.set_seed(3)"
   ]
  },
  {
   "cell_type": "code",
   "execution_count": 3,
   "id": "3dd20470",
   "metadata": {},
   "outputs": [],
   "source": [
    "#2. train 데이터를 70%만 가져옵니다\n",
    "sample_x = np.random.choice(6000,42000)\n",
    "X_train = X_train[sample_x, :]\n",
    "Y_train = Y_train[sample_x]"
   ]
  },
  {
   "cell_type": "code",
   "execution_count": 4,
   "id": "11e9af57",
   "metadata": {},
   "outputs": [],
   "source": [
    "# 3.  데이터 전처리   \n",
    "#     1) 다차원을 2차원으로 차원 변경\n",
    "#    2) 값을 0 ~ 1 사이의 값으로 정규화\n",
    "#    3) 원-핫 인코딩  ( Y의 값을  class라고 함) \n",
    "X_train = X_train.reshape(X_train.shape[0], \n",
    "                          X_train.shape[1]*X_train.shape[2]).astype(float)/255\n",
    "X_test = X_test.reshape(X_test.shape[0], \n",
    "                        X_test.shape[1]*X_test.shape[2])/255\n",
    "\n",
    "Y_train = np_utils.to_categorical(Y_train, 10)\n",
    "Y_test = np_utils.to_categorical(Y_test, 10)"
   ]
  },
  {
   "cell_type": "code",
   "execution_count": 5,
   "id": "aaa1617a",
   "metadata": {},
   "outputs": [],
   "source": [
    "# 4. 모델 설정 \n",
    "model = Sequential()\n",
    "model.add(Dense(512, input_dim=X_test.shape[1], activation='relu'))\n",
    "model.add(Dense(256, activation='relu'))\n",
    "model.add(Dense(10, activation='softmax'))\n",
    "model.compile(loss='categorical_crossentropy',\n",
    "             optimizer='adam',\n",
    "             metrics=['accuracy'])\n"
   ]
  },
  {
   "cell_type": "code",
   "execution_count": 22,
   "id": "4ed6cd8e",
   "metadata": {},
   "outputs": [],
   "source": [
    "# 5. 모델 최적화\n",
    "#    1) epoch실행할 때마다 모델 저장 \n",
    "#       -> 디렉토리 생성후 저장 epoch횟수-에러값.hdf5 을 파일명으로\n",
    "#    2) 더이상 값의 변화가 없을 때 모델 실행 중단 \n",
    "#       -> 값의 변화가 없는 epoch의 수는 30\n",
    "model_dir = \"./CNN_model/\"\n",
    "if not os.path.exists(model_dir):\n",
    "    os.mkdir(model_dir)\n",
    "    \n",
    "modelpath = model_dir + \"{epoch:02d}-{val_loss:.4f}.hdf5\"\n",
    "checkpointer = ModelCheckpoint(filepath=modelpath,\n",
    "                              monitor='val_loss',\n",
    "                              save_best_only=True)\n",
    "early_stopping = EarlyStopping(monitor='val_loss', \n",
    "                              patience=30)"
   ]
  },
  {
   "cell_type": "code",
   "execution_count": 23,
   "id": "65d02484",
   "metadata": {},
   "outputs": [],
   "source": [
    "# 6. 모델의 실행결과를 그래프로 표현하기 위해 변수에 저장\n",
    "hist = model.fit(X_train, Y_train, \n",
    "                validation_data=(X_test, Y_test), epochs=200, verbose=0,\n",
    "                callbacks=[early_stopping, checkpointer])"
   ]
  },
  {
   "cell_type": "code",
   "execution_count": 8,
   "id": "1c2ff5b5",
   "metadata": {},
   "outputs": [
    {
     "data": {
      "image/png": "[encoded data removed]",
      "text/plain": [
       "<Figure size 432x288 with 1 Axes>"
      ]
     },
     "metadata": {
      "needs_background": "light"
     },
     "output_type": "display_data"
    }
   ],
   "source": [
    "# 7. 저장된 변수의 학습셋의 정확도와 테스트셋의 오차를 화면에 표시\n",
    "y_acc = hist.history['accuracy']\n",
    "y_vloss = hist.history['val_loss']\n",
    "\n",
    "x_len = np.arange(len(y_acc))\n",
    "plt.plot(x_len, y_acc, marker='o', c='red', label='train_acc')\n",
    "plt.plot(x_len, y_vloss, marker='o', c='blue', label='test_loss')\n",
    "plt.legend(loc='best')\n",
    "plt.xlabel('epoch')\n",
    "plt.xlabel('acc_loss')\n",
    "plt.show()"
   ]
  },
  {
   "cell_type": "code",
   "execution_count": 37,
   "id": "dd441ee6",
   "metadata": {},
   "outputs": [
    {
     "name": "stdout",
     "output_type": "stream",
     "text": [
      "Model: \"sequential\"\n",
      "_________________________________________________________________\n",
      " Layer (type)                Output Shape              Param #   \n",
      "=================================================================\n",
      " dense (Dense)               (None, 512)               401920    \n",
      "                                                                 \n",
      " dense_1 (Dense)             (None, 256)               131328    \n",
      "                                                                 \n",
      " dense_2 (Dense)             (None, 10)                2570      \n",
      "                                                                 \n",
      "=================================================================\n",
      "Total params: 535,818\n",
      "Trainable params: 535,818\n",
      "Non-trainable params: 0\n",
      "_________________________________________________________________\n"
     ]
    }
   ],
   "source": [
    "from keras.models import load_model\n",
    "\n",
    "def search(dir):\n",
    "    return os.listdir(dir)\n",
    "\n",
    "model_name = \"./\" + model_dir + os.listdir(model_dir)[-1]\n",
    "model_l = load_model(model_name) \n",
    "\n",
    "model_l.summary()"
   ]
  },
  {
   "cell_type": "code",
   "execution_count": 39,
   "id": "fd68d4ca",
   "metadata": {},
   "outputs": [
    {
     "data": {
      "text/plain": [
       "['.ipynb_checkpoints',\n",
       " '01_myfirst_deep.ipynb',\n",
       " '3d_graphic.py',\n",
       " 'b1e547f9318cf310.ipynb',\n",
       " 'CNN-basic.ipynb',\n",
       " 'CNN.ipynb',\n",
       " 'CNN_model',\n",
       " 'CNN_test.ipynb',\n",
       " 'dataset',\n",
       " 'deep_lab01.ipynb',\n",
       " 'iris_multi.ipynb',\n",
       " 'keras-linear.ipynb',\n",
       " 'keras_linear.ipynb',\n",
       " 'linear.ipynb',\n",
       " 'linear_1.ipynb',\n",
       " 'linear_regression.ipynb',\n",
       " 'logistics.ipynb',\n",
       " 'model',\n",
       " 'pima_indian.ipynb',\n",
       " 'pima_model',\n",
       " 'sona-k-fold.ipynb',\n",
       " 'sona.ipynb',\n",
       " 'sona_model.h5',\n",
       " 'sona_test_train.ipynb',\n",
       " 'Untitled.ipynb',\n",
       " 'Untitled1.ipynb',\n",
       " 'Untitled2.ipynb',\n",
       " 'Untitled3.ipynb',\n",
       " 'wine.hd5',\n",
       " 'wine.ipynb',\n",
       " 'XOR.ipynb',\n",
       " '빅데이터 인사이트 교재.pptx']"
      ]
     },
     "execution_count": 39,
     "metadata": {},
     "output_type": "execute_result"
    }
   ],
   "source": [
    "os.listdir(\"./\")"
   ]
  },
  {
   "cell_type": "code",
   "execution_count": null,
   "id": "98231313",
   "metadata": {},
   "outputs": [],
   "source": []
  }
 ],
 "metadata": {
  "kernelspec": {
   "display_name": "Python 3",
   "language": "python",
   "name": "python3"
  },
  "language_info": {
   "codemirror_mode": {
    "name": "ipython",
    "version": 3
   },
   "file_extension": ".py",
   "mimetype": "text/x-python",
   "name": "python",
   "nbconvert_exporter": "python",
   "pygments_lexer": "ipython3",
   "version": "3.8.8"
  }
 },
 "nbformat": 4,
 "nbformat_minor": 5
}
