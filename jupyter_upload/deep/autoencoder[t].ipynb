{
 "cells": [
  {
   "cell_type": "code",
   "execution_count": 6,
   "id": "458490b6",
   "metadata": {},
   "outputs": [],
   "source": [
    "from tensorflow.keras.datasets import mnist\n",
    "from tensorflow.keras.layers import Input, Dense, Reshape, Flatten, Dropout\n",
    "from tensorflow.keras.layers import LeakyReLU, UpSampling2D, Conv2D, MaxPooling2D\n",
    "from tensorflow.keras.models import Sequential, Model\n",
    "\n",
    "import numpy as np\n",
    "import tensorflow as tf\n",
    "import matplotlib.pyplot as plt"
   ]
  },
  {
   "cell_type": "code",
   "execution_count": 2,
   "id": "afa1a80e",
   "metadata": {},
   "outputs": [],
   "source": [
    "# MNIST 데이터 불러오기\n",
    "(X_train,_), (X_test,_) = mnist.load_data()  # train과 test의 이미지만 필요함\n",
    "X_train = X_train.reshape(X_train.shape[0], 28, 28, 1).astype('float32')/255\n",
    "X_test = X_test.reshape(X_test.shape[0], 28, 28, 1).astype('float32')/255"
   ]
  },
  {
   "cell_type": "code",
   "execution_count": 15,
   "id": "eacf369e",
   "metadata": {},
   "outputs": [
    {
     "name": "stdout",
     "output_type": "stream",
     "text": [
      "Model: \"sequential_8\"\n",
      "_________________________________________________________________\n",
      " Layer (type)                Output Shape              Param #   \n",
      "=================================================================\n",
      " conv2d_54 (Conv2D)          (None, 28, 28, 16)        160       \n",
      "                                                                 \n",
      " max_pooling2d_17 (MaxPoolin  (None, 14, 14, 16)       0         \n",
      " g2D)                                                            \n",
      "                                                                 \n",
      " conv2d_55 (Conv2D)          (None, 14, 14, 8)         1160      \n",
      "                                                                 \n",
      " max_pooling2d_18 (MaxPoolin  (None, 7, 7, 8)          0         \n",
      " g2D)                                                            \n",
      "                                                                 \n",
      " conv2d_56 (Conv2D)          (None, 7, 7, 8)           584       \n",
      "                                                                 \n",
      " conv2d_57 (Conv2D)          (None, 7, 7, 8)           584       \n",
      "                                                                 \n",
      " up_sampling2d_20 (UpSamplin  (None, 14, 14, 8)        0         \n",
      " g2D)                                                            \n",
      "                                                                 \n",
      " conv2d_58 (Conv2D)          (None, 14, 14, 8)         584       \n",
      "                                                                 \n",
      " up_sampling2d_21 (UpSamplin  (None, 28, 28, 8)        0         \n",
      " g2D)                                                            \n",
      "                                                                 \n",
      " conv2d_59 (Conv2D)          (None, 28, 28, 1)         73        \n",
      "                                                                 \n",
      "=================================================================\n",
      "Total params: 3,145\n",
      "Trainable params: 3,145\n",
      "Non-trainable params: 0\n",
      "_________________________________________________________________\n"
     ]
    }
   ],
   "source": [
    "# 모델 생성\n",
    "autoencoder = Sequential()\n",
    "\n",
    "# 인코딩 부분\n",
    "autoencoder.add(Conv2D(16, kernel_size=3, padding='same', input_shape=(28,28,1),\n",
    "                      activation='relu'))\n",
    "autoencoder.add(MaxPooling2D(2, padding='same'))\n",
    "autoencoder.add(Conv2D(8, kernel_size=3, padding='same',activation='relu'))\n",
    "autoencoder.add(MaxPooling2D(2))\n",
    "autoencoder.add(Conv2D(8, kernel_size=3, padding='same',activation='relu'))\n",
    "\n",
    "# 디코딩 부분\n",
    "autoencoder.add(Conv2D(8,kernel_size=3, padding='same',activation='relu'))\n",
    "autoencoder.add(UpSampling2D())\n",
    "autoencoder.add(Conv2D(8,kernel_size=3, padding='same',activation='relu'))\n",
    "autoencoder.add(UpSampling2D())\n",
    "autoencoder.add(Conv2D(1, kernel_size=3,padding='same',activation='sigmoid'))\n",
    "\n",
    "# 전체 구조 확인\n",
    "autoencoder.summary()"
   ]
  },
  {
   "cell_type": "code",
   "execution_count": null,
   "id": "1b8b8b0a",
   "metadata": {},
   "outputs": [],
   "source": [
    "autoencoder.add(Conv2D(16, kernel_size=3, padding='same', input_shape=(28,28,1),\n",
    "                       activation='relu'))\n",
    "# 28 * 28 * 16\n",
    "autoencoder.add(MaxPooling2D(pool_size=2))\n",
    "# 14 * 14 * 16\n",
    "autoencoder.add(Conv2D(8, kernel_size=3, activation='relu', padding='same'))\n",
    "# 14 * 14 * 8\n",
    "autoencoder.add(MaxPooling2D(pool_size=2))\n",
    "# 7 * 7 * 8\n",
    "autoencoder.add(Conv2D(8, kernel_size=3, strides=2, padding='same', activation='relu'))\n",
    "# 4 * 4 * 8\n",
    "\n",
    "# 디코딩 부분이 이어집니다. \n",
    "autoencoder.add(Conv2D(8, kernel_size=3, padding='same', activation='relu'))\n",
    "# 4 * 4 * 8\n",
    "autoencoder.add(UpSampling2D())\n",
    "# 8 * 8 * 8\n",
    "autoencoder.add(Conv2D(8, kernel_size=3, padding='same', activation='relu'))\n",
    "# 8 * 8 * 8\n",
    "autoencoder.add(UpSampling2D())\n",
    "# 16 * 16 * 8\n",
    "autoencoder.add(Conv2D(16, kernel_size=3, activation='relu'))\n",
    "# 14 * 14 * 16\n",
    "autoencoder.add(UpSampling2D())\n",
    "# 28 * 28 * 16\n",
    "autoencoder.add(Conv2D(1, kernel_size=3, padding='same', activation='sigmoid'))\n",
    "# 28 * 28 * 1"
   ]
  }
 ],
 "metadata": {
  "kernelspec": {
   "display_name": "Python 3",
   "language": "python",
   "name": "python3"
  },
  "language_info": {
   "codemirror_mode": {
    "name": "ipython",
    "version": 3
   },
   "file_extension": ".py",
   "mimetype": "text/x-python",
   "name": "python",
   "nbconvert_exporter": "python",
   "pygments_lexer": "ipython3",
   "version": "3.8.8"
  }
 },
 "nbformat": 4,
 "nbformat_minor": 5
}
