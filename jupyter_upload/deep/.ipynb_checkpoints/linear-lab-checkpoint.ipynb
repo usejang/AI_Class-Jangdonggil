{
 "cells": [
  {
   "cell_type": "code",
   "execution_count": 4,
   "id": "1282e28b",
   "metadata": {},
   "outputs": [],
   "source": [
    "import numpy as np\n",
    "import pandas as pd\n",
    "import matplotlib.pyplot as plt\n",
    "import random as rnd"
   ]
  },
  {
   "cell_type": "code",
   "execution_count": 22,
   "id": "029c65e2",
   "metadata": {},
   "outputs": [],
   "source": [
    "#공부시간 X와 성적 Y의 리스트를 만듭니다.\n",
    "x = []\n",
    "for i in range(30):\n",
    "    x.append(rnd.randint(1,10))\n",
    "y = []\n",
    "for i in range(30):\n",
    "    y.append(rnd.randint(50,100))"
   ]
  },
  {
   "cell_type": "code",
   "execution_count": 23,
   "id": "44eba75a",
   "metadata": {},
   "outputs": [],
   "source": [
    "x_data = np.array(x)\n",
    "y_data = np.array(y)"
   ]
  },
  {
   "cell_type": "code",
   "execution_count": 24,
   "id": "8646a51f",
   "metadata": {},
   "outputs": [
    {
     "name": "stdout",
     "output_type": "stream",
     "text": [
      "epoch=0, 기울기=18.8120, 절편=4.3040\n",
      "epoch=100, 기울기=2.5118, 절편=57.6391\n",
      "epoch=200, 기울기=0.9658, 절편=67.0141\n",
      "epoch=300, 기울기=0.7001, 절편=68.6256\n",
      "epoch=400, 기울기=0.6544, 절편=68.9026\n",
      "epoch=500, 기울기=0.6466, 절편=68.9502\n",
      "epoch=600, 기울기=0.6452, 절편=68.9584\n",
      "epoch=700, 기울기=0.6450, 절편=68.9598\n",
      "epoch=800, 기울기=0.6450, 절편=68.9600\n",
      "epoch=900, 기울기=0.6449, 절편=68.9601\n",
      "epoch=1000, 기울기=0.6449, 절편=68.9601\n",
      "epoch=1100, 기울기=0.6449, 절편=68.9601\n",
      "epoch=1200, 기울기=0.6449, 절편=68.9601\n",
      "epoch=1300, 기울기=0.6449, 절편=68.9601\n",
      "epoch=1400, 기울기=0.6449, 절편=68.9601\n",
      "epoch=1500, 기울기=0.6449, 절편=68.9601\n",
      "epoch=1600, 기울기=0.6449, 절편=68.9601\n",
      "epoch=1700, 기울기=0.6449, 절편=68.9601\n",
      "epoch=1800, 기울기=0.6449, 절편=68.9601\n",
      "epoch=1900, 기울기=0.6449, 절편=68.9601\n",
      "epoch=2000, 기울기=0.6449, 절편=68.9601\n"
     ]
    }
   ],
   "source": [
    "# 기울기 a와 절편 b의 값을 초기화 합니다.\n",
    "a = 0\n",
    "b = 0\n",
    "\n",
    "#학습률을 정합니다.\n",
    "lr = 0.03 \n",
    "\n",
    "#몇 번 반복될지를 설정합니다.\n",
    "epochs = 2001 \n",
    "\n",
    "#경사 하강법을 시작합니다.\n",
    "for i in range(epochs): # epoch 수 만큼 반복\n",
    "    y_hat = a * x_data + b  #y를 구하는 식을 세웁니다\n",
    "    error = y_data - y_hat  #오차를 구하는 식입니다.\n",
    "    a_diff = -(2/len(x_data)) * sum(x_data * (error)) # 오차함수를 a로 미분한 값입니다. \n",
    "    b_diff = -(2/len(x_data)) * sum(error)  # 오차함수를 b로 미분한 값입니다. \n",
    "    a = a - lr * a_diff  # 학습률을 곱해 기존의 a값을 업데이트합니다.\n",
    "    b = b - lr * b_diff  # 학습률을 곱해 기존의 b값을 업데이트합니다.\n",
    "    if i % 100 == 0:    # 100번 반복될 때마다 현재의 a값, b값을 출력합니다.\n",
    "        print(\"epoch=%.f, 기울기=%.04f, 절편=%.04f\" % (i, a, b))"
   ]
  },
  {
   "cell_type": "code",
   "execution_count": 25,
   "id": "63d281c4",
   "metadata": {},
   "outputs": [
    {
     "data": {
      "image/png": "[encoded data removed]",
      "text/plain": [
       "<Figure size 432x288 with 1 Axes>"
      ]
     },
     "metadata": {
      "needs_background": "light"
     },
     "output_type": "display_data"
    }
   ],
   "source": [
    "# 앞서 구한 기울기와 절편을 이용해 그래프를 그려 봅니다.\n",
    "y_pred = a * x_data + b\n",
    "plt.scatter(x, y)\n",
    "plt.plot([min(x_data), max(x_data)], [min(y_pred), max(y_pred)])\n",
    "plt.show()"
   ]
  },
  {
   "cell_type": "code",
   "execution_count": null,
   "id": "416a2823",
   "metadata": {},
   "outputs": [],
   "source": []
  }
 ],
 "metadata": {
  "kernelspec": {
   "display_name": "Python 3 (ipykernel)",
   "language": "python",
   "name": "python3"
  },
  "language_info": {
   "codemirror_mode": {
    "name": "ipython",
    "version": 3
   },
   "file_extension": ".py",
   "mimetype": "text/x-python",
   "name": "python",
   "nbconvert_exporter": "python",
   "pygments_lexer": "ipython3",
   "version": "3.8.12"
  }
 },
 "nbformat": 4,
 "nbformat_minor": 5
}
