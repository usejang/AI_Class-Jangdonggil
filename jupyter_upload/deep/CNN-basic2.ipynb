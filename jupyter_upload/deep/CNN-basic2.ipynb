{
 "cells": [
  {
   "cell_type": "code",
   "execution_count": 1,
   "id": "9a8d80cb",
   "metadata": {},
   "outputs": [
    {
     "name": "stdout",
     "output_type": "stream",
     "text": [
      "Train data : 60000, Test_data : 10000\n"
     ]
    }
   ],
   "source": [
    "# mnist 에서 숫자(손글씨) 데이터 가져옴\n",
    "from keras.datasets import mnist\n",
    "\n",
    "(X_train, Y_class_train), (X_test, Y_class_test) = mnist.load_data()\n",
    "\n",
    "print(\"Train data : {:04d}, Test_data : {:04d}\". format(X_train.shape[0], \n",
    "                                                      X_test.shape[0]))"
   ]
  },
  {
   "cell_type": "code",
   "execution_count": 2,
   "id": "fb9d3e09",
   "metadata": {},
   "outputs": [
    {
     "data": {
      "image/png": "[encoded data removed]",
      "text/plain": [
       "<Figure size 432x288 with 1 Axes>"
      ]
     },
     "metadata": {
      "needs_background": "light"
     },
     "output_type": "display_data"
    }
   ],
   "source": [
    "# 처음 자료를 가지고 와서 화면에 출력\n",
    "import matplotlib.pyplot as plt\n",
    "\n",
    "plt.imshow(X_train[1], cmap='Greys')\n",
    "plt.show()"
   ]
  },
  {
   "cell_type": "code",
   "execution_count": 3,
   "id": "3a2197c8",
   "metadata": {},
   "outputs": [
    {
     "name": "stdout",
     "output_type": "stream",
     "text": [
      "  0  0  0  0  0  0  0  0  0  0  0  0  0  0  0  0  0  0  0  0  0  0  0  0  0  0  0  0\n",
      "  0  0  0  0  0  0  0  0  0  0  0  0  0  0  0  0  0  0  0  0  0  0  0  0  0  0  0  0\n",
      "  0  0  0  0  0  0  0  0  0  0  0  0  0  0  0  0  0  0  0  0  0  0  0  0  0  0  0  0\n",
      "  0  0  0  0  0  0  0  0  0  0  0  0  0  0  0  0  0  0  0  0  0  0  0  0  0  0  0  0\n",
      "  0  0  0  0  0  0  0  0  0  0  0  0  0  0  0 51159253159 50  0  0  0  0  0  0  0  0\n",
      "  0  0  0  0  0  0  0  0  0  0  0  0  0  0 48238252252252237  0  0  0  0  0  0  0  0\n",
      "  0  0  0  0  0  0  0  0  0  0  0  0  0 54227253252239233252 57  6  0  0  0  0  0  0\n",
      "  0  0  0  0  0  0  0  0  0  0  0 10 60224252253252202 84252253122  0  0  0  0  0  0\n",
      "  0  0  0  0  0  0  0  0  0  0  0163252252252253252252 96189253167  0  0  0  0  0  0\n",
      "  0  0  0  0  0  0  0  0  0  0 51238253253190114253228 47 79255168  0  0  0  0  0  0\n",
      "  0  0  0  0  0  0  0  0  0 48238252252179 12 75121 21  0  0253243 50  0  0  0  0  0\n",
      "  0  0  0  0  0  0  0  0 38165253233208 84  0  0  0  0  0  0253252165  0  0  0  0  0\n",
      "  0  0  0  0  0  0  0  7178252240 71 19 28  0  0  0  0  0  0253252195  0  0  0  0  0\n",
      "  0  0  0  0  0  0  0 57252252 63  0  0  0  0  0  0  0  0  0253252195  0  0  0  0  0\n",
      "  0  0  0  0  0  0  0198253190  0  0  0  0  0  0  0  0  0  0255253196  0  0  0  0  0\n",
      "  0  0  0  0  0  0 76246252112  0  0  0  0  0  0  0  0  0  0253252148  0  0  0  0  0\n",
      "  0  0  0  0  0  0 85252230 25  0  0  0  0  0  0  0  0  7135253186 12  0  0  0  0  0\n",
      "  0  0  0  0  0  0 85252223  0  0  0  0  0  0  0  0  7131252225 71  0  0  0  0  0  0\n",
      "  0  0  0  0  0  0 85252145  0  0  0  0  0  0  0 48165252173  0  0  0  0  0  0  0  0\n",
      "  0  0  0  0  0  0 86253225  0  0  0  0  0  0114238253162  0  0  0  0  0  0  0  0  0\n",
      "  0  0  0  0  0  0 85252249146 48 29 85178225253223167 56  0  0  0  0  0  0  0  0  0\n",
      "  0  0  0  0  0  0 85252252252229215252252252196130  0  0  0  0  0  0  0  0  0  0  0\n",
      "  0  0  0  0  0  0 28199252252253252252233145  0  0  0  0  0  0  0  0  0  0  0  0  0\n",
      "  0  0  0  0  0  0  0 25128252253252141 37  0  0  0  0  0  0  0  0  0  0  0  0  0  0\n",
      "  0  0  0  0  0  0  0  0  0  0  0  0  0  0  0  0  0  0  0  0  0  0  0  0  0  0  0  0\n",
      "  0  0  0  0  0  0  0  0  0  0  0  0  0  0  0  0  0  0  0  0  0  0  0  0  0  0  0  0\n",
      "  0  0  0  0  0  0  0  0  0  0  0  0  0  0  0  0  0  0  0  0  0  0  0  0  0  0  0  0\n",
      "  0  0  0  0  0  0  0  0  0  0  0  0  0  0  0  0  0  0  0  0  0  0  0  0  0  0  0  0\n"
     ]
    }
   ],
   "source": [
    "import sys\n",
    "\n",
    "# 각 자료에 저장된 값을 화면에 출력\n",
    "for row in X_train[1]:   # 28 * 28  : 28회 반복\n",
    "    for col in row:\n",
    "        sys.stdout.write('%3d' % col)\n",
    "    sys.stdout.write('\\n')"
   ]
  },
  {
   "cell_type": "code",
   "execution_count": 4,
   "id": "46cc7280",
   "metadata": {},
   "outputs": [
    {
     "name": "stdout",
     "output_type": "stream",
     "text": [
      "before :  (60000, 28, 28) (10000, 28, 28)\n",
      "after :  (60000, 784) (10000, 784)\n"
     ]
    }
   ],
   "source": [
    "print(\"before : \", X_train.shape, X_test.shape  )\n",
    "# 2차원으로 변경\n",
    "# X_train = X_train.reshape(X_train.shape[0], 784)\n",
    "X_train = X_train.reshape(X_train.shape[0], \n",
    "                          X_train.shape[1] * X_train.shape[2])\n",
    "X_test = X_test.reshape(X_test.shape[0], \n",
    "                        X_test.shape[1] * X_test.shape[2])\n",
    "print(\"after : \", X_train.shape, X_test.shape )"
   ]
  },
  {
   "cell_type": "code",
   "execution_count": 5,
   "id": "5c8b6ebd",
   "metadata": {},
   "outputs": [],
   "source": [
    "# 정규화 : 성능을 좋게 하기 위해서 -> 숫자를 0~1사이의 수로 변경\n",
    "X_train = X_train.astype(float)/255.0\n",
    "X_test = X_test.astype(float)/255.0"
   ]
  },
  {
   "cell_type": "code",
   "execution_count": 6,
   "id": "32f548cb",
   "metadata": {},
   "outputs": [],
   "source": [
    "from keras.utils import np_utils\n",
    "\n",
    "# 클래스 값을 분류해서 category로 변경\n",
    "Y_train = np_utils.to_categorical(Y_class_train, 10)  # 10개로 분류\n",
    "Y_test = np_utils.to_categorical(Y_class_test, 10)"
   ]
  },
  {
   "cell_type": "code",
   "execution_count": 7,
   "id": "f9a15f1b",
   "metadata": {},
   "outputs": [
    {
     "name": "stdout",
     "output_type": "stream",
     "text": [
      "[0. 0. 0. 0. 0. 1. 0. 0. 0. 0.] [0. 0. 0. 0. 0. 0. 0. 1. 0. 0.]\n"
     ]
    }
   ],
   "source": [
    "print(Y_train[0], Y_test[0])"
   ]
  },
  {
   "cell_type": "code",
   "execution_count": 8,
   "id": "ff4b6643",
   "metadata": {},
   "outputs": [],
   "source": [
    "# 모델 기본 프레임 만들기\n",
    "from keras.models import Sequential\n",
    "from keras.layers import Dense\n",
    "from keras.callbacks import ModelCheckpoint, EarlyStopping\n",
    "\n",
    "import os\n",
    "import tensorflow as tf"
   ]
  },
  {
   "cell_type": "code",
   "execution_count": 9,
   "id": "6a4174f5",
   "metadata": {},
   "outputs": [],
   "source": [
    "# 모델 설정\n",
    "model = Sequential()\n",
    "model.add(Dense(512, input_dim=X_train.shape[1], activation='relu'))\n",
    "model.add(Dense(10, activation='softmax'))"
   ]
  },
  {
   "cell_type": "code",
   "execution_count": 10,
   "id": "34939b0c",
   "metadata": {},
   "outputs": [],
   "source": [
    "# 모델 실행 환경설정\n",
    "# 모델 저장 폴더 설정\n",
    "MODEL_DIR = './CNN_model/'\n",
    "if not os.path.exists(MODEL_DIR):\n",
    "   os.mkdir(MODEL_DIR)\n",
    "\n",
    "# 모델 저장 조건 설정\n",
    "modelpath= \"./\" +  MODEL_DIR + \"/{epoch:02d}-{val_loss:.4f}.hdf5\""
   ]
  },
  {
   "cell_type": "code",
   "execution_count": 11,
   "id": "6dee784a",
   "metadata": {},
   "outputs": [
    {
     "name": "stdout",
     "output_type": "stream",
     "text": [
      "\n",
      "Epoch 00001: val_loss improved from inf to 0.15971, saving model to ././CNN_model\\01-0.1597.hdf5\n",
      "\n",
      "Epoch 00002: val_loss improved from 0.15971 to 0.10238, saving model to ././CNN_model\\02-0.1024.hdf5\n",
      "\n",
      "Epoch 00003: val_loss improved from 0.10238 to 0.08406, saving model to ././CNN_model\\03-0.0841.hdf5\n",
      "\n",
      "Epoch 00004: val_loss improved from 0.08406 to 0.07067, saving model to ././CNN_model\\04-0.0707.hdf5\n",
      "\n",
      "Epoch 00005: val_loss improved from 0.07067 to 0.06855, saving model to ././CNN_model\\05-0.0686.hdf5\n",
      "\n",
      "Epoch 00006: val_loss improved from 0.06855 to 0.06651, saving model to ././CNN_model\\06-0.0665.hdf5\n",
      "\n",
      "Epoch 00007: val_loss improved from 0.06651 to 0.05887, saving model to ././CNN_model\\07-0.0589.hdf5\n",
      "\n",
      "Epoch 00008: val_loss improved from 0.05887 to 0.05812, saving model to ././CNN_model\\08-0.0581.hdf5\n",
      "\n",
      "Epoch 00009: val_loss did not improve from 0.05812\n",
      "\n",
      "Epoch 00010: val_loss did not improve from 0.05812\n",
      "\n",
      "Epoch 00011: val_loss did not improve from 0.05812\n",
      "\n",
      "Epoch 00012: val_loss did not improve from 0.05812\n",
      "\n",
      "Epoch 00013: val_loss did not improve from 0.05812\n",
      "\n",
      "Epoch 00014: val_loss did not improve from 0.05812\n",
      "\n",
      "Epoch 00015: val_loss did not improve from 0.05812\n",
      "\n",
      "Epoch 00016: val_loss did not improve from 0.05812\n",
      "\n",
      "Epoch 00017: val_loss did not improve from 0.05812\n",
      "\n",
      "Epoch 00018: val_loss did not improve from 0.05812\n"
     ]
    }
   ],
   "source": [
    "# 모델 컴파일, 실행\n",
    "model.compile(loss='categorical_crossentropy', optimizer='adam',\n",
    "             metrics=['accuracy'])\n",
    "\n",
    "# 모델 최적화 설정\n",
    "# 체크포인트 설정\n",
    "checkpointer = ModelCheckpoint(filepath=modelpath, monitor='val_loss', \n",
    "                               verbose=1, save_best_only=True)\n",
    "\n",
    "# 자동 중단 설정\n",
    "early_stopping_callback = EarlyStopping(monitor='val_loss', patience=10)\n",
    "\n",
    "history = model.fit(X_train, Y_train, \n",
    "                    validation_data=(X_test, Y_test),\n",
    "                   epochs=200, batch_size=200, verbose=0,\n",
    "                   callbacks=[early_stopping_callback, checkpointer])"
   ]
  },
  {
   "cell_type": "code",
   "execution_count": 12,
   "id": "49535fea",
   "metadata": {},
   "outputs": [
    {
     "name": "stdout",
     "output_type": "stream",
     "text": [
      "313/313 [==============================] - 0s 1ms/step - loss: 0.0653 - accuracy: 0.9830\n",
      " Test accuracy : 0.9830\n"
     ]
    }
   ],
   "source": [
    "# 테스트 정확도 출력\n",
    "print(\" Test accuracy : %.4f\" % (model.evaluate(X_test, Y_test)[1]))"
   ]
  },
  {
   "cell_type": "code",
   "execution_count": null,
   "id": "c21b9aca",
   "metadata": {},
   "outputs": [],
   "source": []
  }
 ],
 "metadata": {
  "kernelspec": {
   "display_name": "myvenv",
   "language": "python",
   "name": "myvenv"
  },
  "language_info": {
   "codemirror_mode": {
    "name": "ipython",
    "version": 3
   },
   "file_extension": ".py",
   "mimetype": "text/x-python",
   "name": "python",
   "nbconvert_exporter": "python",
   "pygments_lexer": "ipython3",
   "version": "3.8.12"
  }
 },
 "nbformat": 4,
 "nbformat_minor": 5
}
