{
 "cells": [
  {
   "cell_type": "code",
   "execution_count": 4,
   "id": "5310e183",
   "metadata": {},
   "outputs": [],
   "source": [
    "import sys\n",
    "import cv2\n",
    "import numpy as np"
   ]
  },
  {
   "cell_type": "code",
   "execution_count": 7,
   "id": "9eb7e3d6",
   "metadata": {},
   "outputs": [],
   "source": [
    "import matplotlib.pyplot as plt"
   ]
  },
  {
   "cell_type": "code",
   "execution_count": null,
   "id": "53ec337d",
   "metadata": {},
   "outputs": [],
   "source": []
  },
  {
   "cell_type": "code",
   "execution_count": 2,
   "id": "06a64e98",
   "metadata": {},
   "outputs": [
    {
     "ename": "SyntaxError",
     "evalue": "invalid syntax (Temp/ipykernel_16328/1978844715.py, line 4)",
     "output_type": "error",
     "traceback": [
      "\u001b[1;36m  File \u001b[1;32m\"C:\\Users\\user\\AppData\\Local\\Temp/ipykernel_16328/1978844715.py\"\u001b[1;36m, line \u001b[1;32m4\u001b[0m\n\u001b[1;33m    if imgBGR is None or imgGray is None\u001b[0m\n\u001b[1;37m                                         ^\u001b[0m\n\u001b[1;31mSyntaxError\u001b[0m\u001b[1;31m:\u001b[0m invalid syntax\n"
     ]
    }
   ],
   "source": [
    "imgBGR = cv2.imread('fig/cat.bmp', 1)\n",
    "imgGray = cv2.imread('fig/cat.bmp', 0)\n",
    "imgRGB = cv2.cvtColor(imgBGR, cv2.COLOR_BGR2RGB)\n",
    "if imgBGR is None or imgGray is None "
   ]
  },
  {
   "cell_type": "code",
   "execution_count": 3,
   "id": "04659581",
   "metadata": {},
   "outputs": [],
   "source": [
    "import os"
   ]
  },
  {
   "cell_type": "code",
   "execution_count": 6,
   "id": "58f00c77",
   "metadata": {},
   "outputs": [
    {
     "ename": "SyntaxError",
     "evalue": "invalid syntax (Temp/ipykernel_16328/2616099140.py, line 13)",
     "output_type": "error",
     "traceback": [
      "\u001b[1;36m  File \u001b[1;32m\"C:\\Users\\user\\AppData\\Local\\Temp/ipykernel_16328/2616099140.py\"\u001b[1;36m, line \u001b[1;32m13\u001b[0m\n\u001b[1;33m    cv.2imshow('scene', img)\u001b[0m\n\u001b[1;37m      ^\u001b[0m\n\u001b[1;31mSyntaxError\u001b[0m\u001b[1;31m:\u001b[0m invalid syntax\n"
     ]
    }
   ],
   "source": [
    "img_list = os.listdir('mages/')\n",
    "img_files = []\n",
    "for i in img_list:\n",
    "    img_file = 'images/' + i\n",
    "    img_files.append(img_file)\n",
    "print(img_files)\n",
    "cv2.nameWindow('scene', cv2.WIDOW_NORMAL)\n",
    "cv2.setWindowProperty('scene',)\n",
    "\n",
    "idx = 0\n",
    "while True:\n",
    "    img = cv2.imread(img_files[idx])\n",
    "    cv.2imshow('scene', img)\n",
    "    if cv2.waitKey(3000) == 27:\n",
    "        break\n",
    "    idx += 1\n",
    "    \n",
    "    if idx >= 5:\n",
    "        idx = 0\n",
    "        \n",
    "cv2.destroyAllwindows()\n"
   ]
  },
  {
   "cell_type": "code",
   "execution_count": 8,
   "id": "9eceb275",
   "metadata": {},
   "outputs": [],
   "source": [
    "import numpy as np\n",
    "import cv2\n",
    "\n",
    "# 새 영상 생성하기\n",
    "# img1 = np.empty((240, 320), dtype=np.uint8)       # grayscale image\n",
    "img1 = np.random.randint(0, 255, (240, 320), dtype = np.uint8) # gray random scale \n",
    "img2 = np.zeros((240, 320, 3), dtype=np.uint8)    # color image\n",
    "img3 = np.ones((240, 320), dtype=np.uint8) * 255  # dark gray\n",
    "img4 = np.full((255, 255, 3), (0, 255, 255), dtype=np.uint8)  # yellow\n",
    "\n",
    "cv2.imshow('img1', img1)\n",
    "cv2.imshow('img2', img2)\n",
    "cv2.imshow('img3', img3)\n",
    "cv2.imshow('img4', img4)\n",
    "\n",
    "cv2.waitKey()\n",
    "cv2.destroyAllWindows()\n",
    "\n"
   ]
  },
  {
   "cell_type": "code",
   "execution_count": 9,
   "id": "4f945fed",
   "metadata": {},
   "outputs": [
    {
     "name": "stdout",
     "output_type": "stream",
     "text": [
      "(480, 640, 3)\n",
      "uint8\n"
     ]
    }
   ],
   "source": [
    "# 영상 복사\n",
    "img1 = cv2.imread('fig/puppy.bmp', cv2.IMREAD_COLOR)\n",
    "#img1 = cv2.imread('HappyFish.jpg')\n",
    "\n",
    "if img1 is None:\n",
    "    print(\"image load failed\")\n",
    "    sys.exit()\n",
    "\n",
    "img2 = img1\n",
    "# img2 = img1[150:250, 200:500]\n",
    "\n",
    "img3 = img1.copy()\n",
    "\n",
    "# img2[:] = (0, 0, 255)\n",
    "\n",
    "img1[170:250, 240:500] = (0, 0, 3)\n",
    "\n",
    "print(img1.shape)\n",
    "print(img1.dtype)\n",
    "\n",
    "cv2.imshow('puppy', img1)\n",
    "\n",
    "cv2.waitKey()\n",
    "cv2.destroyAllWindows()"
   ]
  },
  {
   "cell_type": "code",
   "execution_count": 10,
   "id": "a0d04ec7",
   "metadata": {},
   "outputs": [],
   "source": [
    "# 마스크 영상을 이용한 영상 합성 \n",
    "# cv2.copyTo(src, mask, dst = None) -> dst\n",
    "\n",
    "src = cv2.imread('fig/airplane.bmp', cv2.IMREAD_COLOR)\n",
    "mask = cv2.imread('fig/mask_plane.bmp', cv2.IMREAD_GRAYSCALE)\n",
    "dst = cv2.imread('fig/field.bmp', cv2.IMREAD_COLOR)\n",
    "\n",
    "if src is None or mask is None or dst is None:\n",
    "    print('Image read failed!')\n",
    "    sys.exit()\n",
    "    \n",
    "\n",
    "# 영상의 포맷과 형식이 같아야 함\n",
    "cv2.copyTo(src, mask, dst)\n",
    "# dst = cv2.copyTo(src, mask)\n",
    "\n",
    "# Using numpy\n",
    "# dst[mask > 0] = src[mask > 0]\n",
    "\n",
    "cv2.imshow('src', src)\n",
    "cv2.imshow('dst', dst)\n",
    "cv2.imshow('mask', mask)\n",
    "\n",
    "cv2.waitKey()\n",
    "cv2.destroyAllWindows()"
   ]
  },
  {
   "cell_type": "code",
   "execution_count": null,
   "id": "893defad",
   "metadata": {},
   "outputs": [],
   "source": []
  }
 ],
 "metadata": {
  "kernelspec": {
   "display_name": "myvenv",
   "language": "python",
   "name": "myvenv"
  },
  "language_info": {
   "codemirror_mode": {
    "name": "ipython",
    "version": 3
   },
   "file_extension": ".py",
   "mimetype": "text/x-python",
   "name": "python",
   "nbconvert_exporter": "python",
   "pygments_lexer": "ipython3",
   "version": "3.8.12"
  }
 },
 "nbformat": 4,
 "nbformat_minor": 5
}
