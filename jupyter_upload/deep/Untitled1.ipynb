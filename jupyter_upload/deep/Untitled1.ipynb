{
 "cells": [
  {
   "cell_type": "code",
   "execution_count": 1,
   "id": "29b5f223",
   "metadata": {},
   "outputs": [],
   "source": [
    "import sys\n",
    "import cv2\n",
    "import numpy as np\n",
    "import matplotlib.pyplot as plt\n",
    "\n",
    "## gray scale 영상으로 출력\n",
    "imgGray = cv2.imread('fig/puppy.bmp', cv2.IMREAD_GRAYSCALE)\n"
   ]
  },
  {
   "cell_type": "code",
   "execution_count": 19,
   "id": "0fb314ab",
   "metadata": {},
   "outputs": [
    {
     "ename": "NameError",
     "evalue": "name 'imgBGR' is not defined",
     "output_type": "error",
     "traceback": [
      "\u001b[1;31m---------------------------------------------------------------------------\u001b[0m",
      "\u001b[1;31mNameError\u001b[0m                                 Traceback (most recent call last)",
      "\u001b[1;32m~\\AppData\\Local\\Temp/ipykernel_20244/2380539837.py\u001b[0m in \u001b[0;36m<module>\u001b[1;34m\u001b[0m\n\u001b[1;32m----> 1\u001b[1;33m \u001b[1;32mif\u001b[0m \u001b[0mimgBGR\u001b[0m \u001b[1;32mis\u001b[0m \u001b[1;32mNone\u001b[0m\u001b[1;33m:\u001b[0m\u001b[1;33m\u001b[0m\u001b[1;33m\u001b[0m\u001b[0m\n\u001b[0m\u001b[0;32m      2\u001b[0m     \u001b[0mprint\u001b[0m\u001b[1;33m(\u001b[0m\u001b[1;34m'image read failed'\u001b[0m\u001b[1;33m)\u001b[0m\u001b[1;33m\u001b[0m\u001b[1;33m\u001b[0m\u001b[0m\n\u001b[0;32m      3\u001b[0m     \u001b[0msys\u001b[0m\u001b[1;33m.\u001b[0m\u001b[0mexit\u001b[0m\u001b[1;33m(\u001b[0m\u001b[1;33m)\u001b[0m\u001b[1;33m\u001b[0m\u001b[1;33m\u001b[0m\u001b[0m\n\u001b[0;32m      4\u001b[0m \u001b[1;33m\u001b[0m\u001b[0m\n\u001b[0;32m      5\u001b[0m \u001b[1;33m\u001b[0m\u001b[0m\n",
      "\u001b[1;31mNameError\u001b[0m: name 'imgBGR' is not defined"
     ]
    }
   ],
   "source": [
    "if imgBGR is None:\n",
    "    print('image read failed')\n",
    "    sys.exit()\n",
    "    \n",
    "\n",
    "cv2.imshow('imgBRG', BGR)\n",
    "imgGRB = cv2.cvtColor(imgBGR, cv2.COLOR_BGR2RGB)\n",
    "\n",
    "plt.figure(figsize = (14, 6))\n",
    "plt.imshow(imgBGR)\n",
    "plt.axis('off')\n",
    "plt.show()\n",
    "\n",
    "while True:\n",
    "    if cv.waitKey() ==27:\n",
    "        break\n",
    "        \n"
   ]
  },
  {
   "cell_type": "code",
   "execution_count": 2,
   "id": "5c8ce270",
   "metadata": {},
   "outputs": [],
   "source": [
    "import sys\n",
    "import glob\n",
    "import cv2\n",
    "import os"
   ]
  },
  {
   "cell_type": "code",
   "execution_count": 4,
   "id": "9fd37474",
   "metadata": {},
   "outputs": [
    {
     "name": "stdout",
     "output_type": "stream",
     "text": [
      "./fig/images/autumn_forest_park_128379_1920x1080.jpg\n",
      "./fig/images/boat_mountains_lake_135258_1920x1080.jpg\n",
      "./fig/images/forest_fog_trees_128751_1920x1080.jpg\n",
      "./fig/images/pier_dock_sea_dusk_shore_118549_1920x1080.jpg\n",
      "./fig/images/road_marking_evening_clouds_horizon_120298_1920x1080.jpg\n"
     ]
    }
   ],
   "source": [
    "#list 형태로 반환\n",
    "img_list_os = os.listdir('fig/images')\n",
    "\n",
    "img_files = []\n",
    "for i in img_list_os:\n",
    "    img_path = './fig/images/' + i\n",
    "    img_files.append(img_path)\n",
    "    \n",
    "\n",
    "# img_files_glob = glob.glob('fig/images/*.jpg')\n",
    "# print(img_files_glob)\n",
    "\n",
    "for i in img_files:\n",
    "    print(i)\n",
    "\n",
    "\n",
    "# # 전체 화면으로 'image' 창 생성\n",
    "cv2.namedWindow('scene', cv2.WINDOW_NORMAL)\n",
    "cv2.setWindowProperty('scene', cv2.WND_PROP_FULLSCREEN,\n",
    "                    cv2.WINDOW_FULLSCREEN)\n",
    "\n",
    "for i in img_files:\n",
    "    img = cv2.imread(i)\n",
    "    \n",
    "    cv2.imshow('scene', img)\n",
    "    \n",
    "    if cv2.waitKey(2000) == 27:\n",
    "        break\n",
    "    \n",
    "cv2.destroyAllWindows()"
   ]
  },
  {
   "cell_type": "code",
   "execution_count": null,
   "id": "d939117f",
   "metadata": {},
   "outputs": [],
   "source": [
    "import sys\n",
    "## Wild card\n",
    "import glob\n",
    "import cv2\n",
    "\n",
    "img_files = glob.glob('fig/images/*.jpg')\n",
    "\n",
    "for f in img_files:\n",
    "    print(f)\n",
    "    \n",
    "# 전체 화면으로 'image' 창 생성\n",
    "cv2.namedWindow('scene',cv2.WINDOW_NORMAL)\n",
    "cv2.setWindowProperty('scene', cv2.WND_PROP_FULLSCREEN, cv2.WINDOW_FULLSCREEN)\n",
    "\n",
    "# for i in img_files:\n",
    "#     img = cv2.imread(i)\n",
    "    \n",
    "#     cv2.imshow('scene', img)\n",
    "    \n",
    "#     if cv2.waitKey(1000) == 27:\n",
    "#         break\n",
    "\n",
    "cnt = len(img_files)\n",
    "idx = 0\n",
    "\n",
    "while True:\n",
    "    img = cv2.imread(img_files[idx])\n",
    "#     img = cv2.resize(img, dsize = (1920, 1080), interpolation = cv2.INTER_AREA)\n",
    "    \n",
    "    cv2.imshow('image', img)\n",
    "    \n",
    "    if cv2.waitKey(1000) == 27: #ESC\n",
    "        break\n",
    "    \n",
    "    idx += 1\n",
    "    if idx >= cnt:\n",
    "        idx = 0\n",
    "        \n",
    "cv2.destroyAllWindows()"
   ]
  }
 ],
 "metadata": {
  "kernelspec": {
   "display_name": "myvenv",
   "language": "python",
   "name": "myvenv"
  },
  "language_info": {
   "codemirror_mode": {
    "name": "ipython",
    "version": 3
   },
   "file_extension": ".py",
   "mimetype": "text/x-python",
   "name": "python",
   "nbconvert_exporter": "python",
   "pygments_lexer": "ipython3",
   "version": "3.8.12"
  }
 },
 "nbformat": 4,
 "nbformat_minor": 5
}
