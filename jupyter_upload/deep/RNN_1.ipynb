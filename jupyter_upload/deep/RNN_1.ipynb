{
 "cells": [
  {
   "cell_type": "code",
   "execution_count": 12,
   "id": "6fd48dbd",
   "metadata": {},
   "outputs": [],
   "source": [
    "import numpy as np\n",
    "import tensorflow as tf\n",
    "import matplotlib.pyplot as plt\n",
    "\n",
    "# 로이터 뉴스 데이터셋 불러오기\n",
    "from keras.datasets import reuters\n",
    "from keras.models import Sequential\n",
    "from keras.layers import Dense, LSTM, Embedding, Flatten\n",
    "from keras.preprocessing import sequence\n",
    "from keras.utils import np_utils"
   ]
  },
  {
   "cell_type": "code",
   "execution_count": 3,
   "id": "12dfb5c6",
   "metadata": {},
   "outputs": [
    {
     "name": "stdout",
     "output_type": "stream",
     "text": [
      "Downloading data from https://storage.googleapis.com/tensorflow/tf-keras-datasets/reuters.npz\n",
      "2113536/2110848 [==============================] - 0s 0us/step\n",
      "2121728/2110848 [==============================] - 0s 0us/step\n",
      "(8982,) (8982,)\n"
     ]
    }
   ],
   "source": [
    "(X_train, Y_train), (X_test, Y_test) = reuters.load_data(num_words=1000, \n",
    "                                                         test_split=0.2)\n",
    "print(X_train.shape, Y_train.shape)"
   ]
  },
  {
   "cell_type": "code",
   "execution_count": 9,
   "id": "aebeb23d",
   "metadata": {},
   "outputs": [
    {
     "name": "stdout",
     "output_type": "stream",
     "text": [
      "category :  46\n",
      "8982 2246\n",
      "[1, 2, 2, 8, 43, 10, 447, 5, 25, 207, 270, 5, 2, 111, 16, 369, 186, 90, 67, 7, 89, 5, 19, 102, 6, 19, 124, 15, 90, 67, 84, 22, 482, 26, 7, 48, 4, 49, 8, 864, 39, 209, 154, 6, 151, 6, 83, 11, 15, 22, 155, 11, 15, 7, 48, 9, 2, 2, 504, 6, 258, 6, 272, 11, 15, 22, 134, 44, 11, 15, 16, 8, 197, 2, 90, 67, 52, 29, 209, 30, 32, 132, 6, 109, 15, 17, 12]\n"
     ]
    }
   ],
   "source": [
    "# Y_train 카테고리로 분류되어 있음\n",
    "category = np.max(Y_train) +1\n",
    "print(\"category : \", category)\n",
    "\n",
    "# X_train 데이터의 갯수와 X_test의 갯수 확인\n",
    "print( len(X_train), len(X_test))\n",
    "print(X_train[0])"
   ]
  },
  {
   "cell_type": "code",
   "execution_count": 15,
   "id": "e12e17e0",
   "metadata": {},
   "outputs": [],
   "source": [
    "# 데이터 전처리\n",
    "# 1. padding  , 한 기사의 단어가 100개\n",
    "x_train = sequence.pad_sequences(X_train, maxlen=100)\n",
    "x_test = sequence.pad_sequences(X_test, maxlen=100)\n",
    "\n",
    "# 2. 카테고리 분류 : 원-핫 인코딩\n",
    "y_train = np_utils.to_categorical(Y_train)\n",
    "y_test = np_utils.to_categorical(Y_test)"
   ]
  },
  {
   "cell_type": "code",
   "execution_count": 13,
   "id": "5914378f",
   "metadata": {},
   "outputs": [],
   "source": [
    "# 모델 설정\n",
    "model = Sequential()\n",
    "model.add(Embedding(1000, 100))\n",
    "model.add(LSTM(100, activation='tanh'))\n",
    "model.add(Flatten())\n",
    "model.add(Dense(category, activation='softmax'))"
   ]
  },
  {
   "cell_type": "code",
   "execution_count": null,
   "id": "d91996ea",
   "metadata": {},
   "outputs": [
    {
     "name": "stdout",
     "output_type": "stream",
     "text": [
      "Epoch 1/20\n",
      "90/90 [==============================] - 10s 97ms/step - loss: 1.6499 - accuracy: 0.6187 - val_loss: 1.2246 - val_accuracy: 0.7026\n",
      "Epoch 2/20\n",
      "90/90 [==============================] - 9s 100ms/step - loss: 0.8804 - accuracy: 0.7767 - val_loss: 1.1986 - val_accuracy: 0.7102\n",
      "Epoch 3/20\n",
      "90/90 [==============================] - 9s 100ms/step - loss: 0.6947 - accuracy: 0.8164 - val_loss: 1.2144 - val_accuracy: 0.7262\n",
      "Epoch 4/20\n",
      "90/90 [==============================] - 9s 106ms/step - loss: 0.5638 - accuracy: 0.8507 - val_loss: 1.2335 - val_accuracy: 0.7315\n",
      "Epoch 5/20\n",
      "90/90 [==============================] - 9s 103ms/step - loss: 0.4604 - accuracy: 0.8778 - val_loss: 1.3293 - val_accuracy: 0.7177\n",
      "Epoch 6/20\n",
      "90/90 [==============================] - 9s 105ms/step - loss: 0.3664 - accuracy: 0.9019 - val_loss: 1.4242 - val_accuracy: 0.7150\n",
      "Epoch 7/20\n",
      "90/90 [==============================] - 9s 103ms/step - loss: 0.3139 - accuracy: 0.9129 - val_loss: 1.4950 - val_accuracy: 0.7217\n",
      "Epoch 8/20\n",
      "90/90 [==============================] - 9s 103ms/step - loss: 0.2694 - accuracy: 0.9275 - val_loss: 1.5515 - val_accuracy: 0.7146\n",
      "Epoch 9/20\n",
      "15/90 [====>.........................] - ETA: 6s - loss: 0.1651 - accuracy: 0.9500"
     ]
    }
   ],
   "source": [
    "# 모델 컴파일\n",
    "from tensorflow import keras\n",
    "rmsprop = keras.optimizers.RMSprop(learning_rate=0.01)\n",
    "model.compile(loss='categorical_crossentropy', optimizer=rmsprop,\n",
    "             metrics='accuracy')\n",
    "# model.compile(loss='categorical_crossentropy', optimizer='adam',\n",
    "#              metrics='accuracy')\n",
    "\n",
    "# 모델 실행\n",
    "history = model.fit(x_train, y_train, validation_data=(x_test, y_test),\n",
    "                   epochs=20, batch_size=100)"
   ]
  },
  {
   "cell_type": "code",
   "execution_count": 24,
   "id": "ed2c08d8",
   "metadata": {},
   "outputs": [
    {
     "name": "stdout",
     "output_type": "stream",
     "text": [
      "71/71 [==============================] - 1s 20ms/step - loss: 1.3781 - accuracy: 0.7124\n",
      "\n",
      " Test accuracy : 0.7124\n"
     ]
    }
   ],
   "source": [
    "# 테스트 데이터의 정확도 출력\n",
    "print(\"\\n Test accuracy : %.4f\" % (model.evaluate(x_test, y_test)[1]))"
   ]
  },
  {
   "cell_type": "code",
   "execution_count": 25,
   "id": "ccf3a74d",
   "metadata": {},
   "outputs": [],
   "source": [
    "def plot_train_val(history):    \n",
    "    plt.plot(history.history['loss'])\n",
    "    plt.plot(history.history['val_loss'])\n",
    "    plt.xlabel('epoch')\n",
    "    plt.ylabel('loss')\n",
    "    plt.legend(['train', 'val'])\n",
    "    plt.show()"
   ]
  },
  {
   "cell_type": "code",
   "execution_count": 26,
   "id": "bc3bbfa4",
   "metadata": {},
   "outputs": [
    {
     "data": {
      "image/png": "[encoded data removed]",
      "text/plain": [
       "<Figure size 432x288 with 1 Axes>"
      ]
     },
     "metadata": {
      "needs_background": "light"
     },
     "output_type": "display_data"
    }
   ],
   "source": [
    "plot_train_val(history)"
   ]
  }
 ],
 "metadata": {
  "kernelspec": {
   "display_name": "Python 3 (ipykernel)",
   "language": "python",
   "name": "python3"
  },
  "language_info": {
   "codemirror_mode": {
    "name": "ipython",
    "version": 3
   },
   "file_extension": ".py",
   "mimetype": "text/x-python",
   "name": "python",
   "nbconvert_exporter": "python",
   "pygments_lexer": "ipython3",
   "version": "3.8.12"
  }
 },
 "nbformat": 4,
 "nbformat_minor": 5
}
