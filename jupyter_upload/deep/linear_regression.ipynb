{
 "cells": [
  {
   "cell_type": "code",
   "execution_count": 1,
   "id": "a85b3759",
   "metadata": {},
   "outputs": [],
   "source": [
    "import numpy as np\n",
    "import pandas as pd\n",
    "import matplotlib.pyplot as plt"
   ]
  },
  {
   "cell_type": "code",
   "execution_count": 4,
   "id": "281969e3",
   "metadata": {},
   "outputs": [
    {
     "name": "stdout",
     "output_type": "stream",
     "text": [
      "x의 평균값 :  5.0\n",
      "y의 평균값 :  90.5\n"
     ]
    }
   ],
   "source": [
    "x = [2,4,6,8]\n",
    "y = [ 81, 93, 91, 97 ]\n",
    "\n",
    "# x와 y의 평균값\n",
    "mx = np.mean(x)\n",
    "my = np.mean(y)\n",
    "\n",
    "print(\"x의 평균값 : \", mx)\n",
    "print(\"y의 평균값 : \", my)\n",
    "# 기울기 : 분모 ( (x-x의 평균값)의 제곱 의 합 )\n",
    "divisior = sum( [(mx -i )**2 for i in x ])\n",
    "print(\"분모의 값 : \", divisior)\n",
    "\n",
    "# 기울기 : 분자  ((x - x의 평균)*(y - y의 평균))의 합\n",
    "def top(x, mx, y, my):\n",
    "    d  = 0\n",
    "    for i in range(len(x)):\n",
    "        d += (x[i]-mx) * (y[i]- my)\n",
    "    return d\n",
    "\n",
    "dividend = top(x, mx, y, my)\n",
    "\n",
    "print(\"분모 : \", divisior)\n",
    "print(\"분자 : \", dividend)\n",
    "\n",
    "a = dividend / divisior\n",
    "# 기울기 : y의 평균 - (x의 평균 곱하기 기울기)\n",
    "b = my - (mx * a)\n",
    "\n",
    "print(\"기울기 a = \", a)\n",
    "print(\"절편 b = \", b)"
   ]
  },
  {
   "cell_type": "code",
   "execution_count": 12,
   "id": "ed570a3a",
   "metadata": {},
   "outputs": [
    {
     "data": {
      "text/plain": [
       "97.4"
      ]
     },
     "execution_count": 12,
     "metadata": {},
     "output_type": "execute_result"
    }
   ],
   "source": [
    "# 공부시간이 8시간인 학생의 성적은?  ( 예측)\n",
    "8*a + 79"
   ]
  }
 ],
 "metadata": {
  "kernelspec": {
   "display_name": "Python 3",
   "language": "python",
   "name": "python3"
  },
  "language_info": {
   "codemirror_mode": {
    "name": "ipython",
    "version": 3
   },
   "file_extension": ".py",
   "mimetype": "text/x-python",
   "name": "python",
   "nbconvert_exporter": "python",
   "pygments_lexer": "ipython3",
   "version": "3.8.8"
  }
 },
 "nbformat": 4,
 "nbformat_minor": 5
}
