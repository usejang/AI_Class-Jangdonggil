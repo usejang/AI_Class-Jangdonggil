{
 "cells": [
  {
   "cell_type": "code",
   "execution_count": 1,
   "id": "02c2363a",
   "metadata": {},
   "outputs": [],
   "source": [
    "#mnist에서 데이터를 로드\n",
    "\n",
    "#train 데이터를 70%만 가져옴\n",
    "\n",
    "#데이터 전처리\n",
    "#1)다차원을 2차원으로 변경\n",
    "#2)값을 0~1 사이의 값으로 정규화\n",
    "#3)원-핫 인코딩 (Y의 값을 class라고 함)\n",
    "\n",
    "#모델설정\n",
    "#1)레이어를 2개층으로 모델 설정\n",
    "\n",
    "#모델 최적화\n",
    "#1)epoch실행할 때 마다 모델 저장\n",
    "#  >>디렉토리 생성후 저장 epoch횟수-에러값. hdf5를 파일명으로\n",
    "#2)더이상 값의 변화가 없을 때 모델 실행 중단\n",
    "#  >>값의 변화가 없는 epoch의 수는 30"
   ]
  },
  {
   "cell_type": "code",
   "execution_count": null,
   "id": "642d557f",
   "metadata": {},
   "outputs": [],
   "source": []
  }
 ],
 "metadata": {
  "kernelspec": {
   "display_name": "myvenv",
   "language": "python",
   "name": "myvenv"
  },
  "language_info": {
   "codemirror_mode": {
    "name": "ipython",
    "version": 3
   },
   "file_extension": ".py",
   "mimetype": "text/x-python",
   "name": "python",
   "nbconvert_exporter": "python",
   "pygments_lexer": "ipython3",
   "version": "3.8.12"
  }
 },
 "nbformat": 4,
 "nbformat_minor": 5
}
