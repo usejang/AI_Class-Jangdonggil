{
 "cells": [
  {
   "cell_type": "code",
   "execution_count": 1,
   "metadata": {},
   "outputs": [
    {
     "name": "stdout",
     "output_type": "stream",
     "text": [
      "Requirement already satisfied: tensorflow==2.7.0 in c:\\users\\user\\anaconda3\\envs\\myvenv\\lib\\site-packages (2.7.0)\n",
      "Requirement already satisfied: tensorboard~=2.6 in c:\\users\\user\\anaconda3\\envs\\myvenv\\lib\\site-packages (from tensorflow==2.7.0) (2.7.0)\n",
      "Requirement already satisfied: tensorflow-estimator<2.8,~=2.7.0rc0 in c:\\users\\user\\anaconda3\\envs\\myvenv\\lib\\site-packages (from tensorflow==2.7.0) (2.7.0)\n",
      "Requirement already satisfied: grpcio<2.0,>=1.24.3 in c:\\users\\user\\anaconda3\\envs\\myvenv\\lib\\site-packages (from tensorflow==2.7.0) (1.42.0)\n",
      "Requirement already satisfied: keras-preprocessing>=1.1.1 in c:\\users\\user\\anaconda3\\envs\\myvenv\\lib\\site-packages (from tensorflow==2.7.0) (1.1.2)\n",
      "Requirement already satisfied: wheel<1.0,>=0.32.0 in c:\\users\\user\\anaconda3\\envs\\myvenv\\lib\\site-packages (from tensorflow==2.7.0) (0.37.0)\n",
      "Requirement already satisfied: numpy>=1.14.5 in c:\\users\\user\\anaconda3\\envs\\myvenv\\lib\\site-packages (from tensorflow==2.7.0) (1.21.4)\n",
      "Requirement already satisfied: gast<0.5.0,>=0.2.1 in c:\\users\\user\\anaconda3\\envs\\myvenv\\lib\\site-packages (from tensorflow==2.7.0) (0.3.3)\n",
      "Requirement already satisfied: h5py>=2.9.0 in c:\\users\\user\\anaconda3\\envs\\myvenv\\lib\\site-packages (from tensorflow==2.7.0) (2.10.0)\n",
      "Requirement already satisfied: flatbuffers<3.0,>=1.12 in c:\\users\\user\\anaconda3\\envs\\myvenv\\lib\\site-packages (from tensorflow==2.7.0) (2.0)\n",
      "Requirement already satisfied: keras<2.8,>=2.7.0rc0 in c:\\users\\user\\anaconda3\\envs\\myvenv\\lib\\site-packages (from tensorflow==2.7.0) (2.7.0)\n",
      "Requirement already satisfied: absl-py>=0.4.0 in c:\\users\\user\\anaconda3\\envs\\myvenv\\lib\\site-packages (from tensorflow==2.7.0) (0.13.0)\n",
      "Requirement already satisfied: google-pasta>=0.1.1 in c:\\users\\user\\anaconda3\\envs\\myvenv\\lib\\site-packages (from tensorflow==2.7.0) (0.2.0)\n",
      "Requirement already satisfied: protobuf>=3.9.2 in c:\\users\\user\\anaconda3\\envs\\myvenv\\lib\\site-packages (from tensorflow==2.7.0) (3.17.2)\n",
      "Requirement already satisfied: termcolor>=1.1.0 in c:\\users\\user\\anaconda3\\envs\\myvenv\\lib\\site-packages (from tensorflow==2.7.0) (1.1.0)\n",
      "Requirement already satisfied: wrapt>=1.11.0 in c:\\users\\user\\anaconda3\\envs\\myvenv\\lib\\site-packages (from tensorflow==2.7.0) (1.12.1)\n",
      "Requirement already satisfied: typing-extensions>=3.6.6 in c:\\users\\user\\anaconda3\\envs\\myvenv\\lib\\site-packages (from tensorflow==2.7.0) (3.10.0.2)\n",
      "Requirement already satisfied: astunparse>=1.6.0 in c:\\users\\user\\anaconda3\\envs\\myvenv\\lib\\site-packages (from tensorflow==2.7.0) (1.6.3)\n",
      "Requirement already satisfied: libclang>=9.0.1 in c:\\users\\user\\anaconda3\\envs\\myvenv\\lib\\site-packages (from tensorflow==2.7.0) (12.0.0)\n",
      "Requirement already satisfied: tensorflow-io-gcs-filesystem>=0.21.0 in c:\\users\\user\\anaconda3\\envs\\myvenv\\lib\\site-packages (from tensorflow==2.7.0) (0.22.0)\n",
      "Requirement already satisfied: six>=1.12.0 in c:\\users\\user\\anaconda3\\envs\\myvenv\\lib\\site-packages (from tensorflow==2.7.0) (1.16.0)\n",
      "Requirement already satisfied: opt-einsum>=2.3.2 in c:\\users\\user\\anaconda3\\envs\\myvenv\\lib\\site-packages (from tensorflow==2.7.0) (3.3.0)\n",
      "Requirement already satisfied: markdown>=2.6.8 in c:\\users\\user\\anaconda3\\envs\\myvenv\\lib\\site-packages (from tensorboard~=2.6->tensorflow==2.7.0) (3.3.4)\n",
      "Requirement already satisfied: requests<3,>=2.21.0 in c:\\users\\user\\anaconda3\\envs\\myvenv\\lib\\site-packages (from tensorboard~=2.6->tensorflow==2.7.0) (2.26.0)\n",
      "Requirement already satisfied: google-auth-oauthlib<0.5,>=0.4.1 in c:\\users\\user\\anaconda3\\envs\\myvenv\\lib\\site-packages (from tensorboard~=2.6->tensorflow==2.7.0) (0.4.4)\n",
      "Requirement already satisfied: werkzeug>=0.11.15 in c:\\users\\user\\anaconda3\\envs\\myvenv\\lib\\site-packages (from tensorboard~=2.6->tensorflow==2.7.0) (2.0.2)\n",
      "Requirement already satisfied: tensorboard-data-server<0.7.0,>=0.6.0 in c:\\users\\user\\anaconda3\\envs\\myvenv\\lib\\site-packages (from tensorboard~=2.6->tensorflow==2.7.0) (0.6.1)\n",
      "Requirement already satisfied: setuptools>=41.0.0 in c:\\users\\user\\anaconda3\\envs\\myvenv\\lib\\site-packages (from tensorboard~=2.6->tensorflow==2.7.0) (58.0.4)\n",
      "Requirement already satisfied: tensorboard-plugin-wit>=1.6.0 in c:\\users\\user\\anaconda3\\envs\\myvenv\\lib\\site-packages (from tensorboard~=2.6->tensorflow==2.7.0) (1.6.0)\n",
      "Requirement already satisfied: google-auth<3,>=1.6.3 in c:\\users\\user\\anaconda3\\envs\\myvenv\\lib\\site-packages (from tensorboard~=2.6->tensorflow==2.7.0) (1.33.0)\n",
      "Requirement already satisfied: cachetools<5.0,>=2.0.0 in c:\\users\\user\\anaconda3\\envs\\myvenv\\lib\\site-packages (from google-auth<3,>=1.6.3->tensorboard~=2.6->tensorflow==2.7.0) (4.2.2)\n",
      "Requirement already satisfied: rsa<5,>=3.1.4 in c:\\users\\user\\anaconda3\\envs\\myvenv\\lib\\site-packages (from google-auth<3,>=1.6.3->tensorboard~=2.6->tensorflow==2.7.0) (4.7.2)\n",
      "Requirement already satisfied: pyasn1-modules>=0.2.1 in c:\\users\\user\\anaconda3\\envs\\myvenv\\lib\\site-packages (from google-auth<3,>=1.6.3->tensorboard~=2.6->tensorflow==2.7.0) (0.2.8)\n",
      "Requirement already satisfied: requests-oauthlib>=0.7.0 in c:\\users\\user\\anaconda3\\envs\\myvenv\\lib\\site-packages (from google-auth-oauthlib<0.5,>=0.4.1->tensorboard~=2.6->tensorflow==2.7.0) (1.3.0)\n",
      "Requirement already satisfied: pyasn1<0.5.0,>=0.4.6 in c:\\users\\user\\anaconda3\\envs\\myvenv\\lib\\site-packages (from pyasn1-modules>=0.2.1->google-auth<3,>=1.6.3->tensorboard~=2.6->tensorflow==2.7.0) (0.4.8)\n",
      "Requirement already satisfied: urllib3<1.27,>=1.21.1 in c:\\users\\user\\anaconda3\\envs\\myvenv\\lib\\site-packages (from requests<3,>=2.21.0->tensorboard~=2.6->tensorflow==2.7.0) (1.26.7)\n",
      "Requirement already satisfied: certifi>=2017.4.17 in c:\\users\\user\\anaconda3\\envs\\myvenv\\lib\\site-packages (from requests<3,>=2.21.0->tensorboard~=2.6->tensorflow==2.7.0) (2021.10.8)\n",
      "Requirement already satisfied: idna<4,>=2.5 in c:\\users\\user\\anaconda3\\envs\\myvenv\\lib\\site-packages (from requests<3,>=2.21.0->tensorboard~=2.6->tensorflow==2.7.0) (3.2)\n",
      "Requirement already satisfied: charset-normalizer~=2.0.0 in c:\\users\\user\\anaconda3\\envs\\myvenv\\lib\\site-packages (from requests<3,>=2.21.0->tensorboard~=2.6->tensorflow==2.7.0) (2.0.4)\n",
      "Requirement already satisfied: oauthlib>=3.0.0 in c:\\users\\user\\anaconda3\\envs\\myvenv\\lib\\site-packages (from requests-oauthlib>=0.7.0->google-auth-oauthlib<0.5,>=0.4.1->tensorboard~=2.6->tensorflow==2.7.0) (3.1.1)\n",
      "Note: you may need to restart the kernel to use updated packages.\n"
     ]
    }
   ],
   "source": [
    "pip install tensorflow==2.7.0"
   ]
  },
  {
   "cell_type": "code",
   "execution_count": 2,
   "metadata": {},
   "outputs": [
    {
     "data": {
      "text/plain": [
       "'2.7.0'"
      ]
     },
     "execution_count": 2,
     "metadata": {},
     "output_type": "execute_result"
    }
   ],
   "source": [
    "import tensorflow as tf\n",
    "tf.__version__"
   ]
  },
  {
   "cell_type": "code",
   "execution_count": 3,
   "metadata": {},
   "outputs": [
    {
     "name": "stdout",
     "output_type": "stream",
     "text": [
      "Requirement already satisfied: keras in c:\\users\\user\\anaconda3\\envs\\myvenv\\lib\\site-packages (2.7.0)\n",
      "Note: you may need to restart the kernel to use updated packages.\n"
     ]
    }
   ],
   "source": [
    "pip install keras"
   ]
  },
  {
   "cell_type": "code",
   "execution_count": 4,
   "metadata": {},
   "outputs": [
    {
     "name": "stdout",
     "output_type": "stream",
     "text": [
      "Requirement already satisfied: sequential in c:\\users\\user\\anaconda3\\envs\\myvenv\\lib\\site-packages (1.0.0)\n",
      "Note: you may need to restart the kernel to use updated packages.\n"
     ]
    }
   ],
   "source": [
    "pip install sequential"
   ]
  },
  {
   "cell_type": "code",
   "execution_count": null,
   "metadata": {},
   "outputs": [],
   "source": [
    "\n"
   ]
  },
  {
   "cell_type": "code",
   "execution_count": 5,
   "metadata": {},
   "outputs": [],
   "source": [
    "import tensorflow as tf\n",
    "from tensorflow import keras\n",
    "from tensorflow.keras import layers\n"
   ]
  },
  {
   "cell_type": "code",
   "execution_count": 6,
   "metadata": {},
   "outputs": [
    {
     "data": {
      "text/plain": [
       "<function keras.saving.save.load_model(filepath, custom_objects=None, compile=True, options=None)>"
      ]
     },
     "execution_count": 6,
     "metadata": {},
     "output_type": "execute_result"
    }
   ],
   "source": [
    "import tensorflow as tf\n",
    "tf.keras.models.load_model\n"
   ]
  },
  {
   "cell_type": "code",
   "execution_count": 7,
   "metadata": {},
   "outputs": [],
   "source": [
    "from keras.models import sequential\n",
    "\n",
    "from keras.layers import Dense"
   ]
  },
  {
   "cell_type": "code",
   "execution_count": 8,
   "metadata": {},
   "outputs": [],
   "source": [
    "import numpy as np\n",
    "import pandas as pd\n",
    "import matplotlib.pyplot as plt"
   ]
  },
  {
   "cell_type": "code",
   "execution_count": 9,
   "metadata": {},
   "outputs": [
    {
     "name": "stdout",
     "output_type": "stream",
     "text": [
      "x의 평균값 :  5.0\n",
      "y의 평균값 :  90.5\n",
      "분모의 값 :  20.0\n",
      "분모 :  20.0\n",
      "분자 :  46.0\n",
      "기울기 a =  2.3\n",
      "절편 b =  79.0\n"
     ]
    }
   ],
   "source": [
    "x = [2,4,6,8]\n",
    "y = [ 81, 93, 91, 97 ]\n",
    "\n",
    "# x와 y의 평균값\n",
    "mx = np.mean(x)\n",
    "my = np.mean(y)\n",
    "\n",
    "print(\"x의 평균값 : \", mx)\n",
    "print(\"y의 평균값 : \", my)\n",
    "# 기울기 : 분모 ( (x-x의 평균값)의 제곱 의 합 )\n",
    "divisior = sum( [(mx -i )**2 for i in x ])\n",
    "print(\"분모의 값 : \", divisior)\n",
    "\n",
    "# 기울기 : 분자  ((x - x의 평균)*(y - y의 평균))의 합\n",
    "def top(x, mx, y, my):\n",
    "    d  = 0\n",
    "    for i in range(len(x)):\n",
    "        d += (x[i]-mx) * (y[i]- my)\n",
    "    return d\n",
    "\n",
    "dividend = top(x, mx, y, my)\n",
    "\n",
    "print(\"분모 : \", divisior)\n",
    "print(\"분자 : \", dividend)\n",
    "\n",
    "a = dividend / divisior\n",
    "# 기울기 : y의 평균 - (x의 평균 곱하기 기울기)\n",
    "b = my - (mx * a)\n",
    "\n",
    "print(\"기울기 a = \", a)\n",
    "print(\"절편 b = \", b)"
   ]
  },
  {
   "cell_type": "code",
   "execution_count": 10,
   "metadata": {},
   "outputs": [
    {
     "data": {
      "image/png": "[encoded data removed]",
      "text/plain": [
       "<Figure size 576x360 with 1 Axes>"
      ]
     },
     "metadata": {
      "needs_background": "light"
     },
     "output_type": "display_data"
    }
   ],
   "source": [
    "import matplotlib.pyplot as plt\n",
    "plt.figure(figsize=(8,5))\n",
    "plt.scatter(x,y)\n",
    "plt.show()"
   ]
  },
  {
   "cell_type": "code",
   "execution_count": 11,
   "metadata": {},
   "outputs": [],
   "source": [
    "#기울기 a와 절편 b를 초기값 설정\n",
    "a = 0\n",
    "b = 0\n",
    "#학습률 설정\n",
    "lr = 0.05\n",
    "x_data = np.array(x)\n",
    "y_data = np.array(y)"
   ]
  },
  {
   "cell_type": "code",
   "execution_count": 12,
   "metadata": {},
   "outputs": [
    {
     "name": "stdout",
     "output_type": "stream",
     "text": [
      "epoch = 0. 기울기:23.2000, 절편:4.5250\n",
      "epoch = 100. 기울기:7.9316, 절편:45.3932\n",
      "epoch = 200. 기울기:4.7953, 절편:64.1094\n",
      "epoch = 300. 기울기:3.4056, 절편:72.4022\n",
      "epoch = 400. 기울기:2.7899, 절편:76.0766\n",
      "epoch = 500. 기울기:2.5171, 절편:77.7047\n",
      "epoch = 600. 기울기:2.3962, 절편:78.4261\n",
      "epoch = 700. 기울기:2.3426, 절편:78.7457\n",
      "epoch = 800. 기울기:2.3189, 절편:78.8873\n",
      "epoch = 900. 기울기:2.3084, 절편:78.9501\n",
      "epoch = 1000. 기울기:2.3037, 절편:78.9779\n"
     ]
    }
   ],
   "source": [
    "epochs = 1001\n",
    "#경사 하강법 시작\n",
    "for i in range(epochs):\n",
    "    y_pred = a * x_data + b # y의 예측값 구함\n",
    "    error = y_data - y_pred # 오차를 구함\n",
    "    #오차 함수를 a로 미분 한 값\n",
    "    a_diff = -(1/len(x_data)) * sum(x_data * (error))\n",
    "    b_diff = -(1/len(x_data)) * sum(y_data - y_pred)\n",
    "    \n",
    "    a = a - lr*a_diff   #기울기 수정\n",
    "    b = b - lr*b_diff \n",
    "    \n",
    "    if i%100 == 0:\n",
    "        print(\"epoch = %.f. 기울기:%.04f, 절편:%.04f\" % (i, a, b))"
   ]
  },
  {
   "cell_type": "code",
   "execution_count": 13,
   "metadata": {},
   "outputs": [
    {
     "data": {
      "image/png": "[encoded data removed]",
      "text/plain": [
       "<Figure size 432x288 with 1 Axes>"
      ]
     },
     "metadata": {
      "needs_background": "light"
     },
     "output_type": "display_data"
    }
   ],
   "source": [
    "plt.scatter(x, y) # 이하 그래프 출력\n",
    "plt.plot([min(x_data), max(x_data)], [min(y_pred), max(y_pred)])\n",
    "plt.show()"
   ]
  },
  {
   "cell_type": "code",
   "execution_count": 14,
   "metadata": {},
   "outputs": [],
   "source": [
    "#다중 선형 회귀\n",
    "from mpl_toolkits import mplot3d\n",
    "\n",
    "data = [[2, 0, 81], [4, 4, 93], [6, 2, 91], [8, 3, 97]]\n",
    "x1 = [i[0] for i in data]\n",
    "x2 = [i[1] for i in data]\n",
    "y =  [i[2] for i in data]"
   ]
  },
  {
   "cell_type": "code",
   "execution_count": 15,
   "metadata": {},
   "outputs": [],
   "source": [
    "x1_data = np.array(x1)\n",
    "x2_data = np.array(x2)\n",
    "y_data = np.array(y)\n",
    "\n",
    "a1 = 0; a2 = 0; b = 0\n",
    "lr=0.02"
   ]
  },
  {
   "cell_type": "code",
   "execution_count": 16,
   "metadata": {},
   "outputs": [
    {
     "name": "stdout",
     "output_type": "stream",
     "text": [
      "epoch = 0. 기울기:2.3037, 절편:1.5796\n",
      "epoch = 100. 기울기:2.3037, 절편:68.7165\n",
      "epoch = 200. 기울기:2.3037, 절편:77.6201\n",
      "epoch = 300. 기울기:2.3037, 절편:78.8009\n",
      "epoch = 400. 기울기:2.3037, 절편:78.9575\n",
      "epoch = 500. 기울기:2.3037, 절편:78.9783\n",
      "epoch = 600. 기울기:2.3037, 절편:78.9810\n",
      "epoch = 700. 기울기:2.3037, 절편:78.9814\n",
      "epoch = 800. 기울기:2.3037, 절편:78.9815\n",
      "epoch = 900. 기울기:2.3037, 절편:78.9815\n",
      "epoch = 1000. 기울기:2.3037, 절편:78.9815\n",
      "epoch = 1100. 기울기:2.3037, 절편:78.9815\n",
      "epoch = 1200. 기울기:2.3037, 절편:78.9815\n",
      "epoch = 1300. 기울기:2.3037, 절편:78.9815\n",
      "epoch = 1400. 기울기:2.3037, 절편:78.9815\n",
      "epoch = 1500. 기울기:2.3037, 절편:78.9815\n",
      "epoch = 1600. 기울기:2.3037, 절편:78.9815\n",
      "epoch = 1700. 기울기:2.3037, 절편:78.9815\n",
      "epoch = 1800. 기울기:2.3037, 절편:78.9815\n",
      "epoch = 1900. 기울기:2.3037, 절편:78.9815\n",
      "epoch = 2000. 기울기:2.3037, 절편:78.9815\n"
     ]
    }
   ],
   "source": [
    "epochs = 2001\n",
    "#경사 하강법 시작\n",
    "for i in range(epochs):\n",
    "    y_pred = a * x_data + b # y의 예측값 구함\n",
    "    error = y_data - y_pred # 오차를 구함\n",
    "    #오차 함수를 a로 미분 한 값\n",
    "    a1_diff = -(1/len(x_data)) * sum(x1_data * (error))\n",
    "    a2_diff = -(1/len(x_data)) * sum(x2_data * (error))\n",
    "    b_diff = -(1/len(x_data)) * sum(y_data - y_pred)\n",
    "    \n",
    "    a1 = a1 - lr*a_diff   #기울기 수정\n",
    "    a2 = a2 - lr*a_diff\n",
    "    b = b - lr*b_diff \n",
    "    \n",
    "    if i%100 == 0:\n",
    "        print(\"epoch = %.f. 기울기:%.04f, 절편:%.04f\" % (i, a, b))"
   ]
  },
  {
   "cell_type": "code",
   "execution_count": 17,
   "metadata": {},
   "outputs": [
    {
     "data": {
      "image/png": "[encoded data removed]",
      "text/plain": [
       "<Figure size 432x288 with 1 Axes>"
      ]
     },
     "metadata": {
      "needs_background": "light"
     },
     "output_type": "display_data"
    }
   ],
   "source": [
    "plt.scatter(x, y) # 이하 그래프 출력\n",
    "plt.plot([min(x_data), max(x_data)], [min(y_pred), max(y_pred)])\n",
    "plt.show()\n"
   ]
  },
  {
   "cell_type": "code",
   "execution_count": 18,
   "metadata": {},
   "outputs": [
    {
     "data": {
      "image/png": "[encoded data removed]",
      "text/plain": [
       "<Figure size 432x288 with 1 Axes>"
      ]
     },
     "metadata": {
      "needs_background": "light"
     },
     "output_type": "display_data"
    }
   ],
   "source": [
    "#그래프로 확인\n",
    "ax = plt.axes(projection='3d')\n",
    "ax.set_xlabel('study_hours')\n",
    "ax.set_ylabel('private_class')\n",
    "ax.set_zlabel('Score')\n",
    "ax.dist = 11\n",
    "ax.scatter(x1, x2, y)\n",
    "plt.show()"
   ]
  },
  {
   "cell_type": "code",
   "execution_count": 19,
   "metadata": {},
   "outputs": [
    {
     "name": "stdout",
     "output_type": "stream",
     "text": [
      "Requirement already satisfied: statsmodels in c:\\users\\user\\anaconda3\\envs\\myvenv\\lib\\site-packages (0.13.0)\n",
      "Requirement already satisfied: numpy>=1.17 in c:\\users\\user\\anaconda3\\envs\\myvenv\\lib\\site-packages (from statsmodels) (1.21.4)\n",
      "Requirement already satisfied: scipy>=1.3 in c:\\users\\user\\anaconda3\\envs\\myvenv\\lib\\site-packages (from statsmodels) (1.4.1)\n",
      "Requirement already satisfied: pandas>=0.25 in c:\\users\\user\\anaconda3\\envs\\myvenv\\lib\\site-packages (from statsmodels) (1.3.4)\n",
      "Requirement already satisfied: patsy>=0.5.2 in c:\\users\\user\\anaconda3\\envs\\myvenv\\lib\\site-packages (from statsmodels) (0.5.2)\n",
      "Requirement already satisfied: pytz>=2017.3 in c:\\users\\user\\anaconda3\\envs\\myvenv\\lib\\site-packages (from pandas>=0.25->statsmodels) (2021.3)\n",
      "Requirement already satisfied: python-dateutil>=2.7.3 in c:\\users\\user\\anaconda3\\envs\\myvenv\\lib\\site-packages (from pandas>=0.25->statsmodels) (2.8.2)\n",
      "Requirement already satisfied: six in c:\\users\\user\\anaconda3\\envs\\myvenv\\lib\\site-packages (from patsy>=0.5.2->statsmodels) (1.16.0)\n",
      "Note: you may need to restart the kernel to use updated packages.\n"
     ]
    }
   ],
   "source": [
    "pip install statsmodels"
   ]
  },
  {
   "cell_type": "code",
   "execution_count": 20,
   "metadata": {},
   "outputs": [
    {
     "name": "stdout",
     "output_type": "stream",
     "text": [
      "Requirement already satisfied: formula in c:\\users\\user\\anaconda3\\envs\\myvenv\\lib\\site-packages (2.0.1)\n",
      "Note: you may need to restart the kernel to use updated packages.Requirement already satisfied: pybind11>=2.4 in c:\\users\\user\\anaconda3\\envs\\myvenv\\lib\\site-packages (from formula) (2.8.1)\n",
      "\n"
     ]
    }
   ],
   "source": [
    "pip install formula"
   ]
  },
  {
   "cell_type": "code",
   "execution_count": 21,
   "metadata": {},
   "outputs": [
    {
     "name": "stdout",
     "output_type": "stream",
     "text": [
      "Requirement already satisfied: numpy in c:\\users\\user\\anaconda3\\envs\\myvenv\\lib\\site-packages (1.21.4)\n",
      "Note: you may need to restart the kernel to use updated packages.\n"
     ]
    }
   ],
   "source": [
    "pip install numpy --upgrade"
   ]
  },
  {
   "cell_type": "code",
   "execution_count": 22,
   "metadata": {},
   "outputs": [
    {
     "data": {
      "image/png": "[encoded data removed]",
      "text/plain": [
       "<Figure size 432x288 with 1 Axes>"
      ]
     },
     "metadata": {
      "needs_background": "light"
     },
     "output_type": "display_data"
    }
   ],
   "source": [
    "# %load 3d_graphic.py\n",
    "#!/usr/bin/env python\n",
    "\n",
    "# In[1]:\n",
    "\n",
    "\n",
    "import numpy as np\n",
    "import pandas as pd\n",
    "import matplotlib.pyplot as plt\n",
    "from mpl_toolkits import mplot3d\n",
    "\n",
    "\n",
    "# In[4]:\n",
    "\n",
    "\n",
    "#참고 자료, 다중 선형회귀 '예측 평면' 3D로 보기\n",
    "\n",
    "import statsmodels.api as statm\n",
    "import statsmodels.formula.api as statfa\n",
    "#from matplotlib.pyplot import figure\n",
    "\n",
    "X = [i[0:2] for i in data]\n",
    "y = [i[2] for i in data]\n",
    "\n",
    "X_1=statm.add_constant(X)\n",
    "results=statm.OLS(y,X_1).fit()\n",
    "\n",
    "hour_class=pd.DataFrame(X,columns=['study_hours','private_class'])\n",
    "hour_class['Score']=pd.Series(y)\n",
    "\n",
    "model = statfa.ols(formula='Score ~ study_hours + private_class', data=hour_class)\n",
    "\n",
    "results_formula = model.fit()\n",
    "\n",
    "a, b = np.meshgrid(np.linspace(hour_class.study_hours.min(),hour_class.study_hours.max(),100),\n",
    "                   np.linspace(hour_class.private_class.min(),hour_class.private_class.max(),100))\n",
    "\n",
    "X_ax = pd.DataFrame({'study_hours': a.ravel(), 'private_class': b.ravel()})\n",
    "fittedY=results_formula.predict(exog=X_ax)\n",
    "\n",
    "fig = plt.figure()\n",
    "graph = fig.add_subplot(111, projection='3d')\n",
    "\n",
    "graph.scatter(hour_class['study_hours'],hour_class['private_class'],hour_class['Score'],\n",
    "              c='blue',marker='o', alpha=1)\n",
    "graph.plot_surface(a,b,fittedY.values.reshape(a.shape),\n",
    "                   rstride=1, cstride=1, color='none', alpha=0.4)\n",
    "graph.set_xlabel('study hours')\n",
    "graph.set_ylabel('private class')\n",
    "graph.set_zlabel('Score')\n",
    "graph.dist = 11\n",
    "\n",
    "plt.show()\n",
    "\n",
    "# In[ ]:\n"
   ]
  },
  {
   "cell_type": "code",
   "execution_count": 23,
   "metadata": {},
   "outputs": [],
   "source": [
    "import tensorflow as tf\n",
    "import numpy as np"
   ]
  },
  {
   "cell_type": "code",
   "execution_count": 24,
   "metadata": {},
   "outputs": [
    {
     "data": {
      "text/plain": [
       "'2.7.0'"
      ]
     },
     "execution_count": 24,
     "metadata": {},
     "output_type": "execute_result"
    }
   ],
   "source": [
    "import tensorflow as tf\n",
    "tf.__version__"
   ]
  },
  {
   "cell_type": "code",
   "execution_count": 25,
   "metadata": {},
   "outputs": [],
   "source": [
    "from tensorflow.keras.models import Sequential\n",
    "from tensorflow.keras.layers import Dense"
   ]
  },
  {
   "cell_type": "code",
   "execution_count": 26,
   "metadata": {},
   "outputs": [],
   "source": [
    "x = [2,4,6,8]\n",
    "y = [ 81, 93, 91, 97 ]"
   ]
  },
  {
   "cell_type": "code",
   "execution_count": 27,
   "metadata": {},
   "outputs": [
    {
     "ename": "SyntaxError",
     "evalue": "unexpected character after line continuation character (Temp/ipykernel_2192/2605628525.py, line 1)",
     "output_type": "error",
     "traceback": [
      "\u001b[1;36m  File \u001b[1;32m\"C:\\Users\\user\\AppData\\Local\\Temp/ipykernel_2192/2605628525.py\"\u001b[1;36m, line \u001b[1;32m1\u001b[0m\n\u001b[1;33m    \\ = tf.Variable(tf.random.nomal([1]),name=\"weight\")\u001b[0m\n\u001b[1;37m                                                       ^\u001b[0m\n\u001b[1;31mSyntaxError\u001b[0m\u001b[1;31m:\u001b[0m unexpected character after line continuation character\n"
     ]
    }
   ],
   "source": [
    "\\ = tf.Variable(tf.random.nomal([1]),name=\"weight\")\n",
    "b = tf.Variable(tf.random.nomal([1]),name=\"bias\")\n",
    "hypothesis = x*\\ + b\n",
    "learning_rate = 0.001"
   ]
  },
  {
   "cell_type": "code",
   "execution_count": null,
   "metadata": {},
   "outputs": [],
   "source": [
    "cost = tf.reduce_mean(tf.square(hypothesis - y))\n",
    "shd = tf.keras.optimizers.SGD(learning_rate=0.01)"
   ]
  },
  {
   "cell_type": "code",
   "execution_count": null,
   "metadata": {},
   "outputs": [],
   "source": [
    "model = tf.keras.models.Sequential()\n",
    "model.add(tf.keras.layers.Dense(1, input_dim = 1))"
   ]
  },
  {
   "cell_type": "code",
   "execution_count": null,
   "metadata": {},
   "outputs": [],
   "source": [
    "model.compile(loss='mean_squared_errorm', optimizer=sgd)\n",
    "model.fit(x, y, epochs=100)"
   ]
  },
  {
   "cell_type": "code",
   "execution_count": null,
   "metadata": {},
   "outputs": [],
   "source": []
  },
  {
   "cell_type": "code",
   "execution_count": null,
   "metadata": {},
   "outputs": [],
   "source": []
  }
 ],
 "metadata": {
  "kernelspec": {
   "display_name": "myvenv",
   "language": "python",
   "name": "myvenv"
  },
  "language_info": {
   "codemirror_mode": {
    "name": "ipython",
    "version": 3
   },
   "file_extension": ".py",
   "mimetype": "text/x-python",
   "name": "python",
   "nbconvert_exporter": "python",
   "pygments_lexer": "ipython3",
   "version": "3.8.12"
  }
 },
 "nbformat": 4,
 "nbformat_minor": 4
}
