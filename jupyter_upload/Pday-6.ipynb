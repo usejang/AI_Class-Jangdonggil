{
 "cells": [
  {
   "cell_type": "code",
   "execution_count": 21,
   "id": "3c100f6c",
   "metadata": {},
   "outputs": [
    {
     "ename": "AttributeError",
     "evalue": "'NoneType' object has no attribute 'point'",
     "output_type": "error",
     "traceback": [
      "\u001b[1;31m---------------------------------------------------------------------------\u001b[0m",
      "\u001b[1;31mAttributeError\u001b[0m                            Traceback (most recent call last)",
      "\u001b[1;32m<ipython-input-21-f24f01275d6b>\u001b[0m in \u001b[0;36m<module>\u001b[1;34m\u001b[0m\n\u001b[0;32m     22\u001b[0m         \u001b[0mmovie_point\u001b[0m\u001b[1;33m.\u001b[0m\u001b[0mappend\u001b[0m\u001b[1;33m(\u001b[0m\u001b[0mpoint\u001b[0m\u001b[1;33m.\u001b[0m\u001b[0mget_text\u001b[0m\u001b[1;33m(\u001b[0m\u001b[1;33m)\u001b[0m\u001b[1;33m)\u001b[0m\u001b[1;33m\u001b[0m\u001b[1;33m\u001b[0m\u001b[0m\n\u001b[0;32m     23\u001b[0m \u001b[1;33m\u001b[0m\u001b[0m\n\u001b[1;32m---> 24\u001b[1;33m \u001b[1;32mfor\u001b[0m \u001b[0mi\u001b[0m\u001b[1;33m,\u001b[0m \u001b[1;33m(\u001b[0m\u001b[0mtitle\u001b[0m\u001b[1;33m.\u001b[0m \u001b[0mpoint\u001b[0m\u001b[1;33m)\u001b[0m \u001b[1;32min\u001b[0m \u001b[0menumerate\u001b[0m\u001b[1;33m(\u001b[0m\u001b[0mzip\u001b[0m\u001b[1;33m(\u001b[0m\u001b[0mmovie_title\u001b[0m\u001b[1;33m,\u001b[0m \u001b[0mmovie_point\u001b[0m\u001b[1;33m)\u001b[0m\u001b[1;33m)\u001b[0m\u001b[1;33m:\u001b[0m\u001b[1;33m\u001b[0m\u001b[1;33m\u001b[0m\u001b[0m\n\u001b[0m\u001b[0;32m     25\u001b[0m     \u001b[0mprint\u001b[0m\u001b[1;33m(\u001b[0m\u001b[1;34m\"{} : {} - {}\"\u001b[0m\u001b[1;33m.\u001b[0m\u001b[0mformat\u001b[0m\u001b[1;33m(\u001b[0m\u001b[0mi\u001b[0m\u001b[1;33m+\u001b[0m\u001b[1;36m1\u001b[0m\u001b[1;33m,\u001b[0m \u001b[0mtitle\u001b[0m\u001b[1;33m,\u001b[0m \u001b[0mpoint\u001b[0m\u001b[1;33m)\u001b[0m\u001b[1;33m)\u001b[0m\u001b[1;33m\u001b[0m\u001b[1;33m\u001b[0m\u001b[0m\n",
      "\u001b[1;31mAttributeError\u001b[0m: 'NoneType' object has no attribute 'point'"
     ]
    }
   ],
   "source": [
    "from urllib import request\n",
    "from bs4 import BeautifulSoup\n",
    "\n",
    "# 영화 랭킹 검색하기, 순위대로 평점 출력\n",
    "url = 'https://movie.naver.com/movie/sdb/rank/rmovie.naver?sel=cur&date=20211103'\n",
    "target = request. urlopen(url)\n",
    "\n",
    "soup = BeautifulSoup(target)\n",
    "soup\n"
   ]
  },
  {
   "cell_type": "code",
   "execution_count": 24,
   "id": "db2c0f8c",
   "metadata": {},
   "outputs": [
    {
     "name": "stdout",
     "output_type": "stream",
     "text": [
      "1 : 그린 북 - 9.59\n",
      "2 : 자산어보 - 9.34\n",
      "3 : 소울 - 9.31\n",
      "4 : 코다 - 9.26\n",
      "5 : 부활: 그 증거 - 9.24\n",
      "6 : 극장판 짱구는 못말려: 격돌! 낙서왕국과 얼추 네 명의 용사들 - 9.22\n",
      "7 : 기적 - 9.22\n",
      "8 : 고장난 론 - 9.15\n",
      "9 : 꽃다발 같은 사랑을 했다 - 9.09\n",
      "10 : 라스트 듀얼: 최후의 결투 - 9.04\n",
      "11 : 윤희에게 - 8.97\n",
      "12 : 더 파더 - 8.95\n",
      "13 : 바르다가 사랑한 얼굴들 - 8.89\n",
      "14 : 리틀 포레스트 - 8.83\n",
      "15 : 너의 이름은. - 8.80\n",
      "16 : 고양이를 부탁해 - 8.79\n",
      "17 : 가을의 전설 - 8.68\n",
      "18 : 세자매 - 8.61\n",
      "19 : 보이스 - 8.53\n",
      "20 : 노매드랜드 - 8.47\n",
      "21 : 모가디슈 - 8.33\n",
      "22 : 메기 - 8.30\n",
      "23 : 언어의 정원 - 8.17\n",
      "24 : 날씨의 아이 - 7.96\n",
      "25 : 듄 - 7.79\n",
      "26 : 더 독 - 7.70\n",
      "27 : 홀리 모터스 - 7.51\n",
      "28 : 그린 나이트 - 7.46\n",
      "29 : 수색자 - 7.21\n",
      "30 : 아네트 - 7.17\n",
      "31 : 007 노 타임 투 다이 - 6.83\n",
      "32 : 지푸라기라도 잡고 싶은 짐승들 - 6.62\n",
      "33 : 샹치와 텐 링즈의 전설 - 6.60\n",
      "34 : 용과 주근깨 공주 - 6.58\n",
      "35 : 싱크홀 - 6.49\n",
      "36 : 지금은맞고그때는틀리다 - 6.47\n",
      "37 : 노회찬6411 - 6.28\n",
      "38 : 베놈 2: 렛 데어 비 카니지 - 6.13\n",
      "39 : 이터널스 - 6.07\n"
     ]
    }
   ],
   "source": [
    "#<div class='tit5'>  : 영화 제목\n",
    "#<td class='point'>  : 평점\n",
    "\n",
    "movie_title = []\n",
    "movie_point = []\n",
    "\n",
    "for line in soup.findAll('tr'):\n",
    "    title = line.find('div', class_='tit5')\n",
    "    if title:\n",
    "        movie_title.append(title.get_text().strip('\\n'))\n",
    "    point = line.find('td', class_='point')\n",
    "    if point:\n",
    "        movie_point.append(point.get_text())\n",
    "        \n",
    "for i, (title, point) in enumerate(zip(movie_title, movie_point)):\n",
    "    print(\"{} : {} - {}\".format(i+1, title, point))"
   ]
  },
  {
   "cell_type": "code",
   "execution_count": 38,
   "id": "79849390",
   "metadata": {},
   "outputs": [],
   "source": [
    "from urllib import request"
   ]
  },
  {
   "cell_type": "code",
   "execution_count": 45,
   "id": "69a85578",
   "metadata": {},
   "outputs": [],
   "source": [
    "text = '''Yesterday\n",
    "All my troubles seemed so far away\n",
    "Now it looks as though they're here to stay\n",
    "Oh, I believe in yesterday\n",
    "Suddenly\n",
    "I'm not half the man I used to be\n",
    "There's a shadow hanging over me\n",
    "Oh, yesterday came suddenly\n",
    "Why she had to go, I don't know\n",
    "She wouldn't say\n",
    "I said something wrong\n",
    "Now I long for yesterday\n",
    "Yesterday\n",
    "Love was such an easy game to play\n",
    "Now I need a place to hide away\n",
    "Oh, I believe in yesterday\n",
    "Why she'''"
   ]
  },
  {
   "cell_type": "code",
   "execution_count": 38,
   "id": "77165f28",
   "metadata": {},
   "outputs": [
    {
     "ename": "NameError",
     "evalue": "name 'urllib' is not defined",
     "output_type": "error",
     "traceback": [
      "\u001b[1;31m---------------------------------------------------------------------------\u001b[0m",
      "\u001b[1;31mNameError\u001b[0m                                 Traceback (most recent call last)",
      "\u001b[1;32m<ipython-input-38-6d794021efb6>\u001b[0m in \u001b[0;36m<module>\u001b[1;34m\u001b[0m\n\u001b[0;32m      1\u001b[0m \u001b[0mclient_id\u001b[0m \u001b[1;33m=\u001b[0m \u001b[1;34m\"bIRDfBwqtilUYe3uIXzW\"\u001b[0m \u001b[1;31m# 개발자센터에서 발급받은 Client ID 값\u001b[0m\u001b[1;33m\u001b[0m\u001b[1;33m\u001b[0m\u001b[0m\n\u001b[0;32m      2\u001b[0m \u001b[0mclient_secret\u001b[0m \u001b[1;33m=\u001b[0m \u001b[1;34m\"GTH5qotomI\"\u001b[0m \u001b[1;31m# 개발자센터에서 발급받은 Client Secret 값\u001b[0m\u001b[1;33m\u001b[0m\u001b[1;33m\u001b[0m\u001b[0m\n\u001b[1;32m----> 3\u001b[1;33m \u001b[0mencText\u001b[0m \u001b[1;33m=\u001b[0m \u001b[0murllib\u001b[0m\u001b[1;33m.\u001b[0m\u001b[0mparse\u001b[0m\u001b[1;33m.\u001b[0m\u001b[0mquote\u001b[0m\u001b[1;33m(\u001b[0m\u001b[0mtext\u001b[0m\u001b[1;33m)\u001b[0m\u001b[1;33m\u001b[0m\u001b[1;33m\u001b[0m\u001b[0m\n\u001b[0m\u001b[0;32m      4\u001b[0m \u001b[0mdata\u001b[0m \u001b[1;33m=\u001b[0m \u001b[1;34m\"source=en&target=ko&text=\"\u001b[0m \u001b[1;33m+\u001b[0m \u001b[0mencText\u001b[0m\u001b[1;33m\u001b[0m\u001b[1;33m\u001b[0m\u001b[0m\n\u001b[0;32m      5\u001b[0m \u001b[0murl\u001b[0m \u001b[1;33m=\u001b[0m \u001b[1;34m\"https://openapi.naver.com/v1/papago/n2mt\"\u001b[0m\u001b[1;33m\u001b[0m\u001b[1;33m\u001b[0m\u001b[0m\n",
      "\u001b[1;31mNameError\u001b[0m: name 'urllib' is not defined"
     ]
    }
   ],
   "source": [
    "client_id = \"bIRDfBwqtilUYe3uIXzW\" # 개발자센터에서 발급받은 Client ID 값\n",
    "client_secret = \"GTH5qotomI\" # 개발자센터에서 발급받은 Client Secret 값\n",
    "encText = urllib.parse.quote(text)\n",
    "data = \"source=en&target=ko&text=\" + encText\n",
    "url = \"https://openapi.naver.com/v1/papago/n2mt\"\n",
    "request = urllib.request.Request(url)\n",
    "request.add_header(\"X-Naver-Client-Id\",client_id)\n",
    "request.add_header(\"X-Naver-Client-Secret\",client_secret)\n",
    "response = urllib.request.urlopen(request, data=data.encode(\"utf-8\"))\n",
    "rescode = response.getcode()\n",
    "if(rescode==200):\n",
    "    response_body = response.read()\n",
    "    print(response_body.decode('utf-8'))\n",
    "else:\n",
    "    print(\"Error Code:\" + rescode)\n",
    "    result = response.json()\n",
    "    print(result)\n",
    "    print(result['message']['result']['translatedText'])"
   ]
  },
  {
   "cell_type": "code",
   "execution_count": 35,
   "id": "2c38eef3",
   "metadata": {},
   "outputs": [
    {
     "ename": "NameError",
     "evalue": "name 'text' is not defined",
     "output_type": "error",
     "traceback": [
      "\u001b[1;31m---------------------------------------------------------------------------\u001b[0m",
      "\u001b[1;31mNameError\u001b[0m                                 Traceback (most recent call last)",
      "\u001b[1;32m<ipython-input-35-712a66d1b309>\u001b[0m in \u001b[0;36m<module>\u001b[1;34m\u001b[0m\n\u001b[0;32m      4\u001b[0m headers= {\"X-Naver-Client-Id\": \"LWsFwEbosr0XRelDdvE7\", \n\u001b[0;32m      5\u001b[0m           \"X-Naver-Client-Secret\":\"Dry6UBnViF\"}\n\u001b[1;32m----> 6\u001b[1;33m \u001b[0mparams\u001b[0m \u001b[1;33m=\u001b[0m \u001b[1;33m{\u001b[0m\u001b[1;34m\"source\"\u001b[0m\u001b[1;33m:\u001b[0m \u001b[1;34m\"en\"\u001b[0m\u001b[1;33m,\u001b[0m \u001b[1;34m\"target\"\u001b[0m\u001b[1;33m:\u001b[0m \u001b[1;34m\"ko\"\u001b[0m\u001b[1;33m,\u001b[0m \u001b[1;34m\"text\"\u001b[0m\u001b[1;33m:\u001b[0m \u001b[0mtext\u001b[0m\u001b[1;33m}\u001b[0m\u001b[1;33m\u001b[0m\u001b[1;33m\u001b[0m\u001b[0m\n\u001b[0m\u001b[0;32m      7\u001b[0m \u001b[1;33m\u001b[0m\u001b[0m\n\u001b[0;32m      8\u001b[0m \u001b[0mresponse\u001b[0m \u001b[1;33m=\u001b[0m \u001b[0mrequests\u001b[0m\u001b[1;33m.\u001b[0m\u001b[0mpost\u001b[0m\u001b[1;33m(\u001b[0m\u001b[0mrequest_url\u001b[0m\u001b[1;33m,\u001b[0m \u001b[0mheaders\u001b[0m\u001b[1;33m=\u001b[0m\u001b[0mheaders\u001b[0m\u001b[1;33m,\u001b[0m \u001b[0mdata\u001b[0m\u001b[1;33m=\u001b[0m\u001b[0mparams\u001b[0m\u001b[1;33m)\u001b[0m\u001b[1;33m\u001b[0m\u001b[1;33m\u001b[0m\u001b[0m\n",
      "\u001b[1;31mNameError\u001b[0m: name 'text' is not defined"
     ]
    }
   ],
   "source": [
    "import requests\n",
    "request_url = \"https://openapi.naver.com/v1/papago/n2mt\"\n",
    "\n",
    "headers= {\"X-Naver-Client-Id\": \"LWsFwEbosr0XRelDdvE7\", \n",
    "          \"X-Naver-Client-Secret\":\"Dry6UBnViF\"}\n",
    "params = {\"source\": \"en\", \"target\": \"ko\", \"text\": text}\n",
    "\n",
    "response = requests.post(request_url, headers=headers, data=params)\n",
    "if(response.status_code != 200):\n",
    "    print(\"Error Code:\", response)\n",
    "else:\n",
    "    #print(response)\n",
    "    result = response.json()\n",
    "    #print(result)\n",
    "    print(result['message']['result']['translatedText'])"
   ]
  },
  {
   "cell_type": "code",
   "execution_count": 1,
   "id": "50b65331",
   "metadata": {},
   "outputs": [
    {
     "ename": "NameError",
     "evalue": "name 'requests' is not defined",
     "output_type": "error",
     "traceback": [
      "\u001b[1;31m---------------------------------------------------------------------------\u001b[0m",
      "\u001b[1;31mNameError\u001b[0m                                 Traceback (most recent call last)",
      "\u001b[1;32m<ipython-input-1-9c1b4007621b>\u001b[0m in \u001b[0;36m<module>\u001b[1;34m\u001b[0m\n\u001b[0;32m      1\u001b[0m \u001b[1;31m## 정의된 OpenAPI URL을 호출합니다.\u001b[0m\u001b[1;33m\u001b[0m\u001b[1;33m\u001b[0m\u001b[1;33m\u001b[0m\u001b[0m\n\u001b[1;32m----> 2\u001b[1;33m \u001b[0mresponse\u001b[0m \u001b[1;33m=\u001b[0m \u001b[0mrequests\u001b[0m\u001b[1;33m.\u001b[0m\u001b[0mget\u001b[0m\u001b[1;33m(\u001b[0m\u001b[0murl\u001b[0m\u001b[1;33m)\u001b[0m\u001b[1;33m\u001b[0m\u001b[1;33m\u001b[0m\u001b[0m\n\u001b[0m\u001b[0;32m      3\u001b[0m \u001b[1;33m\u001b[0m\u001b[0m\n\u001b[0;32m      4\u001b[0m \u001b[1;31m## http 요청이 성공했을때 API의 리턴값을 가져옵니다.\u001b[0m\u001b[1;33m\u001b[0m\u001b[1;33m\u001b[0m\u001b[1;33m\u001b[0m\u001b[0m\n\u001b[0;32m      5\u001b[0m \u001b[1;32mif\u001b[0m \u001b[0mresponse\u001b[0m\u001b[1;33m.\u001b[0m\u001b[0mstatus_code\u001b[0m \u001b[1;33m==\u001b[0m \u001b[1;36m200\u001b[0m\u001b[1;33m:\u001b[0m\u001b[1;33m\u001b[0m\u001b[1;33m\u001b[0m\u001b[0m\n",
      "\u001b[1;31mNameError\u001b[0m: name 'requests' is not defined"
     ]
    }
   ],
   "source": [
    "## 정의된 OpenAPI URL을 호출합니다.\n",
    "response = requests.get(url)\n",
    "\n",
    "## http 요청이 성공했을때 API의 리턴값을 가져옵니다.\n",
    "if response.status_code == 200:\n",
    "    try:\n",
    "        contents = response.text\n",
    "        ecosRoot = ET.fromstring(contents)\n",
    "        \n",
    "        ## 호출결과에 오류가 있었는지 확인합니다.\n",
    "        if ecosRoot[0].text[:4] in ('INFO','ERRO'):\n",
    "            print(ecosRoot[0].text + \" : \" + ecosRoot[1].text)\n",
    "            ## 오류메세지를 확인하고 처리합니다.\n",
    "        else:\n",
    "            print(contents)\n",
    "            ## 결과값을 활용하여 필요한 프로그램을 작성합니다.\n",
    "    except Exception as e:\n",
    "        print(str(e))\n",
    "        ## 예외가 발생했을때 처리합니다.\n"
   ]
  },
  {
   "cell_type": "code",
   "execution_count": 53,
   "id": "8fe947a8",
   "metadata": {},
   "outputs": [],
   "source": [
    "#### 웹 검색 하는 방법(데이터 크롤링)\n",
    "#1. 브라우저에서 자료를 가져오는 방법 (news, bank 등등)\n",
    "#2. api를 활용해서 가져오는 방법 \n",
    "# - 해당 사이트에서 개발자 가이드를 제공\n",
    "# - 가이드에 따라 원하는 정보를 요청\n",
    "# - JSON 또는 XML 형식으로 데이터를 제공 (python에서는 json으로 제공 받음)\n",
    "# - json >> dictionary로 변경 가능\n",
    "\n",
    "#urlopen : 데이터 크롤링\n",
    "#데이터 파싱 , 가공 >> 데이터 생성\n",
    "# 데이터를 가지고 분석 "
   ]
  },
  {
   "cell_type": "code",
   "execution_count": 41,
   "id": "b55df85c",
   "metadata": {},
   "outputs": [
    {
     "ename": "ModuleNotFoundError",
     "evalue": "No module named 'test_package'",
     "output_type": "error",
     "traceback": [
      "\u001b[1;31m---------------------------------------------------------------------------\u001b[0m",
      "\u001b[1;31mModuleNotFoundError\u001b[0m                       Traceback (most recent call last)",
      "\u001b[1;32m<ipython-input-41-5d27de185943>\u001b[0m in \u001b[0;36m<module>\u001b[1;34m\u001b[0m\n\u001b[0;32m      1\u001b[0m \u001b[1;31m#test_package의 모듈을 추가\u001b[0m\u001b[1;33m\u001b[0m\u001b[1;33m\u001b[0m\u001b[1;33m\u001b[0m\u001b[0m\n\u001b[1;32m----> 2\u001b[1;33m \u001b[1;32mimport\u001b[0m \u001b[0mtest_package\u001b[0m\u001b[1;33m.\u001b[0m\u001b[0mmodule_a\u001b[0m \u001b[1;32mas\u001b[0m \u001b[0ma\u001b[0m\u001b[1;33m\u001b[0m\u001b[1;33m\u001b[0m\u001b[0m\n\u001b[0m\u001b[0;32m      3\u001b[0m \u001b[1;32mimport\u001b[0m \u001b[0mtest_package\u001b[0m\u001b[1;33m.\u001b[0m\u001b[0mmodule_b\u001b[0m \u001b[1;32mas\u001b[0m \u001b[0mb\u001b[0m\u001b[1;33m\u001b[0m\u001b[1;33m\u001b[0m\u001b[0m\n\u001b[0;32m      4\u001b[0m \u001b[0mprint\u001b[0m\u001b[1;33m(\u001b[0m\u001b[0ma\u001b[0m\u001b[1;33m.\u001b[0m\u001b[0mvariable_a\u001b[0m\u001b[1;33m)\u001b[0m\u001b[1;33m\u001b[0m\u001b[1;33m\u001b[0m\u001b[0m\n\u001b[0;32m      5\u001b[0m \u001b[0mprint\u001b[0m\u001b[1;33m(\u001b[0m\u001b[0mb\u001b[0m\u001b[1;33m.\u001b[0m\u001b[0mvariable_b\u001b[0m\u001b[1;33m)\u001b[0m\u001b[1;33m\u001b[0m\u001b[1;33m\u001b[0m\u001b[0m\n",
      "\u001b[1;31mModuleNotFoundError\u001b[0m: No module named 'test_package'"
     ]
    }
   ],
   "source": [
    "#test_package의 모듈을 추가\n",
    "import test_package.module_a as a\n",
    "import test_package.module_b as b\n",
    "print(a.variable_a)\n",
    "print(b.variable_b)"
   ]
  },
  {
   "cell_type": "code",
   "execution_count": 42,
   "id": "24d5ad7f",
   "metadata": {},
   "outputs": [
    {
     "ename": "ModuleNotFoundError",
     "evalue": "No module named 'test_package'",
     "output_type": "error",
     "traceback": [
      "\u001b[1;31m---------------------------------------------------------------------------\u001b[0m",
      "\u001b[1;31mModuleNotFoundError\u001b[0m                       Traceback (most recent call last)",
      "\u001b[1;32m<ipython-input-42-277e223907c5>\u001b[0m in \u001b[0;36m<module>\u001b[1;34m\u001b[0m\n\u001b[1;32m----> 1\u001b[1;33m \u001b[1;32mfrom\u001b[0m \u001b[0mtest_package\u001b[0m \u001b[1;32mimport\u001b[0m \u001b[1;33m*\u001b[0m\u001b[1;33m\u001b[0m\u001b[1;33m\u001b[0m\u001b[0m\n\u001b[0m\u001b[0;32m      2\u001b[0m \u001b[1;33m\u001b[0m\u001b[0m\n\u001b[0;32m      3\u001b[0m \u001b[0mprint\u001b[0m\u001b[1;33m(\u001b[0m\u001b[0mmodule_a\u001b[0m\u001b[1;33m.\u001b[0m\u001b[0mvariable_a\u001b[0m\u001b[1;33m)\u001b[0m\u001b[1;33m\u001b[0m\u001b[1;33m\u001b[0m\u001b[0m\n\u001b[0;32m      4\u001b[0m \u001b[0mprint\u001b[0m\u001b[1;33m(\u001b[0m\u001b[0mmodule_b\u001b[0m\u001b[1;33m.\u001b[0m\u001b[0mvariable_b\u001b[0m\u001b[1;33m)\u001b[0m\u001b[1;33m\u001b[0m\u001b[1;33m\u001b[0m\u001b[0m\n",
      "\u001b[1;31mModuleNotFoundError\u001b[0m: No module named 'test_package'"
     ]
    }
   ],
   "source": [
    "from test_package import *\n",
    "\n",
    "print(module_a.variable_a)\n",
    "print(module_b.variable_b)"
   ]
  },
  {
   "cell_type": "code",
   "execution_count": 30,
   "id": "cdff8cf7",
   "metadata": {},
   "outputs": [
    {
     "name": "stdout",
     "output_type": "stream",
     "text": [
      "윤인성\t368\t92.0\n",
      "연하진\t384\t96.0\n",
      "구지연\t356\t89.0\n",
      "나선주\t378\t94.5\n",
      "윤아린\t389\t97.25\n",
      "윤명월\t336\t84.0\n"
     ]
    }
   ],
   "source": [
    "# 학생 리스트를 선언합니다.\n",
    "\n",
    "students = [\n",
    "    { \"name\": \"윤인성\", \"korean\": 87, \"math\": 98, \"english\": 88, \"science\": 95 },\n",
    "    { \"name\": \"연하진\", \"korean\": 92, \"math\": 98, \"english\": 96, \"science\": 98 },\n",
    "    { \"name\": \"구지연\", \"korean\": 76, \"math\": 96, \"english\": 94, \"science\": 90 },\n",
    "    { \"name\": \"나선주\", \"korean\": 98, \"math\": 92, \"english\": 96, \"science\": 92 },\n",
    "    { \"name\": \"윤아린\", \"korean\": 95, \"math\": 98, \"english\": 98, \"science\": 98 },\n",
    "    { \"name\": \"윤명월\", \"korean\": 64, \"math\": 88, \"english\": 92, \"science\": 92 }\n",
    "]\n",
    "for student in students:\n",
    "    score_sum = student[\"korean\"] + student[\"math\"] +\\\n",
    "    student[\"english\"] + student[\"science\"]\n",
    "    score_average = score_sum / 4\n",
    "    print(student[\"name\"], score_sum, score_average, sep=\"\\t\")\n"
   ]
  },
  {
   "cell_type": "code",
   "execution_count": 31,
   "id": "bb557f9b",
   "metadata": {},
   "outputs": [
    {
     "name": "stdout",
     "output_type": "stream",
     "text": [
      "이름\t총점\t평균\n",
      "윤인성\t368\t92.0\n",
      "연하진\t384\t96.0\n",
      "구지연\t356\t89.0\n",
      "나선주\t378\t94.5\n",
      "윤아린\t389\t97.25\n",
      "윤명월\t336\t84.0\n"
     ]
    }
   ],
   "source": [
    "def create_student(name, korean, math, english, science):\n",
    "    return{\n",
    "        \"name\" : name,\n",
    "        \"korean\": korean,\n",
    "        \"math\" : math,\n",
    "        \"english\" : english,\n",
    "        \"science\": science\n",
    "    }\n",
    "\n",
    "def student_get_sum(student):\n",
    "    return student[\"korean\"] + student[\"math\"] +\\\n",
    "        student[\"english\"] + student[\"science\"]\n",
    "def student_get_average(student):\n",
    "    return student_get_sum(student) / 4\n",
    "    \n",
    "def student_to_string(student):\n",
    "    return \"{}\\t{}\\t{}\".format(\n",
    "        student[\"name\"],\n",
    "        student_get_sum(student),\n",
    "        student_get_average(student))\n",
    "\n",
    "students = [\n",
    "    create_student(\"윤인성\", 87, 98, 88, 95),\n",
    "    create_student(\"연하진\", 92, 98, 96, 98),\n",
    "    create_student(\"구지연\", 76, 96, 94, 90),\n",
    "    create_student(\"나선주\", 98, 92, 96, 92),\n",
    "    create_student(\"윤아린\", 95, 98 ,98, 98),\n",
    "    create_student(\"윤명월\", 64, 88, 92, 92)\n",
    "]\n",
    "print(\"이름\", \"총점\", \"평균\", sep=\"\\t\")\n",
    "for student in students:\n",
    "    print(student_to_string(student))"
   ]
  },
  {
   "cell_type": "code",
   "execution_count": 43,
   "id": "1be51f7a",
   "metadata": {},
   "outputs": [
    {
     "ename": "TypeError",
     "evalue": "'dict' object is not callable",
     "output_type": "error",
     "traceback": [
      "\u001b[1;31m---------------------------------------------------------------------------\u001b[0m",
      "\u001b[1;31mTypeError\u001b[0m                                 Traceback (most recent call last)",
      "\u001b[1;32m<ipython-input-43-4722f3a3d1f8>\u001b[0m in \u001b[0;36m<module>\u001b[1;34m\u001b[0m\n\u001b[0;32m      2\u001b[0m     \u001b[1;32mpass\u001b[0m\u001b[1;33m\u001b[0m\u001b[1;33m\u001b[0m\u001b[0m\n\u001b[0;32m      3\u001b[0m \u001b[1;33m\u001b[0m\u001b[0m\n\u001b[1;32m----> 4\u001b[1;33m \u001b[0mstudent\u001b[0m \u001b[1;33m=\u001b[0m \u001b[0mstudent\u001b[0m\u001b[1;33m(\u001b[0m\u001b[1;33m)\u001b[0m\u001b[1;33m\u001b[0m\u001b[1;33m\u001b[0m\u001b[0m\n\u001b[0m\u001b[0;32m      5\u001b[0m \u001b[1;33m\u001b[0m\u001b[0m\n\u001b[0;32m      6\u001b[0m students = [\n",
      "\u001b[1;31mTypeError\u001b[0m: 'dict' object is not callable"
     ]
    }
   ],
   "source": [
    "class Student:\n",
    "    pass\n",
    "\n",
    "student = student()\n",
    "\n",
    "students = [\n",
    "    Student(),\n",
    "    Student(),\n",
    "    Student(),\n",
    "    Student(),\n",
    "    Student(),\n",
    "    Student(),\n",
    "]"
   ]
  },
  {
   "cell_type": "code",
   "execution_count": 48,
   "id": "f1fe8a5c",
   "metadata": {},
   "outputs": [
    {
     "ename": "AttributeError",
     "evalue": "'dict' object has no attribute 'name'",
     "output_type": "error",
     "traceback": [
      "\u001b[1;31m---------------------------------------------------------------------------\u001b[0m",
      "\u001b[1;31mAttributeError\u001b[0m                            Traceback (most recent call last)",
      "\u001b[1;32m<ipython-input-48-014ad1cadcfc>\u001b[0m in \u001b[0;36m<module>\u001b[1;34m\u001b[0m\n\u001b[0;32m     16\u001b[0m ]\n\u001b[0;32m     17\u001b[0m \u001b[1;33m\u001b[0m\u001b[0m\n\u001b[1;32m---> 18\u001b[1;33m \u001b[0mstudents\u001b[0m\u001b[1;33m[\u001b[0m\u001b[1;36m0\u001b[0m\u001b[1;33m]\u001b[0m\u001b[1;33m.\u001b[0m\u001b[0mname\u001b[0m\u001b[1;33m\u001b[0m\u001b[1;33m\u001b[0m\u001b[0m\n\u001b[0m\u001b[0;32m     19\u001b[0m \u001b[0mstudents\u001b[0m\u001b[1;33m[\u001b[0m\u001b[1;36m0\u001b[0m\u001b[1;33m]\u001b[0m\u001b[1;33m.\u001b[0m\u001b[0mkorean\u001b[0m\u001b[1;33m\u001b[0m\u001b[1;33m\u001b[0m\u001b[0m\n\u001b[0;32m     20\u001b[0m \u001b[0mstudents\u001b[0m\u001b[1;33m[\u001b[0m\u001b[1;36m0\u001b[0m\u001b[1;33m]\u001b[0m\u001b[1;33m.\u001b[0m\u001b[0mmath\u001b[0m\u001b[1;33m\u001b[0m\u001b[1;33m\u001b[0m\u001b[0m\n",
      "\u001b[1;31mAttributeError\u001b[0m: 'dict' object has no attribute 'name'"
     ]
    }
   ],
   "source": [
    "class Student:\n",
    "    def __init__(self, name, korean, math, english, sciecce):\n",
    "        self.name = name\n",
    "        self.korean = korean\n",
    "        self.math = math\n",
    "        self.english = english\n",
    "        self.science = science\n",
    "        \n",
    "students = [\n",
    "    create_student(\"윤인성\", 87, 98, 88, 95),\n",
    "    create_student(\"연하진\", 92, 98, 96, 98),\n",
    "    create_student(\"구지연\", 76, 96, 94, 90),\n",
    "    create_student(\"나선주\", 98, 92, 96, 92),\n",
    "    create_student(\"윤아린\", 95, 98 ,98, 98),\n",
    "    create_student(\"윤명월\", 64, 88, 92, 92)\n",
    "]\n",
    "\n",
    "students[0].name\n",
    "students[0].korean\n",
    "students[0].math\n",
    "students[0].english\n",
    "students[0].science"
   ]
  },
  {
   "cell_type": "code",
   "execution_count": 50,
   "id": "1902d1e7",
   "metadata": {},
   "outputs": [
    {
     "name": "stdout",
     "output_type": "stream",
     "text": [
      "이름\t총점\t평균\n"
     ]
    },
    {
     "ename": "NameError",
     "evalue": "name 'students_class_class' is not defined",
     "output_type": "error",
     "traceback": [
      "\u001b[1;31m---------------------------------------------------------------------------\u001b[0m",
      "\u001b[1;31mNameError\u001b[0m                                 Traceback (most recent call last)",
      "\u001b[1;32m<ipython-input-50-6f56edaaaca9>\u001b[0m in \u001b[0;36m<module>\u001b[1;34m\u001b[0m\n\u001b[0;32m     29\u001b[0m \u001b[0mprint\u001b[0m\u001b[1;33m(\u001b[0m\u001b[1;34m\"이름\"\u001b[0m\u001b[1;33m,\u001b[0m \u001b[1;34m\"총점\"\u001b[0m\u001b[1;33m,\u001b[0m \u001b[1;34m\"평균\"\u001b[0m\u001b[1;33m,\u001b[0m \u001b[0msep\u001b[0m\u001b[1;33m=\u001b[0m\u001b[1;34m\"\\t\"\u001b[0m\u001b[1;33m)\u001b[0m\u001b[1;33m\u001b[0m\u001b[1;33m\u001b[0m\u001b[0m\n\u001b[0;32m     30\u001b[0m \u001b[1;32mfor\u001b[0m \u001b[0mstudent\u001b[0m \u001b[1;32min\u001b[0m \u001b[0mstudents\u001b[0m\u001b[1;33m:\u001b[0m\u001b[1;33m\u001b[0m\u001b[1;33m\u001b[0m\u001b[0m\n\u001b[1;32m---> 31\u001b[1;33m     \u001b[0mprint\u001b[0m\u001b[1;33m(\u001b[0m\u001b[0mstudents_class_class\u001b[0m\u001b[1;33m[\u001b[0m\u001b[1;36m0\u001b[0m\u001b[1;33m]\u001b[0m\u001b[1;33m.\u001b[0m\u001b[0mto_string\u001b[0m\u001b[1;33m(\u001b[0m\u001b[1;33m)\u001b[0m\u001b[1;33m)\u001b[0m\u001b[1;33m\u001b[0m\u001b[1;33m\u001b[0m\u001b[0m\n\u001b[0m",
      "\u001b[1;31mNameError\u001b[0m: name 'students_class_class' is not defined"
     ]
    }
   ],
   "source": [
    "class Student:\n",
    "    def __init__(self, name, korean, math, english, science):\n",
    "        self.name = name\n",
    "        self.korean = korean\n",
    "        self.math = math\n",
    "        self.english = english\n",
    "        self.science = science\n",
    "        def get_sum(self):\n",
    "            return self.korean + self. math +\\\n",
    "                self.english + self.science\n",
    "        \n",
    "        def get_average(self):\n",
    "            return self.get_sum() / 4\n",
    "        \n",
    "        def to_string(self):\n",
    "            return \"{}\\t{}\\t{}\".format(\\\n",
    "                self.name,\\\n",
    "                self.get_sum(),\\\n",
    "                self.get_average())\n",
    "\n",
    "students = [\n",
    "    create_student(\"윤인성\", 87, 98, 88, 95),\n",
    "    create_student(\"연하진\", 92, 98, 96, 98),\n",
    "    create_student(\"구지연\", 76, 96, 94, 90),\n",
    "    create_student(\"나선주\", 98, 92, 96, 92),\n",
    "    create_student(\"윤아린\", 95, 98 ,98, 98),\n",
    "    create_student(\"윤명월\", 64, 88, 92, 92)\n",
    "]\n",
    "print(\"이름\", \"총점\", \"평균\", sep=\"\\t\")\n",
    "for student in students:\n",
    "    print(students_class_class[0].to_string())\n"
   ]
  },
  {
   "cell_type": "code",
   "execution_count": 54,
   "id": "eb78841a",
   "metadata": {},
   "outputs": [],
   "source": [
    "# 학생 리스트 생성 \n",
    "# 학생 리스트를 선언합니다.\n",
    "students = [\n",
    "    { \"name\": \"윤인성\", \"korean\": 87, \"math\": 98, \"english\": 88, \"science\": 95 },\n",
    "    { \"name\": \"연하진\", \"korean\": 92, \"math\": 98, \"english\": 96, \"science\": 98 },\n",
    "    { \"name\": \"구지연\", \"korean\": 76, \"math\": 96, \"english\": 94, \"science\": 90 },\n",
    "    { \"name\": \"나선주\", \"korean\": 98, \"math\": 92, \"english\": 96, \"science\": 92 },\n",
    "    { \"name\": \"윤아린\", \"korean\": 95, \"math\": 98, \"english\": 98, \"science\": 98 },\n",
    "    { \"name\": \"윤명월\", \"korean\": 64, \"math\": 88, \"english\": 92, \"science\": 92 }\n",
    "]\n",
    "#print('a','b',sep='\\t')"
   ]
  },
  {
   "cell_type": "code",
   "execution_count": 55,
   "id": "02cab5b3",
   "metadata": {},
   "outputs": [
    {
     "name": "stdout",
     "output_type": "stream",
     "text": [
      " 이름\t총점\t평균\t국어\t영어\t수학\t과학\n",
      "======\t====\t====\t====\t====\t====\t====\n",
      "윤인성\t368\t92.00\t 87\t 88\t 98\t 95\n",
      "연하진\t384\t96.00\t 92\t 96\t 98\t 98\n",
      "구지연\t356\t89.00\t 76\t 94\t 96\t 90\n",
      "나선주\t378\t94.50\t 98\t 96\t 92\t 92\n",
      "윤아린\t389\t97.25\t 95\t 98\t 98\t 98\n",
      "윤명월\t336\t84.00\t 64\t 92\t 88\t 92\n"
     ]
    }
   ],
   "source": [
    "# 학생의 점수 출력 : students 의 데이터를 반복하서 가져 옴\n",
    "print(\" 이름\",\"총점\",\"평균\",\"국어\",\"영어\",\"수학\",\"과학\",sep='\\t')\n",
    "print(\"======\",\"====\",\"====\",\"====\",\"====\",\"====\",\"====\",sep='\\t')\n",
    "\n",
    "for student in students:\n",
    "    tot = student['korean']+ student['english'] + \\\n",
    "                      student['math']+student['science']\n",
    "    avg = tot/4\n",
    "    print(\"{}\\t{:3d}\\t{:3.2f}\\t{:3d}\\t{:3d}\\t{:3d}\\t{:3d}\".format(student['name'],\n",
    "                      tot,avg,student['korean'],student['english'],                                                                  \n",
    "                      student['math'],student['science']))"
   ]
  },
  {
   "cell_type": "code",
   "execution_count": 57,
   "id": "88bece80",
   "metadata": {},
   "outputs": [],
   "source": [
    "# 학생 객체를 만든 함수로 학생 자료 생성\n",
    "def create_student(name,korean,math,english,science):\n",
    "    return {\"name\": name, \"korean\": korean, \n",
    "            \"math\": math, \"english\": english, \n",
    "            \"science\": science\n",
    "           }\n",
    "\n",
    "# 총점 구하는 함수\n",
    "def total_score(student):\n",
    "    return student['korean']+ student['english'] + student['math']+student['science']\n",
    "# 평균 구하는 함수\n",
    "def avg_score(student):\n",
    "    return total_score(student)/4\n",
    "#각각의 학생의정보를 출력하는 함수\n",
    "def print_string(student):\n",
    "    return \"{}\\t{}\\t{}\\t{}\\t{}\\t{}\\t{}\".format(student['name'],\n",
    "                                               total_score(student),\n",
    "                                               avg_score(student), \n",
    "                                               student['korean'],student['english'],\n",
    "                                               student['math'],student['science'])"
   ]
  },
  {
   "cell_type": "code",
   "execution_count": 58,
   "id": "d273be04",
   "metadata": {},
   "outputs": [
    {
     "name": "stdout",
     "output_type": "stream",
     "text": [
      " 이름\t총점\t평균\t국어\t영어\t수학\t과학\n",
      "======\t====\t====\t====\t====\t====\t====\n",
      "윤인성\t368\t92.0\t87\t88\t98\t95\n",
      "연하진\t384\t96.0\t92\t96\t98\t98\n",
      "구지연\t356\t89.0\t76\t94\t96\t90\n",
      "나선주\t378\t94.5\t98\t96\t92\t92\n",
      "윤아린\t389\t97.25\t95\t98\t98\t98\n",
      "윤명월\t336\t84.0\t64\t92\t88\t92\n"
     ]
    }
   ],
   "source": [
    "# 학생 리스트를 선언 , 학생을 생성하는 함수를 사용해서\n",
    "students = [\n",
    "    create_student(\"윤인성\", 87, 98, 88, 95),\n",
    "    create_student(\"연하진\", 92,  98,  96, 98),\n",
    "    create_student(\"구지연\", 76,  96,  94, 90 ),\n",
    "    create_student(\"나선주\", 98,  92, 96, 92),\n",
    "    create_student(\"윤아린\", 95,  98,  98,  98),\n",
    "    create_student(\"윤명월\", 64,  88, 92,  92)\n",
    "]\n",
    "print(\" 이름\",\"총점\",\"평균\",\"국어\",\"영어\",\"수학\",\"과학\",sep='\\t')\n",
    "print(\"======\",\"====\",\"====\",\"====\",\"====\",\"====\",\"====\",sep='\\t')\n",
    "\n",
    "for student in students:\n",
    "    print(print_string(student))\n",
    "#print_student(students)"
   ]
  },
  {
   "cell_type": "code",
   "execution_count": 59,
   "id": "0a69b7f0",
   "metadata": {},
   "outputs": [
    {
     "ename": "SyntaxError",
     "evalue": "invalid syntax (<ipython-input-59-fef3f7f9a347>, line 3)",
     "output_type": "error",
     "traceback": [
      "\u001b[1;36m  File \u001b[1;32m\"<ipython-input-59-fef3f7f9a347>\"\u001b[1;36m, line \u001b[1;32m3\u001b[0m\n\u001b[1;33m    a = 값 >> 숫자, 문자, 불리언, 리스트 딕셔너리\u001b[0m\n\u001b[1;37m                              ^\u001b[0m\n\u001b[1;31mSyntaxError\u001b[0m\u001b[1;31m:\u001b[0m invalid syntax\n"
     ]
    }
   ],
   "source": [
    "10 #값\n",
    "a # 식별자 또는 변수, 오브젝트\n",
    "a = 값 >> 숫자, 문자, 불리언, 리스트 딕셔너리\n",
    "a = True or False\n",
    "a = [ , ] >> a[0], a.append(값), a.insert(위치, 값)"
   ]
  },
  {
   "cell_type": "code",
   "execution_count": 60,
   "id": "18baa98b",
   "metadata": {},
   "outputs": [],
   "source": [
    "# class로 학생 정보 생성 매서드 및 관련된 매서드 정의 \n",
    "class Student:   #  학생 인스턴스에 대한 속성과 메서드를 정의 \n",
    "    # 초기화 class 생성시 생성\n",
    "    def __init__(self,name,korean,math,english,science ):\n",
    "        self.name = name\n",
    "        self.korean = korean\n",
    "        self.math = math\n",
    "        self.english = english\n",
    "        self.science = science\n",
    "    # 총점 구함   \n",
    "    def get_sum(self):\n",
    "        return self.korean + self.english + self.math + self.science\n",
    "    # 평균 구함\n",
    "    def get_avg(self):\n",
    "        return self.get_sum()/4\n",
    "    # 프린트 \n",
    "    def to_string(self):\n",
    "         return \"{}\\t{}\\t{}\\t{}\\t{}\\t{}\\t{}\".format(self.name,\n",
    "                                               self.get_sum(),\n",
    "                                               self.get_avg(), \n",
    "                                               self.korean,self.english,\n",
    "                                               self.math,self.science)\n",
    "# b_class = Student('a',10,20,30,40)\n",
    "# print(b_class.get_sum(), b_class.get_avg())"
   ]
  },
  {
   "cell_type": "code",
   "execution_count": 61,
   "id": "bfd935a9",
   "metadata": {},
   "outputs": [
    {
     "name": "stdout",
     "output_type": "stream",
     "text": [
      "윤인성\t368\t92.0\t87\t88\t98\t95\n",
      "--------\n",
      "윤인성\t368\t92.0\t87\t88\t98\t95\n",
      "연하진\t384\t96.0\t92\t96\t98\t98\n",
      "구지연\t356\t89.0\t76\t94\t96\t90\n",
      "나선주\t378\t94.5\t98\t96\t92\t92\n",
      "윤아린\t389\t97.25\t95\t98\t98\t98\n",
      "윤명월\t336\t84.0\t64\t92\t88\t92\n"
     ]
    }
   ],
   "source": [
    "students_class = [\n",
    "    Student(\"윤인성\", 87, 98, 88, 95),\n",
    "    Student(\"연하진\", 92,  98,  96, 98),\n",
    "    Student(\"구지연\", 76,  96,  94, 90 ),\n",
    "    Student(\"나선주\", 98,  92, 96, 92),\n",
    "    Student(\"윤아린\", 95,  98,  98,  98),\n",
    "    Student(\"윤명월\", 64,  88, 92,  92)\n",
    "]\n",
    "print(students_class[0].to_string())\n",
    "print(\"--------\")\n",
    "for student in students_class:\n",
    "    print(student.to_string())"
   ]
  },
  {
   "cell_type": "code",
   "execution_count": 62,
   "id": "ec7fcdb8",
   "metadata": {},
   "outputs": [
    {
     "name": "stdout",
     "output_type": "stream",
     "text": [
      "연하진 92 98\n",
      "윤인성 92\n",
      "윤인성 87 98 88\n",
      "연하진 92 98 96\n"
     ]
    }
   ],
   "source": [
    "a_student = Student(\"연하진\", 92,  98,  96, 98)     \n",
    "print(a_student.name, a_student.korean, a_student.math)\n",
    "\n",
    "students = [ \n",
    "    Student(\"윤인성\", 87, 98, 88, 95),  \n",
    "    Student(\"연하진\", 92,  98,  96, 98)\n",
    "]\n",
    "print(students[0].name, students[1].korean)\n",
    "for s_class in students:\n",
    "    print(s_class.name, s_class.korean, s_class.math, s_class.english)"
   ]
  },
  {
   "cell_type": "code",
   "execution_count": null,
   "id": "e1150e69",
   "metadata": {},
   "outputs": [],
   "source": []
  }
 ],
 "metadata": {
  "kernelspec": {
   "display_name": "Python 3",
   "language": "python",
   "name": "python3"
  },
  "language_info": {
   "codemirror_mode": {
    "name": "ipython",
    "version": 3
   },
   "file_extension": ".py",
   "mimetype": "text/x-python",
   "name": "python",
   "nbconvert_exporter": "python",
   "pygments_lexer": "ipython3",
   "version": "3.8.8"
  }
 },
 "nbformat": 4,
 "nbformat_minor": 5
}
