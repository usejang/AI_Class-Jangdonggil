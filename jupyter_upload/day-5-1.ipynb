{
 "cells": [
  {
   "cell_type": "code",
   "execution_count": null,
   "id": "e5db99d6",
   "metadata": {},
   "outputs": [],
   "source": [
    "# 모듈 : 소스와 분리되어 저장된 여러 변수와 함수의 집합체, 외부, 표준\n",
    "# import 모듈명\n",
    "# 모듈명.함수명()  또는 모듈명.변수명 \n",
    "import math\n",
    "\n",
    "print(math.ceil(34.5), math.floor(34.5), math.sin(10))"
   ]
  },
  {
   "cell_type": "code",
   "execution_count": null,
   "id": "296d9c4b",
   "metadata": {},
   "outputs": [],
   "source": []
  },
  {
   "cell_type": "code",
   "execution_count": null,
   "id": "df8ed610",
   "metadata": {},
   "outputs": [],
   "source": [
    "# from 모듈이름 import 변수 또는 함수\n",
    "from math import sin, cos, ceil, floor\n",
    "\n",
    "sin(10)\n",
    "ceil(20.4)"
   ]
  },
  {
   "cell_type": "code",
   "execution_count": null,
   "id": "af73687a",
   "metadata": {},
   "outputs": [],
   "source": [
    "# import 모듈명 as 사용하고자 하는 식별자\n",
    "import math as mt\n",
    "mt.sin(20)\n",
    "\n",
    "from math import sin as S\n",
    "\n",
    "S(10)"
   ]
  },
  {
   "cell_type": "code",
   "execution_count": null,
   "id": "46d4e613",
   "metadata": {},
   "outputs": [],
   "source": [
    "import random\n",
    "from random import random, shffle, uniform, choice\n",
    "print(\"# random 모듈\")\n",
    "\n",
    "# random(): 0.0 <= x < 1.0 사이의 float를 리턴합니다.\n",
    "print(\"- random():\", random.random())\n",
    "\n",
    "# uniform(min, max): 지정한 범위 사이의 float를 리턴합니다.\n",
    "print(\"- uniform(10, 20):\", random.uniform(10, 20))\n",
    "\n",
    "# randrange(): 지정한 범위의 int를 리턴합니다.\n",
    "# - randrange(max): 0부터 max 사이의 값을 리턴합니다.\n",
    "# - randrange(min, max): min부터 max 사이의 값을 리턴합니다.\n",
    "print(\"- randrange(10)\", random.randrange(10))\n",
    "\n",
    "# choice(list): 리스트 내부에 있는 요소를 랜덤하게 선택합니다.\n",
    "print(\"- choice([1, 2, 3, 4, 5]):\", random.choice([1, 2, 3, 4, 5]))\n",
    "\n",
    "# shuffle(list): 리스트의 요소들을 랜덤하게 섞습니다.\n",
    "a_list = [1, 2, 3, 4, 5]\n",
    "random.shuffle(a_list)\n",
    "print(\"- shuffle([1, 2, 3, 4, 5]):\",a_list)\n",
    "\n",
    "# sample(list, k=<숫자>): 리스트의 요소 중에 k개를 뽑습니다.\n",
    "print(\"- sample([1, 2, 3, 4, 5], k=2):\", random.sample([1, 2, 3, 4, 5], k=2))"
   ]
  },
  {
   "cell_type": "code",
   "execution_count": null,
   "id": "46336353",
   "metadata": {},
   "outputs": [],
   "source": [
    "from sklearn import metrics\n",
    "from sklearn import tree\n",
    "from sklearn.model_selection import train_test_split\n",
    "from sklearn import preprocessing\n",
    "import pandas as pd\n",
    "import numpy as np"
   ]
  },
  {
   "cell_type": "code",
   "execution_count": null,
   "id": "89856568",
   "metadata": {},
   "outputs": [],
   "source": [
    "a = [1,2,3,4,5]\n",
    "random.shuffle(a)\n",
    "a"
   ]
  },
  {
   "cell_type": "code",
   "execution_count": null,
   "id": "49ecba1c",
   "metadata": {},
   "outputs": [],
   "source": [
    "#import os 운영체제와 관련된 기능을 가진 모듈\n",
    "import os\n",
    "\n",
    "print(\"현재 운영체제 : \", os.name)\n",
    "print(\"현재 작업폴더 : \", os.getcwd())\n",
    "print(\"현재 작업폴더의 디렉토리 : \", os.listdir())\n",
    "\n",
    "os.mkdir(\"test_dir\") # 디렉토리 생성\n",
    "print(\"현재 작업폴더의 디렉토리 : \", os.listdir())\n",
    "os.rmdir(\"test_dir\") # 디렉토리 삭제\n",
    "print(\"현재 작업폴더의 디렉토리 : \", os.listdir())\n",
    "\n",
    "os.remove(파일명)  # file 삭제\n",
    "os.system(명령어)  # os.system('dir')\n",
    "\n",
    "import time \n",
    "time.sleep(5)"
   ]
  },
  {
   "cell_type": "code",
   "execution_count": null,
   "id": "838d7df1",
   "metadata": {},
   "outputs": [],
   "source": [
    "# urllib 모듈  URL을 다루는 라이브러리\n",
    "from urllib import request\n",
    "\n",
    "web_page = request.urlopen(\"https://www.google.com/\")\n",
    "output = web_page.read()\n",
    "\n",
    "print(output)"
   ]
  },
  {
   "cell_type": "code",
   "execution_count": null,
   "id": "0db37e79",
   "metadata": {},
   "outputs": [],
   "source": [
    "#!pip install beautifulsoup4\n",
    "from urllib import request\n",
    "from bs4 import BeautifulSoup\n",
    "\n",
    "# urlopen() 함수로 기상청의 전국 날씨를 읽습니다.\n",
    "target = request.urlopen(\"http://www.kma.go.kr/weather/forecast/mid-term-rss3.jsp?stnId=108\")\n",
    "\n",
    "# BeautifulSoup을 사용해 웹 페이지를 분석합니다.\n",
    "soup = BeautifulSoup(target, \"html.parser\")\n",
    "\n",
    "# location 태그를 찾습니다.\n",
    "for location in soup.select(\"location\"):\n",
    "    # 내부의 city, wf, tmn, tmx 태그를 찾아 출력합니다.\n",
    "    print(\"도시:\", location.select_one(\"city\").string)\n",
    "    print(\"날씨:\", location.select_one(\"wf\").string)\n",
    "    print(\"최저기온:\", location.select_one(\"tmn\").string)\n",
    "    print(\"최고기온:\", location.select_one(\"tmx\").string)\n",
    "    print()"
   ]
  }
 ],
 "metadata": {
  "kernelspec": {
   "display_name": "Python 3",
   "language": "python",
   "name": "python3"
  },
  "language_info": {
   "codemirror_mode": {
    "name": "ipython",
    "version": 3
   },
   "file_extension": ".py",
   "mimetype": "text/x-python",
   "name": "python",
   "nbconvert_exporter": "python",
   "pygments_lexer": "ipython3",
   "version": "3.8.8"
  }
 },
 "nbformat": 4,
 "nbformat_minor": 5
}
